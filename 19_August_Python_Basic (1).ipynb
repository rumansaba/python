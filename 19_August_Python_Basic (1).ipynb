{
 "cells": [
  {
   "cell_type": "code",
   "execution_count": null,
   "id": "6b2a3099-eb9e-494e-ba0f-96adedab1608",
   "metadata": {},
   "outputs": [],
   "source": [
    "#swaping the variable without using temprory variable"
   ]
  },
  {
   "cell_type": "code",
   "execution_count": 1,
   "id": "4cfd60c7-84f7-4086-98df-56eefbd8459a",
   "metadata": {},
   "outputs": [],
   "source": [
    "x = 5"
   ]
  },
  {
   "cell_type": "code",
   "execution_count": 2,
   "id": "3e156761-9570-428e-9f62-541cbf50bfe0",
   "metadata": {},
   "outputs": [],
   "source": [
    "y = 9"
   ]
  },
  {
   "cell_type": "code",
   "execution_count": 3,
   "id": "4a648e5d-beda-42b9-b8dc-d0666edc30d2",
   "metadata": {},
   "outputs": [
    {
     "name": "stdout",
     "output_type": "stream",
     "text": [
      "x: 5   y: 9\n"
     ]
    }
   ],
   "source": [
    "print('x:',x,' ','y:',y)"
   ]
  },
  {
   "cell_type": "code",
   "execution_count": 4,
   "id": "73bfe59e-e3eb-431d-b27c-744a18483669",
   "metadata": {},
   "outputs": [],
   "source": [
    "x = x+y"
   ]
  },
  {
   "cell_type": "code",
   "execution_count": 5,
   "id": "bab29713-2798-4e2a-8e80-5b7cea5b31bc",
   "metadata": {},
   "outputs": [
    {
     "data": {
      "text/plain": [
       "14"
      ]
     },
     "execution_count": 5,
     "metadata": {},
     "output_type": "execute_result"
    }
   ],
   "source": [
    "x"
   ]
  },
  {
   "cell_type": "code",
   "execution_count": 6,
   "id": "6e1a38fc-3a0a-42a2-8585-fc9d88761f3c",
   "metadata": {},
   "outputs": [],
   "source": [
    "y = x - y"
   ]
  },
  {
   "cell_type": "code",
   "execution_count": 7,
   "id": "f7083fdb-ac64-42f9-b96b-bca5089c88b5",
   "metadata": {},
   "outputs": [
    {
     "data": {
      "text/plain": [
       "5"
      ]
     },
     "execution_count": 7,
     "metadata": {},
     "output_type": "execute_result"
    }
   ],
   "source": [
    "y"
   ]
  },
  {
   "cell_type": "code",
   "execution_count": 8,
   "id": "02f8a939-9b1b-406b-965e-76f453e5eec6",
   "metadata": {},
   "outputs": [],
   "source": [
    "x = x- y"
   ]
  },
  {
   "cell_type": "code",
   "execution_count": 9,
   "id": "8f160e6e-4c0a-4675-887a-a9e79bab4f35",
   "metadata": {},
   "outputs": [
    {
     "data": {
      "text/plain": [
       "9"
      ]
     },
     "execution_count": 9,
     "metadata": {},
     "output_type": "execute_result"
    }
   ],
   "source": [
    "x"
   ]
  },
  {
   "cell_type": "code",
   "execution_count": 10,
   "id": "e9282320-3de6-4c0c-ab07-8741d59c6c1b",
   "metadata": {},
   "outputs": [
    {
     "name": "stdout",
     "output_type": "stream",
     "text": [
      "x: 9   y: 5\n"
     ]
    }
   ],
   "source": [
    "#after swaping \n",
    "print('x:',x,' ','y:',y)"
   ]
  },
  {
   "cell_type": "code",
   "execution_count": null,
   "id": "1fdf49ae-cbb0-4603-85de-65357e43bec4",
   "metadata": {},
   "outputs": [],
   "source": [
    "# create a program that calculates the area of rectangle "
   ]
  },
  {
   "cell_type": "code",
   "execution_count": 18,
   "id": "2b1e64f1-4e1b-4e7d-a760-ac55083b4328",
   "metadata": {},
   "outputs": [
    {
     "name": "stdin",
     "output_type": "stream",
     "text": [
      "Enter the length 2\n"
     ]
    }
   ],
   "source": [
    "l = int(input('Enter the length'))"
   ]
  },
  {
   "cell_type": "code",
   "execution_count": 19,
   "id": "035bf3d6-d7e7-4a1a-ac87-52bf0f8ea260",
   "metadata": {},
   "outputs": [
    {
     "name": "stdin",
     "output_type": "stream",
     "text": [
      "Enter the width 3\n"
     ]
    }
   ],
   "source": [
    "width = int(input('Enter the width'))"
   ]
  },
  {
   "cell_type": "code",
   "execution_count": 20,
   "id": "e5e85f50-3492-48b2-9e4e-fa21452dbbfb",
   "metadata": {},
   "outputs": [],
   "source": [
    "area_of_rectangle = l*width"
   ]
  },
  {
   "cell_type": "code",
   "execution_count": 23,
   "id": "1c84b703-f9d2-4e6d-84d5-c5ecd7afcf11",
   "metadata": {},
   "outputs": [
    {
     "name": "stdout",
     "output_type": "stream",
     "text": [
      "Area of Rectangle : 6\n"
     ]
    }
   ],
   "source": [
    "print('Area of Rectangle :',area_of_rectangle)"
   ]
  },
  {
   "cell_type": "code",
   "execution_count": 24,
   "id": "3fad3ff0-7eef-4e10-86ec-88c4a0173dee",
   "metadata": {},
   "outputs": [],
   "source": [
    "#converts temperatures from Celsius to fahrenheit"
   ]
  },
  {
   "cell_type": "code",
   "execution_count": 6,
   "id": "89bc30a4-2c1c-42b6-a9ee-bb0791b50e11",
   "metadata": {},
   "outputs": [
    {
     "name": "stdin",
     "output_type": "stream",
     "text": [
      "Enter the celsius 45\n"
     ]
    }
   ],
   "source": [
    "c = int(input('Enter the celsius'))"
   ]
  },
  {
   "cell_type": "code",
   "execution_count": 7,
   "id": "064199fd-7a83-47b8-a50b-9d94f893f0eb",
   "metadata": {},
   "outputs": [],
   "source": [
    "f = (c*9/5)+32"
   ]
  },
  {
   "cell_type": "code",
   "execution_count": 8,
   "id": "f0786a71-d243-4cbc-8ab3-255dc00664da",
   "metadata": {},
   "outputs": [
    {
     "name": "stdout",
     "output_type": "stream",
     "text": [
      "113.0\n"
     ]
    }
   ],
   "source": [
    "print(f)"
   ]
  },
  {
   "cell_type": "code",
   "execution_count": 9,
   "id": "a0a2af35-adb0-483c-a9a3-f2c1377653f7",
   "metadata": {},
   "outputs": [],
   "source": [
    "#String Based Question \n",
    "#write a program take input as a string and gives length of string"
   ]
  },
  {
   "cell_type": "code",
   "execution_count": 12,
   "id": "75aa06ee-e9d8-41ff-a844-9a6df3c4d372",
   "metadata": {},
   "outputs": [
    {
     "name": "stdin",
     "output_type": "stream",
     "text": [
      "Enter the string. ruman saba\n"
     ]
    }
   ],
   "source": [
    "string = str(input(\"Enter the string.\")) "
   ]
  },
  {
   "cell_type": "code",
   "execution_count": 13,
   "id": "48fa517a-a748-463b-bc21-bcaafee21e48",
   "metadata": {},
   "outputs": [
    {
     "data": {
      "text/plain": [
       "10"
      ]
     },
     "execution_count": 13,
     "metadata": {},
     "output_type": "execute_result"
    }
   ],
   "source": [
    "len(string)"
   ]
  },
  {
   "cell_type": "code",
   "execution_count": 14,
   "id": "12d5be3d-628d-40ed-afb5-15adb17a96e6",
   "metadata": {},
   "outputs": [],
   "source": [
    "# create a sentances from user and count the vowel in string."
   ]
  },
  {
   "cell_type": "code",
   "execution_count": 23,
   "id": "9c78b96e-de3a-4b3f-a927-6f18b4f7a3f9",
   "metadata": {},
   "outputs": [
    {
     "name": "stdin",
     "output_type": "stream",
     "text": [
      "Enter the sentence i am a student\n"
     ]
    }
   ],
   "source": [
    "string1 = str(input(\"Enter the sentence\"))"
   ]
  },
  {
   "cell_type": "code",
   "execution_count": 24,
   "id": "6fc25eb4-840e-4b85-a01f-0aa7153f58fb",
   "metadata": {},
   "outputs": [],
   "source": [
    "vowels = 'aeiouAEIOU'"
   ]
  },
  {
   "cell_type": "code",
   "execution_count": 28,
   "id": "b47d8c13-0239-4f5f-8002-ab3ecda8812e",
   "metadata": {},
   "outputs": [],
   "source": [
    "count = sum(string1.count(vowel) for vowel in vowels)\n"
   ]
  },
  {
   "cell_type": "code",
   "execution_count": 29,
   "id": "0c1b1c1e-8830-4fa1-95b6-d470bd892fcf",
   "metadata": {},
   "outputs": [
    {
     "name": "stdout",
     "output_type": "stream",
     "text": [
      "5\n"
     ]
    }
   ],
   "source": [
    "print(count)"
   ]
  },
  {
   "cell_type": "code",
   "execution_count": 30,
   "id": "1f468ab5-a20a-431d-9c82-ce93ad477f86",
   "metadata": {},
   "outputs": [],
   "source": [
    "#reverse string"
   ]
  },
  {
   "cell_type": "code",
   "execution_count": 42,
   "id": "af682e0f-18ec-4f09-9e60-ce99a3eb9636",
   "metadata": {},
   "outputs": [
    {
     "name": "stdin",
     "output_type": "stream",
     "text": [
      "Enter the string i am safe and sound.\n"
     ]
    }
   ],
   "source": [
    "str1 = str(input('Enter the string'))"
   ]
  },
  {
   "cell_type": "code",
   "execution_count": 43,
   "id": "6a494907-2d7a-4eaf-808d-dcf709b65c41",
   "metadata": {},
   "outputs": [
    {
     "data": {
      "text/plain": [
       "'.dnuos dna efas ma i'"
      ]
     },
     "execution_count": 43,
     "metadata": {},
     "output_type": "execute_result"
    }
   ],
   "source": [
    "str1[-1::-1]"
   ]
  },
  {
   "cell_type": "code",
   "execution_count": 44,
   "id": "a4c1e225-f7c5-4fa6-be63-413eb910afb4",
   "metadata": {},
   "outputs": [],
   "source": [
    "# take input from user as string and check if its a plidrome number"
   ]
  },
  {
   "cell_type": "code",
   "execution_count": 95,
   "id": "3afb20a1-d069-4f4a-9333-67d65dc27318",
   "metadata": {},
   "outputs": [
    {
     "name": "stdin",
     "output_type": "stream",
     "text": [
      "enter the string 123321\n"
     ]
    }
   ],
   "source": [
    "str2 = str(input(\"enter the string\"))"
   ]
  },
  {
   "cell_type": "code",
   "execution_count": 96,
   "id": "ea48a6ec-ab01-4fb5-9dff-1ec9b3bf6f50",
   "metadata": {},
   "outputs": [],
   "source": [
    "w = \"\""
   ]
  },
  {
   "cell_type": "code",
   "execution_count": 97,
   "id": "e10a43a1-08ce-4ba7-a127-71c141d9d2b9",
   "metadata": {},
   "outputs": [],
   "source": [
    "for i in str2:\n",
    "    w = i + w\n",
    "    #print(w)"
   ]
  },
  {
   "cell_type": "code",
   "execution_count": 98,
   "id": "9fc92364-d93f-48c6-b74c-89af35e76c3b",
   "metadata": {},
   "outputs": [
    {
     "name": "stdout",
     "output_type": "stream",
     "text": [
      "yes\n"
     ]
    }
   ],
   "source": [
    "if(w == str2):\n",
    "    print(\"yes\")\n",
    "else:\n",
    "    print(\"no\")"
   ]
  },
  {
   "cell_type": "code",
   "execution_count": null,
   "id": "ab36643e-0781-4811-856e-54c80a6dafb8",
   "metadata": {},
   "outputs": [],
   "source": [
    "#create a program that takes a string as input and remove all the spaces from it.\n",
    "#print the modifiy string without spaces ."
   ]
  },
  {
   "cell_type": "code",
   "execution_count": 12,
   "id": "d5fcc2e5-ccf0-414e-8737-4492f05be314",
   "metadata": {},
   "outputs": [
    {
     "name": "stdin",
     "output_type": "stream",
     "text": [
      "Enter the string i a m a s t u d e n t\n"
     ]
    }
   ],
   "source": [
    "str3 = str(input('Enter the string'))"
   ]
  },
  {
   "cell_type": "code",
   "execution_count": 13,
   "id": "8dbb32cf-5535-40dc-8304-585016cdde7b",
   "metadata": {},
   "outputs": [],
   "source": [
    "new_str = str3.replace(\" \",\"\")"
   ]
  },
  {
   "cell_type": "code",
   "execution_count": 14,
   "id": "674be24f-74c0-41dd-b28a-58a4d646bb22",
   "metadata": {},
   "outputs": [
    {
     "name": "stdout",
     "output_type": "stream",
     "text": [
      "iamastudent\n"
     ]
    }
   ],
   "source": [
    "print(new_str)"
   ]
  },
  {
   "cell_type": "code",
   "execution_count": null,
   "id": "182ec6a6-dca8-424b-ab65-c6f24971a4db",
   "metadata": {},
   "outputs": [],
   "source": []
  }
 ],
 "metadata": {
  "kernelspec": {
   "display_name": "Python 3 (ipykernel)",
   "language": "python",
   "name": "python3"
  },
  "language_info": {
   "codemirror_mode": {
    "name": "ipython",
    "version": 3
   },
   "file_extension": ".py",
   "mimetype": "text/x-python",
   "name": "python",
   "nbconvert_exporter": "python",
   "pygments_lexer": "ipython3",
   "version": "3.10.8"
  }
 },
 "nbformat": 4,
 "nbformat_minor": 5
}
