{
 "cells": [
  {
   "cell_type": "code",
   "execution_count": 1,
   "id": "a46d6c72-b520-4945-9efc-56f6d10f340c",
   "metadata": {},
   "outputs": [],
   "source": [
    "#1"
   ]
  },
  {
   "cell_type": "code",
   "execution_count": 25,
   "id": "14fb8329-be5e-4c19-a764-d200116938e9",
   "metadata": {},
   "outputs": [
    {
     "name": "stdout",
     "output_type": "stream",
     "text": [
      "Account Number: 12345\n",
      "Account Holder Name: John Doe\n",
      "Account Balance: $1000.00\n",
      "Deposited $500.00 into the account.\n",
      "Account Number: 12345\n",
      "Account Holder Name: John Doe\n",
      "Account Balance: $1500.00\n",
      "Withdrew $300.00 from the account.\n",
      "Account Number: 12345\n",
      "Account Holder Name: John Doe\n",
      "Account Balance: $1200.00\n"
     ]
    }
   ],
   "source": [
    "class bank_account :\n",
    "    def __init__(self, account_number, account_holder_name, balance=0.0):\n",
    "        self.account_number = account_number\n",
    "        self.account_holder_name = account_holder_name\n",
    "        self.balance= balance\n",
    "    \n",
    "    def deposit(self, amount) :\n",
    "        if amount>0:\n",
    "            self.balance += amount\n",
    "            print(f\"Deposited ${amount:.2f} into the account.\")\n",
    "        else:\n",
    "            print(\"Invalid deposit amount. Please enter a positive amount.\")\n",
    "        \n",
    "    def withdraw(self, amount):\n",
    "        if amount>0 and amount <= self.balance:\n",
    "            self.balance -= amount\n",
    "            print(f\"Withdrew ${amount:.2f} from the account.\")\n",
    "        elif amount > self.balance:\n",
    "            print(\"Insufficient funds. Cannot withdraw more than the current balance.\")\n",
    "        else:\n",
    "            print(\"Invalid withdrawal amount. Please enter a positive amount.\")\n",
    "\n",
    "    def get_balance(self):\n",
    "        return self.balance\n",
    "\n",
    "    def display_account_info(self):\n",
    "        print(f\"Account Number: {self.account_number}\")\n",
    "        print(f\"Account Holder Name: {self.account_holder_name}\")\n",
    "        print(f\"Account Balance: ${self.balance:.2f}\")\n",
    "\n",
    "account = bank_account(\"12345\", \"John Doe\", 1000.0)\n",
    "account.display_account_info()\n",
    "\n",
    "account.deposit(500.0)\n",
    "account.display_account_info()\n",
    "\n",
    "account.withdraw(300.0)\n",
    "account.display_account_info()   "
   ]
  },
  {
   "cell_type": "code",
   "execution_count": 6,
   "id": "1e8b9d8f-4520-43ce-af09-472080c17851",
   "metadata": {},
   "outputs": [],
   "source": [
    "#2"
   ]
  },
  {
   "cell_type": "code",
   "execution_count": 26,
   "id": "055fa11b-62c4-4734-be9b-3624fce19f4e",
   "metadata": {},
   "outputs": [
    {
     "name": "stdout",
     "output_type": "stream",
     "text": [
      "Employee ID: 1\n",
      "Name: John Doe\n",
      "Salary: $50000.00\n",
      "Yearly Bonus: $5000.00\n"
     ]
    }
   ],
   "source": [
    "class Employee:\n",
    "    def __init__(self, employee_id, name, salary):\n",
    "        self.employee_id = employee_id\n",
    "        self.name = name\n",
    "        self.salary = salary\n",
    "\n",
    "    def calculate_yearly_bonus(self, bonus_percentage):\n",
    "        yearly_bonus = (bonus_percentage / 100) * self.salary\n",
    "        return yearly_bonus\n",
    "\n",
    "    def display_employee_details(self):\n",
    "        print(f\"Employee ID: {self.employee_id}\")\n",
    "        print(f\"Name: {self.name}\")\n",
    "        print(f\"Salary: ${self.salary:.2f}\")\n",
    "\n",
    "employee = Employee(1, \"John Doe\", 50000.0)\n",
    "employee.display_employee_details()\n",
    "bonus = employee.calculate_yearly_bonus(10)\n",
    "print(f\"Yearly Bonus: ${bonus:.2f}\")\n"
   ]
  },
  {
   "cell_type": "code",
   "execution_count": 8,
   "id": "7ffa85b2-50fb-4695-b854-09d6b40dd6ba",
   "metadata": {},
   "outputs": [],
   "source": [
    "#3"
   ]
  },
  {
   "cell_type": "code",
   "execution_count": 24,
   "id": "830551c8-cae2-44c0-9632-236c1271a3f8",
   "metadata": {},
   "outputs": [
    {
     "name": "stdout",
     "output_type": "stream",
     "text": [
      "Available Vehicles:\n",
      "Toyota Camry\n",
      "Honda Civic\n",
      "Rented Toyota Camry.\n",
      "Available Vehicles:\n",
      "Honda Civic\n",
      "Returned Toyota Camry.\n",
      "Available Vehicles:\n",
      "Honda Civic\n",
      "Toyota Camry\n"
     ]
    }
   ],
   "source": [
    "class VehicleRental:\n",
    "    def __init__(self):\n",
    "        self.available_vehicles = []\n",
    "\n",
    "    def rent_vehicle(self, vehicle):\n",
    "        self.available_vehicles.remove(vehicle)\n",
    "        print(f\"Rented {vehicle}.\")\n",
    "\n",
    "    def return_vehicle(self, vehicle):\n",
    "        self.available_vehicles.append(vehicle)\n",
    "        print(f\"Returned {vehicle}.\")\n",
    "\n",
    "    def display_available_vehicles(self):\n",
    "        print(\"Available Vehicles:\")\n",
    "        for vehicle in self.available_vehicles:\n",
    "            print(vehicle)\n",
    "\n",
    "class Vehicle:\n",
    "    def __init__(self, name):\n",
    "        self.name = name\n",
    "\n",
    "    def __str__(self):\n",
    "        return self.name\n",
    "\n",
    "rental_system = VehicleRental()\n",
    "car1 = Vehicle(\"Toyota Camry\")\n",
    "car2 = Vehicle(\"Honda Civic\")\n",
    "rental_system.available_vehicles = [car1, car2]\n",
    "rental_system.display_available_vehicles()\n",
    "rental_system.rent_vehicle(car1)\n",
    "rental_system.display_available_vehicles()\n",
    "rental_system.return_vehicle(car1)\n",
    "rental_system.display_available_vehicles()\n"
   ]
  },
  {
   "cell_type": "code",
   "execution_count": 10,
   "id": "c08c206f-e019-4cbe-83cf-53cac4386390",
   "metadata": {},
   "outputs": [],
   "source": [
    "#4"
   ]
  },
  {
   "cell_type": "code",
   "execution_count": 23,
   "id": "4f0b37e9-214b-45a2-b91b-876b29620460",
   "metadata": {},
   "outputs": [
    {
     "name": "stdout",
     "output_type": "stream",
     "text": [
      "Added Harry Potter and the Philosopher's Stone by J.K. Rowling to the library catalog.\n",
      "Added To Kill a Mockingbird by Harper Lee to the library catalog.\n",
      "Available Books:\n",
      "Harry Potter and the Philosopher's Stone by J.K. Rowling\n",
      "To Kill a Mockingbird by Harper Lee\n",
      "Borrowed Harry Potter and the Philosopher's Stone by J.K. Rowling.\n",
      "Available Books:\n",
      "To Kill a Mockingbird by Harper Lee\n",
      "Harry Potter and the Philosopher's Stone by J.K. Rowling is not available for borrowing.\n"
     ]
    }
   ],
   "source": [
    "class Library:\n",
    "    def __init__(self):\n",
    "        self.available_books = []\n",
    "\n",
    "    def add_book(self, book):\n",
    "        self.available_books.append(book)\n",
    "        print(f\"Added {book} to the library catalog.\")\n",
    "\n",
    "    def borrow_book(self, book):\n",
    "        if book in self.available_books:\n",
    "            self.available_books.remove(book)\n",
    "            print(f\"Borrowed {book}.\")\n",
    "        else:\n",
    "            print(f\"{book} is not available for borrowing.\")\n",
    "\n",
    "    def display_available_books(self):\n",
    "        print(\"Available Books:\")\n",
    "        for book in self.available_books:\n",
    "            print(book)\n",
    "\n",
    "class Book:\n",
    "    def __init__(self, title, author):\n",
    "        self.title = title\n",
    "        self.author = author\n",
    "\n",
    "    def __str__(self):\n",
    "        return f\"{self.title} by {self.author}\"\n",
    "\n",
    "library = Library()\n",
    "book1 = Book(\"Harry Potter and the Philosopher's Stone\", \"J.K. Rowling\")\n",
    "book2 = Book(\"To Kill a Mockingbird\", \"Harper Lee\")\n",
    "library.add_book(book1)\n",
    "library.add_book(book2)\n",
    "library.display_available_books()\n",
    "library.borrow_book(book1)\n",
    "library.display_available_books()\n",
    "library.borrow_book(book1)\n"
   ]
  },
  {
   "cell_type": "code",
   "execution_count": 12,
   "id": "c04bf11a-30cc-4f07-8a5d-2a53fbec1144",
   "metadata": {},
   "outputs": [],
   "source": [
    "#5"
   ]
  },
  {
   "cell_type": "code",
   "execution_count": 22,
   "id": "44bb0c6e-0fab-4c7f-9058-32e815120ee2",
   "metadata": {},
   "outputs": [
    {
     "name": "stdout",
     "output_type": "stream",
     "text": [
      "Added Laptop (ID: 1) to the inventory.\n",
      "Added Smartphone (ID: 2) to the inventory.\n",
      "Available Products:\n",
      "Laptop (ID: 1)\n",
      "Smartphone (ID: 2)\n",
      "Updated quantity of Laptop (ID: 1) to 5.\n",
      "Available Products:\n",
      "Laptop (ID: 1)\n",
      "Smartphone (ID: 2)\n",
      "Product with ID 3 not found in the inventory.\n"
     ]
    }
   ],
   "source": [
    "class Product:\n",
    "    def __init__(self, product_id, name, price, quantity):\n",
    "        self.product_id = product_id\n",
    "        self.name = name\n",
    "        self.price = price\n",
    "        self.quantity = quantity\n",
    "\n",
    "    def __str__(self):\n",
    "        return f\"{self.name} (ID: {self.product_id})\"\n",
    "\n",
    "class InventorySystem:\n",
    "    def __init__(self):\n",
    "        self.products = []\n",
    "\n",
    "    def add_product(self, product):\n",
    "        self.products.append(product)\n",
    "        print(f\"Added {product} to the inventory.\")\n",
    "\n",
    "    def update_product_quantity(self, product_id, new_quantity):\n",
    "        for product in self.products:\n",
    "            if product.product_id == product_id:\n",
    "                product.quantity = new_quantity\n",
    "                print(f\"Updated quantity of {product} to {new_quantity}.\")\n",
    "                return\n",
    "        print(f\"Product with ID {product_id} not found in the inventory.\")\n",
    "\n",
    "    def display_available_products(self):\n",
    "        print(\"Available Products:\")\n",
    "        for product in self.products:\n",
    "            print(product)\n",
    "\n",
    "inventory_system = InventorySystem()\n",
    "product1 = Product(1, \"Laptop\", 800.0, 10)\n",
    "product2 = Product(2, \"Smartphone\", 500.0, 20)\n",
    "inventory_system.add_product(product1)\n",
    "inventory_system.add_product(product2)\n",
    "inventory_system.display_available_products()\n",
    "inventory_system.update_product_quantity(1, 5)\n",
    "inventory_system.display_available_products()\n",
    "inventory_system.update_product_quantity(3, 15)\n"
   ]
  },
  {
   "cell_type": "code",
   "execution_count": 14,
   "id": "5e07013b-ca4b-4ffd-9714-3f3ebd1d8929",
   "metadata": {},
   "outputs": [],
   "source": [
    "#6"
   ]
  },
  {
   "cell_type": "code",
   "execution_count": 15,
   "id": "799aa75c-2133-496b-ab02-314d734dc461",
   "metadata": {},
   "outputs": [
    {
     "name": "stdout",
     "output_type": "stream",
     "text": [
      "Rectangle Area: 20\n",
      "Rectangle Perimeter: 18\n"
     ]
    }
   ],
   "source": [
    "class Shape:\n",
    "    def __init__(self, length, width, height):\n",
    "        self.length = length\n",
    "        self.width = width\n",
    "        self.height = height\n",
    "\n",
    "    def calculate_area(self):\n",
    "        raise NotImplementedError(\"Subclasses must implement this method\")\n",
    "\n",
    "    def calculate_perimeter(self):\n",
    "        raise NotImplementedError(\"Subclasses must implement this method\")\n",
    "\n",
    "class Rectangle(Shape):\n",
    "    def calculate_area(self):\n",
    "        return self.length * self.width\n",
    "\n",
    "    def calculate_perimeter(self):\n",
    "        return 2 * (self.length + self.width)\n",
    "\n",
    "rectangle = Rectangle(5, 4, 0)\n",
    "print(\"Rectangle Area:\", rectangle.calculate_area())\n",
    "print(\"Rectangle Perimeter:\", rectangle.calculate_perimeter())\n",
    "\n"
   ]
  },
  {
   "cell_type": "code",
   "execution_count": 16,
   "id": "7e65c47b-7588-402f-a9bb-36bcd4330a4c",
   "metadata": {},
   "outputs": [],
   "source": [
    "#7"
   ]
  },
  {
   "cell_type": "code",
   "execution_count": 21,
   "id": "b1525578-6fef-4eca-b8e1-da23dea0f6fa",
   "metadata": {},
   "outputs": [
    {
     "name": "stdout",
     "output_type": "stream",
     "text": [
      "Student ID: 1\n",
      "Name: John Doe\n",
      "Average Grade: 86.8\n"
     ]
    }
   ],
   "source": [
    "class Student:\n",
    "    def __init__(self, student_id, name, grades):\n",
    "        self.student_id = student_id\n",
    "        self.name = name\n",
    "        self.grades = grades\n",
    "\n",
    "    def calculate_average_grade(self):\n",
    "        return sum(self.grades) / len(self.grades)\n",
    "\n",
    "    def display_student_details(self):\n",
    "        print(f\"Student ID: {self.student_id}\")\n",
    "        print(f\"Name: {self.name}\")\n",
    "        print(f\"Average Grade: {self.calculate_average_grade()}\")\n",
    "\n",
    "student = Student(1, \"John Doe\", [85, 90, 78, 93, 88])\n",
    "student.display_student_details()\n"
   ]
  },
  {
   "cell_type": "code",
   "execution_count": 18,
   "id": "8d20f95b-34ed-41d5-811f-81be5a81353b",
   "metadata": {},
   "outputs": [],
   "source": [
    "#8"
   ]
  },
  {
   "cell_type": "code",
   "execution_count": 20,
   "id": "b522e6a5-0545-4c99-8e4b-dbea5bbcd3f1",
   "metadata": {},
   "outputs": [
    {
     "name": "stdout",
     "output_type": "stream",
     "text": [
      "Sender: john@example.com\n",
      "Recipient: jane@example.com\n",
      "Subject: Meeting Agenda\n",
      "Message: Please find the agenda attached.\n",
      "Email sent to jane@example.com\n"
     ]
    }
   ],
   "source": [
    "class Email:\n",
    "    def __init__(self, sender, recipient, subject, message):\n",
    "        self.sender = sender\n",
    "        self.recipient = recipient\n",
    "        self.subject = subject\n",
    "        self.message = message\n",
    "\n",
    "    def send_email(self):\n",
    "        print(\"Email sent to\", self.recipient)\n",
    "\n",
    "    def display_email_details(self):\n",
    "        print(f\"Sender: {self.sender}\")\n",
    "        print(f\"Recipient: {self.recipient}\")\n",
    "        print(f\"Subject: {self.subject}\")\n",
    "        print(f\"Message: {self.message}\")\n",
    "\n",
    "email = Email(\"john@example.com\", \"jane@example.com\", \"Meeting Agenda\", \"Please find the agenda attached.\")\n",
    "email.display_email_details()\n",
    "email.send_email()\n"
   ]
  },
  {
   "cell_type": "code",
   "execution_count": 27,
   "id": "08a6a22c-44f4-4d67-a9d8-84cc95357ec7",
   "metadata": {},
   "outputs": [],
   "source": [
    "#9"
   ]
  },
  {
   "cell_type": "code",
   "execution_count": 28,
   "id": "e3683e0c-feda-4828-8dbd-ec64001a5f0f",
   "metadata": {},
   "outputs": [
    {
     "name": "stdout",
     "output_type": "stream",
     "text": [
      "Posts by johndoe:\n",
      "Having a great day at the beach!\n",
      "Eating delicious food with friends.\n",
      "Matching Posts: ['Having a great day at the beach!']\n"
     ]
    }
   ],
   "source": [
    "class SocialMediaProfile:\n",
    "    def __init__(self, username):\n",
    "        self.username = username\n",
    "        self.posts = []\n",
    "\n",
    "    def add_post(self, post_content):\n",
    "        self.posts.append(post_content)\n",
    "\n",
    "    def display_posts(self):\n",
    "        print(f\"Posts by {self.username}:\")\n",
    "        for post in self.posts:\n",
    "            print(post)\n",
    "\n",
    "    def search_posts_by_keyword(self, keyword):\n",
    "        matching_posts = [post for post in self.posts if keyword in post]\n",
    "        return matching_posts\n",
    "\n",
    "profile = SocialMediaProfile(\"johndoe\")\n",
    "profile.add_post(\"Having a great day at the beach!\")\n",
    "profile.add_post(\"Eating delicious food with friends.\")\n",
    "profile.display_posts()\n",
    "result = profile.search_posts_by_keyword(\"beach\")\n",
    "print(\"Matching Posts:\", result)\n"
   ]
  },
  {
   "cell_type": "code",
   "execution_count": 29,
   "id": "dab3243d-0d1f-4e90-b884-2b8fbff81061",
   "metadata": {},
   "outputs": [],
   "source": [
    "#10"
   ]
  },
  {
   "cell_type": "code",
   "execution_count": 30,
   "id": "9c0b7f37-0fa3-4a6a-a581-186afa058c23",
   "metadata": {},
   "outputs": [
    {
     "name": "stdout",
     "output_type": "stream",
     "text": [
      "Pending Tasks:\n",
      "Task: Buy groceries (Due Date: 2023-11-10)\n",
      "Task: Finish project report (Due Date: 2023-11-15)\n",
      "Pending Tasks:\n",
      "Task: Finish project report (Due Date: 2023-11-15)\n"
     ]
    }
   ],
   "source": [
    "class ToDoList:\n",
    "    def __init__(self):\n",
    "        self.tasks = []\n",
    "\n",
    "    def add_task(self, task, due_date):\n",
    "        self.tasks.append({\"task\": task, \"due_date\": due_date, \"completed\": False})\n",
    "\n",
    "    def mark_task_as_completed(self, task):\n",
    "        for t in self.tasks:\n",
    "            if t[\"task\"] == task:\n",
    "                t[\"completed\"] = True\n",
    "\n",
    "    def display_pending_tasks(self):\n",
    "        print(\"Pending Tasks:\")\n",
    "        for task in self.tasks:\n",
    "            if not task[\"completed\"]:\n",
    "                print(f\"Task: {task['task']} (Due Date: {task['due_date']})\")\n",
    "\n",
    "todo_list = ToDoList()\n",
    "todo_list.add_task(\"Buy groceries\", \"2023-11-10\")\n",
    "todo_list.add_task(\"Finish project report\", \"2023-11-15\")\n",
    "todo_list.display_pending_tasks()\n",
    "todo_list.mark_task_as_completed(\"Buy groceries\")\n",
    "todo_list.display_pending_tasks()\n"
   ]
  },
  {
   "cell_type": "code",
   "execution_count": null,
   "id": "6fc8f28e-7042-4d9b-89fc-44d0ba6eefa8",
   "metadata": {},
   "outputs": [],
   "source": []
  }
 ],
 "metadata": {
  "kernelspec": {
   "display_name": "Python 3 (ipykernel)",
   "language": "python",
   "name": "python3"
  },
  "language_info": {
   "codemirror_mode": {
    "name": "ipython",
    "version": 3
   },
   "file_extension": ".py",
   "mimetype": "text/x-python",
   "name": "python",
   "nbconvert_exporter": "python",
   "pygments_lexer": "ipython3",
   "version": "3.10.8"
  }
 },
 "nbformat": 4,
 "nbformat_minor": 5
}
