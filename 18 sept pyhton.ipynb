{
 "cells": [
  {
   "cell_type": "code",
   "execution_count": 1,
   "id": "6c0075fe-40b1-468a-a993-66b39c31e9c7",
   "metadata": {},
   "outputs": [],
   "source": [
    "#for loop\n",
    "\n",
    "# 1. Write a Python program to print numbers from 1 to 10 using a for loop.\n"
   ]
  },
  {
   "cell_type": "code",
   "execution_count": 3,
   "id": "4c754686-5584-437d-8491-2f66e2bc3e07",
   "metadata": {},
   "outputs": [
    {
     "name": "stdout",
     "output_type": "stream",
     "text": [
      "1\n",
      "2\n",
      "3\n",
      "4\n",
      "5\n",
      "6\n",
      "7\n",
      "8\n",
      "9\n",
      "10\n"
     ]
    }
   ],
   "source": [
    "for i in range(1,11):\n",
    "    print(i)"
   ]
  },
  {
   "cell_type": "code",
   "execution_count": 4,
   "id": "759aae20-4508-4e87-adf9-9872c5d5355d",
   "metadata": {},
   "outputs": [],
   "source": [
    "# 2 Explain the difference between a for loop and a while loop in Python."
   ]
  },
  {
   "cell_type": "code",
   "execution_count": 3,
   "id": "4e5e5728-6da5-45f0-817a-679fdca7d3a7",
   "metadata": {},
   "outputs": [
    {
     "name": "stdout",
     "output_type": "stream",
     "text": [
      "0\n",
      "1\n",
      "2\n",
      "3\n",
      "4\n"
     ]
    }
   ],
   "source": [
    "\"\"\"1.For loops are better suited for iterating over sequences and when the number of iterations is known, while while loops are better for situations where you need to repeat an action until a certain condition becomes false.\n",
    "2.For loops have a clear range or sequence to iterate over, while while loops require a condition to be manually checked.\n",
    "3.For loops are often used for a predefined number of iterations, while while loops are used for situations with potentially infinite or unknown iteration counts.\"\"\"\n",
    "\n",
    "\n",
    "for i in range(5):\n",
    "    print(i)  \n"
   ]
  },
  {
   "cell_type": "code",
   "execution_count": 1,
   "id": "c9d6bc7b-f987-4333-87a3-e58a1b969ee6",
   "metadata": {},
   "outputs": [
    {
     "name": "stdout",
     "output_type": "stream",
     "text": [
      "0\n",
      "1\n",
      "2\n",
      "3\n",
      "4\n"
     ]
    }
   ],
   "source": [
    "count = 0\n",
    "while count < 5:\n",
    "    print(count)  \n",
    "    count += 1\n"
   ]
  },
  {
   "cell_type": "code",
   "execution_count": 5,
   "id": "66986683-14d4-4234-ae01-351047d73540",
   "metadata": {},
   "outputs": [],
   "source": [
    "# 3 . Write a Python program to calculate the sum of all numbers from 1 to 100 using a for loop."
   ]
  },
  {
   "cell_type": "code",
   "execution_count": 11,
   "id": "b2677356-052f-42c7-a89d-b628c4cb35fa",
   "metadata": {},
   "outputs": [
    {
     "name": "stdout",
     "output_type": "stream",
     "text": [
      "5050\n"
     ]
    }
   ],
   "source": [
    "sum = 0\n",
    "for i in range(1,101):\n",
    "    sum = i + sum\n",
    "print(sum)\n",
    "    "
   ]
  },
  {
   "cell_type": "code",
   "execution_count": 12,
   "id": "2cafb73f-05b4-4b6a-8a24-ede1b0535267",
   "metadata": {},
   "outputs": [],
   "source": [
    "# 4 How do you iterate through a list using a for loop in Python?\n"
   ]
  },
  {
   "cell_type": "code",
   "execution_count": 13,
   "id": "2b14ad41-9024-4751-977d-e2087e192e06",
   "metadata": {},
   "outputs": [
    {
     "name": "stdout",
     "output_type": "stream",
     "text": [
      "1\n",
      "2\n",
      "3\n",
      "4\n",
      "5\n",
      "6\n",
      "7\n",
      "8\n"
     ]
    }
   ],
   "source": [
    "l1 = [1,2,3,4,5,6,7,8]\n",
    "\n",
    "for i in l1:\n",
    "    print(i)"
   ]
  },
  {
   "cell_type": "code",
   "execution_count": 14,
   "id": "e6b43c50-61e7-4ccb-9acf-758c775e2388",
   "metadata": {},
   "outputs": [],
   "source": [
    "# 5 Write a Python program to find the product of all elements in a list using a for loop.\n"
   ]
  },
  {
   "cell_type": "code",
   "execution_count": 21,
   "id": "d7508657-7d0a-41d6-b773-adf668d88b21",
   "metadata": {},
   "outputs": [
    {
     "name": "stdout",
     "output_type": "stream",
     "text": [
      "120\n"
     ]
    }
   ],
   "source": [
    "l2 = [1,2,3,4,5]\n",
    "\n",
    "product = 1\n",
    "for i in l2:\n",
    "    product = i*product\n",
    "print(product)"
   ]
  },
  {
   "cell_type": "code",
   "execution_count": 22,
   "id": "130cf290-9e03-4063-99a6-542b531aff4b",
   "metadata": {},
   "outputs": [],
   "source": [
    "# 6 Create a Python program that prints all even numbers from 1 to 20 using a for loop.\n",
    " "
   ]
  },
  {
   "cell_type": "code",
   "execution_count": 26,
   "id": "bd2b6e33-040e-4c02-b6ce-078e54ff8467",
   "metadata": {},
   "outputs": [
    {
     "name": "stdout",
     "output_type": "stream",
     "text": [
      "2\n",
      "4\n",
      "6\n",
      "8\n",
      "10\n",
      "12\n",
      "14\n",
      "16\n",
      "18\n",
      "20\n"
     ]
    }
   ],
   "source": [
    "for i in range(1,21):\n",
    "    if i%2==0:\n",
    "        print(i)\n"
   ]
  },
  {
   "cell_type": "code",
   "execution_count": 5,
   "id": "a12bd427-b81a-406a-b17b-6e65857fc8bc",
   "metadata": {},
   "outputs": [
    {
     "name": "stdin",
     "output_type": "stream",
     "text": [
      "enter the number  5\n"
     ]
    }
   ],
   "source": [
    "# 7. Write a Python program that calculates the factorial of a number using a for loop.\n",
    "num = int(input(\"enter the number \"))"
   ]
  },
  {
   "cell_type": "code",
   "execution_count": 6,
   "id": "b5b6cc57-4ae5-425c-ba46-eaf604b10a26",
   "metadata": {},
   "outputs": [
    {
     "name": "stdout",
     "output_type": "stream",
     "text": [
      "factorial of 5 is 1\n",
      "factorial of 5 is 2\n",
      "factorial of 5 is 6\n",
      "factorial of 5 is 24\n",
      "factorial of 5 is 120\n"
     ]
    }
   ],
   "source": [
    "fact = 1\n",
    "for i in range(1,num+1):\n",
    "    fact = fact*i\n",
    "    print(\"factorial of\",num,\"is\",fact)"
   ]
  },
  {
   "cell_type": "code",
   "execution_count": 29,
   "id": "a396731e-df4f-4f79-8384-c49906fe4a35",
   "metadata": {},
   "outputs": [],
   "source": [
    "# 8 How can you iterate through the characters of a string using a for loop in Python?\n"
   ]
  },
  {
   "cell_type": "code",
   "execution_count": 30,
   "id": "fab53757-e859-4fd8-b079-2767d7e853b0",
   "metadata": {},
   "outputs": [
    {
     "name": "stdout",
     "output_type": "stream",
     "text": [
      "r\n",
      "u\n",
      "m\n",
      "a\n",
      "n\n"
     ]
    }
   ],
   "source": [
    "s1 = \"ruman\"\n",
    "\n",
    "for i in s1:\n",
    "    print(i)"
   ]
  },
  {
   "cell_type": "code",
   "execution_count": 31,
   "id": "21c3e331-507c-488d-a335-167b17d9c785",
   "metadata": {},
   "outputs": [],
   "source": [
    "# 9 Write a Python program to find the largest number in a list using a for loop.\n"
   ]
  },
  {
   "cell_type": "code",
   "execution_count": 41,
   "id": "8df9b9f1-f0b1-4436-ae62-0364eb6b507d",
   "metadata": {},
   "outputs": [
    {
     "name": "stdout",
     "output_type": "stream",
     "text": [
      "87\n"
     ]
    }
   ],
   "source": [
    "l2 = [10,2,7,87,4,9,65]\n",
    "max_num = 0\n",
    "for i in l2:\n",
    "    if i>max_num:\n",
    "        max_num = i\n",
    "print(max_num)"
   ]
  },
  {
   "cell_type": "code",
   "execution_count": 43,
   "id": "f215d53a-bf4d-4865-93c9-20ca59b66a58",
   "metadata": {},
   "outputs": [],
   "source": [
    "# 10. Create a Python program that prints the Fibonacci sequence up to a specified limit using a for loop.\n",
    "# 0 0"
   ]
  },
  {
   "cell_type": "code",
   "execution_count": 34,
   "id": "39c5b261-bde9-4413-ab71-194f5684d26f",
   "metadata": {},
   "outputs": [
    {
     "name": "stdout",
     "output_type": "stream",
     "text": [
      "1\n",
      "2\n",
      "3\n",
      "5\n",
      "8\n",
      "13\n",
      "21\n",
      "34\n"
     ]
    }
   ],
   "source": [
    "first = 0\n",
    "second = 1\n",
    "# print(first)\n",
    "# print(second)\n",
    "for x in range(1,9):\n",
    "    third = first + second\n",
    "    print(third)\n",
    "    first,second=second,third\n"
   ]
  },
  {
   "cell_type": "code",
   "execution_count": null,
   "id": "2527663b-e617-4be9-8788-e33c66584a04",
   "metadata": {},
   "outputs": [],
   "source": []
  },
  {
   "cell_type": "code",
   "execution_count": 44,
   "id": "ae12e130-e862-47a7-a11d-1cd4290de5c4",
   "metadata": {},
   "outputs": [],
   "source": [
    "# 11. Write a Python program to count the number of vowels in a given string using a for loop.\n"
   ]
  },
  {
   "cell_type": "code",
   "execution_count": 4,
   "id": "7d8c644f-2f85-4fbd-abd9-7a6ac9c54588",
   "metadata": {},
   "outputs": [
    {
     "name": "stdout",
     "output_type": "stream",
     "text": [
      "3\n"
     ]
    }
   ],
   "source": [
    "s2 = \"rumana\"\n",
    "vowels = \"aeiouAEIOU\"\n",
    "count = 0\n",
    "for i in s2:\n",
    "    if i in vowels :\n",
    "        count = count +1\n",
    "\n",
    "print(count)"
   ]
  },
  {
   "cell_type": "code",
   "execution_count": 5,
   "id": "830a23f7-cdc7-4442-8c4d-b4a9772b4c33",
   "metadata": {},
   "outputs": [],
   "source": [
    "#12 .Create a Python program that generates a multiplication table for a given number using a for loop."
   ]
  },
  {
   "cell_type": "code",
   "execution_count": 6,
   "id": "603e91b2-f0e7-4c73-a3df-35f00d58b8ce",
   "metadata": {},
   "outputs": [
    {
     "name": "stdin",
     "output_type": "stream",
     "text": [
      "Enter the number 4\n"
     ]
    }
   ],
   "source": [
    "num = int(input(\"Enter the number\"))"
   ]
  },
  {
   "cell_type": "code",
   "execution_count": 8,
   "id": "5628a2bf-15e6-48cc-80a8-6679ea4cfa6a",
   "metadata": {},
   "outputs": [
    {
     "name": "stdout",
     "output_type": "stream",
     "text": [
      "4 * 1 = 4\n",
      "4 * 2 = 8\n",
      "4 * 3 = 12\n",
      "4 * 4 = 16\n",
      "4 * 5 = 20\n",
      "4 * 6 = 24\n",
      "4 * 7 = 28\n",
      "4 * 8 = 32\n",
      "4 * 9 = 36\n",
      "4 * 10 = 40\n"
     ]
    }
   ],
   "source": [
    "for i in range(1, 11) :\n",
    "    print(num ,\"*\",i,\"=\",num*i)"
   ]
  },
  {
   "cell_type": "code",
   "execution_count": 9,
   "id": "d69ea3bf-17fc-439c-a470-f2dd0ed2b8ea",
   "metadata": {},
   "outputs": [],
   "source": [
    "# 13 . Write a Python program to reverse a list using a for loop."
   ]
  },
  {
   "cell_type": "code",
   "execution_count": 10,
   "id": "5beaaedc-313a-46f7-8039-46c3784ab300",
   "metadata": {},
   "outputs": [],
   "source": [
    "l3 = [1,4,5,6,7,8,9]"
   ]
  },
  {
   "cell_type": "code",
   "execution_count": 11,
   "id": "6d3c1552-9eea-4245-8b8f-7abb5e1171ae",
   "metadata": {},
   "outputs": [
    {
     "data": {
      "text/plain": [
       "[9, 8, 7, 6, 5, 4, 1]"
      ]
     },
     "execution_count": 11,
     "metadata": {},
     "output_type": "execute_result"
    }
   ],
   "source": [
    "l3[::-1]"
   ]
  },
  {
   "cell_type": "code",
   "execution_count": 12,
   "id": "f55886e4-64d8-4d57-916a-a70df9af313e",
   "metadata": {},
   "outputs": [],
   "source": [
    "#14. Write a Python program to find the common elements between two lists using a for loop."
   ]
  },
  {
   "cell_type": "code",
   "execution_count": 16,
   "id": "a3ffa60b-0954-449f-b0be-75fa446b28ba",
   "metadata": {},
   "outputs": [],
   "source": [
    "l4 = [1,2,3,4,5,6, 'as', 'am', 'are']\n",
    "l5 = [5,6,7,8,9,1 , 'am']"
   ]
  },
  {
   "cell_type": "code",
   "execution_count": 17,
   "id": "6ae5fa6f-88e6-4dc7-a34e-bd79a7db666e",
   "metadata": {},
   "outputs": [
    {
     "name": "stdout",
     "output_type": "stream",
     "text": [
      "1\n",
      "5\n",
      "6\n",
      "am\n"
     ]
    }
   ],
   "source": [
    "for i in l4 :\n",
    "    if i in l5 :\n",
    "        print(i)"
   ]
  },
  {
   "cell_type": "code",
   "execution_count": 18,
   "id": "8fec8e2a-e2ee-40c4-85a7-01e158a127ba",
   "metadata": {},
   "outputs": [],
   "source": [
    "#15 Explain how to use a for loop to iterate through the keys and values of a dictionary in Python."
   ]
  },
  {
   "cell_type": "code",
   "execution_count": 19,
   "id": "59f26bbb-6386-47bc-a8ac-354bd7171898",
   "metadata": {},
   "outputs": [],
   "source": [
    "d1 = {1:\"ruman\", 2:\"saba\", 3:\"student\"}"
   ]
  },
  {
   "cell_type": "code",
   "execution_count": 29,
   "id": "131fab36-896d-4314-8956-92c4cb46c0f1",
   "metadata": {},
   "outputs": [
    {
     "name": "stdout",
     "output_type": "stream",
     "text": [
      "(1, 'ruman')\n",
      "(2, 'saba')\n",
      "(3, 'student')\n"
     ]
    }
   ],
   "source": [
    "for i in d1.items() :\n",
    "    print(i)"
   ]
  },
  {
   "cell_type": "code",
   "execution_count": 30,
   "id": "0c97e33e-ede8-4187-8f8a-9859f38b2832",
   "metadata": {},
   "outputs": [],
   "source": [
    "#16 Write a Python program to find the GCD (Greatest Common Divisor) of two numbers using a for loop."
   ]
  },
  {
   "cell_type": "code",
   "execution_count": 4,
   "id": "5e866ba7-1257-47a5-ad6f-7e28e729cd0a",
   "metadata": {},
   "outputs": [
    {
     "name": "stdin",
     "output_type": "stream",
     "text": [
      "Enter the first number:  7\n",
      "Enter the second number:  8\n"
     ]
    },
    {
     "name": "stdout",
     "output_type": "stream",
     "text": [
      "The GCD of 7 and 8 is 1\n"
     ]
    }
   ],
   "source": [
    "def find_gcd(a, b):\n",
    "    while b:\n",
    "        a, b = b, a % b\n",
    "    return a\n",
    "\n",
    "num1 = int(input(\"Enter the first number: \"))\n",
    "num2 = int(input(\"Enter the second number: \"))\n",
    "\n",
    "gcd = find_gcd(num1, num2)\n",
    "print(f\"The GCD of {num1} and {num2} is {gcd}\")\n"
   ]
  },
  {
   "cell_type": "code",
   "execution_count": 31,
   "id": "a4130d3a-9f34-4d4e-86f0-f5077391f14c",
   "metadata": {},
   "outputs": [],
   "source": [
    "#17 Create a Python program that checks if a string is a palindrome using a for loop."
   ]
  },
  {
   "cell_type": "code",
   "execution_count": 34,
   "id": "1a55f7f4-a886-4d5b-b5d4-fb7e05898976",
   "metadata": {},
   "outputs": [
    {
     "name": "stdin",
     "output_type": "stream",
     "text": [
      "Enter the string moon\n"
     ]
    }
   ],
   "source": [
    "s3 = str(input(\"Enter the string\"))"
   ]
  },
  {
   "cell_type": "code",
   "execution_count": 36,
   "id": "9d524bf3-8bdc-46e1-8144-da187b11351f",
   "metadata": {},
   "outputs": [
    {
     "name": "stdout",
     "output_type": "stream",
     "text": [
      "No this is not palindrome\n"
     ]
    }
   ],
   "source": [
    "check = \"\"\n",
    "for i in s3 :\n",
    "    check = i + check\n",
    "\n",
    "if s3 == check :\n",
    "    print(\"yes this is palindrome\")\n",
    "else :\n",
    "    print(\"No this is not palindrome\")"
   ]
  },
  {
   "cell_type": "code",
   "execution_count": 37,
   "id": "1e67bfca-1e19-4ca4-9946-4037ce97d4d8",
   "metadata": {},
   "outputs": [],
   "source": [
    "#18. Write a Python program to remove duplicates from a list using a for loop.\n"
   ]
  },
  {
   "cell_type": "code",
   "execution_count": 54,
   "id": "4715824e-3b36-4019-8271-55fd4eab4251",
   "metadata": {},
   "outputs": [],
   "source": [
    "l6 = [1,2,3,4,3,4,5,5,6,6,6, \"ruman\", \"ruman\",1,1,3,3]"
   ]
  },
  {
   "cell_type": "code",
   "execution_count": 55,
   "id": "d6b0ce70-19fe-450b-80f6-d2acd64d2b1a",
   "metadata": {},
   "outputs": [
    {
     "name": "stdout",
     "output_type": "stream",
     "text": [
      "[1, 2, 3, 4, 5, 6, 'ruman']\n"
     ]
    }
   ],
   "source": [
    "new_l6 = []\n",
    "for i in l6 :\n",
    "\n",
    "    if i not in new_l6 :\n",
    "        new_l6.append(i)\n",
    "        \n",
    "print(new_l6)"
   ]
  },
  {
   "cell_type": "code",
   "execution_count": 56,
   "id": "c42f7da4-027f-403d-833f-627917896ce0",
   "metadata": {},
   "outputs": [],
   "source": [
    "#19. Create a Python program that counts the number of words in a sentence using a for loop.\n",
    " "
   ]
  },
  {
   "cell_type": "code",
   "execution_count": 5,
   "id": "5e40413a-d018-45d4-9896-7a4956f855e8",
   "metadata": {},
   "outputs": [
    {
     "name": "stdin",
     "output_type": "stream",
     "text": [
      "Enter a sentence:  mansa is good\n"
     ]
    },
    {
     "name": "stdout",
     "output_type": "stream",
     "text": [
      "Number of words in the sentence: 3\n"
     ]
    }
   ],
   "source": [
    "sentence = input(\"Enter a sentence: \")\n",
    "\n",
    "word_count = 0\n",
    "\n",
    "words = sentence.split()\n",
    "\n",
    "for word in words:\n",
    "    word_count += 1\n",
    "\n",
    "print(f\"Number of words in the sentence: {word_count}\")\n"
   ]
  },
  {
   "cell_type": "code",
   "execution_count": null,
   "id": "3c64af43-6abf-4f72-bfa2-4f6d7f314a57",
   "metadata": {},
   "outputs": [],
   "source": []
  },
  {
   "cell_type": "code",
   "execution_count": 66,
   "id": "bd89337f-4872-462b-9e02-dd1434175399",
   "metadata": {},
   "outputs": [],
   "source": [
    "#20Write a Python program to find the sum of all odd numbers from 1 to 50 using a for loop."
   ]
  },
  {
   "cell_type": "code",
   "execution_count": 67,
   "id": "58dea960-58b7-4dd6-8270-4a2aae722c20",
   "metadata": {},
   "outputs": [],
   "source": [
    "sum_num = 0\n"
   ]
  },
  {
   "cell_type": "code",
   "execution_count": 72,
   "id": "a04a3216-4f63-4128-b7d9-dc82b8fa6a65",
   "metadata": {},
   "outputs": [
    {
     "name": "stdout",
     "output_type": "stream",
     "text": [
      "1875\n"
     ]
    }
   ],
   "source": [
    "for i in range(1,51):\n",
    "    if i%2!=0 :\n",
    "        sum_num += i\n",
    "print(sum_num)"
   ]
  },
  {
   "cell_type": "code",
   "execution_count": 73,
   "id": "8654c8dc-a1b1-42a7-8192-e7ff7e7b83de",
   "metadata": {},
   "outputs": [],
   "source": [
    "#21 Write a Python program that checks if a given year is a leap year using a for loop."
   ]
  },
  {
   "cell_type": "code",
   "execution_count": 83,
   "id": "2d6f7e20-43b2-47db-839c-98f7cf3d0063",
   "metadata": {},
   "outputs": [
    {
     "name": "stdin",
     "output_type": "stream",
     "text": [
      "Enter the year 2005\n"
     ]
    }
   ],
   "source": [
    "year = int(input(\"Enter the year\"))"
   ]
  },
  {
   "cell_type": "code",
   "execution_count": 84,
   "id": "ab2087cd-3950-4f86-ace1-ec4307668f97",
   "metadata": {},
   "outputs": [
    {
     "name": "stdout",
     "output_type": "stream",
     "text": [
      "No this no leap year\n"
     ]
    }
   ],
   "source": [
    "if year%4==0 and year%100!=0 or year%400==0 :\n",
    "    print(\"this is leap year\")\n",
    "else :\n",
    "    print(\"No this no leap year\")"
   ]
  },
  {
   "cell_type": "code",
   "execution_count": 85,
   "id": "a4234ebf-d93f-4b09-b85f-ed80b7812356",
   "metadata": {},
   "outputs": [],
   "source": [
    "# 22 Create a Python program that calculates the square root of a number using a for loop."
   ]
  },
  {
   "cell_type": "code",
   "execution_count": 90,
   "id": "aef7f1c0-e002-43ec-938f-9c4d0170788d",
   "metadata": {},
   "outputs": [
    {
     "name": "stdout",
     "output_type": "stream",
     "text": [
      "1 = 1.0\n",
      "2 = 1.4142135623730951\n",
      "3 = 1.7320508075688772\n",
      "4 = 2.0\n",
      "5 = 2.23606797749979\n",
      "6 = 2.449489742783178\n",
      "7 = 2.6457513110645907\n",
      "8 = 2.8284271247461903\n",
      "9 = 3.0\n"
     ]
    }
   ],
   "source": [
    "for i in range(1,10):\n",
    "    num_sqr = i**0.5\n",
    "    print(i,\"=\",num_sqr)"
   ]
  },
  {
   "cell_type": "code",
   "execution_count": 91,
   "id": "9a8907b6-d40a-4cb0-8b6e-d45c36c76782",
   "metadata": {},
   "outputs": [],
   "source": [
    "#23 Write a Python program to find the LCM (Least Common Multiple) of two numbers using a for loop."
   ]
  },
  {
   "cell_type": "code",
   "execution_count": 92,
   "id": "071bb815-6ee1-42ac-aaa3-4c34e5be7512",
   "metadata": {},
   "outputs": [
    {
     "name": "stdout",
     "output_type": "stream",
     "text": [
      "LCM of 20 and 25 is: 100.0\n"
     ]
    }
   ],
   "source": [
    "x = 20\n",
    "y = 25\n",
    "if x > y:\n",
    "  x, y = y, x\n",
    "for i in range(1,x+1):\n",
    "  if x%i == 0 and y%i == 0:\n",
    "    gcd = i\n",
    "\n",
    "lcm = (x*y)/gcd\n",
    "\n",
    "print(\"LCM of\", x, \"and\", y, \"is:\", lcm)"
   ]
  },
  {
   "cell_type": "code",
   "execution_count": 93,
   "id": "e26ef5a2-95f1-4d62-9612-48947ae5cdc2",
   "metadata": {},
   "outputs": [],
   "source": [
    "# if else \n",
    "#1 Write a Python program to check if a number is positive, negative, or zero using an if-else statement."
   ]
  },
  {
   "cell_type": "code",
   "execution_count": 98,
   "id": "df01e12d-f6a8-475f-9f88-09a4a56c7b07",
   "metadata": {},
   "outputs": [
    {
     "name": "stdin",
     "output_type": "stream",
     "text": [
      "Enter the number 0\n"
     ]
    }
   ],
   "source": [
    "num1 = int(input(\"Enter the number\"))"
   ]
  },
  {
   "cell_type": "code",
   "execution_count": 100,
   "id": "a8e02ac1-bc14-47c6-83e6-46e25cc3f837",
   "metadata": {},
   "outputs": [
    {
     "name": "stdout",
     "output_type": "stream",
     "text": [
      "its zero\n"
     ]
    }
   ],
   "source": [
    "if num1>0:\n",
    "    print(\"its positive\")\n",
    "elif num1 < 0:\n",
    "    print(\"its negative\")\n",
    "    \n",
    "else :\n",
    "    print(\"its zero\")"
   ]
  },
  {
   "cell_type": "code",
   "execution_count": 101,
   "id": "4aec847e-e7ac-4a3e-a3bc-2dfa938d301e",
   "metadata": {},
   "outputs": [],
   "source": [
    "#2 Create a Python program that checks if a given number is even or odd using an if-else statement.\n"
   ]
  },
  {
   "cell_type": "code",
   "execution_count": 104,
   "id": "4c15e81a-f3f3-4499-a5b6-557394663280",
   "metadata": {},
   "outputs": [
    {
     "name": "stdin",
     "output_type": "stream",
     "text": [
      "Enter the number 67\n"
     ]
    }
   ],
   "source": [
    "num2 = int(input(\"Enter the number\"))"
   ]
  },
  {
   "cell_type": "code",
   "execution_count": 105,
   "id": "a56b9a73-98d5-4063-9b00-00f371b80230",
   "metadata": {},
   "outputs": [
    {
     "name": "stdout",
     "output_type": "stream",
     "text": [
      "odd\n"
     ]
    }
   ],
   "source": [
    "if num2%2==0:\n",
    "    print(\"even\")\n",
    "else :\n",
    "    print(\"odd\")"
   ]
  },
  {
   "cell_type": "code",
   "execution_count": 106,
   "id": "a353431e-becd-470b-bc97-a2625ee71c29",
   "metadata": {},
   "outputs": [],
   "source": [
    "#3 How can you use nested if-else statements in Python, and provide an example?"
   ]
  },
  {
   "cell_type": "code",
   "execution_count": 6,
   "id": "6a502bd4-1e52-4706-aa95-0a211fe6b888",
   "metadata": {},
   "outputs": [
    {
     "name": "stdin",
     "output_type": "stream",
     "text": [
      "Enter a number:  6\n"
     ]
    },
    {
     "name": "stdout",
     "output_type": "stream",
     "text": [
      "The number is positive.\n"
     ]
    }
   ],
   "source": [
    "# Example: Checking if a number is positive, negative, or zero using nested if-else\n",
    "\n",
    "number = int(input(\"Enter a number: \"))\n",
    "\n",
    "if number > 0:\n",
    "    print(\"The number is positive.\")\n",
    "elif number < 0:\n",
    "    print(\"The number is negative.\")\n",
    "else:\n",
    "    print(\"The number is zero.\")\n"
   ]
  },
  {
   "cell_type": "code",
   "execution_count": 107,
   "id": "a1010df0-9a52-4b53-b35d-c157037ba4a8",
   "metadata": {},
   "outputs": [],
   "source": [
    "#4 Write a Python program to determine the largest of three numbers using if-else."
   ]
  },
  {
   "cell_type": "code",
   "execution_count": 114,
   "id": "5b9fd242-43bc-42f7-aecf-78b89d01cf38",
   "metadata": {},
   "outputs": [
    {
     "name": "stdin",
     "output_type": "stream",
     "text": [
      "enter the 1st number 9\n"
     ]
    }
   ],
   "source": [
    "num3 = int(input(\"enter the 1st number\"))"
   ]
  },
  {
   "cell_type": "code",
   "execution_count": 115,
   "id": "6fd04c1c-1ba6-4c72-bbed-f39f60c4b78f",
   "metadata": {},
   "outputs": [
    {
     "name": "stdin",
     "output_type": "stream",
     "text": [
      "enter the 2nd number 23\n"
     ]
    }
   ],
   "source": [
    "num4 = int(input(\"enter the 2nd number\"))"
   ]
  },
  {
   "cell_type": "code",
   "execution_count": 116,
   "id": "949fa614-7fbb-41df-b5ae-3da189610aa8",
   "metadata": {},
   "outputs": [
    {
     "name": "stdin",
     "output_type": "stream",
     "text": [
      "enter the 3nd number 4\n"
     ]
    }
   ],
   "source": [
    "num5 = int(input(\"enter the 3nd number\"))"
   ]
  },
  {
   "cell_type": "code",
   "execution_count": 117,
   "id": "df3fc456-1466-4a94-831a-b91b832688de",
   "metadata": {},
   "outputs": [
    {
     "name": "stdout",
     "output_type": "stream",
     "text": [
      "23\n"
     ]
    }
   ],
   "source": [
    "max_num = 0\n",
    "if num3>num4 and num3>num5:\n",
    "    max_num = num3\n",
    "elif num4>num5 and num4>num3:\n",
    "    max_num = num4\n",
    "else :\n",
    "    max_num = num5\n",
    "    \n",
    "print(max_num)"
   ]
  },
  {
   "cell_type": "code",
   "execution_count": 118,
   "id": "621352bf-a77d-4dd1-bcca-9f22e6c91878",
   "metadata": {},
   "outputs": [],
   "source": [
    "#5 Write a Python program that calculates the absolute value of a number using if-else."
   ]
  },
  {
   "cell_type": "code",
   "execution_count": 7,
   "id": "68c4e56d-a7eb-41f2-88de-e016a0cf9476",
   "metadata": {},
   "outputs": [
    {
     "name": "stdin",
     "output_type": "stream",
     "text": [
      "Enter a number:  4\n"
     ]
    },
    {
     "name": "stdout",
     "output_type": "stream",
     "text": [
      "The absolute value of 4.0 is 4.0\n"
     ]
    }
   ],
   "source": [
    "number = float(input(\"Enter a number: \"))\n",
    "\n",
    "if number < 0:\n",
    "    absolute_value = -number\n",
    "else:\n",
    "    absolute_value = number\n",
    "\n",
    "print(f\"The absolute value of {number} is {absolute_value}\")\n"
   ]
  },
  {
   "cell_type": "code",
   "execution_count": null,
   "id": "41f574e2-0cdd-44e0-b563-0c0f6ba236e4",
   "metadata": {},
   "outputs": [],
   "source": [
    "#6 Create a Python program that checks if a given character is a vowel or consonant using if-else.\n"
   ]
  },
  {
   "cell_type": "code",
   "execution_count": 11,
   "id": "bc0835fb-8b91-4928-865d-bcec5bca749d",
   "metadata": {},
   "outputs": [
    {
     "name": "stdin",
     "output_type": "stream",
     "text": [
      "Enter a character:  E\n"
     ]
    },
    {
     "name": "stdout",
     "output_type": "stream",
     "text": [
      "E is a vowel.\n"
     ]
    }
   ],
   "source": [
    "char = input(\"Enter a character: \")\n",
    "\n",
    "if char.isalpha() and len(char) == 1:\n",
    "    if char.lower() in \"aeiou\":\n",
    "        print(f\"{char} is a vowel.\")\n",
    "    else:\n",
    "        print(f\"{char} is a consonant.\")\n",
    "else:\n",
    "    print(\"Please enter a single alphabetic character.\")\n"
   ]
  },
  {
   "cell_type": "code",
   "execution_count": 1,
   "id": "e25889df-fd46-4e4d-9ef5-5b81fe6d97ba",
   "metadata": {},
   "outputs": [],
   "source": [
    "#7 Write a Python program to determine if a user is eligible to vote based on their age using if-else."
   ]
  },
  {
   "cell_type": "code",
   "execution_count": 7,
   "id": "edf3c8f9-b4a7-4af6-8b40-0c056ec060ed",
   "metadata": {},
   "outputs": [
    {
     "name": "stdin",
     "output_type": "stream",
     "text": [
      "Enter the voter age. 40\n"
     ]
    }
   ],
   "source": [
    "voter_age = int(input(\"Enter the voter age.\"))"
   ]
  },
  {
   "cell_type": "code",
   "execution_count": 8,
   "id": "783f618e-1415-4ec8-8102-8d4e3bc77d1e",
   "metadata": {},
   "outputs": [
    {
     "name": "stdout",
     "output_type": "stream",
     "text": [
      "Eligible for vote.\n"
     ]
    }
   ],
   "source": [
    "if voter_age >= 18:\n",
    "    print(\"Eligible for vote.\")\n",
    "    \n",
    "else :\n",
    "    print(\"note eligible for vote.\")"
   ]
  },
  {
   "cell_type": "code",
   "execution_count": 9,
   "id": "0274fa29-4c96-4b8c-9543-172ec25698ba",
   "metadata": {},
   "outputs": [],
   "source": [
    "#8 Create a Python program that calculates the discount amount based on the purchase amount using if-else.\n"
   ]
  },
  {
   "cell_type": "code",
   "execution_count": 12,
   "id": "3b3193f4-da1e-4b8d-8ff5-93aff561061e",
   "metadata": {},
   "outputs": [
    {
     "name": "stdin",
     "output_type": "stream",
     "text": [
      "Enter the purchase amount: $ 678\n"
     ]
    },
    {
     "name": "stdout",
     "output_type": "stream",
     "text": [
      "Congratulations! You have a 5% discount.\n",
      "Discounted Amount: $644.10\n"
     ]
    }
   ],
   "source": [
    "purchase_amount = float(input(\"Enter the purchase amount: $\"))\n",
    "\n",
    "discount = 0.0\n",
    "discounted_amount = purchase_amount\n",
    "\n",
    "if purchase_amount >= 1000:\n",
    "    discount = 0.10  \n",
    "elif purchase_amount >= 500:\n",
    "    discount = 0.05  \n",
    "\n",
    "discounted_amount -= purchase_amount * discount\n",
    "\n",
    "if discount > 0:\n",
    "    print(f\"Congratulations! You have a {int(discount * 100)}% discount.\")\n",
    "    print(f\"Discounted Amount: ${discounted_amount:.2f}\")\n",
    "else:\n",
    "    print(\"No discount applied.\")\n"
   ]
  },
  {
   "cell_type": "code",
   "execution_count": 10,
   "id": "e6611a59-ad73-4c7d-bf59-d6fe1b4acc5e",
   "metadata": {},
   "outputs": [],
   "source": [
    "#9 Write a Python program to check if a number is within a specified range using if-else.\n"
   ]
  },
  {
   "cell_type": "code",
   "execution_count": 14,
   "id": "d703eecd-e171-462c-abae-684bc54f22ec",
   "metadata": {},
   "outputs": [
    {
     "name": "stdin",
     "output_type": "stream",
     "text": [
      "Enter a number:  43\n"
     ]
    },
    {
     "name": "stdout",
     "output_type": "stream",
     "text": [
      "The number 43.0 is within the range [10, 50].\n"
     ]
    }
   ],
   "source": [
    "number = float(input(\"Enter a number: \"))\n",
    "\n",
    "lower_limit = 10\n",
    "upper_limit = 50\n",
    "\n",
    "if lower_limit <= number <= upper_limit:\n",
    "    print(f\"The number {number} is within the range [{lower_limit}, {upper_limit}].\")\n",
    "else:\n",
    "    print(f\"The number {number} is outside the range [{lower_limit}, {upper_limit}].\")\n"
   ]
  },
  {
   "cell_type": "code",
   "execution_count": 11,
   "id": "962b3fb8-3540-44aa-b10f-152b514fed20",
   "metadata": {},
   "outputs": [],
   "source": [
    "#10 Create a Python program that determines the grade of a student based on their score using if-else.\n"
   ]
  },
  {
   "cell_type": "code",
   "execution_count": 27,
   "id": "be971bfa-4026-48c5-a0c9-e29619590626",
   "metadata": {},
   "outputs": [
    {
     "name": "stdin",
     "output_type": "stream",
     "text": [
      "Enter the score. 21\n"
     ]
    }
   ],
   "source": [
    "score = int(input(\"Enter the score.\"))"
   ]
  },
  {
   "cell_type": "code",
   "execution_count": 28,
   "id": "f6ef29d9-8047-4170-b58f-f822ccaea950",
   "metadata": {},
   "outputs": [
    {
     "name": "stdout",
     "output_type": "stream",
     "text": [
      "Grade : F\n"
     ]
    }
   ],
   "source": [
    "if score >= 90:\n",
    "    print(\"Grade : A\")\n",
    "elif score >=75:\n",
    "    print(\"Grade : B\")\n",
    "elif score >=55 :\n",
    "    print(\"Grade : C\")\n",
    "elif score >=45 :\n",
    "    print(\"Grade : D\")\n",
    "elif score >= 23 :\n",
    "    print(\"Grade : E\")\n",
    "else :\n",
    "    print(\"Grade : F\")"
   ]
  },
  {
   "cell_type": "code",
   "execution_count": 29,
   "id": "5e6fa198-ee28-46aa-94a5-ebeb1d9edb98",
   "metadata": {},
   "outputs": [],
   "source": [
    "# 11 Write a Python program to check if a string is empty or not using if-else. "
   ]
  },
  {
   "cell_type": "code",
   "execution_count": 44,
   "id": "b0b51e0a-f1a6-48bc-8eed-f3a713a4730a",
   "metadata": {},
   "outputs": [],
   "source": [
    "str_1 = \"   \""
   ]
  },
  {
   "cell_type": "code",
   "execution_count": 45,
   "id": "22a38a57-5e58-4df0-90a7-08ae7adf0680",
   "metadata": {},
   "outputs": [
    {
     "name": "stdout",
     "output_type": "stream",
     "text": [
      "string is empty\n"
     ]
    }
   ],
   "source": [
    "if len((str_1).strip())!= 0 :\n",
    "    print(\"string is not empty\")\n",
    "else :\n",
    "    print(\"string is empty\")"
   ]
  },
  {
   "cell_type": "code",
   "execution_count": 46,
   "id": "05213b67-a080-4f0f-87fe-b13867806d6c",
   "metadata": {},
   "outputs": [],
   "source": [
    "#12 Create a Python program that identifies the type of a triangle (e.g., equilateral, isosceles, or scalene) based on input values using if-else."
   ]
  },
  {
   "cell_type": "code",
   "execution_count": 49,
   "id": "7c352651-a041-4535-96e3-4e11e20a2385",
   "metadata": {},
   "outputs": [
    {
     "name": "stdin",
     "output_type": "stream",
     "text": [
      "Enter number a : 4\n"
     ]
    }
   ],
   "source": [
    "a = int(input(\"Enter number a :\"))"
   ]
  },
  {
   "cell_type": "code",
   "execution_count": 50,
   "id": "909e98c0-c725-4e1d-9834-16ee1a3a98f1",
   "metadata": {},
   "outputs": [
    {
     "name": "stdin",
     "output_type": "stream",
     "text": [
      "Enter number b : 4\n"
     ]
    }
   ],
   "source": [
    "b = int(input(\"Enter number b :\"))"
   ]
  },
  {
   "cell_type": "code",
   "execution_count": 51,
   "id": "e3fd1366-836e-4999-b74b-036e102bddb0",
   "metadata": {},
   "outputs": [
    {
     "name": "stdin",
     "output_type": "stream",
     "text": [
      "Enter number c : 4\n"
     ]
    }
   ],
   "source": [
    "c = int(input(\"Enter number c :\"))"
   ]
  },
  {
   "cell_type": "code",
   "execution_count": 52,
   "id": "8d76afc3-327f-4efe-ab15-a11cdfe8b003",
   "metadata": {},
   "outputs": [
    {
     "name": "stdout",
     "output_type": "stream",
     "text": [
      "equilateral tringle\n"
     ]
    }
   ],
   "source": [
    "if a==b==c :\n",
    "    print(\"equilateral tringle\")\n",
    "elif b==a or b==c or a==c :\n",
    "    print(\"isosceles tringle\")\n",
    "else :\n",
    "    print(\"scalene\")"
   ]
  },
  {
   "cell_type": "code",
   "execution_count": 2,
   "id": "f1b16ab8-72aa-4b41-80c3-6ba849c5fe0c",
   "metadata": {},
   "outputs": [],
   "source": [
    "#13 Write a Python program to determine the day of the week based on a user-provided number using if-else."
   ]
  },
  {
   "cell_type": "code",
   "execution_count": 15,
   "id": "85f469dd-ef06-4aeb-a327-da8009dda59e",
   "metadata": {},
   "outputs": [
    {
     "name": "stdin",
     "output_type": "stream",
     "text": [
      "Enter a number (1 for Sunday, 2 for Monday, etc.):  7\n"
     ]
    },
    {
     "name": "stdout",
     "output_type": "stream",
     "text": [
      "Day 7 corresponds to Saturday.\n"
     ]
    }
   ],
   "source": [
    "# Input a number from the user\n",
    "day_number = int(input(\"Enter a number (1 for Sunday, 2 for Monday, etc.): \"))\n",
    "\n",
    "if day_number == 1:\n",
    "    day = \"Sunday\"\n",
    "elif day_number == 2:\n",
    "    day = \"Monday\"\n",
    "elif day_number == 3:\n",
    "    day = \"Tuesday\"\n",
    "elif day_number == 4:\n",
    "    day = \"Wednesday\"\n",
    "elif day_number == 5:\n",
    "    day = \"Thursday\"\n",
    "elif day_number == 6:\n",
    "    day = \"Friday\"\n",
    "elif day_number == 7:\n",
    "    day = \"Saturday\"\n",
    "else:\n",
    "    day = \"Invalid input\"\n",
    "\n",
    "print(f\"Day {day_number} corresponds to {day}.\")\n"
   ]
  },
  {
   "cell_type": "code",
   "execution_count": 3,
   "id": "9820bada-cee8-47f9-bb18-76e9ece62248",
   "metadata": {},
   "outputs": [],
   "source": [
    "#14 Create a Python program that checks if a given year is a leap year using both if-else and a function."
   ]
  },
  {
   "cell_type": "code",
   "execution_count": 16,
   "id": "225c7cad-01d1-4a8d-b65e-cd9112a92c21",
   "metadata": {},
   "outputs": [
    {
     "name": "stdin",
     "output_type": "stream",
     "text": [
      "Enter a year:  3034\n"
     ]
    },
    {
     "name": "stdout",
     "output_type": "stream",
     "text": [
      "3034 is not a leap year.\n"
     ]
    }
   ],
   "source": [
    "def is_leap_year(year):\n",
    "    if (year % 4 == 0 and year % 100 != 0) or (year % 400 == 0):\n",
    "        return True\n",
    "    else:\n",
    "        return False\n",
    "\n",
    "year = int(input(\"Enter a year: \"))\n",
    "\n",
    "if is_leap_year(year):\n",
    "    print(f\"{year} is a leap year.\")\n",
    "else:\n",
    "    print(f\"{year} is not a leap year.\")\n"
   ]
  },
  {
   "cell_type": "code",
   "execution_count": 5,
   "id": "84e92719-d7b3-4731-956e-68841b8e4f1b",
   "metadata": {},
   "outputs": [],
   "source": [
    "#15 How do you use the \"assert\" statement in Python to add debugging checks within if-else blocks?"
   ]
  },
  {
   "cell_type": "code",
   "execution_count": 1,
   "id": "7e83814f-3ea8-4e8b-a3f7-4a2dedda768c",
   "metadata": {},
   "outputs": [
    {
     "name": "stdout",
     "output_type": "stream",
     "text": [
      "AssertionError: Denominator should not be zero\n"
     ]
    }
   ],
   "source": [
    "def divide(a, b):\n",
    "    assert b != 0, \"Denominator should not be zero\"\n",
    "    result = a / b\n",
    "    return result\n",
    "\n",
    "numerator = 10\n",
    "denominator = 0\n",
    "\n",
    "try:\n",
    "    result = divide(numerator, denominator)\n",
    "    print(f\"Result: {result}\")\n",
    "except AssertionError as e:\n",
    "    print(f\"AssertionError: {e}\")\n",
    "except ZeroDivisionError as e:\n",
    "    print(f\"ZeroDivisionError: {e}\")\n"
   ]
  },
  {
   "cell_type": "code",
   "execution_count": 6,
   "id": "9f5c7707-2d7a-4901-bb39-f2698c98ef8f",
   "metadata": {},
   "outputs": [],
   "source": [
    "#16 Create a Python program that determines the eligibility of a person \n",
    "#for a senior citizen discount based on age using if-else."
   ]
  },
  {
   "cell_type": "code",
   "execution_count": 17,
   "id": "4da1d98a-e778-448f-8e6b-051b21b54f00",
   "metadata": {},
   "outputs": [
    {
     "name": "stdin",
     "output_type": "stream",
     "text": [
      "Enter the age of the person:  67\n"
     ]
    },
    {
     "name": "stdout",
     "output_type": "stream",
     "text": [
      "The person is eligible for a senior citizen discount.\n"
     ]
    }
   ],
   "source": [
    "# Input the age of the person\n",
    "age = int(input(\"Enter the age of the person: \"))\n",
    "\n",
    "# Check eligibility for a senior citizen discount using if-else\n",
    "if age >= 60:\n",
    "    print(\"The person is eligible for a senior citizen discount.\")\n",
    "else:\n",
    "    print(\"The person is not eligible for a senior citizen discount.\")\n"
   ]
  },
  {
   "cell_type": "code",
   "execution_count": 7,
   "id": "fd0ce2ca-91b2-4d55-958d-09c0aed40537",
   "metadata": {},
   "outputs": [],
   "source": [
    "#17 Write a Python program to categorize a given character as uppercase, \n",
    "#lowercase, or neither using if-else.\n"
   ]
  },
  {
   "cell_type": "code",
   "execution_count": 19,
   "id": "4980832b-953c-4d00-8bcb-71de172ece28",
   "metadata": {},
   "outputs": [
    {
     "name": "stdin",
     "output_type": "stream",
     "text": [
      "Enter the string ruman\n"
     ]
    }
   ],
   "source": [
    "s7 = str(input(\"Enter the string\"))"
   ]
  },
  {
   "cell_type": "code",
   "execution_count": 20,
   "id": "d9c13a77-2b74-4032-87f5-50e8a401f6bc",
   "metadata": {},
   "outputs": [
    {
     "name": "stdout",
     "output_type": "stream",
     "text": [
      "RUMAN\n"
     ]
    }
   ],
   "source": [
    "if len(s7.strip())!= 0 :\n",
    "    print(s7.upper())\n",
    "else :\n",
    "    print(s7.lower())"
   ]
  },
  {
   "cell_type": "code",
   "execution_count": null,
   "id": "3bf63287-cc11-4ae2-981d-bf5273557eb7",
   "metadata": {},
   "outputs": [],
   "source": []
  },
  {
   "cell_type": "code",
   "execution_count": null,
   "id": "d0bd11bd-429c-4e35-bd5b-644a4174e47e",
   "metadata": {},
   "outputs": [],
   "source": []
  },
  {
   "cell_type": "code",
   "execution_count": 8,
   "id": "89342520-725c-4f08-a552-4317d4e85541",
   "metadata": {},
   "outputs": [],
   "source": [
    "#18 Write a Python program to determine the roots of a quadratic equation using if-else."
   ]
  },
  {
   "cell_type": "code",
   "execution_count": 21,
   "id": "0fe67c8d-2026-4f42-bded-165c49a79c1a",
   "metadata": {},
   "outputs": [
    {
     "name": "stdin",
     "output_type": "stream",
     "text": [
      "Enter the coefficient a:  56\n",
      "Enter the coefficient b:  3\n",
      "Enter the coefficient c:  45\n"
     ]
    },
    {
     "name": "stdout",
     "output_type": "stream",
     "text": [
      "Roots are complex: -0.026785714285714284 + 0.8960211794827356i and -0.026785714285714284 - 0.8960211794827356i\n"
     ]
    }
   ],
   "source": [
    "a = float(input(\"Enter the coefficient a: \"))\n",
    "b = float(input(\"Enter the coefficient b: \"))\n",
    "c = float(input(\"Enter the coefficient c: \"))\n",
    "\n",
    "discriminant = b**2 - 4*a*c\n",
    "\n",
    "if discriminant > 0:\n",
    "    root1 = (-b + (discriminant)**0.5) / (2*a)\n",
    "    root2 = (-b - (discriminant)**0.5) / (2*a)\n",
    "    print(f\"Roots are real and distinct: {root1} and {root2}\")\n",
    "elif discriminant == 0:\n",
    "    root = -b / (2*a)\n",
    "    print(f\"Roots are real and equal: {root}\")\n",
    "else:\n",
    "    real_part = -b / (2*a)\n",
    "    imaginary_part = (abs(discriminant)**0.5) / (2*a)\n",
    "    print(f\"Roots are complex: {real_part} + {imaginary_part}i and {real_part} - {imaginary_part}i\")\n"
   ]
  },
  {
   "cell_type": "code",
   "execution_count": 10,
   "id": "93b85f7e-e242-4c1f-bdcf-741326944822",
   "metadata": {},
   "outputs": [],
   "source": [
    "#19 Create a Python program that checks if a given year is a century year or not using if-else."
   ]
  },
  {
   "cell_type": "code",
   "execution_count": 2,
   "id": "5ed43603-35cb-4403-bd1a-ec6d1ae5be1a",
   "metadata": {},
   "outputs": [
    {
     "name": "stdin",
     "output_type": "stream",
     "text": [
      "Enter a year:  2023\n"
     ]
    },
    {
     "name": "stdout",
     "output_type": "stream",
     "text": [
      "2023 is not a century year.\n"
     ]
    }
   ],
   "source": [
    "def is_century_year(year):\n",
    "    if year % 100 == 0:\n",
    "        return True\n",
    "    else:\n",
    "        return False\n",
    "\n",
    "input_year = int(input(\"Enter a year: \"))\n",
    "\n",
    "if input_year > 0:\n",
    "    if is_century_year(input_year):\n",
    "        print(f\"{input_year} is a century year.\")\n",
    "    else:\n",
    "        print(f\"{input_year} is not a century year.\")\n",
    "else:\n",
    "    print(\"Please enter a valid positive year.\")\n"
   ]
  },
  {
   "cell_type": "code",
   "execution_count": 11,
   "id": "96463c11-8e99-4687-9b2f-3e788911c43f",
   "metadata": {},
   "outputs": [],
   "source": [
    "# 20 Write a Python program to determine if a given number is a perfect square using if-else."
   ]
  },
  {
   "cell_type": "code",
   "execution_count": 5,
   "id": "700e514f-0fce-41cc-8902-7db0a7848063",
   "metadata": {},
   "outputs": [
    {
     "name": "stdin",
     "output_type": "stream",
     "text": [
      "Enter a number:  4\n"
     ]
    },
    {
     "name": "stdout",
     "output_type": "stream",
     "text": [
      "4 is a perfect square.\n"
     ]
    }
   ],
   "source": [
    "def is_perfect_square(number):\n",
    "    square_root = number ** 0.5\n",
    "    return square_root.is_integer()\n",
    "\n",
    "input_number = int(input(\"Enter a number: \"))\n",
    "\n",
    "if input_number >= 0:\n",
    "    if is_perfect_square(input_number):\n",
    "        print(f\"{input_number} is a perfect square.\")\n",
    "    else:\n",
    "        print(f\"{input_number} is not a perfect square.\")\n",
    "else:\n",
    "    print(\"Please enter a non-negative number.\")\n"
   ]
  },
  {
   "cell_type": "code",
   "execution_count": 12,
   "id": "775f077c-fd35-4a04-9bb0-1e1e1c05f7fb",
   "metadata": {},
   "outputs": [],
   "source": [
    "#21 Explain the purpose of the \"continue\" and \"break\" statements within if-else loops."
   ]
  },
  {
   "cell_type": "code",
   "execution_count": 7,
   "id": "ecf48357-e8e6-4b74-8947-dae5959ade93",
   "metadata": {},
   "outputs": [
    {
     "name": "stdout",
     "output_type": "stream",
     "text": [
      "Current value: 1\n",
      "Current value: 2\n",
      "Current value: 4\n",
      "Current value: 5\n"
     ]
    }
   ],
   "source": [
    "#continue\n",
    "for i in range(1, 6):\n",
    "    if i == 3:\n",
    "        continue\n",
    "    print(f\"Current value: {i}\")\n"
   ]
  },
  {
   "cell_type": "code",
   "execution_count": 6,
   "id": "f46c93ae-101f-4a91-a5d9-501cceca5735",
   "metadata": {},
   "outputs": [
    {
     "name": "stdout",
     "output_type": "stream",
     "text": [
      "Current value: 1\n",
      "Current value: 2\n"
     ]
    }
   ],
   "source": [
    "#break\n",
    "for i in range(1, 6):\n",
    "    if i == 3:\n",
    "        break\n",
    "    print(f\"Current value: {i}\")\n"
   ]
  },
  {
   "cell_type": "code",
   "execution_count": 13,
   "id": "0f958183-a2cd-459b-a65c-464a39d39cf7",
   "metadata": {},
   "outputs": [],
   "source": [
    "#22 Create a Python program that calculates the BMI (Body Mass Index) \n",
    "#of a person based on their weight and height using if-else."
   ]
  },
  {
   "cell_type": "code",
   "execution_count": 8,
   "id": "5402bcac-f10f-4163-bfb8-f20d8338fab6",
   "metadata": {},
   "outputs": [
    {
     "name": "stdin",
     "output_type": "stream",
     "text": [
      "Enter your weight in kilograms:  46\n",
      "Enter your height in meters:  1.5\n"
     ]
    },
    {
     "name": "stdout",
     "output_type": "stream",
     "text": [
      "Your BMI is: 20.44\n",
      "Your weight is normal.\n"
     ]
    }
   ],
   "source": [
    "def calculate_bmi(weight, height):\n",
    "    if height == 0:\n",
    "        return None\n",
    "\n",
    "    bmi = weight / (height ** 2)\n",
    "    return bmi\n",
    "\n",
    "weight = float(input(\"Enter your weight in kilograms: \"))\n",
    "height = float(input(\"Enter your height in meters: \"))\n",
    "\n",
    "if weight > 0 and height > 0:\n",
    "    bmi = calculate_bmi(weight, height)\n",
    "\n",
    "    if bmi is not None:\n",
    "        print(f\"Your BMI is: {bmi:.2f}\")\n",
    "\n",
    "        if bmi < 18.5:\n",
    "            print(\"You are underweight.\")\n",
    "        elif 18.5 <= bmi < 24.9:\n",
    "            print(\"Your weight is normal.\")\n",
    "        elif 25 <= bmi < 29.9:\n",
    "            print(\"You are overweight.\")\n",
    "        else:\n",
    "            print(\"You are obese.\")\n",
    "    else:\n",
    "        print(\"Error: Height should be greater than zero.\")\n",
    "else:\n",
    "    print(\"Error: Weight and height should be greater than zero.\")\n"
   ]
  },
  {
   "cell_type": "code",
   "execution_count": 14,
   "id": "2ebe6dcb-cd47-42e8-8690-4521d6c5caa3",
   "metadata": {},
   "outputs": [],
   "source": [
    "#23 How can you use the \"filter()\" function with if-else statements to filter elements from a list?"
   ]
  },
  {
   "cell_type": "code",
   "execution_count": 10,
   "id": "b9ca4295-bed3-4fcb-934e-7dcb7051b44d",
   "metadata": {},
   "outputs": [
    {
     "name": "stdout",
     "output_type": "stream",
     "text": [
      "[2, 4, 6, 8, 10]\n"
     ]
    }
   ],
   "source": [
    "def is_even(x):\n",
    "    return x % 2 == 0\n",
    "\n",
    "numbers = [1, 2, 3, 4, 5, 6, 7, 8, 9, 10]\n",
    "\n",
    "filtered_numbers = filter(is_even, numbers)\n",
    "\n",
    "result = list(filtered_numbers)\n",
    "\n",
    "print(result)\n"
   ]
  },
  {
   "cell_type": "code",
   "execution_count": 15,
   "id": "c7dc2f64-ec77-45eb-8a27-ffc121e0071c",
   "metadata": {},
   "outputs": [],
   "source": [
    "#24 Write a Python program to determine if a given number is prime or not using if-else."
   ]
  },
  {
   "cell_type": "code",
   "execution_count": 11,
   "id": "d7bb663a-2023-4c02-b4d9-803bd5baa035",
   "metadata": {},
   "outputs": [
    {
     "name": "stdin",
     "output_type": "stream",
     "text": [
      "Enter a number:  5\n"
     ]
    },
    {
     "name": "stdout",
     "output_type": "stream",
     "text": [
      "5 is a prime number.\n"
     ]
    }
   ],
   "source": [
    "def is_prime(number):\n",
    "    if number <= 1:\n",
    "        return False\n",
    "    elif number == 2:\n",
    "        return True\n",
    "    elif number % 2 == 0:\n",
    "        return False\n",
    "    else:\n",
    "        for i in range(3, int(number**0.5) + 1, 2):\n",
    "            if number % i == 0:\n",
    "                return False\n",
    "        return True\n",
    "\n",
    "input_number = int(input(\"Enter a number: \"))\n",
    "\n",
    "if is_prime(input_number):\n",
    "    print(f\"{input_number} is a prime number.\")\n",
    "else:\n",
    "    print(f\"{input_number} is not a prime number.\")\n"
   ]
  },
  {
   "cell_type": "code",
   "execution_count": 16,
   "id": "b4e3d5d1-ee5b-46ea-bd72-5c0258ebc458",
   "metadata": {},
   "outputs": [],
   "source": [
    "# Map"
   ]
  },
  {
   "cell_type": "code",
   "execution_count": 18,
   "id": "ef36324b-7d7c-4ad3-88f3-69a91fcdb4d3",
   "metadata": {},
   "outputs": [],
   "source": [
    "#1.  Explain the purpose of the `map()` function in Python and provide an \n",
    "#example of how it can be used to apply a function to each element of an iterable."
   ]
  },
  {
   "cell_type": "code",
   "execution_count": null,
   "id": "f732dc9d-eeaa-43f2-8654-446abbd1cd67",
   "metadata": {},
   "outputs": [],
   "source": [
    "\"\"\"The map() function in Python is a built-in function that allows you to \n",
    "apply a specified function to all items in an iterable (list, \n",
    "tuple, or string) and returns an iterator that produces the results. \n",
    "It takes two arguments: the function to apply and the iterable. \n",
    "\n",
    "\"\"\""
   ]
  },
  {
   "cell_type": "code",
   "execution_count": 1,
   "id": "922c144c-2d13-49f8-ab63-076ece651784",
   "metadata": {},
   "outputs": [
    {
     "name": "stdout",
     "output_type": "stream",
     "text": [
      "[1, 4, 9, 16, 25]\n"
     ]
    }
   ],
   "source": [
    "# Define a function to square a number\n",
    "def square(x):\n",
    "    return x ** 2\n",
    "\n",
    "numbers = [1, 2, 3, 4, 5]\n",
    "squared_numbers = map(square, numbers)\n",
    "result_list = list(squared_numbers)\n",
    "print(result_list)\n"
   ]
  },
  {
   "cell_type": "code",
   "execution_count": 19,
   "id": "bd61872a-21bd-431c-ac58-59cf71e675cd",
   "metadata": {},
   "outputs": [],
   "source": [
    "#2. Write a Python program that uses the `map()` function to square each element of a list of numbers."
   ]
  },
  {
   "cell_type": "code",
   "execution_count": 2,
   "id": "7d50f623-e115-48bb-89e0-9079f1a2cc32",
   "metadata": {},
   "outputs": [
    {
     "name": "stdout",
     "output_type": "stream",
     "text": [
      "Original numbers: [1, 2, 3, 4, 5]\n",
      "Squared numbers: [1, 4, 9, 16, 25]\n"
     ]
    }
   ],
   "source": [
    "def square(x):\n",
    "    return x ** 2\n",
    "\n",
    "numbers = [1, 2, 3, 4, 5]\n",
    "squared_numbers = map(square, numbers)\n",
    "result_list = list(squared_numbers)\n",
    "print(\"Original numbers:\", numbers)\n",
    "print(\"Squared numbers:\", result_list)\n"
   ]
  },
  {
   "cell_type": "code",
   "execution_count": 20,
   "id": "00099fec-f8a3-4539-9d03-d4a45006c091",
   "metadata": {},
   "outputs": [],
   "source": [
    "#3. How does the `map()` function differ from a list comprehension in Python, and when would you choose \n",
    "#one over the other?"
   ]
  },
  {
   "cell_type": "code",
   "execution_count": 3,
   "id": "f06f0e91-1f52-4d32-ba73-cb2e38697703",
   "metadata": {},
   "outputs": [
    {
     "name": "stdout",
     "output_type": "stream",
     "text": [
      "[1, 4, 9, 16, 25]\n"
     ]
    }
   ],
   "source": [
    "\"\"\"\n",
    "Syntax: map(function, iterable, ...)\n",
    "Return Type: Returns an iterator \n",
    "\n",
    "\"\"\"\n",
    "\n",
    "# Using map() to square each element\n",
    "numbers = [1, 2, 3, 4, 5]\n",
    "squared_numbers = map(lambda x: x**2, numbers)\n",
    "result_list = list(squared_numbers)\n",
    "print(result_list)\n"
   ]
  },
  {
   "cell_type": "code",
   "execution_count": 4,
   "id": "713a0fcc-007e-4b72-9841-29ead8a54f07",
   "metadata": {},
   "outputs": [
    {
     "name": "stdout",
     "output_type": "stream",
     "text": [
      "[1, 4, 9, 16, 25]\n"
     ]
    }
   ],
   "source": [
    "\"\"\"\n",
    "List Comprehension:\n",
    "Syntax: [expression for item in iterable if condition] or [expression if condition else another_expression for item in iterable]\n",
    "Return Type: Returns a list containing the results of the expression for each item in the iterable that satisfies the specified condition.\n",
    "\n",
    "\"\"\"\n",
    "\n",
    "# Using list comprehension to square each element of a list\n",
    "numbers = [1, 2, 3, 4, 5]\n",
    "squared_numbers = [x**2 for x in numbers]\n",
    "print(squared_numbers)\n"
   ]
  },
  {
   "cell_type": "code",
   "execution_count": 21,
   "id": "8fc2e7ed-bdd6-4aac-b834-ebe9d2c3ca8c",
   "metadata": {},
   "outputs": [],
   "source": [
    "#4. Create a Python program that uses the `map()` function to convert a list of names to uppercase."
   ]
  },
  {
   "cell_type": "code",
   "execution_count": 5,
   "id": "b3cbc693-ee6a-42eb-abef-53bf35f7ec5a",
   "metadata": {},
   "outputs": [
    {
     "name": "stdout",
     "output_type": "stream",
     "text": [
      "Original names: ['Alice', 'Bob', 'Charlie', 'David']\n",
      "Uppercase names: ['ALICE', 'BOB', 'CHARLIE', 'DAVID']\n"
     ]
    }
   ],
   "source": [
    "names = [\"Alice\", \"Bob\", \"Charlie\", \"David\"]\n",
    "uppercase_names = map(str.upper, names)\n",
    "\n",
    "result_list = list(uppercase_names)\n",
    "\n",
    "print(\"Original names:\", names)\n",
    "print(\"Uppercase names:\", result_list)\n"
   ]
  },
  {
   "cell_type": "code",
   "execution_count": 22,
   "id": "678f798f-0fce-419d-b5fe-72156472d980",
   "metadata": {},
   "outputs": [],
   "source": [
    "#5. Write a Python program that uses the `map()` function to calculate \n",
    "# the length of each word in a list of strings."
   ]
  },
  {
   "cell_type": "code",
   "execution_count": 6,
   "id": "e3a730dc-c83f-415d-8067-000234317890",
   "metadata": {},
   "outputs": [
    {
     "name": "stdout",
     "output_type": "stream",
     "text": [
      "Original sentence: ['Hello', 'world', 'this', 'is', 'a', 'sample', 'sentence']\n",
      "Word lengths: [5, 5, 4, 2, 1, 6, 8]\n"
     ]
    }
   ],
   "source": [
    "sentence = [\"Hello\", \"world\", \"this\", \"is\", \"a\", \"sample\", \"sentence\"]\n",
    "\n",
    "word_lengths = map(len, sentence)\n",
    "\n",
    "result_list = list(word_lengths)\n",
    "\n",
    "print(\"Original sentence:\", sentence)\n",
    "print(\"Word lengths:\", result_list)\n"
   ]
  },
  {
   "cell_type": "code",
   "execution_count": 23,
   "id": "b22f548d-7e9a-401c-88e4-f4c01c5612cd",
   "metadata": {},
   "outputs": [],
   "source": [
    "#6. How can you use the `map()` function to apply a custom function \n",
    "# to elements of multiple lists simultaneously in Python?\n"
   ]
  },
  {
   "cell_type": "code",
   "execution_count": 7,
   "id": "26ba85ef-06f8-4561-a6d1-b21c1d7643a1",
   "metadata": {},
   "outputs": [
    {
     "name": "stdout",
     "output_type": "stream",
     "text": [
      "List 1: [1, 2, 3, 4]\n",
      "List 2: [5, 6, 7, 8]\n",
      "Result: [6, 8, 10, 12]\n"
     ]
    }
   ],
   "source": [
    "def add_lists(x, y):\n",
    "    return x + y\n",
    "\n",
    "list1 = [1, 2, 3, 4]\n",
    "list2 = [5, 6, 7, 8]\n",
    "\n",
    "result = map(add_lists, list1, list2)\n",
    "result_list = list(result)\n",
    "print(\"List 1:\", list1)\n",
    "print(\"List 2:\", list2)\n",
    "print(\"Result:\", result_list)\n"
   ]
  },
  {
   "cell_type": "code",
   "execution_count": 24,
   "id": "aab06a53-69f6-4297-9b14-1c0a2f744fc2",
   "metadata": {},
   "outputs": [],
   "source": [
    "#7. Create a Python program that uses `map()` to convert a list of temperatures from Celsius to Fahrenheit.\n"
   ]
  },
  {
   "cell_type": "code",
   "execution_count": 8,
   "id": "6a78ccd7-7398-4a68-8dd1-2b0ba4b78136",
   "metadata": {},
   "outputs": [
    {
     "name": "stdout",
     "output_type": "stream",
     "text": [
      "Temperatures in Celsius: [0, 10, 20, 30, 40]\n",
      "Temperatures in Fahrenheit: [32.0, 50.0, 68.0, 86.0, 104.0]\n"
     ]
    }
   ],
   "source": [
    "# Custom function to convert Celsius to Fahrenheit\n",
    "def celsius_to_fahrenheit(celsius):\n",
    "    return (celsius * 9/5) + 32\n",
    "\n",
    "temperatures_celsius = [0, 10, 20, 30, 40]\n",
    "temperatures_fahrenheit = map(celsius_to_fahrenheit, temperatures_celsius)\n",
    "result_list = list(temperatures_fahrenheit)\n",
    "print(\"Temperatures in Celsius:\", temperatures_celsius)\n",
    "print(\"Temperatures in Fahrenheit:\", result_list)\n"
   ]
  },
  {
   "cell_type": "code",
   "execution_count": 25,
   "id": "9c99e45e-7382-471d-80cb-6316f85cbd60",
   "metadata": {},
   "outputs": [],
   "source": [
    "#8. Write a Python program that uses the `map()` function to round each element of a \n",
    "# list of floating-point numbers to the nearest integer.\n"
   ]
  },
  {
   "cell_type": "code",
   "execution_count": 9,
   "id": "c4e04dec-814d-4046-bf1e-8dbfae8e6b69",
   "metadata": {},
   "outputs": [
    {
     "name": "stdout",
     "output_type": "stream",
     "text": [
      "Floating-point numbers: [3.14, 2.718, 1.5, 7.2, 9.8]\n",
      "Rounded integers: [3, 3, 2, 7, 10]\n"
     ]
    }
   ],
   "source": [
    "float_numbers = [3.14, 2.718, 1.5, 7.2, 9.8]\n",
    "\n",
    "rounded_integers = map(round, float_numbers)\n",
    "result_list = list(rounded_integers)\n",
    "print(\"Floating-point numbers:\", float_numbers)\n",
    "print(\"Rounded integers:\", result_list)\n"
   ]
  },
  {
   "cell_type": "code",
   "execution_count": 26,
   "id": "754eb2e8-4ff4-4c97-bc2c-ce93f32c3f84",
   "metadata": {},
   "outputs": [],
   "source": [
    "#Reduce :-"
   ]
  },
  {
   "cell_type": "code",
   "execution_count": 27,
   "id": "6f79525b-5105-4b22-a795-436eea4b1eb0",
   "metadata": {},
   "outputs": [],
   "source": [
    "#1. What is the `reduce()` function in Python, and what module should \n",
    "# you import to use it? Provide an example of its basic usage."
   ]
  },
  {
   "cell_type": "code",
   "execution_count": 10,
   "id": "07714b4d-5074-456e-ae65-7ef95d6c3f5a",
   "metadata": {},
   "outputs": [
    {
     "name": "stdout",
     "output_type": "stream",
     "text": [
      "Numbers: [1, 2, 3, 4, 5]\n",
      "Accumulated Sum: 15\n"
     ]
    }
   ],
   "source": [
    "\"\"\"\n",
    "The reduce() function in Python is a built-in function that is part of \n",
    "the functools module. It is used to successively apply a binary function \n",
    "to the items of an iterable, reducing the iterable to a single \n",
    "accumulated result. The syntax for reduce() is as follows:\n",
    "\n",
    "functools.reduce(function, iterable[, initializer])\n",
    "\n",
    "\"\"\"\n",
    "\n",
    "from functools import reduce\n",
    "def add(x, y):\n",
    "    return x + y\n",
    "\n",
    "numbers = [1, 2, 3, 4, 5]\n",
    "sum_result = reduce(add, numbers)\n",
    "print(\"Numbers:\", numbers)\n",
    "print(\"Accumulated Sum:\", sum_result)\n"
   ]
  },
  {
   "cell_type": "code",
   "execution_count": 28,
   "id": "66affdde-add1-4c54-b1a2-8674ffd5c7dc",
   "metadata": {},
   "outputs": [],
   "source": [
    "#2. Write a Python program that uses the `reduce()` function to find the product of all elements in a list."
   ]
  },
  {
   "cell_type": "code",
   "execution_count": 11,
   "id": "831d4971-7cf3-4517-9cca-69a9b5cbeacc",
   "metadata": {},
   "outputs": [
    {
     "name": "stdout",
     "output_type": "stream",
     "text": [
      "Numbers: [2, 3, 4, 5]\n",
      "Accumulated Product: 120\n"
     ]
    }
   ],
   "source": [
    "from functools import reduce\n",
    "\n",
    "def multiply(x, y):\n",
    "    return x * y\n",
    "\n",
    "numbers = [2, 3, 4, 5]\n",
    "product_result = reduce(multiply, numbers)\n",
    "print(\"Numbers:\", numbers)\n",
    "print(\"Accumulated Product:\", product_result)\n"
   ]
  },
  {
   "cell_type": "code",
   "execution_count": 29,
   "id": "5750ed7a-bd82-48ab-a375-d7cacac36cde",
   "metadata": {},
   "outputs": [],
   "source": [
    "#3. Create a Python program that uses `reduce()` to find the maximum element in a list of numbers."
   ]
  },
  {
   "cell_type": "code",
   "execution_count": 12,
   "id": "b94e6483-a2f6-41bb-bfc5-a4edd729b52d",
   "metadata": {},
   "outputs": [
    {
     "name": "stdout",
     "output_type": "stream",
     "text": [
      "Numbers: [12, 5, 8, 21, 9, 16]\n",
      "Maximum Element: 21\n"
     ]
    }
   ],
   "source": [
    "from functools import reduce\n",
    "\n",
    "def find_max(x, y):\n",
    "    return max(x, y)\n",
    "\n",
    "numbers = [12, 5, 8, 21, 9, 16]\n",
    "max_element = reduce(find_max, numbers)\n",
    "\n",
    "print(\"Numbers:\", numbers)\n",
    "print(\"Maximum Element:\", max_element)\n"
   ]
  },
  {
   "cell_type": "code",
   "execution_count": 30,
   "id": "70af1cd6-7674-48a3-b576-a7e8876218f4",
   "metadata": {},
   "outputs": [],
   "source": [
    "#4. How can you use the `reduce()` function to concatenate a list of strings into a single string?"
   ]
  },
  {
   "cell_type": "code",
   "execution_count": 13,
   "id": "a083c1c2-265c-42f8-b1bd-80d102839824",
   "metadata": {},
   "outputs": [
    {
     "name": "stdout",
     "output_type": "stream",
     "text": [
      "List of Strings: ['Hello', ', ', 'world', '!']\n",
      "Concatenated String: Hello, world!\n"
     ]
    }
   ],
   "source": [
    "from functools import reduce\n",
    "\n",
    "def concatenate_strings(str1, str2):\n",
    "    return str1 + str2\n",
    "\n",
    "strings = [\"Hello\", \", \", \"world\", \"!\"]\n",
    "concatenated_string = reduce(concatenate_strings, strings)\n",
    "print(\"List of Strings:\", strings)\n",
    "print(\"Concatenated String:\", concatenated_string)\n"
   ]
  },
  {
   "cell_type": "code",
   "execution_count": 31,
   "id": "da87b0d1-9f1e-493e-8169-00fd59de8128",
   "metadata": {},
   "outputs": [],
   "source": [
    "#5. Write a Python program that calculates the factorial of a number using the `reduce()` function."
   ]
  },
  {
   "cell_type": "code",
   "execution_count": 15,
   "id": "10311535-0b32-4894-a209-d941643a5f1e",
   "metadata": {},
   "outputs": [
    {
     "name": "stdout",
     "output_type": "stream",
     "text": [
      "The factorial of 5 is: 120\n"
     ]
    }
   ],
   "source": [
    "from functools import reduce\n",
    "\n",
    "def multiply(x, y):\n",
    "    return x * y\n",
    "\n",
    "def factorial(n):\n",
    "    if n < 0:\n",
    "        raise ValueError(\"Factorial is not defined for negative numbers\")\n",
    "    elif n == 0 or n == 1:\n",
    "        return 1\n",
    "    else:\n",
    "        return reduce(multiply, range(1, n + 1))\n",
    "\n",
    "number = 5\n",
    "result = factorial(number)\n",
    "print(f\"The factorial of {number} is: {result}\")\n"
   ]
  },
  {
   "cell_type": "code",
   "execution_count": 32,
   "id": "d1d86515-f569-4557-934e-be47a7ad30a5",
   "metadata": {},
   "outputs": [],
   "source": [
    "#6. Create a Python program that uses `reduce()` to find the GCD \n",
    "# (Greatest Common Divisor) of a list of numbers.\n"
   ]
  },
  {
   "cell_type": "code",
   "execution_count": 16,
   "id": "498cdfb7-98b5-4b94-a117-af52591c34e7",
   "metadata": {},
   "outputs": [
    {
     "name": "stdout",
     "output_type": "stream",
     "text": [
      "List of Numbers: [24, 36, 48, 60]\n",
      "GCD: 12\n"
     ]
    }
   ],
   "source": [
    "from functools import reduce\n",
    "import math\n",
    "\n",
    "def find_gcd(x, y):\n",
    "    return math.gcd(x, y)\n",
    "\n",
    "numbers = [24, 36, 48, 60]\n",
    "gcd_result = reduce(find_gcd, numbers)\n",
    "print(\"List of Numbers:\", numbers)\n",
    "print(\"GCD:\", gcd_result)\n"
   ]
  },
  {
   "cell_type": "code",
   "execution_count": 33,
   "id": "a8732e13-cbab-4e25-8b38-1902b6e5c33c",
   "metadata": {},
   "outputs": [],
   "source": [
    "#7. Write a Python program that uses the `reduce()` function to \n",
    "#find the sum of the digits of a given number."
   ]
  },
  {
   "cell_type": "code",
   "execution_count": 18,
   "id": "8d2ae9fe-59f4-4154-819f-a6d281fd2166",
   "metadata": {},
   "outputs": [
    {
     "name": "stdout",
     "output_type": "stream",
     "text": [
      "The sum of digits in 12345 is: 15\n"
     ]
    }
   ],
   "source": [
    "from functools import reduce\n",
    "\n",
    "def sum_digits(x, y):\n",
    "    return x + y\n",
    "\n",
    "def sum_of_digits(number):\n",
    "    digits = [int(digit) for digit in str(abs(number))]\n",
    "    return reduce(sum_digits, digits, 0)\n",
    "\n",
    "number = 12345\n",
    "result = sum_of_digits(number)\n",
    "print(f\"The sum of digits in {number} is: {result}\")\n"
   ]
  },
  {
   "cell_type": "code",
   "execution_count": 34,
   "id": "caf5ed42-eda5-4011-86cc-d5daa6174fd2",
   "metadata": {},
   "outputs": [],
   "source": [
    "#filter"
   ]
  },
  {
   "cell_type": "code",
   "execution_count": 35,
   "id": "31aff2a0-d0c9-479b-9267-ab2ee80b761a",
   "metadata": {},
   "outputs": [],
   "source": [
    "#1 Explain the purpose of the `filter()` function in Python and provide an example \n",
    "# of how it can be used to filter elements from an iterable."
   ]
  },
  {
   "cell_type": "code",
   "execution_count": 19,
   "id": "2b433bfd-3500-40f6-803d-6f76d09b4f91",
   "metadata": {},
   "outputs": [
    {
     "name": "stdout",
     "output_type": "stream",
     "text": [
      "Original numbers: [1, 2, 3, 4, 5, 6, 7, 8, 9, 10]\n",
      "Filtered odd numbers: [1, 3, 5, 7, 9]\n"
     ]
    }
   ],
   "source": [
    "\"\"\"\n",
    "The filter() function in Python is a built-in function that is used to \n",
    "filter elements from an iterable (e.g list, tuple, or string) based \n",
    "on a specified function or condition. It takes two arguments: \n",
    "the filtering function and the iterable. The syntax is as follows:\n",
    "\n",
    "filter(function, iterable)\n",
    "\n",
    "\"\"\"\n",
    "\n",
    "def is_odd(x):\n",
    "    return x % 2 != 0\n",
    "numbers = [1, 2, 3, 4, 5, 6, 7, 8, 9, 10]\n",
    "filtered_numbers = filter(is_odd, numbers)\n",
    "result_list = list(filtered_numbers)\n",
    "print(\"Original numbers:\", numbers)\n",
    "print(\"Filtered odd numbers:\", result_list)\n"
   ]
  },
  {
   "cell_type": "code",
   "execution_count": 36,
   "id": "0597e680-3fa3-44ab-8851-b9662f52a82e",
   "metadata": {},
   "outputs": [],
   "source": [
    "#2 Write a Python program that uses the `filter()` function to select even numbers from a list of integers."
   ]
  },
  {
   "cell_type": "code",
   "execution_count": 20,
   "id": "524d93e6-8823-427c-9d36-3a12a5e99a20",
   "metadata": {},
   "outputs": [
    {
     "name": "stdout",
     "output_type": "stream",
     "text": [
      "List of Integers: [1, 2, 3, 4, 5, 6, 7, 8, 9, 10]\n",
      "Even Numbers: [2, 4, 6, 8, 10]\n"
     ]
    }
   ],
   "source": [
    "def is_even(x):\n",
    "    return x % 2 == 0\n",
    "\n",
    "numbers = [1, 2, 3, 4, 5, 6, 7, 8, 9, 10]\n",
    "even_numbers = filter(is_even, numbers)\n",
    "result_list = list(even_numbers)\n",
    "print(\"List of Integers:\", numbers)\n",
    "print(\"Even Numbers:\", result_list)\n"
   ]
  },
  {
   "cell_type": "code",
   "execution_count": 38,
   "id": "be65b648-3139-4cd6-9ad3-aeb1b6376c34",
   "metadata": {},
   "outputs": [],
   "source": [
    "#3 Create a Python program that uses the `filter()` function to select names that start with a \n",
    "# specific letter from a list of strings."
   ]
  },
  {
   "cell_type": "code",
   "execution_count": 21,
   "id": "d8133e52-48c7-4b2f-b5e4-a526e447430e",
   "metadata": {},
   "outputs": [
    {
     "name": "stdout",
     "output_type": "stream",
     "text": [
      "List of Names: ['Alice', 'Bob', 'Charlie', 'David', 'Eva', 'Frank', 'Grace']\n",
      "Names starting with 'D': ['David']\n"
     ]
    }
   ],
   "source": [
    "# Custom function to filter names starting with a specific letter\n",
    "def starts_with_letter(letter, name):\n",
    "    return name.startswith(letter)\n",
    "\n",
    "names = [\"Alice\", \"Bob\", \"Charlie\", \"David\", \"Eva\", \"Frank\", \"Grace\"]\n",
    "\n",
    "target_letter = \"D\"\n",
    "filtered_names = filter(lambda x: starts_with_letter(target_letter, x), names)\n",
    "result_list = list(filtered_names)\n",
    "\n",
    "print(\"List of Names:\", names)\n",
    "print(f\"Names starting with '{target_letter}':\", result_list)\n"
   ]
  },
  {
   "cell_type": "code",
   "execution_count": 39,
   "id": "a7156521-0aa7-4496-8b71-8131c1f4c933",
   "metadata": {},
   "outputs": [],
   "source": [
    "#4 Write a Python program that uses the `filter()` \n",
    "#function to select prime numbers from a list of integers."
   ]
  },
  {
   "cell_type": "code",
   "execution_count": 22,
   "id": "74ce8f60-46cb-4056-a98e-b498019a7faa",
   "metadata": {},
   "outputs": [
    {
     "name": "stdout",
     "output_type": "stream",
     "text": [
      "List of Integers: [2, 7, 12, 15, 23, 36, 41, 53]\n",
      "Prime Numbers: [2, 7, 23, 41, 53]\n"
     ]
    }
   ],
   "source": [
    "def is_prime(num):\n",
    "    if num < 2:\n",
    "        return False\n",
    "    for i in range(2, int(num**0.5) + 1):\n",
    "        if num % i == 0:\n",
    "            return False\n",
    "    return True\n",
    "\n",
    "numbers = [2, 7, 12, 15, 23, 36, 41, 53]\n",
    "\n",
    "prime_numbers = filter(is_prime, numbers)\n",
    "\n",
    "result_list = list(prime_numbers)\n",
    "\n",
    "print(\"List of Integers:\", numbers)\n",
    "print(\"Prime Numbers:\", result_list)\n"
   ]
  },
  {
   "cell_type": "code",
   "execution_count": 40,
   "id": "3735c803-69d6-48dd-a4c7-f0f2f9f8f7a4",
   "metadata": {},
   "outputs": [],
   "source": [
    "#5 How can you use the `filter()` function to remove None values from a list in Python?"
   ]
  },
  {
   "cell_type": "code",
   "execution_count": 23,
   "id": "fe96d156-1b4e-4591-ad22-a1fa134f5b11",
   "metadata": {},
   "outputs": [
    {
     "name": "stdout",
     "output_type": "stream",
     "text": [
      "Original List: [1, None, 'apple', None, 42, None, 'banana']\n",
      "Filtered List without None values: [1, 'apple', 42, 'banana']\n"
     ]
    }
   ],
   "source": [
    "mixed_values = [1, None, \"apple\", None, 42, None, \"banana\"]\n",
    "\n",
    "filtered_values = filter(lambda x: x is not None, mixed_values)\n",
    "result_list = list(filtered_values)\n",
    "print(\"Original List:\", mixed_values)\n",
    "print(\"Filtered List without None values:\", result_list)\n"
   ]
  },
  {
   "cell_type": "code",
   "execution_count": 41,
   "id": "40bb9a1d-b43c-4121-9f46-f26af689ea17",
   "metadata": {},
   "outputs": [],
   "source": [
    "#6 Create a Python program that uses `filter()` to select words \n",
    "#longer than a certain length from a list of strings.\n"
   ]
  },
  {
   "cell_type": "code",
   "execution_count": 24,
   "id": "d7ba2468-b21c-436b-b1a9-20a2b44eee59",
   "metadata": {},
   "outputs": [
    {
     "name": "stdout",
     "output_type": "stream",
     "text": [
      "List of Words: ['apple', 'banana', 'kiwi', 'orange', 'grape', 'pineapple']\n",
      "Words longer than 5 characters: ['banana', 'orange', 'pineapple']\n"
     ]
    }
   ],
   "source": [
    "# Custom function to filter words longer than a specified length\n",
    "def is_long_word(word, length):\n",
    "    return len(word) > length\n",
    "\n",
    "words = [\"apple\", \"banana\", \"kiwi\", \"orange\", \"grape\", \"pineapple\"]\n",
    "\n",
    "min_length = 5\n",
    "filtered_words = filter(lambda x: is_long_word(x, min_length), words)\n",
    "result_list = list(filtered_words)\n",
    "print(\"List of Words:\", words)\n",
    "print(f\"Words longer than {min_length} characters:\", result_list)\n"
   ]
  },
  {
   "cell_type": "code",
   "execution_count": 42,
   "id": "84d14efc-28a9-4e07-92bf-fa716589b901",
   "metadata": {},
   "outputs": [],
   "source": [
    "#7 Write a Python program that uses the `filter()` function to select \n",
    "# elements greater than a specified threshold from a list of values.\n"
   ]
  },
  {
   "cell_type": "code",
   "execution_count": 25,
   "id": "56219abe-441b-466d-9626-a84029d48f53",
   "metadata": {},
   "outputs": [
    {
     "name": "stdout",
     "output_type": "stream",
     "text": [
      "List of Values: [15, 30, 10, 25, 40, 5]\n",
      "Values greater than 20: [30, 25, 40]\n"
     ]
    }
   ],
   "source": [
    "# Custom function to filter elements greater than a specified threshold\n",
    "def greater_than_threshold(value, threshold):\n",
    "    return value > threshold\n",
    "\n",
    "values = [15, 30, 10, 25, 40, 5]\n",
    "threshold = 20\n",
    "filtered_values = filter(lambda x: greater_than_threshold(x, threshold), values)\n",
    "result_list = list(filtered_values)\n",
    "\n",
    "print(\"List of Values:\", values)\n",
    "print(f\"Values greater than {threshold}:\", result_list)\n"
   ]
  },
  {
   "cell_type": "code",
   "execution_count": null,
   "id": "d95fbb89-cf25-44c3-822f-d516fada0b89",
   "metadata": {},
   "outputs": [],
   "source": [
    "#Recursion:-"
   ]
  },
  {
   "cell_type": "code",
   "execution_count": null,
   "id": "d038ee82-6a50-4dcd-8229-f325f4d69675",
   "metadata": {},
   "outputs": [],
   "source": [
    "#1 Explain the concept of recursion in Python. How does it differ from iteration?"
   ]
  },
  {
   "cell_type": "code",
   "execution_count": 28,
   "id": "236a59b4-b0ff-46f9-9b41-75428956e425",
   "metadata": {},
   "outputs": [],
   "source": [
    "#recursion \n",
    "#Recursion relies on a termination condition (base case) to stop the recursive calls.\n",
    "#Iteration relies on a loop condition to determine when to exit the loop.\n",
    "\n",
    "def factorial(n):\n",
    "    if n == 0 or n == 1:\n",
    "        return 1\n",
    "    else:\n",
    "        return n * factorial(n - 1)\n"
   ]
  },
  {
   "cell_type": "code",
   "execution_count": 27,
   "id": "bd5287a7-476e-4e2f-9689-546946d6d3e9",
   "metadata": {},
   "outputs": [],
   "source": [
    "#itration\n",
    "\n",
    "def factorial_iterative(n):\n",
    "    result = 1\n",
    "    for i in range(1, n + 1):\n",
    "        result *= i\n",
    "    return result\n"
   ]
  },
  {
   "cell_type": "code",
   "execution_count": 17,
   "id": "41713733-149d-4511-ba81-3c2db25606d1",
   "metadata": {},
   "outputs": [],
   "source": [
    "#2 Write a Python program to calculate the factorial of a number using recursion."
   ]
  },
  {
   "cell_type": "code",
   "execution_count": 29,
   "id": "d70b5bc7-8990-401a-9bf2-10b4fb8c8e37",
   "metadata": {},
   "outputs": [
    {
     "name": "stdout",
     "output_type": "stream",
     "text": [
      "The factorial of 5 is: 120\n"
     ]
    }
   ],
   "source": [
    "def factorial(n):\n",
    "    if n == 0 or n == 1:\n",
    "        return 1\n",
    "    else:\n",
    "        return n * factorial(n - 1)\n",
    "\n",
    "number = 5\n",
    "result = factorial(number)\n",
    "print(f\"The factorial of {number} is: {result}\")\n"
   ]
  },
  {
   "cell_type": "code",
   "execution_count": null,
   "id": "2fe08d77-ed94-46b9-a6d8-3792e478d03f",
   "metadata": {},
   "outputs": [],
   "source": []
  },
  {
   "cell_type": "code",
   "execution_count": 18,
   "id": "6bb7a55d-ae4a-4912-9df5-a9610652a8bb",
   "metadata": {},
   "outputs": [],
   "source": [
    "#3 Create a recursive Python function to find the nth Fibonacci number."
   ]
  },
  {
   "cell_type": "code",
   "execution_count": 30,
   "id": "ffe345d1-d9be-417b-9675-3d6d53c79bd2",
   "metadata": {},
   "outputs": [
    {
     "name": "stdout",
     "output_type": "stream",
     "text": [
      "The 7th Fibonacci number is: 13\n"
     ]
    }
   ],
   "source": [
    "def fibonacci(n):\n",
    "    # Base case: Fibonacci of 0 is 0, and Fibonacci of 1 is 1\n",
    "    if n == 0:\n",
    "        return 0\n",
    "    elif n == 1:\n",
    "        return 1\n",
    "    else:\n",
    "        return fibonacci(n - 1) + fibonacci(n - 2)\n",
    "position = 7\n",
    "result = fibonacci(position)\n",
    "\n",
    "print(f\"The {position}th Fibonacci number is: {result}\")\n"
   ]
  },
  {
   "cell_type": "code",
   "execution_count": null,
   "id": "2313a273-fed3-4dc8-b83e-f3634f71f634",
   "metadata": {},
   "outputs": [],
   "source": []
  },
  {
   "cell_type": "code",
   "execution_count": 19,
   "id": "929ae343-3f9d-4588-ac76-58d827082d99",
   "metadata": {},
   "outputs": [],
   "source": [
    "#4 Write a recursive Python function to calculate the sum of all elements in a list."
   ]
  },
  {
   "cell_type": "code",
   "execution_count": 32,
   "id": "ef057cf1-e562-407e-b53d-1ebf0ac5d190",
   "metadata": {},
   "outputs": [
    {
     "name": "stdout",
     "output_type": "stream",
     "text": [
      "The sum of the elements in the list is: 15\n"
     ]
    }
   ],
   "source": [
    "def recursive_sum(lst):\n",
    "    if not lst:\n",
    "        return 0\n",
    "    else:\n",
    "        return lst[0] + recursive_sum(lst[1:])\n",
    "\n",
    "my_list = [1, 2, 3, 4, 5]\n",
    "result = recursive_sum(my_list)\n",
    "print(f\"The sum of the elements in the list is: {result}\")\n"
   ]
  },
  {
   "cell_type": "code",
   "execution_count": null,
   "id": "db22a98f-ac65-4199-80e0-c99c39f4d512",
   "metadata": {},
   "outputs": [],
   "source": []
  },
  {
   "cell_type": "code",
   "execution_count": 20,
   "id": "bfa33819-30c5-4d44-b745-49c237eda476",
   "metadata": {},
   "outputs": [],
   "source": [
    "#5 How can you prevent a recursive function from running indefinitely, causing a stack overflow error?"
   ]
  },
  {
   "cell_type": "code",
   "execution_count": null,
   "id": "b9428ed3-de9a-4fbd-8c24-e788d12ba91a",
   "metadata": {},
   "outputs": [],
   "source": [
    "\"\"\"\n",
    "\n",
    "Debugging and Print Statements:\n",
    "Limit Recursion Depth:\n",
    "Convert to Iterative Solution:\n",
    "\n",
    "\n",
    "Base Case:\n",
    "Ensure that your recursive function has a base case, which is the \n",
    "condition that stops the recursion. This is the most fundamental way \n",
    "to prevent infinite recursion.\n",
    "\n",
    "\n",
    "\"\"\""
   ]
  },
  {
   "cell_type": "code",
   "execution_count": 31,
   "id": "a412c406-b745-4012-909d-60775dc21a3b",
   "metadata": {},
   "outputs": [],
   "source": [
    "def recursive_function(n):\n",
    "    # Base case\n",
    "    if n <= 0:\n",
    "        return\n",
    "    \n",
    "    # Recursive case\n",
    "    # ... (other code)\n",
    "    \n",
    "    # Recursive call\n",
    "    recursive_function(n - 1)\n"
   ]
  },
  {
   "cell_type": "code",
   "execution_count": 21,
   "id": "57ec9541-9d66-4a09-97b8-4c467a4d3ea1",
   "metadata": {},
   "outputs": [],
   "source": [
    "#6 Create a recursive Python function to find the greatest common divisor \n",
    "#(GCD) of two numbers using the Euclidean algorithm."
   ]
  },
  {
   "cell_type": "code",
   "execution_count": 33,
   "id": "45a45125-3f1d-4c4f-9e35-dea51474043f",
   "metadata": {},
   "outputs": [
    {
     "name": "stdout",
     "output_type": "stream",
     "text": [
      "The GCD of 48 and 18 is: 6\n"
     ]
    }
   ],
   "source": [
    "def gcd(a, b):\n",
    "    if b == 0:\n",
    "        return a\n",
    "    else:\n",
    "        return gcd(b, a % b)\n",
    "\n",
    "num1 = 48\n",
    "num2 = 18\n",
    "result = gcd(num1, num2)\n",
    "print(f\"The GCD of {num1} and {num2} is: {result}\")\n"
   ]
  },
  {
   "cell_type": "code",
   "execution_count": null,
   "id": "22b06c5c-a06c-4585-9ce1-78a27c87933d",
   "metadata": {},
   "outputs": [],
   "source": []
  },
  {
   "cell_type": "code",
   "execution_count": 22,
   "id": "8e36a261-1376-4945-8b6f-c9f74e18895a",
   "metadata": {},
   "outputs": [],
   "source": [
    "#7 Write a recursive Python function to reverse a string."
   ]
  },
  {
   "cell_type": "code",
   "execution_count": 34,
   "id": "517ca4b0-9942-4d71-8ceb-9ace302a0e2b",
   "metadata": {},
   "outputs": [
    {
     "name": "stdout",
     "output_type": "stream",
     "text": [
      "The original string: Hello, World!\n",
      "The reversed string: !dlroW ,olleH\n"
     ]
    }
   ],
   "source": [
    "def reverse_string(input_str):\n",
    "    if len(input_str) <= 1:\n",
    "        return input_str\n",
    "    else:\n",
    "        return reverse_string(input_str[1:]) + input_str[0]\n",
    "\n",
    "original_str = \"Hello, World!\"\n",
    "reversed_str = reverse_string(original_str)\n",
    "print(f\"The original string: {original_str}\")\n",
    "print(f\"The reversed string: {reversed_str}\")\n"
   ]
  },
  {
   "cell_type": "code",
   "execution_count": 23,
   "id": "e72304d7-b0d0-4e6d-ab8d-01cf80dc0e80",
   "metadata": {},
   "outputs": [],
   "source": [
    "#8 Create a recursive Python function to calculate the power of a number (x^n)."
   ]
  },
  {
   "cell_type": "code",
   "execution_count": 35,
   "id": "5e642a3f-6d0d-4507-8521-40560c616494",
   "metadata": {},
   "outputs": [
    {
     "name": "stdout",
     "output_type": "stream",
     "text": [
      "2 raised to the power 3 is: 8\n"
     ]
    }
   ],
   "source": [
    "def power(x, n):\n",
    "    if n == 0:\n",
    "        return 1\n",
    "    else:\n",
    "        return x * power(x, n - 1)\n",
    "\n",
    "base = 2\n",
    "exponent = 3\n",
    "result = power(base, exponent)\n",
    "print(f\"{base} raised to the power {exponent} is: {result}\")\n"
   ]
  },
  {
   "cell_type": "code",
   "execution_count": null,
   "id": "ec5c49d0-e3af-4333-8127-523004fafe6b",
   "metadata": {},
   "outputs": [],
   "source": []
  },
  {
   "cell_type": "code",
   "execution_count": 24,
   "id": "ffd51947-cfef-4600-89b6-f409f949f9c7",
   "metadata": {},
   "outputs": [],
   "source": [
    "#9 Write a recursive Python function to find all permutations of a given string."
   ]
  },
  {
   "cell_type": "code",
   "execution_count": 36,
   "id": "564f433d-689a-4361-b631-2f0b23c92860",
   "metadata": {},
   "outputs": [
    {
     "name": "stdout",
     "output_type": "stream",
     "text": [
      "All permutations of 'abc': ['abc', 'acb', 'bac', 'bca', 'cab', 'cba']\n"
     ]
    }
   ],
   "source": [
    "def permutations(input_str):\n",
    "    if len(input_str) <= 1:\n",
    "        return [input_str]\n",
    "\n",
    "    result = []\n",
    "    for i in range(len(input_str)):\n",
    "        first_char = input_str[i]\n",
    "        rest_of_string = input_str[:i] + input_str[i + 1:]\n",
    "        for perm in permutations(rest_of_string):\n",
    "            result.append(first_char + perm)\n",
    "\n",
    "    return result\n",
    "\n",
    "input_string = \"abc\"\n",
    "result = permutations(input_string)\n",
    "print(f\"All permutations of '{input_string}': {result}\")\n"
   ]
  },
  {
   "cell_type": "code",
   "execution_count": 25,
   "id": "f37e5e76-3c49-4fc9-b386-f78142196d39",
   "metadata": {},
   "outputs": [],
   "source": [
    "#10 Write a recursive Python function to check if a string is a palindrome."
   ]
  },
  {
   "cell_type": "code",
   "execution_count": 37,
   "id": "9c328150-75b3-4443-bb47-c42bd1fc3cee",
   "metadata": {},
   "outputs": [
    {
     "name": "stdout",
     "output_type": "stream",
     "text": [
      "Is 'radar' a palindrome? True\n"
     ]
    }
   ],
   "source": [
    "def is_palindrome(s):\n",
    "    if len(s) <= 1:\n",
    "        return True\n",
    "    elif s[0] == s[-1]:\n",
    "        return is_palindrome(s[1:-1])\n",
    "    else:\n",
    "        return False\n",
    "\n",
    "test_string = \"radar\"\n",
    "result = is_palindrome(test_string)\n",
    "print(f\"Is '{test_string}' a palindrome? {result}\")\n"
   ]
  },
  {
   "cell_type": "code",
   "execution_count": null,
   "id": "8760e89c-f798-40a6-82a0-9cf11bdaa343",
   "metadata": {},
   "outputs": [],
   "source": []
  },
  {
   "cell_type": "code",
   "execution_count": 26,
   "id": "9575d181-242b-4343-b02f-04626a6b423f",
   "metadata": {},
   "outputs": [],
   "source": [
    "#11 Create a recursive Python function to generate all possible combinations of a list of elements."
   ]
  },
  {
   "cell_type": "code",
   "execution_count": 38,
   "id": "916444e9-63e5-4278-b12d-ad9a80c23f0e",
   "metadata": {},
   "outputs": [
    {
     "name": "stdout",
     "output_type": "stream",
     "text": [
      "All combinations of [1, 2, 3]: [[], [3], [2], [2, 3], [1], [1, 3], [1, 2], [1, 2, 3]]\n"
     ]
    }
   ],
   "source": [
    "def generate_combinations(elements):\n",
    "    if not elements:\n",
    "        return [[]]\n",
    "    \n",
    "    first_element = elements[0]\n",
    "    rest_of_elements = elements[1:]\n",
    "    \n",
    "    combinations_without_first = generate_combinations(rest_of_elements)\n",
    "    \n",
    "    combinations_with_first = []\n",
    "    for combination in combinations_without_first:\n",
    "        combinations_with_first.append([first_element] + combination)\n",
    "    \n",
    "    all_combinations = combinations_without_first + combinations_with_first\n",
    "    \n",
    "    return all_combinations\n",
    "\n",
    "# Example usage:\n",
    "my_elements = [1, 2, 3]\n",
    "all_combinations = generate_combinations(my_elements)\n",
    "print(f\"All combinations of {my_elements}: {all_combinations}\")\n"
   ]
  },
  {
   "cell_type": "code",
   "execution_count": null,
   "id": "58164c3c-66b1-464b-825e-c31331d5d788",
   "metadata": {},
   "outputs": [],
   "source": [
    "#Basics of Functions:\n"
   ]
  },
  {
   "cell_type": "code",
   "execution_count": 39,
   "id": "a590f8c7-331c-4590-9875-b6fcfa55ef89",
   "metadata": {},
   "outputs": [],
   "source": [
    "#1 What is a function in Python, and why is it used?"
   ]
  },
  {
   "cell_type": "code",
   "execution_count": 41,
   "id": "909a0c0a-9f22-49e4-b227-e85ae68eabfb",
   "metadata": {},
   "outputs": [
    {
     "name": "stdout",
     "output_type": "stream",
     "text": [
      "Hello, John!\n"
     ]
    }
   ],
   "source": [
    "\"\"\"\n",
    "\n",
    "In Python, a function is a block of reusable code that performs a \n",
    "specific task. Functions are defined using the def keyword, followed by \n",
    "the function name, parameters, and a block of code. They are a \n",
    "fundamental concept in programming and play a crucial role in \n",
    "structuring and organizing code.\n",
    "\n",
    "\"\"\"\n",
    "\n",
    "def greet(name):\n",
    "    \"\"\"This function greets the person passed in as a parameter.\"\"\"\n",
    "    print(f\"Hello, {name}!\")\n",
    "\n",
    "# Calling the function\n",
    "greet(\"John\")\n"
   ]
  },
  {
   "cell_type": "code",
   "execution_count": 42,
   "id": "79394df8-889c-4a6e-9143-9b607b574c84",
   "metadata": {},
   "outputs": [
    {
     "data": {
      "text/plain": [
       "'\\nuse\\n\\n1.Modularity\\n2.reusebility\\n3.testing\\n4.readbility\\n\\n'"
      ]
     },
     "execution_count": 42,
     "metadata": {},
     "output_type": "execute_result"
    }
   ],
   "source": [
    "\"\"\"\n",
    "use\n",
    "\n",
    "1.Modularity\n",
    "2.reusebility\n",
    "3.testing\n",
    "4.readbility\n",
    "\n",
    "\"\"\""
   ]
  },
  {
   "cell_type": "code",
   "execution_count": null,
   "id": "fe80377b-2ce2-452d-98e5-68292a98207d",
   "metadata": {},
   "outputs": [],
   "source": [
    "#2"
   ]
  },
  {
   "cell_type": "code",
   "execution_count": 44,
   "id": "52831a9b-a353-4fce-8d33-107959dc5426",
   "metadata": {},
   "outputs": [
    {
     "name": "stdout",
     "output_type": "stream",
     "text": [
      "Hello, John!\n"
     ]
    }
   ],
   "source": [
    "\"\"\"\n",
    "In Python, you can define a function using the def keyword, followed \n",
    "by the function name, a pair of parentheses containing any parameters \n",
    "the function takes, and a colon. The body of the function is indented \n",
    "below the function definition. Here's a simple example:\n",
    "\n",
    "\"\"\"\n",
    "def greet(name):\n",
    "    \"\"\"This function greets the person passed in as a parameter.\"\"\"\n",
    "    print(f\"Hello, {name}!\")\n",
    "\n",
    "# Calling the function\n",
    "greet(\"John\")\n"
   ]
  },
  {
   "cell_type": "code",
   "execution_count": 45,
   "id": "fa9b4318-c62a-45d6-b53b-a08e3daad8b1",
   "metadata": {},
   "outputs": [],
   "source": [
    "#3Explain the difference between a function definition and a function call.\n"
   ]
  },
  {
   "cell_type": "code",
   "execution_count": 46,
   "id": "d969da56-698c-4699-8a5b-5f76128eb6e4",
   "metadata": {},
   "outputs": [],
   "source": [
    "\"\"\"\n",
    "Purpose: The function definition is the process of creating a function. \n",
    "It defines the name of the function, specifies the parameters it can \n",
    "accept (if any), and outlines the block of code that will be executed \n",
    "when the function is called.\n",
    "Syntax: In many programming languages, including Python, the syntax for a \n",
    "function definition typically starts with the def keyword, followed by \n",
    "the function name, a pair of parentheses that may contain parameters, and \n",
    "a colon. The body of the function, which is indented, contains the actual \n",
    "code to be executed.\n",
    "\n",
    "\"\"\"\n",
    "def add_numbers(a, b):\n",
    "    \"\"\"This function adds two numbers.\"\"\"\n",
    "    result = a + b\n",
    "    return result\n"
   ]
  },
  {
   "cell_type": "code",
   "execution_count": 47,
   "id": "c490d250-e9f6-41e9-bc1f-461b803219fa",
   "metadata": {},
   "outputs": [],
   "source": [
    "\"\"\"\n",
    "Function Call:\n",
    "\n",
    "Purpose: A function call is the act of invoking or executing a function \n",
    "that has been defined. It involves providing the necessary arguments \n",
    "(if any) and triggering the execution of the code within the function.\n",
    "Syntax: To call a function, you use its name followed by parentheses. \n",
    "If the function expects parameters, you pass values or expressions \n",
    "inside the parentheses.\n",
    "\n",
    "\"\"\"\n",
    "result = add_numbers(5, 3)\n"
   ]
  },
  {
   "cell_type": "code",
   "execution_count": 48,
   "id": "23c503f4-9250-48bb-8ae8-1c7b44f120ed",
   "metadata": {},
   "outputs": [],
   "source": [
    "#4"
   ]
  },
  {
   "cell_type": "code",
   "execution_count": 49,
   "id": "2c1c2e8a-5476-4a0d-9b70-0c76e206dd58",
   "metadata": {},
   "outputs": [
    {
     "name": "stdout",
     "output_type": "stream",
     "text": [
      "The sum of 5 and 7 is: 12\n"
     ]
    }
   ],
   "source": [
    "def calculate_sum(a, b):\n",
    "    \"\"\"This function calculates the sum of two numbers.\"\"\"\n",
    "    result = a + b\n",
    "    return result\n",
    "\n",
    "num1 = 5\n",
    "num2 = 7\n",
    "sum_result = calculate_sum(num1, num2)\n",
    "\n",
    "print(f\"The sum of {num1} and {num2} is: {sum_result}\")\n"
   ]
  },
  {
   "cell_type": "code",
   "execution_count": 51,
   "id": "9776e538-efa9-491a-92b1-60db6e55202d",
   "metadata": {},
   "outputs": [],
   "source": [
    "#5\n",
    "\n",
    "\"\"\"\n",
    "A function signature is a part of a function declaration or definition \n",
    "that provides essential information about the function's interface. \n",
    "It typically includes the following elements:\n",
    "\n",
    "syntxt\n",
    "return_type function_name(parameter1_type parameter1_name, parameter2_type parameter2_name, ...)\n",
    "\n",
    "\"\"\"\n",
    "def add_numbers(a: int, b: int) -> int:\n",
    "    \"\"\"This function adds two numbers.\"\"\"\n",
    "    result = a + b\n",
    "    return result\n"
   ]
  },
  {
   "cell_type": "code",
   "execution_count": 52,
   "id": "bc45a321-3e34-468d-b952-6e6963443116",
   "metadata": {},
   "outputs": [],
   "source": [
    "#6Create a Python function that takes two arguments and returns their product.\n"
   ]
  },
  {
   "cell_type": "code",
   "execution_count": 54,
   "id": "c2aedad8-ab46-42ee-81c4-d0af5bb6c081",
   "metadata": {},
   "outputs": [
    {
     "name": "stdout",
     "output_type": "stream",
     "text": [
      "The product of 4 and 6 is: 24\n"
     ]
    }
   ],
   "source": [
    "def calculate_product(a, b):\n",
    "    \"\"\"This function calculates the product of two numbers.\"\"\"\n",
    "    result = a * b\n",
    "    return result\n",
    "\n",
    "num1 = 4\n",
    "num2 = 6\n",
    "product_result = calculate_product(num1, num2)\n",
    "\n",
    "print(f\"The product of {num1} and {num2} is: {product_result}\")\n"
   ]
  },
  {
   "cell_type": "code",
   "execution_count": 53,
   "id": "f50c50ab-9c3d-4570-8ebd-e28a09a190df",
   "metadata": {},
   "outputs": [],
   "source": [
    "#Function Parameters and Arguments:\n"
   ]
  },
  {
   "cell_type": "code",
   "execution_count": 55,
   "id": "82d9dad0-b566-48da-9d96-8f2978e47179",
   "metadata": {},
   "outputs": [],
   "source": [
    "#1"
   ]
  },
  {
   "cell_type": "code",
   "execution_count": 56,
   "id": "a5f31fe2-a8a6-4141-a230-e72e5f0896d5",
   "metadata": {},
   "outputs": [],
   "source": [
    "\"\"\"\n",
    "Formal parameters are the variables listed in the function definition. \n",
    "They serve as placeholders for the values that will be passed \n",
    "into the function when it is called.\n",
    "\n",
    "\"\"\"\n",
    "\n",
    "def add_numbers(x, y):\n",
    "    \"\"\"This function takes two formal parameters, x and y.\"\"\"\n",
    "    result = x + y\n",
    "    return result\n"
   ]
  },
  {
   "cell_type": "code",
   "execution_count": 57,
   "id": "5000245a-66b4-4ac8-be3a-d88fad10fdcb",
   "metadata": {},
   "outputs": [],
   "source": [
    "\"\"\"\n",
    "Actual arguments (also called arguments or parameters) are the values \n",
    "or expressions provided during a function call. These are the actual \n",
    "data that will be used to compute the function result.\n",
    "\n",
    "\"\"\"\n",
    "# Calling the add_numbers function with actual arguments 3 and 5\n",
    "result = add_numbers(3, 5)\n",
    "\n"
   ]
  },
  {
   "cell_type": "code",
   "execution_count": 58,
   "id": "319100ad-0e96-4bbb-83d3-e3765842bd8f",
   "metadata": {},
   "outputs": [],
   "source": [
    "#2Write a Python program that defines a function with default argument values.\n"
   ]
  },
  {
   "cell_type": "code",
   "execution_count": 60,
   "id": "094de9f6-5675-499c-ba67-3634dcaae258",
   "metadata": {},
   "outputs": [
    {
     "name": "stdout",
     "output_type": "stream",
     "text": [
      "Hello, Guest!\n",
      "Hi, John!\n",
      "Hello, Alice!\n",
      "Hola, Guest!\n"
     ]
    }
   ],
   "source": [
    "def greet(name=\"Guest\", greeting=\"Hello\"):\n",
    "    \"\"\"This function greets a person with a specified greeting.\"\"\"\n",
    "    print(f\"{greeting}, {name}!\")\n",
    "\n",
    "greet()\n",
    "\n",
    "greet(\"John\", \"Hi\")\n",
    "\n",
    "greet(name=\"Alice\")\n",
    "\n",
    "greet(greeting=\"Hola\")\n"
   ]
  },
  {
   "cell_type": "code",
   "execution_count": 59,
   "id": "dc732a1f-2db0-466e-bd2d-4cde186bafda",
   "metadata": {},
   "outputs": [],
   "source": [
    "#3How do you use keyword arguments in Python function calls? Provide an example.\n"
   ]
  },
  {
   "cell_type": "code",
   "execution_count": 63,
   "id": "69557a18-d6bb-4a01-9f33-153f8e905b00",
   "metadata": {},
   "outputs": [
    {
     "name": "stdout",
     "output_type": "stream",
     "text": [
      "Hello, Alice.\n",
      "Hi, Bob!\n",
      "Hello, Charlie?\n",
      "Hello, David.\n"
     ]
    }
   ],
   "source": [
    "def greet(name, greeting=\"Hello\", punctuation=\".\"):\n",
    "    \"\"\"This function greets a person with a specified greeting and punctuation.\"\"\"\n",
    "    message = f\"{greeting}, {name}{punctuation}\"\n",
    "    print(message)\n",
    "\n",
    "greet(\"Alice\")\n",
    "greet(name=\"Bob\", greeting=\"Hi\", punctuation=\"!\")\n",
    "greet(\"Charlie\", punctuation=\"?\")\n",
    "greet(name=\"David\")\n"
   ]
  },
  {
   "cell_type": "code",
   "execution_count": 61,
   "id": "09b09c4c-17c6-46e7-a8cf-4f954473b24d",
   "metadata": {},
   "outputs": [],
   "source": [
    "#4Create a Python function that accepts a variable number of arguments and calculates their sum.\n"
   ]
  },
  {
   "cell_type": "code",
   "execution_count": 64,
   "id": "b79427e4-fabe-4813-8886-e15368a57ebd",
   "metadata": {},
   "outputs": [
    {
     "name": "stdout",
     "output_type": "stream",
     "text": [
      "Sum 1: 6\n",
      "Sum 2: 22\n",
      "Sum 3: 150\n"
     ]
    }
   ],
   "source": [
    "def calculate_sum(*args):\n",
    "    \"\"\"This function calculates the sum of a variable number of arguments.\"\"\"\n",
    "    total_sum = sum(args)\n",
    "    return total_sum\n",
    "\n",
    "result1 = calculate_sum(1, 2, 3)\n",
    "print(f\"Sum 1: {result1}\")\n",
    "\n",
    "result2 = calculate_sum(4, 5, 6, 7)\n",
    "print(f\"Sum 2: {result2}\")\n",
    "\n",
    "result3 = calculate_sum(10, 20, 30, 40, 50)\n",
    "print(f\"Sum 3: {result3}\")\n"
   ]
  },
  {
   "cell_type": "code",
   "execution_count": 62,
   "id": "74c33a39-60fd-41b5-a665-dbe1388bb4e0",
   "metadata": {},
   "outputs": [],
   "source": [
    "#5What is the purpose of the `*args` and `**kwargs` syntax in function \n",
    "#parameter lists?\n"
   ]
  },
  {
   "cell_type": "code",
   "execution_count": 65,
   "id": "60d08dd9-94f8-4c0d-9c54-11da873a2e5c",
   "metadata": {},
   "outputs": [
    {
     "name": "stdout",
     "output_type": "stream",
     "text": [
      "1\n",
      "2\n",
      "3\n",
      "four\n"
     ]
    }
   ],
   "source": [
    "\"\"\"\n",
    "Allows a function to accept any number of positional arguments.\n",
    "Collects these arguments into a tuple.\n",
    "\n",
    "\"\"\"\n",
    "\n",
    "def print_args(*args):\n",
    "    for arg in args:\n",
    "        print(arg)\n",
    "\n",
    "print_args(1, 2, 3, \"four\")\n"
   ]
  },
  {
   "cell_type": "code",
   "execution_count": 66,
   "id": "1b8fb4da-ec79-430d-bf70-872bff14250e",
   "metadata": {},
   "outputs": [
    {
     "name": "stdout",
     "output_type": "stream",
     "text": [
      "name: Alice\n",
      "age: 25\n",
      "city: Wonderland\n"
     ]
    }
   ],
   "source": [
    "\"\"\"\n",
    "Allows a function to accept any number of keyword arguments.\n",
    "\n",
    "\"\"\"\n",
    "\n",
    "def print_kwargs(**kwargs):\n",
    "    for key, value in kwargs.items():\n",
    "        print(f\"{key}: {value}\")\n",
    "\n",
    "print_kwargs(name=\"Alice\", age=25, city=\"Wonderland\")\n"
   ]
  },
  {
   "cell_type": "code",
   "execution_count": 67,
   "id": "d48cdc5a-f7c7-455a-9895-985a7efda3c8",
   "metadata": {},
   "outputs": [],
   "source": [
    "#Return Values and Scoping:\n"
   ]
  },
  {
   "cell_type": "code",
   "execution_count": 68,
   "id": "21ed41e6-32f7-4b62-9af6-7c1b9412f36d",
   "metadata": {},
   "outputs": [],
   "source": [
    "#1Describe the role of the `return` statement in Python functions and provide examples.\n"
   ]
  },
  {
   "cell_type": "code",
   "execution_count": 73,
   "id": "36d809d5-e35e-4a8e-b684-f252c430f36e",
   "metadata": {},
   "outputs": [
    {
     "name": "stdout",
     "output_type": "stream",
     "text": [
      "The sum is: 8\n",
      "Hello, Alice!\n",
      "None\n",
      "Mean: 3.0, Variance: 2.0\n"
     ]
    }
   ],
   "source": [
    "\"\"\"\n",
    "Exiting the Function:\n",
    "\n",
    "The return statement is used to terminate the execution of a function, \n",
    "and the control returns to the point where the function was called.\n",
    "\n",
    "Returning a Value:\n",
    "The primary purpose of return is to provide a result or value back to \n",
    "the caller. This value can be of any data type, including numbers, strings,\n",
    "lists, dictionaries, or custom objects.\n",
    "\n",
    "Multiple Return Statements:\n",
    "A function can have multiple return statements, but only one of them is \n",
    "executed. The function exits as soon as a return statement is encountered.\n",
    "\n",
    "Returning None:\n",
    "If a function doesn't have a return statement or if the return statement \n",
    "doesn't include a value, the function returns None.\n",
    "\n",
    "Passing Data Back:\n",
    "The return statement allows functions to pass information or results back \n",
    "to the calling code, making functions a way to encapsulate and reuse \n",
    "functionality.\n",
    "\n",
    "\"\"\"\n",
    "\n",
    "def add_numbers(a, b):\n",
    "    result = a + b\n",
    "    return result\n",
    "\n",
    "sum_result = add_numbers(3, 5)\n",
    "print(f\"The sum is: {sum_result}\")\n",
    "\n",
    "\n",
    "#return none\n",
    "def print_greeting(name):\n",
    "    print(f\"Hello, {name}!\")\n",
    "\n",
    "result = print_greeting(\"Alice\")\n",
    "print(result)  # Output: None\n",
    "\n",
    "#return multiple value\n",
    "def calculate_stats(numbers):\n",
    "    mean = sum(numbers) / len(numbers)\n",
    "    variance = sum((x - mean) ** 2 for x in numbers) / len(numbers)\n",
    "    return mean, variance\n",
    "\n",
    "data = [1, 2, 3, 4, 5]\n",
    "mean, variance = calculate_stats(data)\n",
    "print(f\"Mean: {mean}, Variance: {variance}\")\n"
   ]
  },
  {
   "cell_type": "code",
   "execution_count": null,
   "id": "b7b52d0d-16d9-44fa-a64a-27039f17d3e7",
   "metadata": {},
   "outputs": [],
   "source": []
  },
  {
   "cell_type": "code",
   "execution_count": 69,
   "id": "b1e2814b-d159-4257-b9f8-2f7287c437a7",
   "metadata": {},
   "outputs": [],
   "source": [
    "#2"
   ]
  },
  {
   "cell_type": "code",
   "execution_count": 76,
   "id": "acf909e1-5fed-4ecd-b88c-fa1b1458df7d",
   "metadata": {},
   "outputs": [
    {
     "name": "stdout",
     "output_type": "stream",
     "text": [
      "I am local\n"
     ]
    }
   ],
   "source": [
    "#Local variables are defined within a function or a block of code.\n",
    "def example_function():\n",
    "    local_variable = \"I am local\"\n",
    "    print(local_variable)\n",
    "\n",
    "example_function()\n",
    "\n",
    "\n",
    "#This would result in an error because local_variable is not accessible\n",
    "#outside the function \n",
    "\n",
    "# print(local_variable)\n"
   ]
  },
  {
   "cell_type": "code",
   "execution_count": 77,
   "id": "79a6acc3-8359-4699-8dd4-0c4add07c010",
   "metadata": {},
   "outputs": [
    {
     "name": "stdout",
     "output_type": "stream",
     "text": [
      "I am global\n",
      "I am global\n"
     ]
    }
   ],
   "source": [
    "#Global variables are defined outside of any function or block.\n",
    "global_variable = \"I am global\"\n",
    "\n",
    "def example_function():\n",
    "    print(global_variable)\n",
    "\n",
    "example_function()\n",
    "print(global_variable)\n"
   ]
  },
  {
   "cell_type": "code",
   "execution_count": 70,
   "id": "8aea7d1d-be26-4c52-90dc-223afd943931",
   "metadata": {},
   "outputs": [],
   "source": [
    "#3Write a Python program that demonstrates the use of global variables within functions.\n"
   ]
  },
  {
   "cell_type": "code",
   "execution_count": 78,
   "id": "4d7bd495-ce19-4186-9dfc-8cc55a90ac6f",
   "metadata": {},
   "outputs": [
    {
     "name": "stdout",
     "output_type": "stream",
     "text": [
      "Inside the function: I am global\n",
      "Before function calls: Modified global value\n",
      "After modification: Modified global value\n"
     ]
    }
   ],
   "source": [
    "# Global variable\n",
    "global_variable = \"I am global\"\n",
    "\n",
    "def print_global():\n",
    "    print(\"Inside the function:\", global_variable)\n",
    "\n",
    "def modify_global():\n",
    "    global global_variable\n",
    "    global_variable = \"Modified global value\"\n",
    "\n",
    "    print(\"Before function calls:\", global_variable)\n",
    "print_global()\n",
    "modify_global()\n",
    "\n",
    "# After modification\n",
    "print(\"After modification:\", global_variable)\n"
   ]
  },
  {
   "cell_type": "code",
   "execution_count": 71,
   "id": "6be13372-28a1-4930-9376-ee377e6132b9",
   "metadata": {},
   "outputs": [],
   "source": [
    "#4Create a Python function that calculates the factorial of a number and returns it.\n"
   ]
  },
  {
   "cell_type": "code",
   "execution_count": 79,
   "id": "8fbb12af-146a-4655-ac0a-841df5bd61e6",
   "metadata": {},
   "outputs": [
    {
     "name": "stdout",
     "output_type": "stream",
     "text": [
      "The factorial of 5 is: 120\n"
     ]
    }
   ],
   "source": [
    "def factorial(n):\n",
    "    \"\"\"Calculate the factorial of a non-negative integer.\"\"\"\n",
    "    if n == 0 or n == 1:\n",
    "        return 1\n",
    "    else:\n",
    "        return n * factorial(n - 1)\n",
    "\n",
    "# Example usage:\n",
    "number = 5\n",
    "result = factorial(number)\n",
    "print(f\"The factorial of {number} is: {result}\")\n"
   ]
  },
  {
   "cell_type": "code",
   "execution_count": 72,
   "id": "fa727e90-ff2c-47a1-bebb-0f6c856422c7",
   "metadata": {},
   "outputs": [],
   "source": [
    "#5How can you access variables defined outside a function from within the function?\n"
   ]
  },
  {
   "cell_type": "code",
   "execution_count": null,
   "id": "ba44b2f5-c664-4bc4-b87a-1f826a5bfd0d",
   "metadata": {},
   "outputs": [],
   "source": []
  },
  {
   "cell_type": "code",
   "execution_count": null,
   "id": "ca030e07-aa31-469d-a9c5-ab342c68ac8d",
   "metadata": {},
   "outputs": [],
   "source": [
    "#Lambda Functions and Higher-Order Functions:\n"
   ]
  },
  {
   "cell_type": "code",
   "execution_count": 80,
   "id": "714105de-8d60-44bd-96bf-1727095d65b1",
   "metadata": {},
   "outputs": [],
   "source": [
    "#1What are lambda functions in Python, and when are they typically used?\n"
   ]
  },
  {
   "cell_type": "code",
   "execution_count": 84,
   "id": "9550b11a-3287-4430-9d57-fac15062d351",
   "metadata": {},
   "outputs": [
    {
     "name": "stdout",
     "output_type": "stream",
     "text": [
      "[2, 4, 6, 8]\n"
     ]
    }
   ],
   "source": [
    "\"\"\"\n",
    "In Python, a lambda function is a concise way to create small, \n",
    "anonymous functions. These functions are also known as \"lambda \n",
    "expressions\" or \"lambda forms.\" Lambda functions are defined using the \n",
    "lambda keyword and are often used for short-term operations where a full \n",
    "function definition is unnecessary.\n",
    "\n",
    "lambda arguments: expression\n",
    "\n",
    "\n",
    "use\n",
    "1. function programming\n",
    "2.Short-Term Operations:\n",
    "3.Filter, Map, and Reduce:\n",
    "\n",
    "\"\"\"\n",
    "\n",
    "numbers = [1, 2, 3, 4, 5, 6, 7, 8, 9]\n",
    "even_numbers = list(filter(lambda x: x % 2 == 0, numbers))\n",
    "print(even_numbers)  # Output: [2, 4, 6, 8]\n"
   ]
  },
  {
   "cell_type": "code",
   "execution_count": 81,
   "id": "736abb6d-41af-448d-8aaf-874ebad91f6f",
   "metadata": {},
   "outputs": [],
   "source": [
    "#2"
   ]
  },
  {
   "cell_type": "code",
   "execution_count": 85,
   "id": "a668302a-c278-4cc2-8dba-1f2e792aa428",
   "metadata": {},
   "outputs": [
    {
     "name": "stdout",
     "output_type": "stream",
     "text": [
      "Original data: [(1, 5), (3, 2), (2, 8), (4, 1), (5, 3)]\n",
      "Sorted data based on the second element: [(4, 1), (3, 2), (5, 3), (1, 5), (2, 8)]\n"
     ]
    }
   ],
   "source": [
    "# List of tuples\n",
    "data = [(1, 5), (3, 2), (2, 8), (4, 1), (5, 3)]\n",
    "\n",
    "sorted_data = sorted(data, key=lambda x: x[1])\n",
    "\n",
    "print(\"Original data:\", data)\n",
    "print(\"Sorted data based on the second element:\", sorted_data)\n"
   ]
  },
  {
   "cell_type": "code",
   "execution_count": null,
   "id": "5879cea7-ad1d-447c-923d-d4b0767b7e05",
   "metadata": {},
   "outputs": [],
   "source": []
  },
  {
   "cell_type": "code",
   "execution_count": 82,
   "id": "24a929a2-b072-4132-b215-ce4802951d0f",
   "metadata": {},
   "outputs": [],
   "source": [
    "#3Explain the concept of higher-order functions in Python, and provide an example.\n"
   ]
  },
  {
   "cell_type": "code",
   "execution_count": 86,
   "id": "77a3c997-1fc3-4cda-a6d6-d141aafca146",
   "metadata": {},
   "outputs": [
    {
     "name": "stdout",
     "output_type": "stream",
     "text": [
      "Result of addition: 8\n",
      "Result of multiplication: 15\n"
     ]
    }
   ],
   "source": [
    "\"\"\"\n",
    "In Python, a higher-order function is a function that can take one or more\n",
    "functions as arguments and/or can return a function as its result. \n",
    "Essentially, a higher-order function treats functions as first-class \n",
    "citizens, allowing them to be passed around and manipulated like any \n",
    "other object.\n",
    "\n",
    "Here are key aspects of higher-order functions:\n",
    "\n",
    "Functions as Arguments:\n",
    "Higher-order functions can take other functions as arguments.\n",
    "\n",
    "Functions as Return Values:\n",
    "Higher-order functions can return functions as their results.\n",
    "\n",
    "Functions Stored in Data Structures:\n",
    "Functions can be stored in data structures (e.g., lists, dictionaries) and\n",
    "passed around as elements.\n",
    "\n",
    "Lambda Functions:\n",
    "Higher-order functions often make use of lambda functions for concise \n",
    "function definitions.\n",
    "\n",
    "\"\"\"\n",
    "def apply_operation(x, y, operation):\n",
    "    \"\"\"Apply the specified operation to the given arguments.\"\"\"\n",
    "    return operation(x, y)\n",
    "\n",
    "def add(x, y):\n",
    "    return x + y\n",
    "\n",
    "def multiply(x, y):\n",
    "    return x * y\n",
    "\n",
    "result1 = apply_operation(3, 5, add)\n",
    "print(\"Result of addition:\", result1)\n",
    "\n",
    "result2 = apply_operation(3, 5, multiply)\n",
    "print(\"Result of multiplication:\", result2)\n"
   ]
  },
  {
   "cell_type": "code",
   "execution_count": null,
   "id": "10d57f6e-7cd3-4e42-b7fb-c8ae59e540c5",
   "metadata": {},
   "outputs": [],
   "source": []
  },
  {
   "cell_type": "code",
   "execution_count": 83,
   "id": "a06ea67c-9edc-4c85-8ce1-10c7f0dc6ad7",
   "metadata": {},
   "outputs": [],
   "source": [
    "#4Create a Python function that takes a list of numbers and a function as \n",
    "#arguments, applying the function to each element in the list.\n"
   ]
  },
  {
   "cell_type": "code",
   "execution_count": 87,
   "id": "bcf87106-b559-408f-ba5e-97c97c3fbb76",
   "metadata": {},
   "outputs": [
    {
     "name": "stdout",
     "output_type": "stream",
     "text": [
      "Squared elements: [1, 4, 9, 16, 25]\n",
      "Doubled elements: [2, 4, 6, 8, 10]\n"
     ]
    }
   ],
   "source": [
    "def apply_function_to_list(numbers, custom_function):\n",
    "    \"\"\"Apply the specified function to each element in the list.\"\"\"\n",
    "    result = []\n",
    "    for num in numbers:\n",
    "        result.append(custom_function(num))\n",
    "    return result\n",
    "\n",
    "def square(x):\n",
    "    return x**2\n",
    "\n",
    "def double(x):\n",
    "    return x * 2\n",
    "numbers_list = [1, 2, 3, 4, 5]\n",
    "result_square = apply_function_to_list(numbers_list, square)\n",
    "print(\"Squared elements:\", result_square)\n",
    "result_double = apply_function_to_list(numbers_list, double)\n",
    "print(\"Doubled elements:\", result_double)\n"
   ]
  },
  {
   "cell_type": "code",
   "execution_count": null,
   "id": "e7738e85-cd78-42dd-8250-524fb4fd4137",
   "metadata": {},
   "outputs": [],
   "source": [
    "#Built-in Functions:\n"
   ]
  },
  {
   "cell_type": "code",
   "execution_count": 88,
   "id": "8dfe5b45-fa42-4dad-b01f-1762764599c7",
   "metadata": {},
   "outputs": [],
   "source": [
    "#1Describe the role of built-in functions like `len()`, `max()`, and `min()` in Python.\n"
   ]
  },
  {
   "cell_type": "code",
   "execution_count": null,
   "id": "d5637e2a-4618-4c53-b489-1844c7aa0d3e",
   "metadata": {},
   "outputs": [],
   "source": [
    "\"\"\"\n",
    "len() = Calculates the length (number of elements) of an object, such as a \n",
    "string, list, tuple, or other iterable.\n",
    "\n",
    "max() = Returns the largest item from a collection or the largest of two \n",
    "or more arguments.\n",
    "\n",
    "min() = Returns the smallest item from a collection or the smallest of \n",
    "two or more arguments.\n",
    "\n",
    "\"\"\""
   ]
  },
  {
   "cell_type": "code",
   "execution_count": 89,
   "id": "b439e59d-d5e1-4b14-a627-dc5e30f74590",
   "metadata": {},
   "outputs": [],
   "source": [
    "#2Write a Python program that uses the `map()` function to apply a function to each element of a list.\n"
   ]
  },
  {
   "cell_type": "code",
   "execution_count": 94,
   "id": "364fd0a0-e58d-479b-a527-dd9173501db5",
   "metadata": {},
   "outputs": [
    {
     "name": "stdout",
     "output_type": "stream",
     "text": [
      "Original numbers: [1, 2, 3, 4, 5]\n",
      "Squared numbers: [1, 4, 9, 16, 25]\n"
     ]
    }
   ],
   "source": [
    "# Example function to be applied\n",
    "def square(x):\n",
    "    return x**2\n",
    "\n",
    "numbers = [1, 2, 3, 4, 5]\n",
    "squared_numbers = map(square, numbers)\n",
    "squared_numbers_list = list(squared_numbers)\n",
    "print(\"Original numbers:\", numbers)\n",
    "print(\"Squared numbers:\", squared_numbers_list)\n"
   ]
  },
  {
   "cell_type": "code",
   "execution_count": 90,
   "id": "e72c0902-c811-4a8b-986f-84e10f775776",
   "metadata": {},
   "outputs": [],
   "source": [
    "#3How does the `filter()` function work in Python, and when would you use it?\n"
   ]
  },
  {
   "cell_type": "code",
   "execution_count": null,
   "id": "eba9d8ef-958a-4c5b-9ea3-eaee8d5383c3",
   "metadata": {},
   "outputs": [],
   "source": [
    "# Example function to filter even numbers\n",
    "def is_even(num):\n",
    "    return num % 2 == 0\n",
    "\n",
    "# List of numbers\n",
    "numbers = [1, 2, 3, 4, 5, 6, 7, 8, 9, 10]\n",
    "even_numbers = filter(is_even, numbers)\n",
    "even_numbers_list = list(even_numbers)\n",
    "\n",
    "print(\"Original numbers:\", numbers)\n",
    "print(\"Even numbers:\", even_numbers_list)\n",
    "\n",
    "\"\"\"\n",
    "use\n",
    "\n",
    "Use the filter() function when you want to selectively include elements \n",
    "from an iterable based on a specific condition. This is particularly \n",
    "useful when you need to create a new iterable that contains only elements \n",
    "meeting certain criteria, reducing the need for explicit loops and making \n",
    "the code more concise.\n",
    "\n",
    "\n",
    "\"\"\""
   ]
  },
  {
   "cell_type": "code",
   "execution_count": 91,
   "id": "5ef997d2-ea51-4e25-8adc-89967c0bce0f",
   "metadata": {},
   "outputs": [],
   "source": [
    "#4Create a Python program that uses the `reduce()` function to find \n",
    "#the product of all elements in a list.\n"
   ]
  },
  {
   "cell_type": "code",
   "execution_count": 95,
   "id": "b4e16974-279a-4bd9-8452-6d74845ffc39",
   "metadata": {},
   "outputs": [
    {
     "name": "stdout",
     "output_type": "stream",
     "text": [
      "Original numbers: [2, 3, 4, 5]\n",
      "Product of numbers: 120\n"
     ]
    }
   ],
   "source": [
    "from functools import reduce\n",
    "\n",
    "def multiply(x, y):\n",
    "    return x * y\n",
    "\n",
    "numbers = [2, 3, 4, 5]\n",
    "product = reduce(multiply, numbers)\n",
    "print(\"Original numbers:\", numbers)\n",
    "print(\"Product of numbers:\", product)\n"
   ]
  },
  {
   "cell_type": "code",
   "execution_count": null,
   "id": "22541d8b-260a-449b-a451-c2d55c64e05c",
   "metadata": {},
   "outputs": [],
   "source": [
    "#Function Documentation and Best Practices:\n"
   ]
  },
  {
   "cell_type": "code",
   "execution_count": 92,
   "id": "99a35b6b-4373-403d-9403-89bea61cdc35",
   "metadata": {},
   "outputs": [],
   "source": [
    "#1Explain the purpose of docstrings in Python functions and how to write them.\n",
    "\"\"\"\n",
    "Docstrings are written as triple-quoted strings (either single or double \n",
    "quotes) immediately following the definition of a function, method, \n",
    "class, or module. There are various conventions for writing docstrings, \n",
    "but the most common one is the \"Google Style Docstring\" or the \"Numpy \n",
    "Style Docstring.\"\n",
    "\n",
    "\n",
    "\"\"\"\n",
    "\n",
    "def add_numbers(a, b):\n",
    "    \"\"\"\n",
    "    Adds two numbers.\n",
    "\n",
    "    Args:\n",
    "        a (int): The first number.\n",
    "        b (int): The second number.\n",
    "\n",
    "    Returns:\n",
    "        int: The sum of the two numbers.\n",
    "    \"\"\"\n",
    "    return a + b\n"
   ]
  },
  {
   "cell_type": "code",
   "execution_count": 96,
   "id": "d61d07bc-3f5e-4a96-8bbd-c302008ba89e",
   "metadata": {},
   "outputs": [
    {
     "name": "stdout",
     "output_type": "stream",
     "text": [
      "Help on function add_numbers in module __main__:\n",
      "\n",
      "add_numbers(a, b)\n",
      "\n",
      "None\n"
     ]
    }
   ],
   "source": [
    "#Accessing Docstrings:\n",
    "help(add_numbers)\n",
    "# or\n",
    "print(add_numbers.__doc__)\n"
   ]
  },
  {
   "cell_type": "code",
   "execution_count": 93,
   "id": "4952a15c-38a8-46bc-b40b-f92d955285e4",
   "metadata": {},
   "outputs": [],
   "source": [
    "#2Describe some best practices for naming functions and variables in Python, including naming conventions and guidelines.\n"
   ]
  },
  {
   "cell_type": "code",
   "execution_count": null,
   "id": "dbd53244-4eb7-4c0f-be6c-5a8c5182a188",
   "metadata": {},
   "outputs": [],
   "source": [
    "\"\"\"\n",
    "Use Descriptive Names:\n",
    "\n",
    "Choose variable names that clearly convey the purpose or content of the \n",
    "variable. Avoid single-letter or ambiguous names.\n",
    "\n",
    "Follow PEP 8 Guidelines:\n",
    "Adhere to the naming conventions outlined in PEP 8, the official Python \n",
    "style guide.\n",
    "Use lowercase letters with underscores for variable names (snake_case).\n",
    "\n",
    "Avoid Single Underscores as Names:\n",
    "Avoid using a single underscore (_) as a variable name, as it's commonly used as a placeholder or for special meanings.\n",
    "\n",
    "Be Consistent:\n",
    "Maintain consistency in your naming conventions throughout your codebase.\n",
    "\"\"\"\n",
    "\n",
    "# Good\n",
    "user_age = 25\n",
    "total_count = 100\n",
    "\n",
    "# Avoid\n",
    "u_age = 25  # Unreadable\n",
    "totalCount = 100  # Inconsistent\n"
   ]
  },
  {
   "cell_type": "code",
   "execution_count": 97,
   "id": "1322a117-a37f-48ec-b043-124ff9e775b9",
   "metadata": {},
   "outputs": [],
   "source": [
    "#function name\n",
    "# Good\n",
    "def calculate_sum(numbers):\n",
    "    return sum(numbers)\n",
    "\n",
    "# Avoid\n",
    "def CalculateSum(numbers):  # CamelCase\n",
    "    return sum(numbers)\n"
   ]
  },
  {
   "cell_type": "code",
   "execution_count": null,
   "id": "9256ce53-0a3b-42d1-a727-efe8543f6449",
   "metadata": {},
   "outputs": [],
   "source": []
  }
 ],
 "metadata": {
  "kernelspec": {
   "display_name": "Python 3 (ipykernel)",
   "language": "python",
   "name": "python3"
  },
  "language_info": {
   "codemirror_mode": {
    "name": "ipython",
    "version": 3
   },
   "file_extension": ".py",
   "mimetype": "text/x-python",
   "name": "python",
   "nbconvert_exporter": "python",
   "pygments_lexer": "ipython3",
   "version": "3.10.8"
  }
 },
 "nbformat": 4,
 "nbformat_minor": 5
}
