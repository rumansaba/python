{
 "cells": [
  {
   "cell_type": "code",
   "execution_count": 6,
   "id": "18b12500-209e-48b2-af84-57bf2ce1bf27",
   "metadata": {},
   "outputs": [
    {
     "name": "stdout",
     "output_type": "stream",
     "text": [
      "Element appearing most frequently: 5\n"
     ]
    }
   ],
   "source": [
    "#1\n",
    "\n",
    "def find_most_frequent_element(arr):\n",
    "    count = {}\n",
    "    max_element = None\n",
    "    max_count = 0\n",
    "    \n",
    "    for num in arr:\n",
    "        if num in count:\n",
    "            count[num] += 1\n",
    "        else:\n",
    "            count[num] = 1\n",
    "        \n",
    "        if count[num] > max_count:\n",
    "            max_count = count[num]\n",
    "            max_element = num\n",
    "    \n",
    "    return max_element\n",
    "\n",
    "#\n",
    "arr = [1, 2, 3, 2, 4, 1, 5, 5, 5]\n",
    "result = find_most_frequent_element(arr)\n",
    "print(\"Element appearing most frequently:\", result)\n"
   ]
  },
  {
   "cell_type": "code",
   "execution_count": 7,
   "id": "8e8916bd-2c8f-42fd-9e5c-9ad051f895ed",
   "metadata": {},
   "outputs": [
    {
     "name": "stdout",
     "output_type": "stream",
     "text": [
      "Missing element: 5\n"
     ]
    }
   ],
   "source": [
    "#Problem 2 : We are given a list of n-1 integers and these integers are in \n",
    "#the range of 1 to n . There are no duplicates in the list. One of the \n",
    "#integers is missing in the list. Give an algorithm to find that element Ex:\n",
    "#[1,2,4,6,3,7,8] 5 is the missing num.\n",
    "\n",
    "def find_missing_element(arr, n):\n",
    "    expected_sum = n * (n + 1) // 2\n",
    "    actual_sum = sum(arr)\n",
    "    \n",
    "    return expected_sum - actual_sum\n",
    "\n",
    "arr = [1, 2, 4, 6, 3, 7, 8]\n",
    "n = 8  # size of the original array\n",
    "missing_element = find_missing_element(arr, n)\n",
    "print(\"Missing element:\", missing_element)\n"
   ]
  },
  {
   "cell_type": "code",
   "execution_count": 8,
   "id": "83e1a0b8-f378-4f9c-a241-8f31e5934f7e",
   "metadata": {},
   "outputs": [
    {
     "name": "stdout",
     "output_type": "stream",
     "text": [
      "Element occurring odd number of times: 3\n"
     ]
    }
   ],
   "source": [
    "#3Problem 3 : Given an array of n positive numbers. All numbers occurs even\n",
    "#number of times except 1 which occurs odd number of times. Find that \n",
    "#number in O(n) time and O(1) space. Ex: [1,2,3,2,3,1,3]. 3 is repeats odd\n",
    "#times.\n",
    "\n",
    "def find_odd_occuring_element(arr):\n",
    "    result = 0\n",
    "    for num in arr:\n",
    "        result ^= num  # XOR operation to find the odd-occurring element\n",
    "    return result\n",
    "arr = [1, 2, 3, 2, 3, 1, 3]\n",
    "odd_occuring_element = find_odd_occuring_element(arr)\n",
    "print(\"Element occurring odd number of times:\", odd_occuring_element)\n"
   ]
  },
  {
   "cell_type": "code",
   "execution_count": 9,
   "id": "510c8131-fc67-47e1-9115-de357c5abade",
   "metadata": {},
   "outputs": [
    {
     "name": "stdout",
     "output_type": "stream",
     "text": [
      "Elements with sum 9 are: [2, 7]\n"
     ]
    }
   ],
   "source": [
    "#4 Problem 4 : Given an array of n elements. Find two elements in the array\n",
    "#such that their sum is equal to given element K.\n",
    "\n",
    "def find_elements_with_sum(arr, k):\n",
    "    seen = set()\n",
    "    for num in arr:\n",
    "        complement = k - num\n",
    "        if complement in seen:\n",
    "            return [complement, num]\n",
    "        seen.add(num)\n",
    "    return None\n",
    "arr = [2, 7, 11, 15]\n",
    "k = 9\n",
    "result = find_elements_with_sum(arr, k)\n",
    "print(\"Elements with sum\", k, \"are:\", result)\n"
   ]
  },
  {
   "cell_type": "code",
   "execution_count": 10,
   "id": "5114932f-fdd6-443d-b596-792d84623af9",
   "metadata": {},
   "outputs": [
    {
     "name": "stdout",
     "output_type": "stream",
     "text": [
      "Two numbers with sum closest to 0: (-80, 85)\n"
     ]
    }
   ],
   "source": [
    "#Problem 5 : Given an array of both positive and negative numbers, find two\n",
    "#numbers such that their sum is closest to 0. Ex: [ 1 ,60 ,-10, 70, -80,85].\n",
    "#Ans : -80,85.\n",
    "\n",
    "\n",
    "def closest_to_zero(arr):\n",
    "    arr.sort()\n",
    "    left, right = 0, len(arr) - 1\n",
    "    closest_sum = float('inf')\n",
    "    result = None\n",
    "    \n",
    "    while left < right:\n",
    "        current_sum = arr[left] + arr[right]\n",
    "        if abs(current_sum) < abs(closest_sum):\n",
    "            closest_sum = current_sum\n",
    "            result = (arr[left], arr[right])\n",
    "        \n",
    "        if current_sum < 0:\n",
    "            left += 1\n",
    "        else:\n",
    "            right -= 1\n",
    "    \n",
    "    return result\n",
    "arr = [1, 60, -10, 70, -80, 85]\n",
    "result = closest_to_zero(arr)\n",
    "print(\"Two numbers with sum closest to 0:\", result)\n"
   ]
  },
  {
   "cell_type": "code",
   "execution_count": 11,
   "id": "7feed8e8-f42c-4394-adce-6294c915459c",
   "metadata": {},
   "outputs": [
    {
     "name": "stdout",
     "output_type": "stream",
     "text": [
      "Three elements with sum 16 are: [2, 5, 9]\n"
     ]
    }
   ],
   "source": [
    "#Problem 6 : Given an array of n elements . Find three elements such that \n",
    "#their sum is equal to the given number.\n",
    "\n",
    "def find_three_elements_with_sum(arr, target):\n",
    "    arr.sort()\n",
    "    n = len(arr)\n",
    "    \n",
    "    for i in range(n - 2):\n",
    "        left, right = i + 1, n - 1\n",
    "        while left < right:\n",
    "            current_sum = arr[i] + arr[left] + arr[right]\n",
    "            if current_sum == target:\n",
    "                return [arr[i], arr[left], arr[right]]\n",
    "            elif current_sum < target:\n",
    "                left += 1\n",
    "            else:\n",
    "                right -= 1\n",
    "    \n",
    "    return None\n",
    "arr = [1, 4, 2, 8, 3, 5, 9]\n",
    "target = 16\n",
    "result = find_three_elements_with_sum(arr, target)\n",
    "print(\"Three elements with sum\", target, \"are:\", result)\n"
   ]
  },
  {
   "cell_type": "code",
   "execution_count": null,
   "id": "3217f895-b2dd-4863-8a8d-d98fcd28fa29",
   "metadata": {},
   "outputs": [],
   "source": [
    "#Problem 7 : Given an array of n elements . Find three elements i, j, k in\n",
    "#the array such that i * i + j * j = k*k.\n",
    "\n",
    "def find_pythagorean_triplet(arr):\n",
    "    arr.sort()\n",
    "    n = len(arr)\n",
    "    \n",
    "    for k in range(n - 1, 1, -1):\n",
    "        i, j = 0, k - 1\n",
    "        while i < j:\n",
    "            current_sum = arr[i] * arr[i] + arr[j] * arr[j]\n",
    "            if current_sum == arr[k] * arr[k]:\n",
    "                return (arr[i], arr[j], arr[k])\n",
    "            elif current_sum < arr[k] * arr[k]:\n",
    "                i += 1\n",
    "            else:\n",
    "                j -= 1\n",
    "    \n",
    "    return None\n",
    "arr = [3, 1, 4, 6, 5]\n",
    "result = find_pythagorean_triplet(arr)\n",
    "print(\"Pythagorean triplet:\", result)\n",
    "\n",
    "\n"
   ]
  },
  {
   "cell_type": "code",
   "execution_count": 12,
   "id": "9c2ec980-4a35-4a2d-857d-1ef503a97748",
   "metadata": {},
   "outputs": [
    {
     "ename": "SyntaxError",
     "evalue": "invalid syntax (596081206.py, line 2)",
     "output_type": "error",
     "traceback": [
      "\u001b[0;36m  Cell \u001b[0;32mIn[12], line 2\u001b[0;36m\u001b[0m\n\u001b[0;31m    element as argument and identifies a majority (if it exists).\u001b[0m\n\u001b[0m            ^\u001b[0m\n\u001b[0;31mSyntaxError\u001b[0m\u001b[0;31m:\u001b[0m invalid syntax\n"
     ]
    }
   ],
   "source": [
    "#Problem 8 : An element is a majority if it appears more than n/2 times.\n",
    "#Give an algorithm takes an array of n element as argument and identifies \n",
    "#a majority (if it exists).\n",
    "def find_majority_element(arr):\n",
    "    candidate, count = None, 0\n",
    "    \n",
    "    for num in arr:\n",
    "        if count == 0:\n",
    "            candidate = num\n",
    "        count += 1 if num == candidate else -1\n",
    "    \n",
    "    # Check if the candidate is a majority element\n",
    "    if arr.count(candidate) > len(arr) // 2:\n",
    "        return candidate\n",
    "    else:\n",
    "        return None\n",
    "arr = [2, 2, 3, 4, 2, 2, 5]\n",
    "result = find_majority_element(arr)\n",
    "print(\"Majority element:\", result)\n"
   ]
  },
  {
   "cell_type": "code",
   "execution_count": 13,
   "id": "88b0ec47-ba9b-4acd-9278-dcbf69789fac",
   "metadata": {},
   "outputs": [],
   "source": [
    "#Problem 9 : Given n × n matrix, and in each row all 1’s are followed by 0’s.\n",
    "#Find the row with the maximum number of 0’s.\n",
    "def find_row_with_max_zeros(matrix):\n",
    "    max_zeros_row = 0\n",
    "    max_zeros_count = matrix[0].count(0)\n",
    "    \n",
    "    for i in range(1, len(matrix)):\n",
    "        zeros_count = matrix[i].count(0)\n",
    "        if zeros_count > max_zeros_count:\n",
    "            max_zeros_row = i\n",
    "            max_zeros_count = zeros_count\n",
    "    \n",
    "    return max_zeros_row\n",
    "\n",
    "matrix = [\n",
    "    [1, 1, 1, 0],\n",
    "    [1, 1, 0, 0],\n",
    "    [1, 0, 0, 0],\n",
    "    [1, 1, 1, 1]\n",
    "]\n",
    "result = find_row_with_max_zeros(matrix)\n",
    "print(\"Row with maximum zeros:\", result)\n"
   ]
  },
  {
   "cell_type": "code",
   "execution_count": 14,
   "id": "f253d04f-6aae-4714-a79f-4d95105414bd",
   "metadata": {},
   "outputs": [
    {
     "name": "stdout",
     "output_type": "stream",
     "text": [
      "Sorted array: [0, 0, 0, 0, 0, 1, 1, 1, 1, 1, 2, 2]\n"
     ]
    }
   ],
   "source": [
    "#Problem 10 : Sort an array of 0’s, 1’s and 2’s [or R’s, G’s and B’s]: Given an \n",
    "#array A[] consisting of 0’s, 1’s and 2’s, give an algorithm for sorting \n",
    "#A[].The algorithm should put all 0’s first, then all 1’s and finally all \n",
    "#2’s at the end. Example Input = {0,1,1,0,1,2,1,2,0,0,0,1},\n",
    "#Output = {0,0,0,0,0,1,1,1,1,1,2,2}\n",
    "\n",
    "def sort_colors(arr):\n",
    "    low, mid, high = 0, 0, len(arr) - 1\n",
    "    \n",
    "    while mid <= high:\n",
    "        if arr[mid] == 0:\n",
    "            arr[low], arr[mid] = arr[mid], arr[low]\n",
    "            low += 1\n",
    "            mid += 1\n",
    "        elif arr[mid] == 1:\n",
    "            mid += 1\n",
    "        else:\n",
    "            arr[mid], arr[high] = arr[high], arr[mid]\n",
    "            high -= 1\n",
    "    \n",
    "    return arr\n",
    "arr = [0, 1, 1, 0, 1, 2, 1, 2, 0, 0, 0, 1]\n",
    "result = sort_colors(arr)\n",
    "print(\"Sorted array:\", result)\n"
   ]
  },
  {
   "cell_type": "code",
   "execution_count": null,
   "id": "b3985e9b-6174-4068-9102-9b972a056fee",
   "metadata": {},
   "outputs": [],
   "source": []
  }
 ],
 "metadata": {
  "kernelspec": {
   "display_name": "Python 3 (ipykernel)",
   "language": "python",
   "name": "python3"
  },
  "language_info": {
   "codemirror_mode": {
    "name": "ipython",
    "version": 3
   },
   "file_extension": ".py",
   "mimetype": "text/x-python",
   "name": "python",
   "nbconvert_exporter": "python",
   "pygments_lexer": "ipython3",
   "version": "3.10.8"
  }
 },
 "nbformat": 4,
 "nbformat_minor": 5
}
