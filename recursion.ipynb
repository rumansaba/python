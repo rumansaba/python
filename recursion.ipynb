{
 "cells": [
  {
   "cell_type": "code",
   "execution_count": null,
   "id": "ff9b0b3f-180f-47c9-8c39-ed230dd70793",
   "metadata": {},
   "outputs": [],
   "source": [
    "#1"
   ]
  },
  {
   "cell_type": "code",
   "execution_count": 11,
   "id": "1a28fe52-d5e2-4722-a57b-89487773a7a5",
   "metadata": {},
   "outputs": [
    {
     "name": "stdout",
     "output_type": "stream",
     "text": [
      "Move disk 1 from A to C\n",
      "Move disk 2 from A to B\n",
      "Move disk 1 from C to B\n",
      "Move disk 3 from A to C\n",
      "Move disk 1 from B to A\n",
      "Move disk 2 from B to C\n",
      "Move disk 1 from A to C\n"
     ]
    }
   ],
   "source": [
    "def tower_of_hanoi(n, source, target, auxiliary):\n",
    "    if n == 1:\n",
    "        print(f\"Move disk 1 from {source} to {target}\")\n",
    "        return\n",
    "    else:\n",
    "        tower_of_hanoi(n-1, source, auxiliary, target)\n",
    "        \n",
    "        print(f\"Move disk {n} from {source} to {target}\")\n",
    "        \n",
    "        tower_of_hanoi(n-1, auxiliary, target, source)\n",
    "\n",
    "tower_of_hanoi(3, 'A', 'C', 'B')\n"
   ]
  },
  {
   "cell_type": "code",
   "execution_count": null,
   "id": "e464d5c1-9d6a-49f7-a5cf-01e9bc785949",
   "metadata": {},
   "outputs": [],
   "source": [
    "\n",
    "\"\"\"The Tower of Hanoi is a classic problem in computer science and mathematics. The problem consists of three rods and a number of disks of different sizes, which can slide onto any rod. The puzzle starts with the disks in a neat stack in ascending order of size on one rod, the smallest at the top, thus making a conical shape.\n",
    "\n",
    "The objective of the puzzle is to move the entire stack to another rod, obeying the following simple rules:\n",
    "\n",
    "Only one disk can be moved at a time.\n",
    "Each move consists of taking the upper disk from one of the stacks and placing it on top of another stack or on an empty rod.\n",
    "No disk may be placed on top of a smaller disk.\"\"\""
   ]
  },
  {
   "cell_type": "code",
   "execution_count": null,
   "id": "50990b9f-d059-45a3-8d29-35e0d06e3911",
   "metadata": {},
   "outputs": [],
   "source": [
    "#2\n",
    "#"
   ]
  },
  {
   "cell_type": "code",
   "execution_count": 1,
   "id": "40eac34b-7b99-479d-be92-fb8a4f0f04d0",
   "metadata": {},
   "outputs": [
    {
     "name": "stdout",
     "output_type": "stream",
     "text": [
      "3\n"
     ]
    }
   ],
   "source": [
    "def minDistance(word1, word2):\n",
    "    m, n = len(word1), len(word2)\n",
    "    \n",
    "    dp = [[0] * (n + 1) for _ in range(m + 1)]\n",
    "    \n",
    "    for i in range(m + 1):\n",
    "        dp[i][0] = i\n",
    "    for j in range(n + 1):\n",
    "        dp[0][j] = j\n",
    "    \n",
    "    for i in range(1, m + 1):\n",
    "        for j in range(1, n + 1):\n",
    "            if word1[i - 1] == word2[j - 1]:\n",
    "                dp[i][j] = dp[i - 1][j - 1]\n",
    "            else:\n",
    "                dp[i][j] = 1 + min(dp[i - 1][j],        # Deletion\n",
    "                                  dp[i][j - 1],        # Insertion\n",
    "                                  dp[i - 1][j - 1])    # Substitution\n",
    "    \n",
    "    return dp[m][n]\n",
    "\n",
    "word1 = \"horse\"\n",
    "word2 = \"ros\"\n",
    "result = minDistance(word1, word2)\n",
    "print(result)\n"
   ]
  },
  {
   "cell_type": "code",
   "execution_count": null,
   "id": "dd1646d9-404c-4aa1-b027-9c469782039c",
   "metadata": {},
   "outputs": [],
   "source": [
    "#3\n",
    "#Q. 3 Print the max value of the array [ 13, 1, -3, 22, 5]."
   ]
  },
  {
   "cell_type": "code",
   "execution_count": 2,
   "id": "d5df72a9-2203-46b4-b2ef-681d2c8b316a",
   "metadata": {},
   "outputs": [
    {
     "name": "stdout",
     "output_type": "stream",
     "text": [
      "22\n"
     ]
    }
   ],
   "source": [
    "arr = [13, 1,-3, 22, 5]\n",
    "\n",
    "max = 0\n",
    "for i in arr:\n",
    "    if i > max :\n",
    "        max = i\n",
    "print(max)"
   ]
  },
  {
   "cell_type": "code",
   "execution_count": 10,
   "id": "70b06136-3d73-4bb0-a6c6-842cb54c5ae8",
   "metadata": {},
   "outputs": [
    {
     "name": "stdout",
     "output_type": "stream",
     "text": [
      "Max Value: 22\n"
     ]
    }
   ],
   "source": [
    "#with recursion\n",
    "def find_max(arr, index):\n",
    "    if index == 0:\n",
    "        return arr[0]\n",
    "    else:\n",
    "        rest_max = find_max(arr, index - 1)\n",
    "        return arr[index] if arr[index] > rest_max else rest_max\n",
    "\n",
    "arr = [13, 1, -3, 22, 5]\n",
    "max_value = find_max(arr, len(arr) - 1)\n",
    "print(\"Max Value:\", max_value)\n"
   ]
  },
  {
   "cell_type": "code",
   "execution_count": 8,
   "id": "4b3c04df-f44d-42fb-9572-622dd5daa2fe",
   "metadata": {},
   "outputs": [
    {
     "name": "stdout",
     "output_type": "stream",
     "text": [
      "Sum of Values: 120\n"
     ]
    }
   ],
   "source": [
    "\n",
    "#4\n",
    "\n",
    "def find_sum(arr, index):\n",
    "    if index == 0:\n",
    "        return arr[0]\n",
    "    else:\n",
    "        return arr[index] + find_sum(arr, index - 1)\n",
    "\n",
    "arr_sum = [92, 23, 15, -20, 10]\n",
    "sum_values = find_sum(arr_sum, len(arr_sum) - 1)\n",
    "print(\"Sum of Values:\", sum_values)\n"
   ]
  },
  {
   "cell_type": "code",
   "execution_count": 6,
   "id": "96729f2c-b453-4676-8ba2-4c6e888b8897",
   "metadata": {},
   "outputs": [
    {
     "name": "stdout",
     "output_type": "stream",
     "text": [
      "153 is an Armstrong number.\n"
     ]
    }
   ],
   "source": [
    "#5\n",
    "\n",
    "def is_armstrong_number(n):\n",
    "    str_n = str(n)\n",
    "    num_digits = len(str_n)\n",
    "\n",
    "    armstrong_sum = sum(int(digit) ** num_digits for digit in str_n)\n",
    "\n",
    "    return armstrong_sum == n\n",
    "\n",
    "number = 153\n",
    "result = is_armstrong_number(number)\n",
    "\n",
    "if result:\n",
    "    print(f\"{number} is an Armstrong number.\")\n",
    "else:\n",
    "    print(f\"{number} is not an Armstrong number.\")\n"
   ]
  },
  {
   "cell_type": "code",
   "execution_count": null,
   "id": "62957026-3f9c-4892-b7d6-8f2807e02929",
   "metadata": {},
   "outputs": [],
   "source": []
  }
 ],
 "metadata": {
  "kernelspec": {
   "display_name": "Python 3 (ipykernel)",
   "language": "python",
   "name": "python3"
  },
  "language_info": {
   "codemirror_mode": {
    "name": "ipython",
    "version": 3
   },
   "file_extension": ".py",
   "mimetype": "text/x-python",
   "name": "python",
   "nbconvert_exporter": "python",
   "pygments_lexer": "ipython3",
   "version": "3.10.8"
  }
 },
 "nbformat": 4,
 "nbformat_minor": 5
}
