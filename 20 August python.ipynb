{
 "cells": [
  {
   "cell_type": "code",
   "execution_count": null,
   "id": "98a449db-3613-463b-af23-d7560ff95528",
   "metadata": {},
   "outputs": [],
   "source": [
    "#string\n",
    "#write a program to reverse a string."
   ]
  },
  {
   "cell_type": "code",
   "execution_count": 1,
   "id": "bcc5abed-8803-49e6-ad55-08e382d20298",
   "metadata": {},
   "outputs": [
    {
     "name": "stdin",
     "output_type": "stream",
     "text": [
      "Enter the string ruman is a good girl.\n"
     ]
    }
   ],
   "source": [
    "a = str(input(\"Enter the string\"))"
   ]
  },
  {
   "cell_type": "code",
   "execution_count": 2,
   "id": "6b7a2a6f-18dc-49f4-896f-d1441bd6f1e7",
   "metadata": {},
   "outputs": [],
   "source": [
    "rev_str = a[::-1]"
   ]
  },
  {
   "cell_type": "code",
   "execution_count": 3,
   "id": "f8ada5d1-07dd-4c9f-b1f3-0aff5b032254",
   "metadata": {},
   "outputs": [
    {
     "name": "stdout",
     "output_type": "stream",
     "text": [
      ".lrig doog a si namur\n"
     ]
    }
   ],
   "source": [
    "print(rev_str)"
   ]
  },
  {
   "cell_type": "code",
   "execution_count": 4,
   "id": "947f5c25-289e-46dc-8e9d-1d68397af3c9",
   "metadata": {},
   "outputs": [],
   "source": [
    "# 2. check string is a palindrome."
   ]
  },
  {
   "cell_type": "code",
   "execution_count": 20,
   "id": "c2ea163a-d43c-452c-b246-e146f8a8ec52",
   "metadata": {},
   "outputs": [
    {
     "name": "stdin",
     "output_type": "stream",
     "text": [
      "Enter the string noon\n"
     ]
    }
   ],
   "source": [
    "a1 = input(\"Enter the string\")"
   ]
  },
  {
   "cell_type": "code",
   "execution_count": 21,
   "id": "281f08c6-9e7e-4c04-adfb-dfc4b697d70b",
   "metadata": {},
   "outputs": [],
   "source": [
    "l = \"\""
   ]
  },
  {
   "cell_type": "code",
   "execution_count": 22,
   "id": "de3676d8-b9f3-4d26-913f-bfe058389d89",
   "metadata": {},
   "outputs": [
    {
     "name": "stdout",
     "output_type": "stream",
     "text": [
      "Yes this string is palindrome.\n"
     ]
    }
   ],
   "source": [
    "for i in a1:\n",
    "    l = i + l\n",
    "    \n",
    "if l == a1:\n",
    "    print(\"Yes this string is palindrome.\")\n",
    "else :\n",
    "    print(\"No this string is not palindrome.\")"
   ]
  },
  {
   "cell_type": "code",
   "execution_count": 5,
   "id": "cdc5a0fd-8172-4cf1-98e4-9105a359f4b4",
   "metadata": {},
   "outputs": [],
   "source": [
    "# 3. covert string lower case"
   ]
  },
  {
   "cell_type": "code",
   "execution_count": 24,
   "id": "5148f09b-b891-49f2-b966-7d3805668939",
   "metadata": {},
   "outputs": [
    {
     "name": "stdin",
     "output_type": "stream",
     "text": [
      "Enter the string Ruman Is BEST ENGEner in world.\n"
     ]
    }
   ],
   "source": [
    "s = str(input(\"Enter the string\"))"
   ]
  },
  {
   "cell_type": "code",
   "execution_count": 25,
   "id": "57b7cad1-7e67-4f57-b3f8-aeb8f83ed5fb",
   "metadata": {},
   "outputs": [
    {
     "data": {
      "text/plain": [
       "'ruman is best engener in world.'"
      ]
     },
     "execution_count": 25,
     "metadata": {},
     "output_type": "execute_result"
    }
   ],
   "source": [
    "s.lower()"
   ]
  },
  {
   "cell_type": "code",
   "execution_count": 6,
   "id": "c033b501-826d-4b5d-ab82-9dbcaeb6526c",
   "metadata": {},
   "outputs": [],
   "source": [
    "# 4. convert string upper case"
   ]
  },
  {
   "cell_type": "code",
   "execution_count": 26,
   "id": "6db5bd37-cc4f-47c8-8da6-c61fee60708d",
   "metadata": {},
   "outputs": [
    {
     "name": "stdin",
     "output_type": "stream",
     "text": [
      "Enter the string ruman saba\n"
     ]
    }
   ],
   "source": [
    "s1 = str(input(\"Enter the string\"))"
   ]
  },
  {
   "cell_type": "code",
   "execution_count": 27,
   "id": "bc2de660-a9fb-4faf-a967-4e009b6e6d44",
   "metadata": {},
   "outputs": [
    {
     "data": {
      "text/plain": [
       "'RUMAN SABA'"
      ]
     },
     "execution_count": 27,
     "metadata": {},
     "output_type": "execute_result"
    }
   ],
   "source": [
    "s1.upper()"
   ]
  },
  {
   "cell_type": "code",
   "execution_count": 7,
   "id": "921f84c4-8118-4ac7-95b2-dd6d5be67565",
   "metadata": {},
   "outputs": [],
   "source": [
    "# 5. count the vowel in string"
   ]
  },
  {
   "cell_type": "code",
   "execution_count": 29,
   "id": "3dbdd01e-053a-4aee-b805-48b2715519af",
   "metadata": {},
   "outputs": [
    {
     "name": "stdin",
     "output_type": "stream",
     "text": [
      "Enter the String Ruman saba aa a.\n"
     ]
    }
   ],
   "source": [
    "s2 = str(input(\"Enter the String\"))"
   ]
  },
  {
   "cell_type": "code",
   "execution_count": 30,
   "id": "9452fc55-43ee-4b62-a9fa-4567b24d34c1",
   "metadata": {},
   "outputs": [],
   "source": [
    "vowels = \"aeiouAEIOU\""
   ]
  },
  {
   "cell_type": "code",
   "execution_count": 35,
   "id": "d603dea8-582a-42b5-8049-f75cb0389b88",
   "metadata": {},
   "outputs": [],
   "source": [
    "count = sum(s2.count(vowel) for vowel in vowels)"
   ]
  },
  {
   "cell_type": "code",
   "execution_count": 36,
   "id": "36560a85-50ca-4be6-82ef-4d7f315baf27",
   "metadata": {},
   "outputs": [
    {
     "data": {
      "text/plain": [
       "7"
      ]
     },
     "execution_count": 36,
     "metadata": {},
     "output_type": "execute_result"
    }
   ],
   "source": [
    "count"
   ]
  },
  {
   "cell_type": "code",
   "execution_count": 8,
   "id": "26af0494-3c2d-4279-8bb8-83164d110bc8",
   "metadata": {},
   "outputs": [],
   "source": [
    "##6. count the consonante in string"
   ]
  },
  {
   "cell_type": "code",
   "execution_count": 2,
   "id": "5095e216-ca03-4a60-b33f-17b6e4dcc64c",
   "metadata": {},
   "outputs": [
    {
     "name": "stdin",
     "output_type": "stream",
     "text": [
      "Enter the string ruman saba is a student\n"
     ]
    }
   ],
   "source": [
    "s3 = str(input(\"Enter the string\"))"
   ]
  },
  {
   "cell_type": "code",
   "execution_count": 3,
   "id": "52b5d06b-de1c-41a1-84c7-ff7cbd3be19f",
   "metadata": {},
   "outputs": [
    {
     "name": "stdout",
     "output_type": "stream",
     "text": [
      "11\n"
     ]
    }
   ],
   "source": [
    "consonante = 'bcdfghjklmnpqrstvwxyzBCDFGHJKLMNPQRSTVWXYZ'\n",
    "count = 0\n",
    "for i in s3 :\n",
    "    if i in consonante :\n",
    "        count +=1\n",
    "print(count)\n",
    "    "
   ]
  },
  {
   "cell_type": "code",
   "execution_count": 28,
   "id": "d09932c0-6b44-4d93-8c8a-9cad19a032e1",
   "metadata": {},
   "outputs": [],
   "source": [
    "#7. remove whitespace"
   ]
  },
  {
   "cell_type": "code",
   "execution_count": 37,
   "id": "64fe1102-c342-49bb-a8f1-6bf26460a349",
   "metadata": {},
   "outputs": [
    {
     "name": "stdin",
     "output_type": "stream",
     "text": [
      "enter the string a b s d f g \n"
     ]
    }
   ],
   "source": [
    "s4 = str(input(\"enter the string\"))"
   ]
  },
  {
   "cell_type": "code",
   "execution_count": 39,
   "id": "53166351-8272-4c9b-964a-49e0c9fda9b2",
   "metadata": {},
   "outputs": [],
   "source": [
    "new_str = s4.replace(\" \", \"\")"
   ]
  },
  {
   "cell_type": "code",
   "execution_count": 40,
   "id": "8485ded7-f377-4a32-86ba-5bcfbc7af5ab",
   "metadata": {},
   "outputs": [
    {
     "name": "stdout",
     "output_type": "stream",
     "text": [
      "absdfg\n"
     ]
    }
   ],
   "source": [
    "print(new_str)"
   ]
  },
  {
   "cell_type": "code",
   "execution_count": 41,
   "id": "f6a90782-fd83-4dc8-9be0-ca4621b0adb8",
   "metadata": {},
   "outputs": [],
   "source": [
    "# 8 count string length without using len() "
   ]
  },
  {
   "cell_type": "code",
   "execution_count": 6,
   "id": "0303f697-04c5-424b-b136-11dba815bf94",
   "metadata": {},
   "outputs": [
    {
     "name": "stdin",
     "output_type": "stream",
     "text": [
      "Enter the string ruman saba\n"
     ]
    }
   ],
   "source": [
    "s5 = str(input(\"Enter the string\"))"
   ]
  },
  {
   "cell_type": "code",
   "execution_count": 7,
   "id": "12c82b13-c3b9-473e-94bb-98dd0bb4dd03",
   "metadata": {},
   "outputs": [
    {
     "name": "stdout",
     "output_type": "stream",
     "text": [
      "10\n"
     ]
    }
   ],
   "source": [
    "count = 0\n",
    "\n",
    "for i in s5 :\n",
    "    count += 1\n",
    "    \n",
    "print(count)"
   ]
  },
  {
   "cell_type": "code",
   "execution_count": 8,
   "id": "d84ca4cb-e0ad-4247-83fd-5dcab473b1f5",
   "metadata": {},
   "outputs": [],
   "source": [
    "# 9 check if a string contain a specific word"
   ]
  },
  {
   "cell_type": "code",
   "execution_count": 13,
   "id": "2ff57267-5767-486d-897b-d8bbde3e4987",
   "metadata": {},
   "outputs": [
    {
     "name": "stdin",
     "output_type": "stream",
     "text": [
      "Enter the string ruman saba is student\n"
     ]
    }
   ],
   "source": [
    "s6 = str(input(\"Enter the string\"))"
   ]
  },
  {
   "cell_type": "code",
   "execution_count": 14,
   "id": "8c23397c-2fe6-4765-98d3-8758098c8673",
   "metadata": {},
   "outputs": [
    {
     "name": "stdout",
     "output_type": "stream",
     "text": [
      "No\n"
     ]
    }
   ],
   "source": [
    "if \"good\" in s6 :\n",
    "    print (\"yes\")\n",
    "else :\n",
    "    print(\"No\")"
   ]
  },
  {
   "cell_type": "code",
   "execution_count": 15,
   "id": "a4aec169-3317-4925-8fac-62206cffab1f",
   "metadata": {},
   "outputs": [],
   "source": [
    "# 10 Replace word in string with another word."
   ]
  },
  {
   "cell_type": "code",
   "execution_count": 16,
   "id": "668e8116-cef0-443a-8ad4-1835d68217d8",
   "metadata": {},
   "outputs": [
    {
     "name": "stdin",
     "output_type": "stream",
     "text": [
      "enter dthe string ruamn saba is good.\n"
     ]
    }
   ],
   "source": [
    "s7 = str(input(\"enter dthe string\"))"
   ]
  },
  {
   "cell_type": "code",
   "execution_count": 22,
   "id": "1a159c57-73ef-4a9d-9315-94cbf63b2b0e",
   "metadata": {},
   "outputs": [],
   "source": [
    "new_text = s7.replace(\"good\", \"gooooood\")"
   ]
  },
  {
   "cell_type": "code",
   "execution_count": 23,
   "id": "b6d7d6ff-018f-446c-bbfc-984627e7dacd",
   "metadata": {},
   "outputs": [
    {
     "data": {
      "text/plain": [
       "'ruamn saba is gooooood.'"
      ]
     },
     "execution_count": 23,
     "metadata": {},
     "output_type": "execute_result"
    }
   ],
   "source": [
    "new_text"
   ]
  },
  {
   "cell_type": "code",
   "execution_count": 24,
   "id": "5beac5e2-56f9-4d6c-abdc-58991e157af6",
   "metadata": {},
   "outputs": [],
   "source": [
    "# 11 count the occurence word in string "
   ]
  },
  {
   "cell_type": "code",
   "execution_count": 30,
   "id": "73b852b7-75e4-4987-9a9f-c9b6217ec6a0",
   "metadata": {},
   "outputs": [
    {
     "name": "stdin",
     "output_type": "stream",
     "text": [
      "enter the string as in be cut but put root red\n"
     ]
    }
   ],
   "source": [
    "s8 = str(input(\"enter the string\"))"
   ]
  },
  {
   "cell_type": "code",
   "execution_count": 70,
   "id": "ab099a49-333e-4186-8930-35b783d76db7",
   "metadata": {},
   "outputs": [
    {
     "name": "stdout",
     "output_type": "stream",
     "text": [
      "8\n"
     ]
    }
   ],
   "source": [
    "count = 0\n",
    "\n",
    "for i in s8.split() :\n",
    "        count +=1\n",
    "        \n",
    "print(count)"
   ]
  },
  {
   "cell_type": "code",
   "execution_count": 32,
   "id": "d690e04c-1ec0-4ce9-aa3c-d92b2aec436d",
   "metadata": {},
   "outputs": [],
   "source": [
    "#12 find the first occurence of a word in a string."
   ]
  },
  {
   "cell_type": "code",
   "execution_count": 9,
   "id": "ea74f25c-9a6c-4567-ac12-5323d337740d",
   "metadata": {},
   "outputs": [
    {
     "name": "stdout",
     "output_type": "stream",
     "text": [
      "Index of the first occurrence: 11\n"
     ]
    }
   ],
   "source": [
    "def find_first_occurrence(text, word):\n",
    "    # Step 1: Find the index of the first occurrence of the word in the text.\n",
    "    index = text.find(word)\n",
    "\n",
    "    # Step 2: Check if the index is -1, indicating that the word was not found.\n",
    "    if index == -1:\n",
    "        return None  # Return None if the word is not found.\n",
    "\n",
    "    # Step 3: Return the index of the first occurrence of the word.\n",
    "    return index\n",
    "\n",
    "# Example usage\n",
    "text = \"This is an example sentence. This sentence contains the word example.\"\n",
    "word = \"example\"\n",
    "result = find_first_occurrence(text, word)\n",
    "print(\"Index of the first occurrence:\", result)"
   ]
  },
  {
   "cell_type": "code",
   "execution_count": 33,
   "id": "3e86fd6f-0d75-4559-afab-eece9368e77a",
   "metadata": {},
   "outputs": [],
   "source": [
    "#13 find the last occurence of a word in a string."
   ]
  },
  {
   "cell_type": "code",
   "execution_count": 3,
   "id": "a0aae8b6-acd1-4616-b26c-19657e5d363e",
   "metadata": {},
   "outputs": [
    {
     "name": "stdout",
     "output_type": "stream",
     "text": [
      "Index of the last occurrence: 8\n"
     ]
    }
   ],
   "source": [
    "def find_last_occurrence(text, word):\n",
    "    # Step 1: Find the index of the last occurrence of the word in the text.\n",
    "    index = text.rfind(word)\n",
    "\n",
    "    # Step 2: Check if the index is -1, indicating that the word was not found.\n",
    "    if index == -1:\n",
    "        return None  # Return None if the word is not found.\n",
    "\n",
    "    # Step 3: Return the index of the last occurrence of the word.\n",
    "    return index\n",
    "\n",
    "# Example usage\n",
    "text = \"This is an example sentence. This sentence also contains the word example.\"\n",
    "word = \"an\"\n",
    "result = find_last_occurrence(text, word)\n",
    "print(\"Index of the last occurrence:\", result)"
   ]
  },
  {
   "cell_type": "code",
   "execution_count": null,
   "id": "95441d32-8762-4514-9fc3-0a31a6d478db",
   "metadata": {},
   "outputs": [],
   "source": []
  },
  {
   "cell_type": "code",
   "execution_count": 34,
   "id": "ff544566-510a-402a-829c-70fa724f8a4a",
   "metadata": {},
   "outputs": [],
   "source": [
    "# 14 split a string into a list of word."
   ]
  },
  {
   "cell_type": "code",
   "execution_count": 36,
   "id": "0f803bfa-0a41-4779-a9c9-2e25ecbe470a",
   "metadata": {},
   "outputs": [
    {
     "name": "stdin",
     "output_type": "stream",
     "text": [
      "enter the string  ruman sab a is a good girl.\n"
     ]
    }
   ],
   "source": [
    "s11 = str(input(\"enter the string \"))"
   ]
  },
  {
   "cell_type": "code",
   "execution_count": 52,
   "id": "a1b6e85f-a6bb-477d-b699-b0b711f7b3fc",
   "metadata": {},
   "outputs": [
    {
     "data": {
      "text/plain": [
       "['ruman', 'sab', 'a', 'is', 'a', 'good', 'girl.']"
      ]
     },
     "execution_count": 52,
     "metadata": {},
     "output_type": "execute_result"
    }
   ],
   "source": [
    "s11.split()"
   ]
  },
  {
   "cell_type": "code",
   "execution_count": 35,
   "id": "d6eb1c22-d97e-4b6b-ae3e-cf7066a366e6",
   "metadata": {},
   "outputs": [],
   "source": [
    "#15 join a list of word into a string."
   ]
  },
  {
   "cell_type": "code",
   "execution_count": 124,
   "id": "4d9bc242-4132-4331-99fc-26f847f5cb4f",
   "metadata": {},
   "outputs": [
    {
     "name": "stdout",
     "output_type": "stream",
     "text": [
      "  ruman saba is a best\n"
     ]
    }
   ],
   "source": [
    "l = [\"ruman\", \"saba\", \"is\", \"a\", \"best\"]\n",
    "\n",
    "s12 = ' '\n",
    "for i in l :\n",
    "    s12 +=' ' + i \n",
    "    \n",
    "print(s12)\n"
   ]
  },
  {
   "cell_type": "code",
   "execution_count": null,
   "id": "2090dfc0-4f1a-4c51-bdfe-35569c6d160d",
   "metadata": {},
   "outputs": [],
   "source": [
    "#16 Convert a string where words are separated by spaces to one where words\n",
    "#are separated by underscores."
   ]
  },
  {
   "cell_type": "code",
   "execution_count": 59,
   "id": "df00e062-a792-4f19-a8c0-0c0fd6c95309",
   "metadata": {},
   "outputs": [
    {
     "name": "stdin",
     "output_type": "stream",
     "text": [
      "enter the string ruman saba is best.\n"
     ]
    },
    {
     "name": "stdout",
     "output_type": "stream",
     "text": [
      "ruman_saba_is_best.\n"
     ]
    }
   ],
   "source": [
    "s13 = str(input(\"enter the string\"))\n",
    "\n",
    "new_text2 = s13.replace(\" \",\"_\")\n",
    "\n",
    "print(new_text2)"
   ]
  },
  {
   "cell_type": "code",
   "execution_count": 60,
   "id": "4adf69d3-7474-49a4-ba37-6fc062e0b959",
   "metadata": {},
   "outputs": [],
   "source": [
    "#17 Check if a string starts with a specific word or phrase."
   ]
  },
  {
   "cell_type": "code",
   "execution_count": 17,
   "id": "7a958da4-a235-4fbf-848d-f5afd5a47e91",
   "metadata": {},
   "outputs": [
    {
     "name": "stdin",
     "output_type": "stream",
     "text": [
      "Enter the string ruman is goood\n",
      "enter the start word good\n"
     ]
    },
    {
     "name": "stdout",
     "output_type": "stream",
     "text": [
      "False\n"
     ]
    }
   ],
   "source": [
    "s14 = str(input(\"Enter the string\"))\n",
    "\n",
    "check_start_str = s14.startswith(str(input(\"enter the start word\")))\n",
    "\n",
    "print(check_start_str)\n"
   ]
  },
  {
   "cell_type": "code",
   "execution_count": 61,
   "id": "f7344f1e-bcaa-4698-a0e0-9283125aa41b",
   "metadata": {},
   "outputs": [],
   "source": [
    "#18 Check if a string end with a specific word or phrase."
   ]
  },
  {
   "cell_type": "code",
   "execution_count": 18,
   "id": "0b9627d1-86d2-4f52-b54d-b85bcb9e4973",
   "metadata": {},
   "outputs": [
    {
     "name": "stdin",
     "output_type": "stream",
     "text": [
      "Enter the string ruman saba is good student\n",
      "enter the start word student\n"
     ]
    },
    {
     "name": "stdout",
     "output_type": "stream",
     "text": [
      "True\n"
     ]
    }
   ],
   "source": [
    "s15 = str(input(\"Enter the string\"))\n",
    "\n",
    "check_end_str = s15.endswith(str(input(\"enter the start word\")))\n",
    "\n",
    "print(check_end_str)\n"
   ]
  },
  {
   "cell_type": "code",
   "execution_count": 62,
   "id": "e4dfbdfc-44b0-4580-bbc3-b2c35761994f",
   "metadata": {},
   "outputs": [],
   "source": [
    "#19 Convert a string to title case (e.g., \"hello world\" to \"Hello World\")."
   ]
  },
  {
   "cell_type": "code",
   "execution_count": 69,
   "id": "670c7eea-d78c-4e00-8103-5933911c8c5a",
   "metadata": {},
   "outputs": [
    {
     "name": "stdin",
     "output_type": "stream",
     "text": [
      "enter the string ruman saba is a best\n"
     ]
    },
    {
     "data": {
      "text/plain": [
       "'Ruman Saba Is A Best'"
      ]
     },
     "execution_count": 69,
     "metadata": {},
     "output_type": "execute_result"
    }
   ],
   "source": [
    "s16 = str(input(\"enter the string\"))\n",
    "s16.title()"
   ]
  },
  {
   "cell_type": "code",
   "execution_count": 63,
   "id": "de0f8431-ebb4-42fa-8c1b-94f8846a746f",
   "metadata": {},
   "outputs": [],
   "source": [
    "#20 Find the longest word in a string."
   ]
  },
  {
   "cell_type": "code",
   "execution_count": 101,
   "id": "b0bed281-1e7d-4d27-84c1-78181d621da1",
   "metadata": {},
   "outputs": [
    {
     "name": "stdin",
     "output_type": "stream",
     "text": [
      "Enter the string ruman saba is gooood\n"
     ]
    },
    {
     "name": "stdout",
     "output_type": "stream",
     "text": [
      "gooood 6\n"
     ]
    }
   ],
   "source": [
    "s17 = str(input(\"Enter the string: \"))\n",
    "count = 0\n",
    "for i in s17.split() :        \n",
    "    if len(i)>count:\n",
    "        count = len(i)\n",
    "        word = i    \n",
    "print(word, count)"
   ]
  },
  {
   "cell_type": "code",
   "execution_count": 64,
   "id": "066fa2fc-67a8-4d65-925d-cc7cdad8e3ed",
   "metadata": {},
   "outputs": [],
   "source": [
    "#21. Find the shortest word in a string."
   ]
  },
  {
   "cell_type": "code",
   "execution_count": 119,
   "id": "fb18a91c-31f9-4e71-a8d6-5c065d5a9f84",
   "metadata": {},
   "outputs": [
    {
     "name": "stdin",
     "output_type": "stream",
     "text": [
      "enter the string : ruman saba is a good student\n"
     ]
    },
    {
     "name": "stdout",
     "output_type": "stream",
     "text": [
      "a 1\n"
     ]
    }
   ],
   "source": [
    "s18 = str(input(\"enter the string :\"))\n",
    "x = min(s18.split(), key=len)\n",
    "print(x, len(x))"
   ]
  },
  {
   "cell_type": "code",
   "execution_count": null,
   "id": "18a1084d-6f92-4059-ac1c-eab15a1be8eb",
   "metadata": {},
   "outputs": [],
   "source": [
    "#22. Reverse the order of words in a string."
   ]
  },
  {
   "cell_type": "code",
   "execution_count": 133,
   "id": "0bab498c-a64e-4ad0-8772-14ff56d3afff",
   "metadata": {},
   "outputs": [
    {
     "name": "stdout",
     "output_type": "stream",
     "text": [
      "student good a is saba ruman  \n"
     ]
    }
   ],
   "source": [
    "count = ' '\n",
    "for i in s18.split() :\n",
    "    count = i + ' '+count\n",
    "    \n",
    "print(count)"
   ]
  },
  {
   "cell_type": "code",
   "execution_count": null,
   "id": "3fcb1556-cb74-4a03-9990-ea4d3641ed92",
   "metadata": {},
   "outputs": [],
   "source": [
    "#23 "
   ]
  },
  {
   "cell_type": "code",
   "execution_count": 9,
   "id": "9df4ca10-c3f9-4b4d-8ca8-2450ac158280",
   "metadata": {},
   "outputs": [
    {
     "name": "stdin",
     "output_type": "stream",
     "text": [
      "enter the string ruman123\n"
     ]
    },
    {
     "data": {
      "text/plain": [
       "True"
      ]
     },
     "execution_count": 9,
     "metadata": {},
     "output_type": "execute_result"
    }
   ],
   "source": [
    "s19 = str(input(\"enter the string\"))\n",
    "\n",
    "s19.isalnum()"
   ]
  },
  {
   "cell_type": "code",
   "execution_count": 10,
   "id": "32edb059-b185-4f42-9a4f-aae546802757",
   "metadata": {},
   "outputs": [],
   "source": [
    "#24 extract all digit from a string."
   ]
  },
  {
   "cell_type": "code",
   "execution_count": 17,
   "id": "12671e2d-4469-4c6c-b8fc-b87c6cb48503",
   "metadata": {},
   "outputs": [
    {
     "name": "stdin",
     "output_type": "stream",
     "text": [
      "enter the string 34ru123\n"
     ]
    },
    {
     "name": "stdout",
     "output_type": "stream",
     "text": [
      "34123\n"
     ]
    }
   ],
   "source": [
    "s20 = str(input(\"enter the string\"))\n",
    "\n",
    "for i in s20 :\n",
    "    if i.isdigit():\n",
    "        print(i,end='')"
   ]
  },
  {
   "cell_type": "code",
   "execution_count": 11,
   "id": "98a447d4-cc4f-475c-a419-72f84d1120e3",
   "metadata": {},
   "outputs": [],
   "source": [
    "#25 extract all alphabates from a string. "
   ]
  },
  {
   "cell_type": "code",
   "execution_count": 20,
   "id": "c9cd54a2-ebca-4e5f-9b81-8a1b34dddf06",
   "metadata": {},
   "outputs": [
    {
     "name": "stdin",
     "output_type": "stream",
     "text": [
      "enter the string ruman123saba\n"
     ]
    },
    {
     "name": "stdout",
     "output_type": "stream",
     "text": [
      "rumansaba"
     ]
    }
   ],
   "source": [
    "s21 = str(input(\"enter the string\"))\n",
    "for i in s21:\n",
    "    if i.isalpha():\n",
    "        print(i,end='')"
   ]
  },
  {
   "cell_type": "code",
   "execution_count": 21,
   "id": "ef38e7ac-1b65-4651-b5d8-472f0de357d4",
   "metadata": {},
   "outputs": [],
   "source": [
    "#26 Count the number of uppercase letters in a string."
   ]
  },
  {
   "cell_type": "code",
   "execution_count": 1,
   "id": "b4617732-47a5-44e0-87ab-203578ec1a16",
   "metadata": {},
   "outputs": [
    {
     "name": "stdin",
     "output_type": "stream",
     "text": [
      "enter the string Ruman\n"
     ]
    },
    {
     "name": "stdout",
     "output_type": "stream",
     "text": [
      "1\n"
     ]
    }
   ],
   "source": [
    "s22 = str(input(\"enter the string\"))\n",
    "\n",
    "count = 0\n",
    "\n",
    "for i in s22 :\n",
    "    if i.isupper():\n",
    "        count +=1\n",
    "print(count)"
   ]
  },
  {
   "cell_type": "code",
   "execution_count": null,
   "id": "22a7224d-09e5-4fdc-9cea-343b5bd346f4",
   "metadata": {},
   "outputs": [],
   "source": [
    "#27 Count the number of lowercase letters in a string."
   ]
  },
  {
   "cell_type": "code",
   "execution_count": 2,
   "id": "a92b668b-47d8-407e-b8af-b7993812d2b0",
   "metadata": {},
   "outputs": [
    {
     "name": "stdin",
     "output_type": "stream",
     "text": [
      "enter the string rumanSAba\n"
     ]
    },
    {
     "name": "stdout",
     "output_type": "stream",
     "text": [
      "7\n"
     ]
    }
   ],
   "source": [
    "s23 = str(input(\"enter the string\"))\n",
    "\n",
    "count = 0\n",
    "\n",
    "for i in s23:\n",
    "    if i.islower():\n",
    "        count +=1\n",
    "        \n",
    "print(count)"
   ]
  },
  {
   "cell_type": "code",
   "execution_count": 3,
   "id": "dd5173b3-054e-4a75-8c43-5ee214f85019",
   "metadata": {},
   "outputs": [],
   "source": [
    "#28 Swap the case of each character in a string."
   ]
  },
  {
   "cell_type": "code",
   "execution_count": 4,
   "id": "8716c0dd-2ecb-457f-a937-041d3e43a391",
   "metadata": {},
   "outputs": [
    {
     "name": "stdin",
     "output_type": "stream",
     "text": [
      "enter the string:  rumnSAba\n"
     ]
    },
    {
     "name": "stdout",
     "output_type": "stream",
     "text": [
      "RUMNsaBA\n"
     ]
    }
   ],
   "source": [
    "s24 = str(input(\"enter the string: \"))\n",
    "\n",
    "new_text3 = s24.swapcase()\n",
    "print(new_text3)"
   ]
  },
  {
   "cell_type": "code",
   "execution_count": 5,
   "id": "6cd6ce52-3c6e-4a0f-afa9-73a14dd0edab",
   "metadata": {},
   "outputs": [],
   "source": [
    "#29 Remove a specific word from a string."
   ]
  },
  {
   "cell_type": "code",
   "execution_count": 6,
   "id": "cc86dcb0-c8d3-4f0d-b44c-b0a27b773cf0",
   "metadata": {},
   "outputs": [
    {
     "name": "stdin",
     "output_type": "stream",
     "text": [
      "enter the number:  ruman saba is best.\n",
      "enter remove word saba\n"
     ]
    },
    {
     "name": "stdout",
     "output_type": "stream",
     "text": [
      "ruman  is best.\n"
     ]
    }
   ],
   "source": [
    "s25 = str(input(\"enter the number: \"))\n",
    "\n",
    "new_text = s25.replace(str(input(\"enter remove word\")), '')\n",
    "\n",
    "print(new_text)"
   ]
  },
  {
   "cell_type": "code",
   "execution_count": 7,
   "id": "16c192c6-c52a-45f3-a31d-3bc3706ad9cc",
   "metadata": {},
   "outputs": [],
   "source": [
    "#30 Check if a string is a valid email address."
   ]
  },
  {
   "cell_type": "code",
   "execution_count": 4,
   "id": "cc43da86-3813-46ca-870e-ee9512855596",
   "metadata": {},
   "outputs": [],
   "source": [
    "import re"
   ]
  },
  {
   "cell_type": "code",
   "execution_count": 10,
   "id": "85515eb0-bfb6-41af-9bbe-c8c90ae4b73d",
   "metadata": {},
   "outputs": [
    {
     "name": "stdin",
     "output_type": "stream",
     "text": [
      "enter the number ruman-1@gmail.com\n"
     ]
    },
    {
     "name": "stdout",
     "output_type": "stream",
     "text": [
      "valid\n"
     ]
    }
   ],
   "source": [
    "email = str(input('enter the email'))\n",
    "pattern = '^[\\w\\.-]+@[\\w\\.-]+\\.\\w+$' \n",
    "if re.match(pattern, email):\n",
    "    print(\"valid email\")\n",
    "else:\n",
    "    print(\"invalid email\")"
   ]
  },
  {
   "cell_type": "code",
   "execution_count": 8,
   "id": "f4f4003e-bf75-4fb4-8fb6-e79565840624",
   "metadata": {},
   "outputs": [],
   "source": [
    "#31 Extract the username from an email address string."
   ]
  },
  {
   "cell_type": "code",
   "execution_count": 12,
   "id": "b849d92b-80e4-4732-b76e-a41839e8ee59",
   "metadata": {},
   "outputs": [
    {
     "name": "stdout",
     "output_type": "stream",
     "text": [
      "this is your username :  ruman-1\n"
     ]
    }
   ],
   "source": [
    "username = email.split('@')[0]\n",
    "\n",
    "print(\"this is your username : \",username)"
   ]
  },
  {
   "cell_type": "code",
   "execution_count": 9,
   "id": "d806b46f-5efa-491b-b03e-0e46a77e428c",
   "metadata": {},
   "outputs": [],
   "source": [
    "#32 Extract the domain name from an email address string."
   ]
  },
  {
   "cell_type": "code",
   "execution_count": 14,
   "id": "c1882a17-31f9-4d1d-a614-aba19e268656",
   "metadata": {},
   "outputs": [
    {
     "name": "stdout",
     "output_type": "stream",
     "text": [
      "this is your domain :  gmail.com\n"
     ]
    }
   ],
   "source": [
    "domain = email.split('@')[1]\n",
    "\n",
    "print(\"this is your domain : \", domain)"
   ]
  },
  {
   "cell_type": "code",
   "execution_count": 10,
   "id": "d96dea99-b068-42c7-8a10-b3adb9f216dd",
   "metadata": {},
   "outputs": [],
   "source": [
    "#33 Replace multiple spaces in a string with a single space.\n"
   ]
  },
  {
   "cell_type": "code",
   "execution_count": 16,
   "id": "0d742566-8ca5-43e3-9fce-ef7b7c0707bf",
   "metadata": {},
   "outputs": [
    {
     "name": "stdin",
     "output_type": "stream",
     "text": [
      "Enter the string ruma            ssab    is a    good\n"
     ]
    },
    {
     "data": {
      "text/plain": [
       "'ruma ssab is a good'"
      ]
     },
     "execution_count": 16,
     "metadata": {},
     "output_type": "execute_result"
    }
   ],
   "source": [
    "s29 = str(input(\"Enter the string\"))\n",
    "\n",
    "new_text = ' '.join(s29.split())\n",
    "str(new_text)"
   ]
  },
  {
   "cell_type": "code",
   "execution_count": 17,
   "id": "0db876d1-4e3f-4a66-9575-2ca98cb3d7ac",
   "metadata": {},
   "outputs": [],
   "source": [
    "# 34 Check if a string is a valid URL."
   ]
  },
  {
   "cell_type": "code",
   "execution_count": 10,
   "id": "01f3213b-e4dc-4240-b8d2-c8ad00a65c93",
   "metadata": {},
   "outputs": [
    {
     "name": "stdout",
     "output_type": "stream",
     "text": [
      "True\n",
      "False\n"
     ]
    }
   ],
   "source": [
    "from urllib.parse import urlparse\n",
    "\n",
    "def is_valid_url(url):\n",
    "    try:\n",
    "        result = urlparse(url)\n",
    "        return all([result.scheme, result.netloc])  \n",
    "    except ValueError:\n",
    "        return False\n",
    "\n",
    "\n",
    "url1 = \"https://www.example.com\"\n",
    "url2 = \"invalid-url\"\n",
    "result1 = is_valid_url(url1)\n",
    "result2 = is_valid_url(url2)\n",
    "print(result1) \n",
    "print(result2)  "
   ]
  },
  {
   "cell_type": "code",
   "execution_count": null,
   "id": "b815dec1-1837-439d-8187-add0d97be550",
   "metadata": {},
   "outputs": [],
   "source": [
    "# 35"
   ]
  },
  {
   "cell_type": "code",
   "execution_count": 24,
   "id": "4aa74ec3-401e-4311-a472-15d5e9815798",
   "metadata": {},
   "outputs": [
    {
     "name": "stdout",
     "output_type": "stream",
     "text": [
      "Protocol 1: https\n",
      "Protocol 2: http\n",
      "Protocol 3: ftp\n"
     ]
    }
   ],
   "source": [
    "def extract_protocol(url):\n",
    "    \n",
    "    protocol_end = url.find(\"://\")\n",
    "\n",
    "    if protocol_end != -1:\n",
    "        protocol = url[:protocol_end]\n",
    "        return protocol\n",
    "    else:\n",
    "        return None\n",
    "\n",
    "url1 = \"https://www.example.com\"\n",
    "url2 = \"http://google.com\"\n",
    "url3 = \"ftp://ftp.example.com\"\n",
    "\n",
    "protocol1 = extract_protocol(url1)\n",
    "protocol2 = extract_protocol(url2)\n",
    "protocol3 = extract_protocol(url3)\n",
    "\n",
    "print(\"Protocol 1:\", protocol1)\n",
    "print(\"Protocol 2:\", protocol2)\n",
    "print(\"Protocol 3:\", protocol3)"
   ]
  },
  {
   "cell_type": "code",
   "execution_count": null,
   "id": "beaa3271-f345-4c6c-9361-fe522053177d",
   "metadata": {},
   "outputs": [],
   "source": [
    "#36 "
   ]
  },
  {
   "cell_type": "code",
   "execution_count": 12,
   "id": "f1785cae-2dec-4990-83f7-7b09890c84ab",
   "metadata": {},
   "outputs": [
    {
     "name": "stdout",
     "output_type": "stream",
     "text": [
      "Character: 'h', Frequency: 1\n",
      "Character: 'e', Frequency: 1\n",
      "Character: 'l', Frequency: 3\n",
      "Character: 'o', Frequency: 2\n",
      "Character: ' ', Frequency: 1\n",
      "Character: 'w', Frequency: 1\n",
      "Character: 'r', Frequency: 1\n",
      "Character: 'd', Frequency: 1\n"
     ]
    }
   ],
   "source": [
    "def character_frequency(input_string):\n",
    "    frequency = {}  \n",
    "\n",
    "    for char in input_string:\n",
    "        if char in frequency:\n",
    "            frequency[char] += 1  \n",
    "        else:\n",
    "            frequency[char] = 1   \n",
    "\n",
    "    return frequency\n",
    "\n",
    "input_str = \"hello world\"\n",
    "\n",
    "char_freq = character_frequency(input_str)\n",
    "\n",
    "for char, freq in char_freq.items():\n",
    "    print(f\"Character: '{char}', Frequency: {freq}\")"
   ]
  },
  {
   "cell_type": "code",
   "execution_count": 14,
   "id": "e8fe74a1-57be-45e9-8764-cc816577855f",
   "metadata": {},
   "outputs": [
    {
     "name": "stdout",
     "output_type": "stream",
     "text": [
      "Original string: Hello, world! How's it going?\n",
      "Cleaned string: Hello world Hows it going\n"
     ]
    }
   ],
   "source": [
    "#37. \n",
    "import string\n",
    "\n",
    "def remove_punctuation(input_string):\n",
    "    translator = str.maketrans(\"\", \"\", string.punctuation)\n",
    "\n",
    "    clean_string = input_string.translate(translator)\n",
    "\n",
    "    return clean_string\n",
    "\n",
    "input_str = \"Hello, world! How's it going?\"\n",
    "\n",
    "cleaned_str = remove_punctuation(input_str)\n",
    "\n",
    "print(\"Original string:\", input_str)\n",
    "print(\"Cleaned string:\", cleaned_str)"
   ]
  },
  {
   "cell_type": "code",
   "execution_count": 18,
   "id": "93813c53-adc4-44e1-a459-dde9f6778390",
   "metadata": {},
   "outputs": [],
   "source": [
    "# 38. Check if a string contains only digit. "
   ]
  },
  {
   "cell_type": "code",
   "execution_count": 21,
   "id": "4b2e6026-dea7-4a51-bdb2-aa3d432a5b40",
   "metadata": {},
   "outputs": [
    {
     "name": "stdin",
     "output_type": "stream",
     "text": [
      "enter the string 1234522\n"
     ]
    },
    {
     "name": "stdout",
     "output_type": "stream",
     "text": [
      "This string is only digit\n"
     ]
    }
   ],
   "source": [
    "s38 = str(input(\"enter the string\"))\n",
    "\n",
    "if s38.isnumeric() :\n",
    "    print(\"This string is only digit\")\n",
    "    \n",
    "else :\n",
    "    print(\"This string is not contain only digit.\")"
   ]
  },
  {
   "cell_type": "code",
   "execution_count": 22,
   "id": "4e336202-63af-4cfb-a4b6-1822d58afbf2",
   "metadata": {},
   "outputs": [],
   "source": [
    "# 39. Check if a string contains only alphabets. "
   ]
  },
  {
   "cell_type": "code",
   "execution_count": 24,
   "id": "a010ffea-4ad1-4c40-a423-105266610eaf",
   "metadata": {},
   "outputs": [
    {
     "name": "stdin",
     "output_type": "stream",
     "text": [
      "enter the string ruman 123 is good\n"
     ]
    },
    {
     "name": "stdout",
     "output_type": "stream",
     "text": [
      "this string is not contain only alphbates\n"
     ]
    }
   ],
   "source": [
    "s39 = str(input(\"enter the string\"))\n",
    "\n",
    "if s39.isalpha() :\n",
    "    print(\"this string is contain only alphbates\")\n",
    "else :\n",
    "    print(\"this string is not contain only alphbates\")"
   ]
  },
  {
   "cell_type": "code",
   "execution_count": 25,
   "id": "733b975e-0626-4cc0-b5c2-a7cab206ef7c",
   "metadata": {},
   "outputs": [],
   "source": [
    "#40 convert a string to a list of charachters. "
   ]
  },
  {
   "cell_type": "code",
   "execution_count": 27,
   "id": "7cb379d2-4d63-4138-a879-d4593b7dc62b",
   "metadata": {},
   "outputs": [
    {
     "name": "stdin",
     "output_type": "stream",
     "text": [
      "original string :  ruman saba\n"
     ]
    },
    {
     "name": "stdout",
     "output_type": "stream",
     "text": [
      "string in list of charachter : ['r', 'u', 'm', 'a', 'n', ' ', 's', 'a', 'b', 'a']\n"
     ]
    }
   ],
   "source": [
    "s40 = str(input(\"original string : \"))\n",
    "\n",
    "l_char = list(s40)\n",
    "\n",
    "print(\"string in list of charachter :\", l_char)\n"
   ]
  },
  {
   "cell_type": "code",
   "execution_count": 28,
   "id": "f37e982c-bfad-47ad-843a-a030ee28229c",
   "metadata": {},
   "outputs": [],
   "source": [
    "#41 "
   ]
  },
  {
   "cell_type": "code",
   "execution_count": 15,
   "id": "58bd00f0-2166-4d81-8f31-9aaf11d14664",
   "metadata": {},
   "outputs": [
    {
     "name": "stdout",
     "output_type": "stream",
     "text": [
      "'listen' and 'silent' are anagrams: True\n",
      "'hello' and 'world' are anagrams: False\n"
     ]
    }
   ],
   "source": [
    "def are_anagrams(str1, str2):\n",
    "    str1 = str1.replace(\" \", \"\").lower()\n",
    "    str2 = str2.replace(\" \", \"\").lower()\n",
    "\n",
    "    return sorted(str1) == sorted(str2)\n",
    "\n",
    "string1 = \"listen\"\n",
    "string2 = \"silent\"\n",
    "string3 = \"hello\"\n",
    "string4 = \"world\"\n",
    "\n",
    "result1 = are_anagrams(string1, string2)\n",
    "result2 = are_anagrams(string3, string4)\n",
    "\n",
    "print(f\"'{string1}' and '{string2}' are anagrams:\", result1)\n",
    "print(f\"'{string3}' and '{string4}' are anagrams:\", result2)"
   ]
  },
  {
   "cell_type": "code",
   "execution_count": 16,
   "id": "a1a1c3ca-26b7-4029-ba98-8d9813ec04b4",
   "metadata": {},
   "outputs": [],
   "source": [
    "#42 "
   ]
  },
  {
   "cell_type": "code",
   "execution_count": 1,
   "id": "a60d48ae-284d-4278-980e-63b2b413562b",
   "metadata": {},
   "outputs": [
    {
     "name": "stdout",
     "output_type": "stream",
     "text": [
      "Encoded text: ehoor, zruog!\n"
     ]
    }
   ],
   "source": [
    "def caesar_cipher(text, shift):\n",
    "  \"\"\"\n",
    "  Encodes a string using a Caesar cipher.\n",
    "\n",
    "  Args:\n",
    "    text: The string to encode.\n",
    "    shift: The number of positions to shift each letter.\n",
    "\n",
    "  Returns:\n",
    "    The encoded string.\n",
    "  \"\"\"\n",
    "\n",
    "  encoded_text = \"\"\n",
    "\n",
    "  for char in text:\n",
    "    if char.isalpha():\n",
    "      encoded_char = chr((ord(char) + shift - ord('a')) % 26 + ord('a'))\n",
    "    else:\n",
    "      encoded_char = char\n",
    "\n",
    "    encoded_text += encoded_char\n",
    "\n",
    "  return encoded_text\n",
    "\n",
    "text = \"Hello, world!\"\n",
    "shift = 3\n",
    "\n",
    "encoded_text = caesar_cipher(text, shift)\n",
    "\n",
    "print(\"Encoded text:\", encoded_text)"
   ]
  },
  {
   "cell_type": "code",
   "execution_count": 2,
   "id": "0d0ffb98-50fb-4a84-b302-bc1ef0a532cd",
   "metadata": {},
   "outputs": [],
   "source": [
    "#43 "
   ]
  },
  {
   "cell_type": "code",
   "execution_count": 3,
   "id": "e20a4c56-69d1-4f88-a649-db6bd0b08183",
   "metadata": {},
   "outputs": [
    {
     "name": "stdout",
     "output_type": "stream",
     "text": [
      "Decoded text: ilmm, world!\n"
     ]
    }
   ],
   "source": [
    "def caesar_cipher_decoder(text, shift):\n",
    "    \"\"\"\n",
    "    Decodes a string using a Caesar cipher.\n",
    "\n",
    "    Args:\n",
    "        text: The string to decode.\n",
    "        shift: The number of positions to shift each letter.\n",
    "\n",
    "    Returns:\n",
    "        The decoded string.\n",
    "    \"\"\"\n",
    "\n",
    "    decoded_text = \"\"\n",
    "\n",
    "    for char in text:\n",
    "        if char.isalpha():\n",
    "            decoded_char = chr((ord(char) - shift - ord('a')) % 26 + ord('a'))\n",
    "        else:\n",
    "            decoded_char = char\n",
    "\n",
    "        decoded_text += decoded_char\n",
    "\n",
    "    return decoded_text\n",
    "\n",
    "text = \"lopp, zruog!\"\n",
    "shift = 3\n",
    "\n",
    "decoded_text = caesar_cipher_decoder(text, shift)\n",
    "\n",
    "print(\"Decoded text:\", decoded_text)"
   ]
  },
  {
   "cell_type": "code",
   "execution_count": null,
   "id": "e7353b0e-02bf-410f-b774-f56bb78cc020",
   "metadata": {},
   "outputs": [],
   "source": [
    "#44 "
   ]
  },
  {
   "cell_type": "code",
   "execution_count": 6,
   "id": "2e4b2747-4143-4965-aeb6-df7e50469458",
   "metadata": {},
   "outputs": [
    {
     "name": "stdout",
     "output_type": "stream",
     "text": [
      "Most frequent word: hello\n"
     ]
    }
   ],
   "source": [
    "import re\n",
    "from collections import Counter\n",
    "\n",
    "def most_frequent_word(input_string):\n",
    "    clean_string = re.sub(r'[^\\w\\s]', '', input_string).lower()\n",
    "\n",
    "    words = clean_string.split()\n",
    "\n",
    "    word_counter = Counter(words)\n",
    "\n",
    "    most_common_word = word_counter.most_common(1)[0][0]\n",
    "\n",
    "    return most_common_word\n",
    "\n",
    "input_str = \"Hello world, hello there! How's the world?\"\n",
    "\n",
    "most_common = most_frequent_word(input_str)\n",
    "\n",
    "print(\"Most frequent word:\", most_common)"
   ]
  },
  {
   "cell_type": "code",
   "execution_count": null,
   "id": "f85deae5-c53b-4edd-b974-ce153649f2c1",
   "metadata": {},
   "outputs": [],
   "source": [
    "#45 "
   ]
  },
  {
   "cell_type": "code",
   "execution_count": 7,
   "id": "6eb9a5a1-4172-415a-9194-f3009ee83fc8",
   "metadata": {},
   "outputs": [
    {
     "name": "stdout",
     "output_type": "stream",
     "text": [
      "Unique words: {'there', 'the', 'hows', 'hello', 'world'}\n"
     ]
    }
   ],
   "source": [
    "import re\n",
    "\n",
    "def unique_words(input_string):\n",
    "    clean_string = re.sub(r'[^\\w\\s]', '', input_string).lower()\n",
    "\n",
    "    words = set(clean_string.split())\n",
    "\n",
    "    return words\n",
    "\n",
    "input_str = \"Hello world, hello there! How's the world?\"\n",
    "\n",
    "unique_word_set = unique_words(input_str)\n",
    "\n",
    "print(\"Unique words:\", unique_word_set)"
   ]
  },
  {
   "cell_type": "code",
   "execution_count": 8,
   "id": "47a147f8-743b-4673-88de-f88dfc892de2",
   "metadata": {},
   "outputs": [],
   "source": [
    "#46"
   ]
  },
  {
   "cell_type": "code",
   "execution_count": 9,
   "id": "a7be516f-fb29-4608-b026-01db11179440",
   "metadata": {},
   "outputs": [
    {
     "name": "stdout",
     "output_type": "stream",
     "text": [
      "'hello' has 2 syllables.\n",
      "'banana' has 3 syllables.\n",
      "'syllable' has 3 syllables.\n"
     ]
    }
   ],
   "source": [
    "import re\n",
    "\n",
    "def count_syllables(word):\n",
    "    vowel_groups = re.findall(r'[aeiouy]+', word, re.IGNORECASE)\n",
    "\n",
    "    return len(vowel_groups)\n",
    "\n",
    "word1 = \"hello\"\n",
    "word2 = \"banana\"\n",
    "word3 = \"syllable\"\n",
    "\n",
    "syllables1 = count_syllables(word1)\n",
    "syllables2 = count_syllables(word2)\n",
    "syllables3 = count_syllables(word3)\n",
    "\n",
    "print(f\"'{word1}' has {syllables1} syllables.\")\n",
    "print(f\"'{word2}' has {syllables2} syllables.\")\n",
    "print(f\"'{word3}' has {syllables3} syllables.\")"
   ]
  },
  {
   "cell_type": "code",
   "execution_count": null,
   "id": "af78f885-d000-4169-9fa0-2524eeac3c22",
   "metadata": {},
   "outputs": [],
   "source": [
    "#47 "
   ]
  },
  {
   "cell_type": "code",
   "execution_count": 10,
   "id": "a4729454-f5d5-45dd-8b53-15c626f15bd3",
   "metadata": {},
   "outputs": [
    {
     "name": "stdout",
     "output_type": "stream",
     "text": [
      "'Hello, world!' contains special characters: True\n",
      "'This is a test.' contains special characters: True\n",
      "'Special@Characters' contains special characters: True\n"
     ]
    }
   ],
   "source": [
    "import re\n",
    "\n",
    "def contains_special_characters(input_string):\n",
    "    pattern = re.compile(r'[!@#$%^&*()_+{}\\[\\]:;<>,.?~\\\\/]')\n",
    "\n",
    "    match = pattern.search(input_string)\n",
    "\n",
    "    return bool(match)\n",
    "\n",
    "string1 = \"Hello, world!\"\n",
    "string2 = \"This is a test.\"\n",
    "string3 = \"Special@Characters\"\n",
    "\n",
    "result1 = contains_special_characters(string1)\n",
    "result2 = contains_special_characters(string2)\n",
    "result3 = contains_special_characters(string3)\n",
    "\n",
    "print(f\"'{string1}' contains special characters:\", result1)\n",
    "print(f\"'{string2}' contains special characters:\", result2)\n",
    "print(f\"'{string3}' contains special characters:\", result3)"
   ]
  },
  {
   "cell_type": "code",
   "execution_count": null,
   "id": "13ef5d5b-3ed4-4282-8be0-779bb4a8842a",
   "metadata": {},
   "outputs": [],
   "source": [
    "#48"
   ]
  },
  {
   "cell_type": "code",
   "execution_count": 11,
   "id": "5b786acc-40a4-4e98-afae-eb6152cb7ad7",
   "metadata": {},
   "outputs": [
    {
     "name": "stdout",
     "output_type": "stream",
     "text": [
      "Original string: This is an example sentence to test the function.\n",
      "Modified string: This is an sentence to test the function.\n",
      "Removed word: example\n"
     ]
    }
   ],
   "source": [
    "def remove_nth_word(input_string, n):\n",
    "    words = input_string.split()\n",
    "\n",
    "    if n >= 1 and n <= len(words):\n",
    "        removed_word = words.pop(n - 1)\n",
    "\n",
    "        modified_string = ' '.join(words)\n",
    "\n",
    "        return modified_string, removed_word\n",
    "    else:\n",
    "        return None, None\n",
    "\n",
    "input_str = \"This is an example sentence to test the function.\"\n",
    "n_value = 4\n",
    "\n",
    "modified_str, removed_word = remove_nth_word(input_str, n_value)\n",
    "\n",
    "print(\"Original string:\", input_str)\n",
    "if modified_str is not None:\n",
    "    print(\"Modified string:\", modified_str)\n",
    "    print(\"Removed word:\", removed_word)\n",
    "else:\n",
    "    print(\"Invalid n value.\")"
   ]
  },
  {
   "cell_type": "code",
   "execution_count": null,
   "id": "32d410ae-24fb-46f1-8858-82c5dd102de6",
   "metadata": {},
   "outputs": [],
   "source": [
    "#49 Insert a word at the nth position in a string."
   ]
  },
  {
   "cell_type": "code",
   "execution_count": 28,
   "id": "7ee0942d-85c7-4a51-a22e-ca0954984087",
   "metadata": {},
   "outputs": [
    {
     "name": "stdout",
     "output_type": "stream",
     "text": [
      "The original string :  geeksgeeks\n",
      "The add string :  for\n",
      "The string after performing addition :  geeksforgeeks\n"
     ]
    }
   ],
   "source": [
    "test_string = 'geeksgeeks'\n",
    " \n",
    "add_string = \"for\"\n",
    " \n",
    "print(\"The original string : \" , test_string)\n",
    " \n",
    "print(\"The add string : \" , add_string)\n",
    " \n",
    "N = 5\n",
    " \n",
    "res = test_string[ : N] + add_string + test_string[N : ]\n",
    "     \n",
    "print(\"The string after performing addition : \" , str(res))\n"
   ]
  },
  {
   "cell_type": "code",
   "execution_count": null,
   "id": "32f9671e-fc2f-44f8-a954-9f409531ed7d",
   "metadata": {},
   "outputs": [],
   "source": [
    "#50"
   ]
  },
  {
   "cell_type": "code",
   "execution_count": null,
   "id": "ae212244-988e-417a-b205-369e0c6e7d02",
   "metadata": {},
   "outputs": [],
   "source": [
    "def csv_string_to_list(csv_string):\n",
    "    lines = csv_string.split('\\n')\n",
    "\n",
    "    result = []\n",
    "\n",
    "    for line in lines:\n",
    "        fields = line.split(',')\n",
    "\n",
    "        result.append(fields)\n",
    "\n",
    "    return result\n",
    "\n",
    "csv_data = \"Name, Age, Country\\nJohn, 25, USA\\nAlice, 30, Canada\\nBob, 22, UK\"\n",
    "\n",
    "list_of_lists = csv_string_to_list(csv_data)\n",
    "\n",
    "for row in list_of_lists:\n",
    "    print(row)"
   ]
  },
  {
   "cell_type": "code",
   "execution_count": 29,
   "id": "4cde61a5-91ac-4e6c-91aa-694bca465cb4",
   "metadata": {},
   "outputs": [],
   "source": [
    "#list \n"
   ]
  },
  {
   "cell_type": "code",
   "execution_count": 30,
   "id": "2d4a82bd-a159-4d15-a6d1-8741456d9e75",
   "metadata": {},
   "outputs": [],
   "source": [
    "#1 create list 1 to 10"
   ]
  },
  {
   "cell_type": "code",
   "execution_count": 33,
   "id": "a0cf3ca3-a423-410d-8dca-4e15e0438944",
   "metadata": {},
   "outputs": [
    {
     "name": "stdout",
     "output_type": "stream",
     "text": [
      "[1, 2, 3, 4, 5, 6, 7, 8, 9, 10]\n"
     ]
    }
   ],
   "source": [
    "intger_list = [ i for i in range(1,11)]\n",
    "\n",
    "print(intger_list)"
   ]
  },
  {
   "cell_type": "code",
   "execution_count": 34,
   "id": "07414c17-69d7-4bf3-a5a0-7d7c614549f2",
   "metadata": {},
   "outputs": [],
   "source": [
    "#2 "
   ]
  },
  {
   "cell_type": "code",
   "execution_count": 37,
   "id": "f85527e0-265c-42f1-816f-114dbdda60e3",
   "metadata": {},
   "outputs": [
    {
     "name": "stdout",
     "output_type": "stream",
     "text": [
      "length of list :  5\n"
     ]
    }
   ],
   "source": [
    "l2 = [1,2,3,4,5]\n",
    "\n",
    "count = 0\n",
    "for i in l2 :\n",
    "    count +=1\n",
    "print(\"length of list : \", count)\n"
   ]
  },
  {
   "cell_type": "code",
   "execution_count": 38,
   "id": "2edf9c68-5f6f-4404-b7c3-6a5ea6a179f0",
   "metadata": {},
   "outputs": [],
   "source": [
    "#3"
   ]
  },
  {
   "cell_type": "code",
   "execution_count": 48,
   "id": "04b96a29-3515-40d6-87aa-8f94b3545422",
   "metadata": {},
   "outputs": [
    {
     "name": "stdout",
     "output_type": "stream",
     "text": [
      "['apple', 'banana', 'mango']\n",
      "add new element in list : ['apple', 'banana', 'mango', 'grapes']\n"
     ]
    }
   ],
   "source": [
    "l3 = ['apple', 'banana', 'mango']\n",
    "\n",
    "print(l3)\n",
    "\n",
    "l3.append(\"grapes\")\n",
    "\n",
    "print(\"add new element in list :\", l3)"
   ]
  },
  {
   "cell_type": "code",
   "execution_count": 49,
   "id": "03c62f8c-8c95-42c9-8345-cb4ee4353741",
   "metadata": {},
   "outputs": [],
   "source": [
    "#4"
   ]
  },
  {
   "cell_type": "code",
   "execution_count": 9,
   "id": "ce61e3cf-e369-42fa-a1aa-9fc8ed12c32b",
   "metadata": {},
   "outputs": [
    {
     "name": "stdout",
     "output_type": "stream",
     "text": [
      "orignal list : ['apple', '123', 'mango']\n"
     ]
    },
    {
     "name": "stdin",
     "output_type": "stream",
     "text": [
      "index 0\n",
      "Enter new ruman\n"
     ]
    },
    {
     "name": "stdout",
     "output_type": "stream",
     "text": [
      "new list : ['ruman', 'apple', '123', 'mango']\n"
     ]
    }
   ],
   "source": [
    "l4 = ['apple', '123','mango']\n",
    "\n",
    "print(\"orignal list :\",l4)\n",
    "\n",
    "l4.insert(int(input(\"index\")),input(\"Enter new\"))\n",
    "\n",
    "print(\"new list :\", l4)"
   ]
  },
  {
   "cell_type": "code",
   "execution_count": 10,
   "id": "dc1aa524-f5f5-4471-8716-8b35d63eba91",
   "metadata": {},
   "outputs": [],
   "source": [
    "#5"
   ]
  },
  {
   "cell_type": "code",
   "execution_count": 18,
   "id": "8ebe55ae-5290-4a9a-a78a-5e08c59c2447",
   "metadata": {},
   "outputs": [
    {
     "name": "stdout",
     "output_type": "stream",
     "text": [
      "orignal list : ['name', 'age', 'class', 'roll']\n",
      "['name', 'class', 'roll']\n"
     ]
    }
   ],
   "source": [
    "l5 = ['name','age','class','roll']\n",
    "\n",
    "print(\"orignal list :\", l5)\n",
    "l5.remove('age')\n",
    "\n",
    "print(l5)"
   ]
  },
  {
   "cell_type": "code",
   "execution_count": 15,
   "id": "bdebad73-e206-4f53-8ef5-1ac6774b1062",
   "metadata": {},
   "outputs": [],
   "source": [
    "#6 "
   ]
  },
  {
   "cell_type": "code",
   "execution_count": 3,
   "id": "59b4fe6d-9269-4ff7-b14f-694f8ca47e7b",
   "metadata": {},
   "outputs": [
    {
     "name": "stdout",
     "output_type": "stream",
     "text": [
      "orignal list : ['ruman', 12, 'saba', 45]\n"
     ]
    },
    {
     "name": "stdin",
     "output_type": "stream",
     "text": [
      "enter index for delete 1\n"
     ]
    },
    {
     "name": "stdout",
     "output_type": "stream",
     "text": [
      "new : ['ruman', 'saba', 45]\n"
     ]
    }
   ],
   "source": [
    "l6 = ['ruman',12, 'saba', 45]\n",
    "\n",
    "print(\"orignal list :\", l6)\n",
    "\n",
    "l6.pop(int(input(\"enter index for delete\")))\n",
    "print(\"new :\",l6)"
   ]
  },
  {
   "cell_type": "code",
   "execution_count": 4,
   "id": "faa60365-73d2-4416-97eb-96618996b486",
   "metadata": {},
   "outputs": [],
   "source": [
    "# 7 check element exist in a list ."
   ]
  },
  {
   "cell_type": "code",
   "execution_count": 13,
   "id": "818b1b01-158c-453b-8317-3a266b3d7d70",
   "metadata": {},
   "outputs": [
    {
     "name": "stdout",
     "output_type": "stream",
     "text": [
      "['mango', 'banana', 'govava', 'water-melon']\n"
     ]
    },
    {
     "name": "stdin",
     "output_type": "stream",
     "text": [
      "inter the to check exist or not melon\n"
     ]
    },
    {
     "name": "stdout",
     "output_type": "stream",
     "text": [
      "melon is not exist\n"
     ]
    }
   ],
   "source": [
    "l7 = ['mango', 'banana', 'govava', 'water-melon']\n",
    "\n",
    "print(l7)\n",
    "i = input(\"inter the to check exist or not\")\n",
    "\n",
    "if i in l7 :\n",
    "    print(i,\" is exist\")    \n",
    "else :\n",
    "    print(i, \"is not exist\")"
   ]
  },
  {
   "cell_type": "code",
   "execution_count": 14,
   "id": "37984d7b-5f1a-4835-9cf7-a26accde1c59",
   "metadata": {},
   "outputs": [],
   "source": [
    "#8 . Find the index of the first occurrence of an element in a list."
   ]
  },
  {
   "cell_type": "code",
   "execution_count": 38,
   "id": "eda1f5af-7918-41ff-8ade-d2d2fece8425",
   "metadata": {},
   "outputs": [
    {
     "name": "stdout",
     "output_type": "stream",
     "text": [
      "original  ['mango', '5', '5', '5', 'mango', 'as', 'as', 'as']\n"
     ]
    },
    {
     "name": "stdin",
     "output_type": "stream",
     "text": [
      "enter the value to find index 5\n"
     ]
    },
    {
     "name": "stdout",
     "output_type": "stream",
     "text": [
      "index 1\n"
     ]
    }
   ],
   "source": [
    "l8 = ['mango','5','5','5','mango','as','as','as']\n",
    "\n",
    "print(\"original \", l8)\n",
    "\n",
    "i=l8.index(input(\"enter the value to find index\"))\n",
    "print(\"index\",i)   \n"
   ]
  },
  {
   "cell_type": "code",
   "execution_count": 39,
   "id": "5223c621-694c-4ed1-8d19-a3e02e1eaf78",
   "metadata": {},
   "outputs": [],
   "source": [
    "#9 Count the occurrences of an element in a list."
   ]
  },
  {
   "cell_type": "code",
   "execution_count": 54,
   "id": "5baea260-5e23-4d57-b51f-1540716062b4",
   "metadata": {},
   "outputs": [
    {
     "name": "stdin",
     "output_type": "stream",
     "text": [
      "enter the number 7\n"
     ]
    },
    {
     "name": "stdout",
     "output_type": "stream",
     "text": [
      "7  : 2\n"
     ]
    }
   ],
   "source": [
    "l9 = [5,3,4,3,3,3,2,2,2,1,11,7,7,75,555,4,4,4]\n",
    "x = int(input('enter the number'))\n",
    "count = 0 \n",
    "for i in l9:\n",
    "    if i == x :\n",
    "        count +=1\n",
    "        \n",
    "print(x,' :',count)       "
   ]
  },
  {
   "cell_type": "code",
   "execution_count": 52,
   "id": "9084d7f2-02d4-417f-a4b8-43d3b0513191",
   "metadata": {},
   "outputs": [],
   "source": [
    "#10 Reverse the order of elements in a list."
   ]
  },
  {
   "cell_type": "code",
   "execution_count": 6,
   "id": "2c0f35cb-2652-4c40-b3e2-60a7b0eb9afc",
   "metadata": {},
   "outputs": [
    {
     "name": "stdout",
     "output_type": "stream",
     "text": [
      "orignal list : ['ruman', 123, 'saba', 'math']\n",
      "reverse list :  ['math', 'saba', 123, 'ruman']\n"
     ]
    }
   ],
   "source": [
    "l10 = [\"ruman\", 123, \"saba\", \"math\"]\n",
    "print(\"orignal list :\",l10)\n",
    "\n",
    "print(\"reverse list : \",l10[::-1])"
   ]
  },
  {
   "cell_type": "code",
   "execution_count": 7,
   "id": "3e0420ed-c17b-48b8-81a0-33b992413573",
   "metadata": {},
   "outputs": [],
   "source": [
    "#11 Sort a list in ascending order."
   ]
  },
  {
   "cell_type": "code",
   "execution_count": 29,
   "id": "a4f7d1ec-898b-445e-b937-5d1a750e51ad",
   "metadata": {},
   "outputs": [
    {
     "name": "stdout",
     "output_type": "stream",
     "text": [
      "orignal list : [1, 2, 22, 32, 0, 90, 24]\n",
      "sorted : [0, 1, 2, 22, 24, 32, 90]\n"
     ]
    }
   ],
   "source": [
    "l11 = [1,2,22,32,0,90,24]\n",
    "print(\"orignal list :\",l11)\n",
    "l11.sort()\n",
    "print(\"sorted :\",l11)\n",
    "    "
   ]
  },
  {
   "cell_type": "code",
   "execution_count": 12,
   "id": "94104ca3-7f3a-46fa-a459-746e4cc5e10e",
   "metadata": {},
   "outputs": [],
   "source": [
    "#12 Sort a list in descending order."
   ]
  },
  {
   "cell_type": "code",
   "execution_count": 32,
   "id": "8a76a949-a0e8-42cb-b185-aee19ba6a809",
   "metadata": {},
   "outputs": [
    {
     "name": "stdout",
     "output_type": "stream",
     "text": [
      "orignal list : [23, 1, 3, 2, 7, 8, 10, 5]\n",
      "desending : [23, 10, 8, 7, 5, 3, 2, 1]\n"
     ]
    }
   ],
   "source": [
    "l12 = [23,1,3,2,7,8,10,5]\n",
    "print(\"orignal list :\",l12)\n",
    "l12.sort(reverse=True)\n",
    "\n",
    "print(\"desending :\",l12)"
   ]
  },
  {
   "cell_type": "code",
   "execution_count": 13,
   "id": "1e91dc1c-6cad-432f-b259-34ec7e9d5b85",
   "metadata": {},
   "outputs": [],
   "source": [
    "#13 Create a list of even numbers from 1 to 20."
   ]
  },
  {
   "cell_type": "code",
   "execution_count": 19,
   "id": "323fef7f-7929-4884-87b8-049e00667d13",
   "metadata": {},
   "outputs": [
    {
     "name": "stdout",
     "output_type": "stream",
     "text": [
      "Even Number\n",
      "[2, 4, 6, 8, 10, 12, 14, 16, 18, 20]\n"
     ]
    }
   ],
   "source": [
    "l13 = []\n",
    "for i in range(1,21) :\n",
    "    if i%2==0 :\n",
    "        l13.append(i)\n",
    "        \n",
    "print(\"Even Number\")\n",
    "print(l13)"
   ]
  },
  {
   "cell_type": "code",
   "execution_count": 17,
   "id": "2e7f4917-6366-479b-9d7c-6d8c394c083e",
   "metadata": {},
   "outputs": [],
   "source": [
    "#14 Create a list of odd numbers from 1 to 20."
   ]
  },
  {
   "cell_type": "code",
   "execution_count": 20,
   "id": "ad089de6-0ddf-4301-b65e-de0987269b9b",
   "metadata": {},
   "outputs": [
    {
     "name": "stdout",
     "output_type": "stream",
     "text": [
      "Odd Number\n",
      "[1, 3, 5, 7, 9, 11, 13, 15, 17, 19]\n"
     ]
    }
   ],
   "source": [
    "l14 = []\n",
    "for i in range(1,21):\n",
    "    if i%2!=0 :\n",
    "        l14.append(i)\n",
    "print(\"Odd Number\")\n",
    "print(l14)"
   ]
  },
  {
   "cell_type": "code",
   "execution_count": 21,
   "id": "7b46a837-64af-47df-a24c-2f24c76bd860",
   "metadata": {},
   "outputs": [],
   "source": [
    "#15 Find the sum of all elements in a list."
   ]
  },
  {
   "cell_type": "code",
   "execution_count": 26,
   "id": "aa7470e6-2a9f-48bf-bcb8-55f6dbbe2796",
   "metadata": {},
   "outputs": [
    {
     "name": "stdout",
     "output_type": "stream",
     "text": [
      "Sum of all elements in list :\n",
      "45\n"
     ]
    }
   ],
   "source": [
    "l15 = [1,2,3,4,5,6,7,8,9]\n",
    "\n",
    "sum_e = 0\n",
    "for i in l15:\n",
    "    sum_e += i\n",
    "\n",
    "print(\"Sum of all elements in list :\")\n",
    "print(sum_e)"
   ]
  },
  {
   "cell_type": "code",
   "execution_count": null,
   "id": "32f41997-e679-4ec2-b442-83c931c85fc8",
   "metadata": {},
   "outputs": [],
   "source": [
    "#16 Find the maximum value in a list."
   ]
  },
  {
   "cell_type": "code",
   "execution_count": 27,
   "id": "3ec3e340-b7f9-4f24-a67f-c221c1844202",
   "metadata": {},
   "outputs": [
    {
     "name": "stdout",
     "output_type": "stream",
     "text": [
      "56\n"
     ]
    }
   ],
   "source": [
    "l16 = [34,23,12,56,23]\n",
    "\n",
    "max_list = 0\n",
    "\n",
    "for i in l16 :\n",
    "    if i > max_list :\n",
    "        max_list = i\n",
    "        \n",
    "print(max_list)"
   ]
  },
  {
   "cell_type": "code",
   "execution_count": null,
   "id": "4cf6d5c5-fff8-4dce-bf29-99d0cd0757c9",
   "metadata": {},
   "outputs": [],
   "source": [
    "#17 Find the minimum value in a list."
   ]
  },
  {
   "cell_type": "code",
   "execution_count": 29,
   "id": "e27f94bc-6413-4303-90ee-dc53822c3330",
   "metadata": {},
   "outputs": [
    {
     "name": "stdout",
     "output_type": "stream",
     "text": [
      "minimum value : 1\n"
     ]
    }
   ],
   "source": [
    "l17 = [43,21,12,43,1]\n",
    "\n",
    "print(\"minimum value :\",min(l17))"
   ]
  },
  {
   "cell_type": "code",
   "execution_count": 30,
   "id": "61507325-6a26-463e-8085-94e328b6dc2d",
   "metadata": {},
   "outputs": [],
   "source": [
    "#18 Create a list of squares of numbers from 1 to 10."
   ]
  },
  {
   "cell_type": "code",
   "execution_count": 32,
   "id": "fdff3f0c-9b3b-4eaf-b2bb-27e5b37ee5b2",
   "metadata": {},
   "outputs": [
    {
     "name": "stdout",
     "output_type": "stream",
     "text": [
      "[1, 4, 9, 16, 25, 36, 49, 64, 81, 100]\n"
     ]
    }
   ],
   "source": [
    "\n",
    "l18 = []\n",
    "\n",
    "sqr = [x**2 for x in range(1,11) ]\n",
    "\n",
    "print(sqr)\n"
   ]
  },
  {
   "cell_type": "code",
   "execution_count": 33,
   "id": "15aab488-123e-422d-9b81-e73ef8038626",
   "metadata": {},
   "outputs": [],
   "source": [
    "#19 Create a list of random numbers."
   ]
  },
  {
   "cell_type": "code",
   "execution_count": 1,
   "id": "f2dd58e2-b8a2-4af3-8c6d-6730520bae5d",
   "metadata": {},
   "outputs": [],
   "source": [
    "import random"
   ]
  },
  {
   "cell_type": "code",
   "execution_count": 5,
   "id": "386b68da-9350-416e-bcb7-144f14174dae",
   "metadata": {},
   "outputs": [
    {
     "name": "stdout",
     "output_type": "stream",
     "text": [
      "[6, 6, 6, 3, 6, 3, 6, 9, 3, 8]\n"
     ]
    }
   ],
   "source": [
    "rand_list = []\n",
    "n = 10\n",
    "\n",
    "for i in range(n):\n",
    "    rand_list.append(random.randint(3,9))\n",
    "print(rand_list)"
   ]
  },
  {
   "cell_type": "code",
   "execution_count": null,
   "id": "2e5b8beb-447f-4dd6-8a0f-e2fca0677ae7",
   "metadata": {},
   "outputs": [],
   "source": [
    "#20 Remove duplicates from a list."
   ]
  },
  {
   "cell_type": "code",
   "execution_count": 9,
   "id": "3ed1f914-e59b-40bd-a1a2-157c08f65b70",
   "metadata": {},
   "outputs": [
    {
     "name": "stdout",
     "output_type": "stream",
     "text": [
      "orignal list [1, 1, 2, 3, 4, 3, 3, 3, 4, 4, 8, 86, 6, 2]\n",
      "remove duplicates : [1, 2, 3, 4, 6, 8, 86]\n"
     ]
    }
   ],
   "source": [
    "l20 = [1,1,2,3,4,3,3,3,4,4,8,86,6,2]\n",
    "\n",
    "print(\"orignal list\",l20)\n",
    "\n",
    "print(\"remove duplicates :\",list(set(l20)))\n",
    "\n"
   ]
  },
  {
   "cell_type": "code",
   "execution_count": null,
   "id": "45b8723a-5c50-4a9a-b1a3-4e78416ca42c",
   "metadata": {},
   "outputs": [],
   "source": [
    "#21 Find the common elements between two list."
   ]
  },
  {
   "cell_type": "code",
   "execution_count": 36,
   "id": "88c713bb-b347-4f12-8071-75f5c964964b",
   "metadata": {},
   "outputs": [
    {
     "name": "stdout",
     "output_type": "stream",
     "text": [
      "Comman between lists: [30, 40, 50]\n"
     ]
    }
   ],
   "source": [
    "list_1 = [10, 20, 30, 40, 50]\n",
    "list_2= [30, 40, 50, 60, 70]\n",
    "\n",
    "comman = []\n",
    "\n",
    "for i in list_1 :\n",
    "    for i2 in list_2 :\n",
    "        if i == i2 :\n",
    "            comman.append(i)\n",
    "print(\"Comman between lists:\", comman)"
   ]
  },
  {
   "cell_type": "code",
   "execution_count": null,
   "id": "0805435e-cdf9-4148-a2c4-b7c729f9ba66",
   "metadata": {},
   "outputs": [],
   "source": [
    "#22. Find the difference between two lists."
   ]
  },
  {
   "cell_type": "code",
   "execution_count": 34,
   "id": "aa45e0b1-9f21-42fa-b873-c1e7a0e3c254",
   "metadata": {},
   "outputs": [
    {
     "name": "stdout",
     "output_type": "stream",
     "text": [
      "Difference between lists: [20, 10]\n"
     ]
    }
   ],
   "source": [
    "list1 = [10, 20, 30, 40, 50]\n",
    "list2 = [30, 40, 50, 60, 70]\n",
    "\n",
    "difference = list(set(list1).difference(list2))\n",
    "print(\"Difference between lists:\", difference)"
   ]
  },
  {
   "cell_type": "code",
   "execution_count": null,
   "id": "568d3a28-feca-4561-94ee-97cafa758de0",
   "metadata": {},
   "outputs": [],
   "source": [
    "#23. Merge two lists."
   ]
  },
  {
   "cell_type": "code",
   "execution_count": 12,
   "id": "f4694c0a-b286-4e7f-89a2-7eda8668c90f",
   "metadata": {},
   "outputs": [
    {
     "name": "stdout",
     "output_type": "stream",
     "text": [
      "list 1 : [1, 3, 65] , list 2 : [8, 7, 6]\n",
      "merge two list : [1, 3, 65, 8, 7, 6]\n"
     ]
    }
   ],
   "source": [
    "l23 = [1,3,65]\n",
    "l24 = [8,7,6]\n",
    "\n",
    "print(\"list 1 :\",l23 , \", list 2 :\",l24)\n",
    "\n",
    "x = l23 + l24\n",
    "print(\"merge two list :\",x)"
   ]
  },
  {
   "cell_type": "code",
   "execution_count": 13,
   "id": "e76185fb-5c05-4a01-a6ff-5d41c696626b",
   "metadata": {},
   "outputs": [],
   "source": [
    "#24 Multiply all elements in list by 2."
   ]
  },
  {
   "cell_type": "code",
   "execution_count": 19,
   "id": "073799aa-9222-42a2-8da0-d868cd0c4197",
   "metadata": {},
   "outputs": [
    {
     "name": "stdout",
     "output_type": "stream",
     "text": [
      "multiplyed list :  [2, 4, 6, 8, 'rumanruman']\n"
     ]
    }
   ],
   "source": [
    "l024 = [1,2,3,4,'ruman']\n",
    "\n",
    "multi_list = [x*2 for x in l024]\n",
    "\n",
    "print(\"multiplyed list : \",multi_list)"
   ]
  },
  {
   "cell_type": "code",
   "execution_count": 18,
   "id": "56c69fa9-1a0e-4320-aa71-bc517e307028",
   "metadata": {},
   "outputs": [
    {
     "name": "stdout",
     "output_type": "stream",
     "text": [
      "multiplyed list : [2, 4, 6, 8, 'rumanruman']\n"
     ]
    }
   ],
   "source": [
    "multi = []\n",
    "for i in l024 :\n",
    "    x = i*2\n",
    "    multi.append(x)\n",
    "print(\"multiplyed list :\",multi)"
   ]
  },
  {
   "cell_type": "code",
   "execution_count": 20,
   "id": "e982fe88-db83-429a-92c4-ec1a3aadd958",
   "metadata": {},
   "outputs": [],
   "source": [
    "#25 Filter out all even numbers from list."
   ]
  },
  {
   "cell_type": "code",
   "execution_count": 22,
   "id": "27bad74e-3663-4e5a-8d63-61aac3661e31",
   "metadata": {},
   "outputs": [
    {
     "name": "stdout",
     "output_type": "stream",
     "text": [
      "filter list : [11, 43, 55, 67]\n"
     ]
    }
   ],
   "source": [
    "l26 = [11,32,43,55,66,67,24]\n",
    "\n",
    "filter_list = []\n",
    "for i in l26 :\n",
    "    if i%2!= 0 :\n",
    "        filter_list.append(i)\n",
    "print('filter list :',filter_list)"
   ]
  },
  {
   "cell_type": "code",
   "execution_count": null,
   "id": "c883fede-0dfb-4d42-af1f-c4ce98f9f507",
   "metadata": {},
   "outputs": [],
   "source": [
    "#26 Convert a list of strings to a list of integers."
   ]
  },
  {
   "cell_type": "code",
   "execution_count": 24,
   "id": "846bf16d-80fa-4695-9cb1-c4fe724c3f75",
   "metadata": {},
   "outputs": [
    {
     "name": "stdout",
     "output_type": "stream",
     "text": [
      "string list : ['1', '2', '3', '4', '5', '6', '7', '8', '9', '10']\n",
      "intger list :  [1, 2, 3, 4, 5, 6, 7, 8, 9, 10]\n"
     ]
    }
   ],
   "source": [
    "l26 = [\"1\", \"2\", \"3\",\"4\", \"5\", \"6\", \"7\", \"8\", \"9\", \"10\"]\n",
    "\n",
    "print(\"string list :\", l26)\n",
    "int_list = []\n",
    "for i in l26 :\n",
    "    int_list.append(int(i))\n",
    "    \n",
    "print(\"intger list : \", int_list)"
   ]
  },
  {
   "cell_type": "code",
   "execution_count": null,
   "id": "d14b4eed-d4f9-43c7-b4d1-1a966216ee9f",
   "metadata": {},
   "outputs": [],
   "source": [
    "#27 Convert a list of integers to a list of string."
   ]
  },
  {
   "cell_type": "code",
   "execution_count": 25,
   "id": "b5d10598-7c4f-40a9-a33a-abede140ff2a",
   "metadata": {},
   "outputs": [
    {
     "name": "stdout",
     "output_type": "stream",
     "text": [
      "string list : ['1', '2', '3', '4', '5', '6', '7']\n"
     ]
    }
   ],
   "source": [
    "l27 = [1,2,3,4,5,6,7]\n",
    "\n",
    "string_list = []\n",
    "for i in l27 :\n",
    "    string_list.append(str(i))\n",
    "    \n",
    "print(\"string list :\", string_list)"
   ]
  },
  {
   "cell_type": "code",
   "execution_count": 26,
   "id": "b94fcd32-6d10-42a0-b501-9e0e2678ccc7",
   "metadata": {},
   "outputs": [],
   "source": [
    "#28 Flatten a nested list."
   ]
  },
  {
   "cell_type": "code",
   "execution_count": 3,
   "id": "1084b4e1-fa4f-46ac-a8a6-8dfc6d45f1ad",
   "metadata": {},
   "outputs": [
    {
     "name": "stdout",
     "output_type": "stream",
     "text": [
      "Flattened list : [1, 2, 3, 4, 5, 6, 7, 8, 9]\n"
     ]
    }
   ],
   "source": [
    "nested_list = [[1,2,3],[4,5,6],[7,8,9]]\n",
    "\n",
    "def flatten_list(nested):\n",
    "    flattened = []\n",
    "    for sublist in nested:\n",
    "        if isinstance(sublist, list):\n",
    "            flattened.extend(flatten_list(sublist))\n",
    "        else:\n",
    "            flattened.append(sublist)\n",
    "            \n",
    "    return flattened\n",
    "\n",
    "flattened_list = flatten_list(nested_list)\n",
    "print(\"Flattened list :\", flattened_list)\n"
   ]
  },
  {
   "cell_type": "code",
   "execution_count": null,
   "id": "cf5833d7-f559-4b08-9bf0-719d3f53bad8",
   "metadata": {},
   "outputs": [],
   "source": [
    "#29. Create a list of the first 10 Fibonacci numbers."
   ]
  },
  {
   "cell_type": "code",
   "execution_count": 4,
   "id": "7aefa8de-b35f-4056-8576-6f822458a570",
   "metadata": {},
   "outputs": [
    {
     "name": "stdout",
     "output_type": "stream",
     "text": [
      "first 10 fibonacci numbers: [0, 1]\n"
     ]
    }
   ],
   "source": [
    "def generate_fibonacci(n):\n",
    "    fibonacci_list = [0,1]\n",
    "    \n",
    "    for i in range(2,n):\n",
    "        next_fibonacci = fibonacci_list[i-1]+ fibonacci_list[i-2]\n",
    "        fibonacci_list.append(next_fibonacci)\n",
    "    \n",
    "    return fibonacci_list\n",
    "\n",
    "fibonacci_numbers = generate_fibonacci(2)\n",
    "\n",
    "print(\"first 10 fibonacci numbers:\", fibonacci_numbers)\n",
    "    "
   ]
  },
  {
   "cell_type": "code",
   "execution_count": null,
   "id": "245eb032-ea40-4fd2-a80a-694fb3e372b8",
   "metadata": {},
   "outputs": [],
   "source": [
    "#30. Check if a list is stored."
   ]
  },
  {
   "cell_type": "code",
   "execution_count": 9,
   "id": "250cec87-061d-4a50-803a-64bfe7e08c94",
   "metadata": {},
   "outputs": [
    {
     "name": "stdout",
     "output_type": "stream",
     "text": [
      "The list is stored in asending order.\n"
     ]
    }
   ],
   "source": [
    "def is_sorted_ascending(lst):\n",
    "    for i in range(1,len(lst)):\n",
    "        if lst[i] < lst[i-1]:\n",
    "            return False \n",
    "    return True\n",
    "    \n",
    "ascending_list = [10,20,30,40,50]\n",
    "    \n",
    "if is_sorted_ascending(ascending_list):\n",
    "    print(\"The list is stored in asending order.\")\n",
    "else:\n",
    "    print(\"the list is not sorted in ascending order,\")"
   ]
  },
  {
   "cell_type": "code",
   "execution_count": null,
   "id": "e4ee8e03-e607-4f90-96b4-8aafaf88340d",
   "metadata": {},
   "outputs": [],
   "source": [
    "#31. Rotate a list to the left by `n` positions."
   ]
  },
  {
   "cell_type": "code",
   "execution_count": 12,
   "id": "2f424a39-effa-48c4-ad80-46ca54b6be03",
   "metadata": {},
   "outputs": [
    {
     "name": "stdout",
     "output_type": "stream",
     "text": [
      "rotated list: [5, 6, 1, 2, 3, 4]\n"
     ]
    }
   ],
   "source": [
    "def rotate_left(lst, n):\n",
    "    n = n%len(lst)\n",
    "    rotated = lst[n:] + lst[:n]\n",
    "    return rotated\n",
    "\n",
    "my_list = [1,2,3,4,5,6]\n",
    "n= 4\n",
    "\n",
    "rotated_list = rotate_left(my_list, n)\n",
    "print(\"rotated list:\", rotated_list)"
   ]
  },
  {
   "cell_type": "code",
   "execution_count": null,
   "id": "98f0de8b-3cc4-47da-830d-030ffa605f7d",
   "metadata": {},
   "outputs": [],
   "source": [
    "#32. Rotate a list to the right by `n` positions."
   ]
  },
  {
   "cell_type": "code",
   "execution_count": 1,
   "id": "78a2e716-300e-4f28-8bdc-7b5be15eafdd",
   "metadata": {},
   "outputs": [
    {
     "name": "stdout",
     "output_type": "stream",
     "text": [
      "Rotated listed [5, 6, 1, 2, 3, 4]\n"
     ]
    }
   ],
   "source": [
    "def rotate_right(lst, n):\n",
    "    n = n%len(lst)\n",
    "    rotated = lst[-n:] + lst[:-n]\n",
    "    return rotated\n",
    "\n",
    "my_list = [1,2,3,4,5,6]\n",
    "\n",
    "n=2\n",
    "\n",
    "rotated_list = rotate_right(my_list, n)\n",
    "\n",
    "print(\"Rotated listed\",rotated_list)"
   ]
  },
  {
   "cell_type": "code",
   "execution_count": 38,
   "id": "8db161fb-45b9-45a9-b7dc-d221e85c2f91",
   "metadata": {},
   "outputs": [],
   "source": [
    "#33 Create a list of prime numbers up to 50."
   ]
  },
  {
   "cell_type": "code",
   "execution_count": 2,
   "id": "b39f5ffd-d123-4f0f-8bbb-4a67c2783a7a",
   "metadata": {},
   "outputs": [
    {
     "name": "stdout",
     "output_type": "stream",
     "text": [
      "5 25\n",
      "5 29\n",
      "list of prime numbers up to 50: [5, 7, 11, 13, 17, 19, 23, 29]\n"
     ]
    }
   ],
   "source": [
    "def is_prime(num):\n",
    "    if num <=1:\n",
    "        return False\n",
    "    if num <= 3:\n",
    "        return False\n",
    "    if num%2==0 or num%3 ==0:\n",
    "        return False\n",
    "    i = 5\n",
    "    \n",
    "    while i*i <= num:\n",
    "        print(i,num)\n",
    "        if num %i == 0 or num %(i +2)==0:\n",
    "            return False\n",
    "        i+=6\n",
    "    return True\n",
    "\n",
    "prime_numbers = [num for num in range(2,30) if is_prime(num)]\n",
    "print(\"list of prime numbers up to 50:\", prime_numbers)"
   ]
  },
  {
   "cell_type": "code",
   "execution_count": 3,
   "id": "fc367b89-5ad9-4228-8bb3-ae907ff5b504",
   "metadata": {},
   "outputs": [],
   "source": [
    "#34 split a list into chunks of size n."
   ]
  },
  {
   "cell_type": "code",
   "execution_count": 4,
   "id": "ee77a6d6-c5c6-4f0a-a817-56fd783ddad5",
   "metadata": {},
   "outputs": [
    {
     "name": "stdout",
     "output_type": "stream",
     "text": [
      "list of prime numbers up to 50: [2, 3, 5, 7, 11, 13, 17, 19, 23, 29, 31, 37, 41, 43, 47]\n"
     ]
    }
   ],
   "source": [
    "def sieve_of_eratosthenes(limit):\n",
    "    primes = []\n",
    "    is_prime = [True] * (limit + 1)\n",
    "    is_prime[0] = is_prime[1] = False\n",
    "    \n",
    "    for num in range(2, int(limit**0.5) + 1):\n",
    "        if is_prime[num]:\n",
    "            primes.append(num)\n",
    "            for multiple in range(num*num, limit + 1, num) :\n",
    "                is_prime[multiple] = False\n",
    "                \n",
    "    for num in range(int(limit**0.5) + 1, limit+1):\n",
    "        if is_prime[num]:\n",
    "            primes.append(num)\n",
    "            \n",
    "    return primes\n",
    "\n",
    "prime_numbers = sieve_of_eratosthenes(50)\n",
    "\n",
    "print(\"list of prime numbers up to 50:\", prime_numbers)"
   ]
  },
  {
   "cell_type": "code",
   "execution_count": 5,
   "id": "b8cee975-5ed7-46e6-a157-cfcd717ccfac",
   "metadata": {},
   "outputs": [],
   "source": [
    "#35 find the second largest number in a list."
   ]
  },
  {
   "cell_type": "code",
   "execution_count": 12,
   "id": "9a5c8ca5-6cdb-48f9-8819-138651b32b86",
   "metadata": {},
   "outputs": [
    {
     "name": "stdout",
     "output_type": "stream",
     "text": [
      "Seconnd largest number: 25\n"
     ]
    }
   ],
   "source": [
    "my_list = [10, 5, 20, 15, 30, 25]\n",
    "\n",
    "sorted_list = sorted(set(my_list))\n",
    "\n",
    "if len(sorted_list)>=2:\n",
    "    second_largest = sorted_list[-2]\n",
    "    print(\"Seconnd largest number:\", second_largest)\n",
    "    \n",
    "else:\n",
    "    print(\"the list does not contain enough elements.\")"
   ]
  },
  {
   "cell_type": "code",
   "execution_count": null,
   "id": "1063eb56-b218-4b96-882a-e1dc074c1df5",
   "metadata": {},
   "outputs": [],
   "source": [
    "#36 replace every element in a list with its square"
   ]
  },
  {
   "cell_type": "code",
   "execution_count": 14,
   "id": "d02226ad-361b-43e9-b441-81a98241b4b8",
   "metadata": {},
   "outputs": [
    {
     "name": "stdout",
     "output_type": "stream",
     "text": [
      "Squared list: [4, 16, 36, 64, 100]\n"
     ]
    }
   ],
   "source": [
    "my_list = [2,4,6,8,10]\n",
    "\n",
    "squared_list = [x**2 for x in my_list]\n",
    "\n",
    "print(\"Squared list:\",squared_list)"
   ]
  },
  {
   "cell_type": "code",
   "execution_count": 15,
   "id": "11b5ce25-f326-4486-882a-217f88cc90fa",
   "metadata": {},
   "outputs": [],
   "source": [
    "#37 convert a list to dictionary where list elements become keys and thier indices become values."
   ]
  },
  {
   "cell_type": "code",
   "execution_count": 16,
   "id": "46b58828-feb6-4704-bdf5-134976b9dd31",
   "metadata": {},
   "outputs": [
    {
     "name": "stdout",
     "output_type": "stream",
     "text": [
      "Converted dictionary: {'apple': 0, 'banana': 1, 'cherry': 2, 'date': 3, 'elderberry': 4}\n"
     ]
    }
   ],
   "source": [
    "my_list = ['apple', 'banana', 'cherry', 'date', 'elderberry']\n",
    "my_dict = {element: index for index, element in enumerate(my_list)}\n",
    "\n",
    "print(\"Converted dictionary:\",my_dict)"
   ]
  },
  {
   "cell_type": "code",
   "execution_count": 17,
   "id": "ac7bc4db-ed83-4950-8ebe-54d0d5ebc252",
   "metadata": {},
   "outputs": [],
   "source": [
    "#38 shuffle the element of a list randomly."
   ]
  },
  {
   "cell_type": "code",
   "execution_count": 18,
   "id": "2b7d2caf-e10d-492c-8ceb-69aa7df8ec99",
   "metadata": {},
   "outputs": [
    {
     "name": "stdout",
     "output_type": "stream",
     "text": [
      "shuffled list: [3, 6, 10, 2, 5, 9, 8, 4, 1, 7]\n"
     ]
    }
   ],
   "source": [
    "import random \n",
    "\n",
    "my_list = [1,2,3,4,5,6,7,8,9,10]\n",
    "\n",
    "random.shuffle(my_list)\n",
    "\n",
    "print(\"shuffled list:\", my_list)"
   ]
  },
  {
   "cell_type": "code",
   "execution_count": null,
   "id": "f75bdde6-8b19-4bad-a196-aacba01c9704",
   "metadata": {},
   "outputs": [],
   "source": [
    "#39 create a list of the first 10 factorial numbers."
   ]
  },
  {
   "cell_type": "code",
   "execution_count": 24,
   "id": "74fd80b3-fba3-4a93-a3d9-bb117a767da0",
   "metadata": {},
   "outputs": [
    {
     "name": "stdout",
     "output_type": "stream",
     "text": [
      "List of the first 10 factorial numbers: [1, 1, 2, 6, 24, 120, 720, 5040, 40320, 362880]\n"
     ]
    }
   ],
   "source": [
    "def factorial(n):\n",
    "    if n == 0 or n == 1:\n",
    "        return 1\n",
    "    else:\n",
    "        return n * factorial(n - 1)\n",
    "\n",
    "factorial_numbers = [factorial(i) for i in range(10)]\n",
    "\n",
    "print(\"List of the first 10 factorial numbers:\", factorial_numbers)"
   ]
  },
  {
   "cell_type": "code",
   "execution_count": null,
   "id": "8293390d-8e75-44b5-be08-0ec45a5a675d",
   "metadata": {},
   "outputs": [],
   "source": [
    "#40 "
   ]
  },
  {
   "cell_type": "code",
   "execution_count": 23,
   "id": "1bf44179-2c94-42f6-9940-3a5e30ff064a",
   "metadata": {},
   "outputs": [
    {
     "name": "stdout",
     "output_type": "stream",
     "text": [
      "the list have at least one common element\n"
     ]
    }
   ],
   "source": [
    "def has_common_element(list1, list2):\n",
    "    for item in list1:\n",
    "        if item in list2:\n",
    "            return True\n",
    "    return False \n",
    "\n",
    "list1 = [1, 2, 3, 4,5]\n",
    "list2 = [4, 5, 6, 7, 8]\n",
    "\n",
    "if has_common_element(list1, list2):\n",
    "    print(\"the list have at least one common element\")\n",
    "    \n",
    "else :\n",
    "    print(\"the list do not have any common elements.\")\n",
    "    "
   ]
  },
  {
   "cell_type": "code",
   "execution_count": null,
   "id": "6c1123d8-0001-4712-abea-7e1e643e4ff3",
   "metadata": {},
   "outputs": [],
   "source": []
  },
  {
   "cell_type": "code",
   "execution_count": 38,
   "id": "5f195f6d-1973-4c0c-99ae-1a7306e1e040",
   "metadata": {},
   "outputs": [],
   "source": [
    "#41 Remove all elements from a list."
   ]
  },
  {
   "cell_type": "code",
   "execution_count": 42,
   "id": "92881448-9006-40cb-a1a3-7aa9fe0db9aa",
   "metadata": {},
   "outputs": [
    {
     "name": "stdout",
     "output_type": "stream",
     "text": [
      "list : [1, 2, 3, 4, 5]\n",
      "remove all element list : []\n"
     ]
    }
   ],
   "source": [
    "l41 = [1,2,3,4,5]\n",
    "print(\"list :\", l41)\n",
    "l41.clear()\n",
    "\n",
    "print(\"remove all element list :\", l41)"
   ]
  },
  {
   "cell_type": "code",
   "execution_count": 43,
   "id": "ab0bf7ec-24dd-47e3-ac7b-b7c16b516ce7",
   "metadata": {},
   "outputs": [],
   "source": [
    "#42 Replace negative numbers in a list with 0"
   ]
  },
  {
   "cell_type": "code",
   "execution_count": 47,
   "id": "b2eedb22-82d9-4e05-99c1-7090f2a172d5",
   "metadata": {},
   "outputs": [
    {
     "name": "stdout",
     "output_type": "stream",
     "text": [
      "[10, 0, 20, 0, 30, 0]\n"
     ]
    }
   ],
   "source": [
    "l42 = [10, -5, 20, -15, 30, -25]\n",
    "\n",
    "for i in range(len(l42)) :\n",
    "    if l42[i]<0:\n",
    "        l42[i] = 0\n",
    "print(l42)"
   ]
  },
  {
   "cell_type": "code",
   "execution_count": 48,
   "id": "68a84023-a7a8-4969-99cd-739239a41274",
   "metadata": {},
   "outputs": [],
   "source": [
    "#43 Convert a string into a list of words."
   ]
  },
  {
   "cell_type": "code",
   "execution_count": 54,
   "id": "a88bf20f-bad9-42d2-a487-c542254b8980",
   "metadata": {},
   "outputs": [
    {
     "data": {
      "text/plain": [
       "['ruman', 'is', 'good', 'girl.']"
      ]
     },
     "execution_count": 54,
     "metadata": {},
     "output_type": "execute_result"
    }
   ],
   "source": [
    "string = \"ruman is good girl.\"\n",
    "\n",
    "string.split()\n",
    "    "
   ]
  },
  {
   "cell_type": "code",
   "execution_count": 62,
   "id": "a94d7181-0764-4f84-9ba2-ba638230c590",
   "metadata": {},
   "outputs": [
    {
     "name": "stdout",
     "output_type": "stream",
     "text": [
      "['Ruman', 'is', 'a', 'good', 'student', '.']\n",
      " Ruman is a good student .\n"
     ]
    }
   ],
   "source": [
    "#44 Convert a list of words into a string.\n",
    "\n",
    "l44 = [\"Ruman\",\"is\",\"a\",\"good\",\"student\",\".\"]\n",
    "print(l44)\n",
    "str_1 = ''\n",
    "for i in l44 :\n",
    "    str_1 = str_1 + ' '+i\n",
    "print(str_1)"
   ]
  },
  {
   "cell_type": "code",
   "execution_count": 27,
   "id": "990159c0-8872-4995-8aa6-2b6a34493ea5",
   "metadata": {},
   "outputs": [],
   "source": [
    "#45 create a list of the first n powers of 2."
   ]
  },
  {
   "cell_type": "code",
   "execution_count": 28,
   "id": "b9effb27-4b85-4372-a0e5-bf9f7d7b019e",
   "metadata": {},
   "outputs": [
    {
     "name": "stdout",
     "output_type": "stream",
     "text": [
      "list of the first 5 power of 2: [1, 2, 4, 8, 16]\n"
     ]
    }
   ],
   "source": [
    "n = 5\n",
    "power_list = [2**i for i in range(n)]\n",
    "\n",
    "print(\"list of the first\",n,\"power of 2:\",power_list)"
   ]
  },
  {
   "cell_type": "code",
   "execution_count": 1,
   "id": "296f9034-40d3-4a5c-ba36-87e41b7a9d45",
   "metadata": {},
   "outputs": [],
   "source": [
    "# 46. Find the longest string in a list of strings."
   ]
  },
  {
   "cell_type": "code",
   "execution_count": 34,
   "id": "37681489-776c-4237-bee0-ed1e83941e74",
   "metadata": {},
   "outputs": [
    {
     "name": "stdout",
     "output_type": "stream",
     "text": [
      "isuy787yuu\n"
     ]
    }
   ],
   "source": [
    "l46 = [\"ruman\", \"saba\", 'isuy787yuu', 'a', \"good\",\"student\"]\n",
    "\n",
    "count = \"\"\n",
    "\n",
    "for i in l46 :\n",
    "    if len(i) > len(count) :\n",
    "        count = i\n",
    "        \n",
    "print(count)"
   ]
  },
  {
   "cell_type": "code",
   "execution_count": 35,
   "id": "aa03826d-22d5-4eb4-9ddf-3486c64ec368",
   "metadata": {},
   "outputs": [],
   "source": [
    "#47. Find the shortest string in a list of strings."
   ]
  },
  {
   "cell_type": "code",
   "execution_count": 26,
   "id": "8eb5f616-f102-4f04-8090-1c7c9d76db6c",
   "metadata": {},
   "outputs": [
    {
     "name": "stdout",
     "output_type": "stream",
     "text": [
      "a\n"
     ]
    }
   ],
   "source": [
    "l47 = [\"ruman\", \"saba\", 'isuy787yuu', 'a', \"good\",\"student\"]\n",
    "\n",
    "count = l47[0]\n",
    "\n",
    "for i in l47 :\n",
    "    if len(i) < len(count) :\n",
    "        count = i\n",
    "        \n",
    "print(count)"
   ]
  },
  {
   "cell_type": "code",
   "execution_count": 29,
   "id": "7d78da45-809e-4178-bd3b-e1e8ba58d926",
   "metadata": {},
   "outputs": [],
   "source": [
    "#48 create a list of the first n tringle numbers.\n"
   ]
  },
  {
   "cell_type": "code",
   "execution_count": 32,
   "id": "79298268-c211-4ada-ae88-8f5d2c6960af",
   "metadata": {},
   "outputs": [
    {
     "name": "stdout",
     "output_type": "stream",
     "text": [
      "list of the first 5 tringular numbers: [1, 3, 6, 10, 15]\n"
     ]
    }
   ],
   "source": [
    "def tringular_numbers(n):\n",
    "    return[i*(i+1)//2 for i in range(1,n+1)]\n",
    "\n",
    "n= 5\n",
    "\n",
    "tringular_list = tringular_numbers(n)\n",
    "\n",
    "print(\"list of the first\", n, \"tringular numbers:\",tringular_list)"
   ]
  },
  {
   "cell_type": "code",
   "execution_count": null,
   "id": "0866af41-9d1b-4421-b7b5-49e474d2eab2",
   "metadata": {},
   "outputs": [],
   "source": [
    "#49 "
   ]
  },
  {
   "cell_type": "code",
   "execution_count": 33,
   "id": "5e9a84a2-536c-49bc-bea6-36585a7aec4c",
   "metadata": {},
   "outputs": [
    {
     "name": "stdout",
     "output_type": "stream",
     "text": [
      "Main list contains the subsequence.\n"
     ]
    }
   ],
   "source": [
    "def is_subsequence(subsequence, main_list):\n",
    "    subseq_index = 0 \n",
    "    for element in main_list:\n",
    "        if element == subsequence[subseq_index]:\n",
    "            subseq_index += 1\n",
    "            if subseq_index == len(subsequence):\n",
    "                return True\n",
    "    return False\n",
    "\n",
    "main_list = [1, 2, 3, 4, 5, 6, 7, 8, 9, 10]\n",
    "subsequence = [3, 5, 8]\n",
    "\n",
    "if is_subsequence(subsequence, main_list):\n",
    "    print(\"Main list contains the subsequence.\")\n",
    "else:\n",
    "    print(\"Main list does not contain the subsequence.\")"
   ]
  },
  {
   "cell_type": "code",
   "execution_count": null,
   "id": "bd8a3463-d516-4e38-b6ac-14133b6c9f38",
   "metadata": {},
   "outputs": [],
   "source": [
    "#50 swap two element in a list by thier indic"
   ]
  },
  {
   "cell_type": "code",
   "execution_count": 35,
   "id": "e07cfabd-da11-4f5b-a8d3-29e3594b9f1a",
   "metadata": {},
   "outputs": [
    {
     "name": "stdout",
     "output_type": "stream",
     "text": [
      "list after swapping elements: [1, 4, 3, 2, 5]\n"
     ]
    }
   ],
   "source": [
    "my_list = [1,2,3,4,5]\n",
    "index1 = 1\n",
    "index2 = 3\n",
    "\n",
    "temp = my_list[index1]\n",
    "my_list[index1] = my_list[index2]\n",
    "my_list[index2] = temp\n",
    "\n",
    "print(\"list after swapping elements:\", my_list)"
   ]
  },
  {
   "cell_type": "code",
   "execution_count": null,
   "id": "7d8efc9d-be97-4b77-ac84-db7ed8189df8",
   "metadata": {},
   "outputs": [],
   "source": [
    "#tuple"
   ]
  },
  {
   "cell_type": "code",
   "execution_count": 40,
   "id": "a3ad5e92-2a9f-40cd-9cc2-b746d428e804",
   "metadata": {},
   "outputs": [],
   "source": [
    "#1. Create a tuple with integers from 1 to 5."
   ]
  },
  {
   "cell_type": "code",
   "execution_count": 50,
   "id": "058fc2cf-5bb3-4939-8790-d32b88f90f85",
   "metadata": {},
   "outputs": [
    {
     "name": "stdout",
     "output_type": "stream",
     "text": [
      "(1, 2, 3, 4, 5)\n"
     ]
    }
   ],
   "source": [
    "t1 = (1,2,3,4,5)\n",
    "print(t1)"
   ]
  },
  {
   "cell_type": "code",
   "execution_count": 51,
   "id": "d22d064f-f60d-4b82-91cc-8d8cce07aee3",
   "metadata": {},
   "outputs": [],
   "source": [
    "#2. Access the third element of a tuple."
   ]
  },
  {
   "cell_type": "code",
   "execution_count": 52,
   "id": "6a5506b5-1e4b-42da-863c-c403a5ac9b89",
   "metadata": {},
   "outputs": [
    {
     "data": {
      "text/plain": [
       "3"
      ]
     },
     "execution_count": 52,
     "metadata": {},
     "output_type": "execute_result"
    }
   ],
   "source": [
    "t2 = (1,2,3,3,4)\n",
    "\n",
    "t2[2]"
   ]
  },
  {
   "cell_type": "code",
   "execution_count": 53,
   "id": "85f4e662-0ff6-4f03-a3f9-f0fa7ceeadea",
   "metadata": {},
   "outputs": [],
   "source": [
    "#3. Find the length of a tuple without using the `len()` function."
   ]
  },
  {
   "cell_type": "code",
   "execution_count": 56,
   "id": "ab9306db-c80e-4486-8a4f-05203ef3b4ed",
   "metadata": {},
   "outputs": [
    {
     "name": "stdout",
     "output_type": "stream",
     "text": [
      "Length of set : 8\n"
     ]
    }
   ],
   "source": [
    "t3 = (1,2,3,3,2,3,4,5)\n",
    "\n",
    "count = 0\n",
    "\n",
    "for i in t3 :\n",
    "    count +=1\n",
    "print(\"Length of set :\", count)"
   ]
  },
  {
   "cell_type": "code",
   "execution_count": 57,
   "id": "0c1bddef-0f50-43a9-8a3f-e61789ba5bec",
   "metadata": {},
   "outputs": [],
   "source": [
    "#4. Count the occurrences of an element in a tuple."
   ]
  },
  {
   "cell_type": "code",
   "execution_count": 61,
   "id": "57774839-4c1e-4220-ac9d-b208cbfdf53c",
   "metadata": {},
   "outputs": [
    {
     "name": "stdin",
     "output_type": "stream",
     "text": [
      "count the occurrences of element: 4\n"
     ]
    },
    {
     "name": "stdout",
     "output_type": "stream",
     "text": [
      "4 is  3 time.\n"
     ]
    }
   ],
   "source": [
    "t4 = (1,2,3,3,3,3,2,22,22,12,32,4,5,6,4,4,7)\n",
    "\n",
    "x = int(input(\"count the occurrences of element:\"))\n",
    "count = 0\n",
    "\n",
    "for i in t4 :\n",
    "    if i == x :\n",
    "        count +=1\n",
    "print(x,\"is \",count,\"time.\")"
   ]
  },
  {
   "cell_type": "code",
   "execution_count": 62,
   "id": "4be6e4b8-3c68-41cb-b008-45b1c056e57d",
   "metadata": {},
   "outputs": [],
   "source": [
    "#5. Find the index of the first occurrence of an element in a tuple."
   ]
  },
  {
   "cell_type": "code",
   "execution_count": 29,
   "id": "7e9e5fa4-53dd-450e-9376-56e6773be506",
   "metadata": {},
   "outputs": [
    {
     "name": "stdout",
     "output_type": "stream",
     "text": [
      "The first occurrence of 20 is at index 1.\n"
     ]
    }
   ],
   "source": [
    "my_tuple = (10, 20, 30, 20, 40, 50)\n",
    "\n",
    "element_to_find = 20\n",
    "\n",
    "index = -1 \n",
    "\n",
    "for i, item in enumerate(my_tuple):\n",
    "    if item == element_to_find:\n",
    "        index = i\n",
    "        break  \n",
    "\n",
    "if index != -1:\n",
    "    print(f\"The first occurrence of {element_to_find} is at index {index}.\")\n",
    "else:\n",
    "    print(f\"{element_to_find} is not found in the tuple.\")"
   ]
  },
  {
   "cell_type": "code",
   "execution_count": 63,
   "id": "69c0fb49-9e12-44af-bfac-b7db5108aa7f",
   "metadata": {},
   "outputs": [],
   "source": [
    "#6. Check if an element exists in a tuple."
   ]
  },
  {
   "cell_type": "code",
   "execution_count": 67,
   "id": "21914e48-1c68-4168-84d1-954a9072e28a",
   "metadata": {},
   "outputs": [
    {
     "name": "stdin",
     "output_type": "stream",
     "text": [
      "enter for check :  5\n"
     ]
    },
    {
     "name": "stdout",
     "output_type": "stream",
     "text": [
      "no exists 5 in tuple . \n"
     ]
    }
   ],
   "source": [
    "t6 = (1,2,3,2,0,4,4,2,3)\n",
    "\n",
    "x = int(input(\"enter for check : \"))\n",
    "\n",
    "if x in t6 :\n",
    "    print(\"exists\",x,\"in tuple.\")\n",
    "else :\n",
    "    print(\"no exists\",x, \"in tuple . \")"
   ]
  },
  {
   "cell_type": "code",
   "execution_count": 68,
   "id": "bedb81c3-1322-4992-ab89-3c0dbd4aaa65",
   "metadata": {},
   "outputs": [],
   "source": [
    "#7. Convert a tuple to a list."
   ]
  },
  {
   "cell_type": "code",
   "execution_count": 70,
   "id": "47e0508e-7bca-46e1-93a1-97e74cef4457",
   "metadata": {},
   "outputs": [
    {
     "name": "stdout",
     "output_type": "stream",
     "text": [
      "tuple : (23, 1, 2, 1, 2, 2, 13, 43)\n",
      "tuple to list :  [23, 1, 2, 1, 2, 2, 13, 43]\n"
     ]
    }
   ],
   "source": [
    "t7 = (23,1,2,1,2,2,13,43)\n",
    "print(\"tuple :\",t7)\n",
    "tuple_to_list = list(t7)\n",
    "\n",
    "print(\"tuple to list : \", tuple_to_list)"
   ]
  },
  {
   "cell_type": "code",
   "execution_count": 71,
   "id": "ef87a1ed-525a-4763-ae32-86a9a29f1d6e",
   "metadata": {},
   "outputs": [],
   "source": [
    "#8. Convert a list to a tuple."
   ]
  },
  {
   "cell_type": "code",
   "execution_count": 72,
   "id": "b52f35c7-ac8b-42ad-bf06-e2df1fe2e956",
   "metadata": {},
   "outputs": [
    {
     "name": "stdout",
     "output_type": "stream",
     "text": [
      "LIST : [1, 2, 3, 2, 3, 4]\n",
      "List to Tuple :  (1, 2, 3, 2, 3, 4)\n"
     ]
    }
   ],
   "source": [
    "list1 = [1,2,3,2,3,4]\n",
    "\n",
    "print(\"LIST :\" ,list1)\n",
    "\n",
    "list_to_tuple = tuple(list1)\n",
    "\n",
    "print(\"List to Tuple : \", list_to_tuple)"
   ]
  },
  {
   "cell_type": "code",
   "execution_count": 73,
   "id": "b375af07-5f28-4639-ade9-421c12256ade",
   "metadata": {},
   "outputs": [],
   "source": [
    "#9 "
   ]
  },
  {
   "cell_type": "code",
   "execution_count": 13,
   "id": "c3d71d71-ec93-45a2-bbe1-4e58f55ccff0",
   "metadata": {},
   "outputs": [
    {
     "name": "stdout",
     "output_type": "stream",
     "text": [
      "var1: 10\n",
      "var2: 20\n",
      "var3: 30\n"
     ]
    }
   ],
   "source": [
    "# Step 1: Create a tuple\n",
    "my_tuple = (10, 20, 30)\n",
    "\n",
    "# Step 2: Unpack the elements of the tuple into variables\n",
    "var1, var2, var3 = my_tuple\n",
    "\n",
    "# Step 3: Print the variables\n",
    "print(\"var1:\", var1)\n",
    "print(\"var2:\", var2)\n",
    "print(\"var3:\", var3)"
   ]
  },
  {
   "cell_type": "code",
   "execution_count": 74,
   "id": "b2dfeb46-5e8d-4059-bc4a-3d5abba28841",
   "metadata": {},
   "outputs": [],
   "source": [
    "#10. Create a tuple of even numbers from 1 to 10."
   ]
  },
  {
   "cell_type": "code",
   "execution_count": 78,
   "id": "3141556f-01a4-4495-911c-64637e4cb676",
   "metadata": {},
   "outputs": [
    {
     "name": "stdout",
     "output_type": "stream",
     "text": [
      "(2, 4, 6, 8, 10)\n"
     ]
    }
   ],
   "source": [
    "\n",
    "even = []\n",
    "for i in range(1,11):\n",
    "    if i%2 == 0 :\n",
    "        even.append(i)\n",
    "        \n",
    "print(tuple(even))\n"
   ]
  },
  {
   "cell_type": "code",
   "execution_count": 80,
   "id": "308b4e82-d903-4f5f-88b0-8cc2f1f2185d",
   "metadata": {},
   "outputs": [
    {
     "name": "stdout",
     "output_type": "stream",
     "text": [
      "(1, 3, 5, 7, 9)\n"
     ]
    }
   ],
   "source": [
    "#11\n",
    "odd = []\n",
    "\n",
    "for i in range(1,11):\n",
    "    if i%2!=0 :\n",
    "        odd.append(i)\n",
    "print(tuple(odd))"
   ]
  },
  {
   "cell_type": "code",
   "execution_count": 82,
   "id": "eef5dafa-e29a-4e2f-8dad-cca0b22de1c0",
   "metadata": {},
   "outputs": [],
   "source": [
    "#12. Concatenate two tuples."
   ]
  },
  {
   "cell_type": "code",
   "execution_count": 2,
   "id": "24552f54-7178-4343-9080-3c48d2fd6540",
   "metadata": {},
   "outputs": [
    {
     "name": "stdout",
     "output_type": "stream",
     "text": [
      "concatenate two tuple : (1, 2, 3, 4, 5, 6)\n"
     ]
    }
   ],
   "source": [
    "s2 = (1,2,3)\n",
    "s3 = (4,5,6)\n",
    "\n",
    "set_add = s2 + s3\n",
    "\n",
    "print(\"concatenate two tuple :\",set_add)"
   ]
  },
  {
   "cell_type": "code",
   "execution_count": 3,
   "id": "8236cedf-292e-4054-8b26-7abe22e8b0a6",
   "metadata": {},
   "outputs": [],
   "source": [
    "#13 Repeat a tuple three times"
   ]
  },
  {
   "cell_type": "code",
   "execution_count": 6,
   "id": "eaf55134-0b75-4d86-9249-20765b3a7e47",
   "metadata": {},
   "outputs": [
    {
     "name": "stdout",
     "output_type": "stream",
     "text": [
      "Repeat tuple : (1, 2, 3, 1, 2, 3, 1, 2, 3)\n"
     ]
    }
   ],
   "source": [
    "repeat_tuple = s2*3\n",
    "\n",
    "print(\"Repeat tuple :\",repeat_tuple)"
   ]
  },
  {
   "cell_type": "code",
   "execution_count": 7,
   "id": "6459ddcc-3bcd-4396-93d5-5f965b12e08d",
   "metadata": {},
   "outputs": [],
   "source": [
    "#14 Check if a tuple is empty."
   ]
  },
  {
   "cell_type": "code",
   "execution_count": 9,
   "id": "2414a48c-00a1-43f2-a71a-41ce15def312",
   "metadata": {},
   "outputs": [
    {
     "name": "stdout",
     "output_type": "stream",
     "text": [
      "The empty_tuple is empty.\n",
      "The non_empty_tuple is not empty.\n"
     ]
    }
   ],
   "source": [
    "empty_tuple = ()\n",
    "\n",
    "non_empty_tuple = (1,2,3,4)\n",
    "\n",
    "if not empty_tuple :\n",
    "    print(\"The empty_tuple is empty.\")\n",
    "else :\n",
    "    print(\"The empty_tuple is not empty.\")\n",
    "    \n",
    "if not non_empty_tuple :\n",
    "    print(\"The non_empty_tuple is empty.\")\n",
    "else:\n",
    "    print(\"The non_empty_tuple is not empty.\")\n",
    "\n"
   ]
  },
  {
   "cell_type": "code",
   "execution_count": 10,
   "id": "3cbb1ac0-a3e6-407c-882e-5007292eb0d9",
   "metadata": {},
   "outputs": [],
   "source": [
    "#15 Create a nested tuple."
   ]
  },
  {
   "cell_type": "code",
   "execution_count": 13,
   "id": "42ab7598-5e7a-4007-b6ce-f1c21ec8437c",
   "metadata": {},
   "outputs": [
    {
     "name": "stdout",
     "output_type": "stream",
     "text": [
      "Nested Tuple : ((1, 2, 3), ('ruman', 'saba'), (True, False))\n"
     ]
    }
   ],
   "source": [
    "nested_tup = ((1,2,3),('ruman','saba'),(True,False))\n",
    "\n",
    "print(\"Nested Tuple :\",nested_tup)"
   ]
  },
  {
   "cell_type": "code",
   "execution_count": 14,
   "id": "bdbe8a69-8490-4a27-95ee-e747d7b9ecc6",
   "metadata": {},
   "outputs": [],
   "source": [
    "#16 Access the first element of a nested tuple."
   ]
  },
  {
   "cell_type": "code",
   "execution_count": 15,
   "id": "11f834c2-c532-4c3e-8b9b-80d8f18ea4f8",
   "metadata": {},
   "outputs": [
    {
     "name": "stdout",
     "output_type": "stream",
     "text": [
      "first Element : (1, 2, 3)\n"
     ]
    }
   ],
   "source": [
    "first_element = nested_tup[0]\n",
    "\n",
    "print(\"first Element :\", first_element)"
   ]
  },
  {
   "cell_type": "code",
   "execution_count": 16,
   "id": "cb947247-649c-4180-89ee-cd1921067276",
   "metadata": {},
   "outputs": [],
   "source": [
    "#17 Create a tuple with a single element."
   ]
  },
  {
   "cell_type": "code",
   "execution_count": 18,
   "id": "e1aaf648-b80d-46ee-a4cf-5e2203461a82",
   "metadata": {},
   "outputs": [
    {
     "name": "stdout",
     "output_type": "stream",
     "text": [
      "single Element: (42,)\n"
     ]
    }
   ],
   "source": [
    "single_element = (42,)\n",
    "\n",
    "print(\"single Element:\", single_element)"
   ]
  },
  {
   "cell_type": "code",
   "execution_count": 19,
   "id": "a9e82e10-f69f-4598-82ad-02e27ce740e6",
   "metadata": {},
   "outputs": [],
   "source": [
    "#18 Compare two tuples."
   ]
  },
  {
   "cell_type": "code",
   "execution_count": 21,
   "id": "4cebf559-bdd9-4224-8774-c42c2352aa82",
   "metadata": {},
   "outputs": [
    {
     "name": "stdout",
     "output_type": "stream",
     "text": [
      "tuple1 == tuple2 : False\n",
      "tuple1 != tuple2 : True\n",
      "tuple1 < tuple2 : True\n",
      "tuple1 > tuple2 : False\n",
      "tuple1 >= tuple2 : False\n",
      "tuple1 <= tuple2 : True\n"
     ]
    }
   ],
   "source": [
    "tuple1 = (1,2,3)\n",
    "tuple2 = (1,2,4)\n",
    "\n",
    "print(\"tuple1 == tuple2 :\", tuple1 == tuple2)\n",
    "print(\"tuple1 != tuple2 :\", tuple1 != tuple2)\n",
    "print(\"tuple1 < tuple2 :\", tuple1 < tuple2)\n",
    "print(\"tuple1 > tuple2 :\", tuple1 > tuple2)\n",
    "print(\"tuple1 >= tuple2 :\", tuple1 >= tuple2)\n",
    "print(\"tuple1 <= tuple2 :\", tuple1 <= tuple2)"
   ]
  },
  {
   "cell_type": "code",
   "execution_count": 22,
   "id": "b5366607-0ce5-4b98-a21d-ef661c80f569",
   "metadata": {},
   "outputs": [],
   "source": [
    "#19 Delete a tuple."
   ]
  },
  {
   "cell_type": "code",
   "execution_count": 25,
   "id": "7c02fc09-a52c-4b59-a6b9-a83e623b134d",
   "metadata": {},
   "outputs": [
    {
     "name": "stdout",
     "output_type": "stream",
     "text": [
      "(1, 2, 3, 4)\n"
     ]
    },
    {
     "ename": "NameError",
     "evalue": "name 'tup1' is not defined",
     "output_type": "error",
     "traceback": [
      "\u001b[0;31m---------------------------------------------------------------------------\u001b[0m",
      "\u001b[0;31mNameError\u001b[0m                                 Traceback (most recent call last)",
      "Cell \u001b[0;32mIn[25], line 5\u001b[0m\n\u001b[1;32m      2\u001b[0m \u001b[38;5;28mprint\u001b[39m(tup1)\n\u001b[1;32m      3\u001b[0m \u001b[38;5;28;01mdel\u001b[39;00m tup1\n\u001b[0;32m----> 5\u001b[0m \u001b[38;5;28mprint\u001b[39m(\u001b[38;5;124m\"\u001b[39m\u001b[38;5;124mDelete tuple :\u001b[39m\u001b[38;5;124m\"\u001b[39m,\u001b[43mtup1\u001b[49m)\n",
      "\u001b[0;31mNameError\u001b[0m: name 'tup1' is not defined"
     ]
    }
   ],
   "source": [
    "tup1 = (1,2,3,4)\n",
    "print(tup1)\n",
    "del tup1\n",
    "\n",
    "print(\"Delete tuple :\",tup1)\n",
    "\n"
   ]
  },
  {
   "cell_type": "code",
   "execution_count": 26,
   "id": "4e28d48e-e08c-48aa-9411-70c3f570e794",
   "metadata": {},
   "outputs": [],
   "source": [
    "#20 Slice a tuple."
   ]
  },
  {
   "cell_type": "code",
   "execution_count": 28,
   "id": "0630ec6f-56b5-482a-8caa-b2761795cc6a",
   "metadata": {},
   "outputs": [
    {
     "name": "stdout",
     "output_type": "stream",
     "text": [
      "Slice tuple : (2, 3, 4, 98, 3)\n"
     ]
    }
   ],
   "source": [
    "tup20 = (1,2,3,4,2,3,4,98,3,45,6,7,8,9,9)\n",
    "\n",
    "slice_tup = tup20[4:9]\n",
    "\n",
    "print(\"Slice tuple :\", slice_tup)"
   ]
  },
  {
   "cell_type": "code",
   "execution_count": 29,
   "id": "63d5ad8e-6ae9-4914-9373-9ec6941aa872",
   "metadata": {},
   "outputs": [],
   "source": [
    "#21 Find the maximum value in a tuple."
   ]
  },
  {
   "cell_type": "code",
   "execution_count": 30,
   "id": "7d4758c9-8113-4243-8437-7f50d0bfdb89",
   "metadata": {},
   "outputs": [
    {
     "name": "stdout",
     "output_type": "stream",
     "text": [
      "maximum value 34\n"
     ]
    }
   ],
   "source": [
    "tup21 = (3,4,5,34,6)\n",
    "\n",
    "maxi = max(tup21)\n",
    "\n",
    "print(\"maximum value\", maxi)"
   ]
  },
  {
   "cell_type": "code",
   "execution_count": 31,
   "id": "2941d7a7-7406-43a8-ab5b-833eecdbfa33",
   "metadata": {},
   "outputs": [],
   "source": [
    "#22 Find the minimum value in a tuple."
   ]
  },
  {
   "cell_type": "code",
   "execution_count": 32,
   "id": "a276011e-3c02-427e-bbb9-d2c1b2c7f8d9",
   "metadata": {},
   "outputs": [
    {
     "name": "stdout",
     "output_type": "stream",
     "text": [
      "minmum value 1\n"
     ]
    }
   ],
   "source": [
    "tup22 = (2,3,4,65,3,1)\n",
    "\n",
    "minimum = min(tup22)\n",
    "print(\"minmum value\", minimum)"
   ]
  },
  {
   "cell_type": "code",
   "execution_count": 33,
   "id": "3b23d3d4-a42b-4bc9-97d2-0cba44db8a2d",
   "metadata": {},
   "outputs": [],
   "source": [
    "#23 Convert a string to a tuple of characters."
   ]
  },
  {
   "cell_type": "code",
   "execution_count": 34,
   "id": "68e4883b-6b2c-4507-ad93-1149758c1352",
   "metadata": {},
   "outputs": [
    {
     "name": "stdout",
     "output_type": "stream",
     "text": [
      "('r', 'u', 'm', 'a', 'n', ' ', 'i', 's', ' ', 'g', 'o', 'o', 'd', ' ', 'g', 'i', 'r', 'l')\n"
     ]
    }
   ],
   "source": [
    "string23 = \"ruman is good girl\"\n",
    "\n",
    "my_tup = tuple(string23)\n",
    "\n",
    "print(my_tup)\n",
    "    "
   ]
  },
  {
   "cell_type": "code",
   "execution_count": 35,
   "id": "89d9ff95-6fae-4940-9080-137c7849cd31",
   "metadata": {},
   "outputs": [],
   "source": [
    "#24 Convert a tuple of characters to a string."
   ]
  },
  {
   "cell_type": "code",
   "execution_count": 39,
   "id": "62433e75-5a5e-411e-a19d-84abb375232e",
   "metadata": {},
   "outputs": [
    {
     "name": "stdout",
     "output_type": "stream",
     "text": [
      "Tuple to string : ruman saba is good\n"
     ]
    }
   ],
   "source": [
    "tuple_string = ('r','u','m','a','n',' ', 's','a','b','a', ' ', 'i','s',' ', 'g','o','o','d')\n",
    "\n",
    "tup_to_string = ''.join(tuple_string)\n",
    "\n",
    "print(\"Tuple to string :\", tup_to_string)"
   ]
  },
  {
   "cell_type": "code",
   "execution_count": 41,
   "id": "c43511ad-a006-4415-a350-b3ec85cc8d17",
   "metadata": {},
   "outputs": [],
   "source": [
    "#25Create a tuple from multiple datatype."
   ]
  },
  {
   "cell_type": "code",
   "execution_count": 42,
   "id": "b39771e0-ccfb-4729-a7d6-6ef0b8ee7259",
   "metadata": {},
   "outputs": [
    {
     "name": "stdout",
     "output_type": "stream",
     "text": [
      "(1, 'ruman', True, 3.23)\n"
     ]
    }
   ],
   "source": [
    "multi_tup = (1,'ruman',True,3.23)\n",
    "\n",
    "print(multi_tup)\n"
   ]
  },
  {
   "cell_type": "code",
   "execution_count": 43,
   "id": "9e1a51c6-eff8-4552-bccb-af404a57ece9",
   "metadata": {},
   "outputs": [],
   "source": [
    "#26 Check if two tuples are identical."
   ]
  },
  {
   "cell_type": "code",
   "execution_count": 46,
   "id": "7d5ec38b-6e57-4ef1-b4c1-e607f27d8f13",
   "metadata": {},
   "outputs": [
    {
     "name": "stdout",
     "output_type": "stream",
     "text": [
      "tup1 and tup2 are identical True\n",
      "tup2 and tup3 are identical False\n"
     ]
    }
   ],
   "source": [
    "tup1 = (1,2,3)\n",
    "tup2 = (1,2,3)\n",
    "tup3 = (4,5,6)\n",
    "\n",
    "identicale1 = tup1==tup2\n",
    "identicale2 = tup2==tup3\n",
    "\n",
    "print(\"tup1 and tup2 are identical\",identicale1)\n",
    "print(\"tup2 and tup3 are identical\",identicale2)"
   ]
  },
  {
   "cell_type": "code",
   "execution_count": 47,
   "id": "07a12484-7a7f-48de-9e31-58ded6ab018c",
   "metadata": {},
   "outputs": [],
   "source": [
    "#27 sorted element"
   ]
  },
  {
   "cell_type": "code",
   "execution_count": 48,
   "id": "f20b2c06-2fd4-4be1-a936-ae0f310d74a5",
   "metadata": {},
   "outputs": [
    {
     "name": "stdout",
     "output_type": "stream",
     "text": [
      "(3, 5, 7, 8, 9, 21)\n"
     ]
    }
   ],
   "source": [
    "my_tuple = (3,5,7,21,9,8)\n",
    "sorted_element = tuple(sorted(my_tuple))\n",
    "\n",
    "print(sorted_element)"
   ]
  },
  {
   "cell_type": "code",
   "execution_count": 49,
   "id": "a6723b48-dbc2-40c1-b030-6393c5d17758",
   "metadata": {},
   "outputs": [],
   "source": [
    "#28 Convert a tuple of integers to a tuple of string."
   ]
  },
  {
   "cell_type": "code",
   "execution_count": 52,
   "id": "6a257a40-2198-4975-bf9f-d0269d0805d1",
   "metadata": {},
   "outputs": [
    {
     "name": "stdout",
     "output_type": "stream",
     "text": [
      "('1', '2', '3', '4')\n"
     ]
    }
   ],
   "source": [
    "tup28 = (1,2,3,4)\n",
    "\n",
    "tup_int_to_str = tuple(str(item) for item in tup28)\n",
    "\n",
    "print(tup_int_to_str)"
   ]
  },
  {
   "cell_type": "code",
   "execution_count": 53,
   "id": "a0c70cd2-1c36-4bfb-a37b-78a767f550d1",
   "metadata": {},
   "outputs": [],
   "source": [
    "#29 Convert a tuple of string to a tuple of integers."
   ]
  },
  {
   "cell_type": "code",
   "execution_count": 56,
   "id": "9e847ada-729c-465a-a945-79abf81156e4",
   "metadata": {},
   "outputs": [
    {
     "name": "stdout",
     "output_type": "stream",
     "text": [
      "string to integer : (2, 3, 1, 5)\n"
     ]
    }
   ],
   "source": [
    "tup29 = ('2','3','1','5')\n",
    "\n",
    "string_to_int = tuple(int(item)for item in tup29)\n",
    "\n",
    "print(\"string to integer :\", string_to_int)"
   ]
  },
  {
   "cell_type": "code",
   "execution_count": 57,
   "id": "a2bf8fe8-d862-4bce-8f10-7a2a8e78ab95",
   "metadata": {},
   "outputs": [],
   "source": [
    "#30 Merge two tuples."
   ]
  },
  {
   "cell_type": "code",
   "execution_count": 58,
   "id": "93c59b2b-14a3-43fb-93dc-f2d67392cabc",
   "metadata": {},
   "outputs": [],
   "source": [
    "tup1 = (1,2,3)\n",
    "\n",
    "tup2 = (3,4,5)\n",
    "\n",
    "merge_tuple = tup1+tup2"
   ]
  },
  {
   "cell_type": "code",
   "execution_count": 59,
   "id": "e40d0aed-a1ed-4df7-80f3-64a9fc435aa7",
   "metadata": {},
   "outputs": [
    {
     "name": "stdout",
     "output_type": "stream",
     "text": [
      "(1, 2, 3, 3, 4, 5)\n"
     ]
    }
   ],
   "source": [
    "print(merge_tuple)"
   ]
  },
  {
   "cell_type": "code",
   "execution_count": null,
   "id": "e7258fce-95f6-4ba4-901a-3420cf54b295",
   "metadata": {},
   "outputs": [],
   "source": [
    "#31 Flatten a nested tuple"
   ]
  },
  {
   "cell_type": "code",
   "execution_count": 14,
   "id": "499e7a26-bf0e-44e1-855f-dfba6c72cc94",
   "metadata": {},
   "outputs": [
    {
     "name": "stdout",
     "output_type": "stream",
     "text": [
      "Flattened tuple: (1, 2, 3, 4, 5, 6, 7, 8)\n"
     ]
    }
   ],
   "source": [
    "def flatten_tuple(nested_tuple):\n",
    "    flattened = []\n",
    "    for item in nested_tuple:\n",
    "        if isinstance(item, tuple):\n",
    "            flattened.extend(flatten_tuple(item))\n",
    "        else:\n",
    "            flattened.append(item)\n",
    "    return flattened\n",
    "\n",
    "nested_tuple = ((1, 2), (3, 4, 5), (6, (7, 8)))\n",
    "\n",
    "flattened_tuple = tuple(flatten_tuple(nested_tuple))\n",
    "\n",
    "print(\"Flattened tuple:\", flattened_tuple)"
   ]
  },
  {
   "cell_type": "code",
   "execution_count": null,
   "id": "4f1a8e40-f7ce-40bf-a8a1-ed3973bf7161",
   "metadata": {},
   "outputs": [],
   "source": [
    "#32"
   ]
  },
  {
   "cell_type": "code",
   "execution_count": 15,
   "id": "fa1dd652-81d6-40ab-8b39-6d60f0b892e7",
   "metadata": {},
   "outputs": [
    {
     "name": "stdout",
     "output_type": "stream",
     "text": [
      "Tuple of the first 5 prime numbers: (2, 3, 5, 7, 11)\n"
     ]
    }
   ],
   "source": [
    "def is_prime(num):\n",
    "    if num <= 1:\n",
    "        return False\n",
    "    for i in range(2, int(num ** 0.5) + 1):\n",
    "        if num % i == 0:\n",
    "            return False\n",
    "    return True\n",
    "\n",
    "prime_numbers_list = [num for num in range(2, 100) if is_prime(num)][:5]\n",
    "\n",
    "prime_numbers_tuple = tuple(prime_numbers_list)\n",
    "\n",
    "print(\"Tuple of the first 5 prime numbers:\", prime_numbers_tuple)"
   ]
  },
  {
   "cell_type": "code",
   "execution_count": 60,
   "id": "7b069fc1-fb81-44fa-b107-c257751c24d7",
   "metadata": {},
   "outputs": [],
   "source": [
    "#33Check if a tuple is a palindrome."
   ]
  },
  {
   "cell_type": "code",
   "execution_count": 64,
   "id": "7fa9d704-0804-44df-8398-772629b6db8b",
   "metadata": {},
   "outputs": [
    {
     "name": "stdout",
     "output_type": "stream",
     "text": [
      "yes palidrome number.  (1, 2, 3, 2, 1)\n",
      "no palidrome number. (1, 2, 3, 4, 5)\n"
     ]
    }
   ],
   "source": [
    "palidrome_tuple = (1,2,3,2,1)\n",
    "\n",
    "non_palidrome_tuple = (1,2,3,4,5)\n",
    "\n",
    "if palidrome_tuple == palidrome_tuple[::-1] :\n",
    "    print(\"yes palidrome number. \",palidrome_tuple)\n",
    "else :\n",
    "    print(\"no palidrome number,\")\n",
    "if non_palidrome_tuple == non_palidrome_tuple[::-1]:\n",
    "    print(\"palidrome number\",non_palidrome_tuple)\n",
    "else :\n",
    "    print(\"no palidrome number.\",non_palidrome_tuple)"
   ]
  },
  {
   "cell_type": "code",
   "execution_count": 65,
   "id": "2d692eb0-d213-4497-97cc-04a1b5802f85",
   "metadata": {},
   "outputs": [],
   "source": [
    "#34. Create a tuple of squares of numbers from 1 to 5."
   ]
  },
  {
   "cell_type": "code",
   "execution_count": 70,
   "id": "46a72fd2-53b9-4c0e-aa1a-6a496d5140a8",
   "metadata": {},
   "outputs": [
    {
     "name": "stdout",
     "output_type": "stream",
     "text": [
      "(1, 4, 9, 16, 25)\n"
     ]
    }
   ],
   "source": [
    "l = []\n",
    "for i in range(1,6):\n",
    "    l.append(i**2)\n",
    "    \n",
    "print(tuple(l))"
   ]
  },
  {
   "cell_type": "code",
   "execution_count": 71,
   "id": "eab0ac76-c49d-4307-a374-c7defdb9f537",
   "metadata": {},
   "outputs": [
    {
     "name": "stdout",
     "output_type": "stream",
     "text": [
      "(1, 4, 9, 16)\n"
     ]
    }
   ],
   "source": [
    "tup = (1,2,3,4)\n",
    "\n",
    "squre = tuple(i**2 for i in tup)\n",
    "\n",
    "print(squre)"
   ]
  },
  {
   "cell_type": "code",
   "execution_count": 72,
   "id": "001c60da-3748-413f-b0b8-a19704e71e60",
   "metadata": {},
   "outputs": [],
   "source": [
    "#35. Filter out all even numbers from a tuple."
   ]
  },
  {
   "cell_type": "code",
   "execution_count": 76,
   "id": "e1fdfe9c-86b5-454a-ac5d-75b28bd87d0d",
   "metadata": {},
   "outputs": [
    {
     "name": "stdout",
     "output_type": "stream",
     "text": [
      "(2, 4, 12)\n"
     ]
    }
   ],
   "source": [
    "tuple_35 = (43,5,7,87,9,2,4,12)\n",
    "tup_l = []\n",
    "for i in tuple_35 :\n",
    "    if i%2==0:\n",
    "        tup_l.append(i)\n",
    "        \n",
    "print(tuple(tup_l))"
   ]
  },
  {
   "cell_type": "code",
   "execution_count": 77,
   "id": "30da9b52-dae3-4f2a-8539-4f5ef6db9545",
   "metadata": {},
   "outputs": [],
   "source": [
    "#36 Multiply all elements in a tuple by 2."
   ]
  },
  {
   "cell_type": "code",
   "execution_count": 78,
   "id": "beecf5f7-631a-4ea7-9eaf-95754d22aea0",
   "metadata": {},
   "outputs": [
    {
     "name": "stdout",
     "output_type": "stream",
     "text": [
      "Multiply by 2 : (2, 4, 6, 8, 10, 12, 14)\n"
     ]
    }
   ],
   "source": [
    "multiply_by_2 = tuple(i*2 for i in range(1,8))\n",
    "\n",
    "print(\"Multiply by 2 :\", multiply_by_2)"
   ]
  },
  {
   "cell_type": "code",
   "execution_count": 79,
   "id": "f8998505-0b90-4d69-aef6-65fad10677d6",
   "metadata": {},
   "outputs": [],
   "source": [
    "# 37. Create a tuple of random numbers."
   ]
  },
  {
   "cell_type": "code",
   "execution_count": 80,
   "id": "a626f3fb-6217-4588-b333-c399a7fbe5f6",
   "metadata": {},
   "outputs": [],
   "source": [
    "import random"
   ]
  },
  {
   "cell_type": "code",
   "execution_count": 82,
   "id": "fc6f3407-eec9-47c3-8fa1-525b3a72354a",
   "metadata": {},
   "outputs": [
    {
     "name": "stdout",
     "output_type": "stream",
     "text": [
      "(11, 36, 25, 3, 28)\n"
     ]
    }
   ],
   "source": [
    "tup37 = tuple(random.randint(1,43) for i in range(5))\n",
    "\n",
    "print(tup37)"
   ]
  },
  {
   "cell_type": "code",
   "execution_count": 83,
   "id": "2df2a30a-d640-4587-84ec-a550c4e6b654",
   "metadata": {},
   "outputs": [],
   "source": [
    "#38Check if a tuple is sorted."
   ]
  },
  {
   "cell_type": "code",
   "execution_count": 16,
   "id": "ac95599c-ff59-4440-bbf4-d69292946024",
   "metadata": {},
   "outputs": [
    {
     "name": "stdout",
     "output_type": "stream",
     "text": [
      "sorted_tuple is sorted: True\n",
      "unsorted_tuple is sorted: False\n"
     ]
    }
   ],
   "source": [
    "def is_sorted(tup):\n",
    "    for i in range(len(tup) - 1):\n",
    "        if tup[i] > tup[i + 1]:\n",
    "            return False\n",
    "    return True\n",
    "\n",
    "sorted_tuple = (1, 2, 3, 4, 5)\n",
    "unsorted_tuple = (5, 3, 1, 4, 2)\n",
    "\n",
    "is_sorted1 = is_sorted(sorted_tuple)\n",
    "is_sorted2 = is_sorted(unsorted_tuple)\n",
    "\n",
    "print(\"sorted_tuple is sorted:\", is_sorted1)\n",
    "print(\"unsorted_tuple is sorted:\", is_sorted2)    \n"
   ]
  },
  {
   "cell_type": "code",
   "execution_count": null,
   "id": "0f1527dd-21d5-4238-a8df-03856cb4f006",
   "metadata": {},
   "outputs": [],
   "source": [
    "#39"
   ]
  },
  {
   "cell_type": "code",
   "execution_count": 30,
   "id": "5e57d635-0203-4d79-952d-f365fe7bc6ce",
   "metadata": {},
   "outputs": [
    {
     "name": "stdout",
     "output_type": "stream",
     "text": [
      "(3, 4, 5, 1, 2)\n"
     ]
    }
   ],
   "source": [
    "def rotate_tuple_left(tup, n):\n",
    "    n = n % len(tup)  \n",
    "    rotated_tuple = tup[n:] + tup[:n] \n",
    "    return rotated_tuple\n",
    "\n",
    "my_tuple = (1, 2, 3, 4, 5)\n",
    "n_positions = 2\n",
    "result = rotate_tuple_left(my_tuple, n_positions)\n",
    "print(result)"
   ]
  },
  {
   "cell_type": "code",
   "execution_count": null,
   "id": "4d90ed80-7984-4ce9-993a-20f6c1621e4c",
   "metadata": {},
   "outputs": [],
   "source": [
    "#40 rotate a tuple to the right by n positions"
   ]
  },
  {
   "cell_type": "code",
   "execution_count": 42,
   "id": "ee2998db-5efe-46a9-8043-5f6bd5748818",
   "metadata": {},
   "outputs": [
    {
     "name": "stdout",
     "output_type": "stream",
     "text": [
      "(4, 5, 1, 2, 3)\n"
     ]
    }
   ],
   "source": [
    "def rotate_tuple_right(tup, n):\n",
    "    n = n % len(tup)  \n",
    "    rotated_tuple = tup[-n:] + tup[:-n]  \n",
    "    return rotated_tuple\n",
    "\n",
    "my_tuple = (1, 2, 3, 4, 5)\n",
    "n_positions = 2\n",
    "result = rotate_tuple_right(my_tuple, n_positions)\n",
    "print(result)"
   ]
  },
  {
   "cell_type": "code",
   "execution_count": null,
   "id": "ea318c36-9136-4ba8-af14-e6484a7fb223",
   "metadata": {},
   "outputs": [],
   "source": [
    "#41 create a tuple of the first 5 fibonacci numbers."
   ]
  },
  {
   "cell_type": "code",
   "execution_count": 43,
   "id": "c94f113a-2b32-4bd6-9a1e-e72b23aed868",
   "metadata": {},
   "outputs": [
    {
     "name": "stdout",
     "output_type": "stream",
     "text": [
      "(0, 1, 1, 2, 3)\n"
     ]
    }
   ],
   "source": [
    "def generate_fibonacci(n):\n",
    "    fibonacci = [0, 1]  # Initialize the list with the first two Fibonacci numbers\n",
    "    while len(fibonacci) < n:  \n",
    "        next_number = fibonacci[-1] + fibonacci[-2]  # Calculate the next Fibonacci number\n",
    "        fibonacci.append(next_number)  # Add the next Fibonacci number to the list\n",
    "    return tuple(fibonacci)  # Convert the list to a tuple and return it\n",
    "\n",
    "fibonacci_tuple = generate_fibonacci(5)\n",
    "\n",
    "print(fibonacci_tuple)"
   ]
  },
  {
   "cell_type": "code",
   "execution_count": 102,
   "id": "8955bbb3-012f-4a75-87df-19540740fb18",
   "metadata": {},
   "outputs": [],
   "source": [
    "#42"
   ]
  },
  {
   "cell_type": "code",
   "execution_count": 108,
   "id": "20c03130-16af-4424-9ba1-fe3f18718e9b",
   "metadata": {},
   "outputs": [
    {
     "name": "stdin",
     "output_type": "stream",
     "text": [
      "enter the element ruman,saba,32,true\n"
     ]
    },
    {
     "name": "stdout",
     "output_type": "stream",
     "text": [
      "('ruman', 'saba', '32', 'true')\n"
     ]
    }
   ],
   "source": [
    "tup42 = input(\"enter the element\")\n",
    "\n",
    "input_list = tup42.split(',')\n",
    "print(tuple(input_list))"
   ]
  },
  {
   "cell_type": "code",
   "execution_count": 109,
   "id": "f98764af-4053-4658-a0fb-f6b9c4543a9d",
   "metadata": {},
   "outputs": [],
   "source": [
    "#43. Swap two elements in a tuple."
   ]
  },
  {
   "cell_type": "code",
   "execution_count": 44,
   "id": "c516db80-daab-4378-bd30-2e3653589a9d",
   "metadata": {},
   "outputs": [
    {
     "name": "stdout",
     "output_type": "stream",
     "text": [
      "Swapped tuple: (1, 4, 3, 2, 5)\n"
     ]
    }
   ],
   "source": [
    "my_tuple = (1, 2, 3, 4, 5)\n",
    "\n",
    "# Swap elements at indices 1 and 3\n",
    "index1 = 1\n",
    "index2 = 3\n",
    "swapped_tuple = tuple(\n",
    "    my_tuple[i] if i not in (index1, index2) else\n",
    "    my_tuple[index2] if i == index1 else\n",
    "    my_tuple[index1]\n",
    "    for i in range(len(my_tuple))\n",
    ")\n",
    "\n",
    "# Print the swapped tuple\n",
    "print(\"Swapped tuple:\", swapped_tuple)\n"
   ]
  },
  {
   "cell_type": "code",
   "execution_count": 45,
   "id": "a0e81458-8f1e-4463-9039-84b0729da6f0",
   "metadata": {},
   "outputs": [],
   "source": [
    "#44. Reverse the elements of a tuple."
   ]
  },
  {
   "cell_type": "code",
   "execution_count": 46,
   "id": "28bb2ab6-d81a-4cde-92d0-299ee8ae4a01",
   "metadata": {},
   "outputs": [
    {
     "name": "stdout",
     "output_type": "stream",
     "text": [
      "Reverse Tuple: (5, 4, 3, 2, 1)\n"
     ]
    }
   ],
   "source": [
    "my_tup = (1,2,3,4,5)\n",
    "reverse_tup = my_tup[::-1]\n",
    "print(\"Reverse Tuple:\", reverse_tup)"
   ]
  },
  {
   "cell_type": "code",
   "execution_count": null,
   "id": "d89ee501-ce9c-4a85-a45d-73fe56522025",
   "metadata": {},
   "outputs": [],
   "source": [
    "#45createa tup of the first n power of 2."
   ]
  },
  {
   "cell_type": "code",
   "execution_count": 48,
   "id": "6c9c1325-3ac2-4d94-9429-cc186413c05c",
   "metadata": {},
   "outputs": [
    {
     "name": "stdout",
     "output_type": "stream",
     "text": [
      "Tuple of the first 5 powers of 2: (1, 2, 4, 8, 16)\n"
     ]
    }
   ],
   "source": [
    "n = 5\n",
    "powers_of_2_tuple = tuple(2**i for i in range(n))\n",
    "\n",
    "print(\"Tuple of the first\",n,\"powers of 2:\",powers_of_2_tuple)"
   ]
  },
  {
   "cell_type": "code",
   "execution_count": null,
   "id": "48c7f7fe-77ab-476c-891b-c145bfc0657a",
   "metadata": {},
   "outputs": [],
   "source": [
    "#46 find the longest string in a tuple of string "
   ]
  },
  {
   "cell_type": "code",
   "execution_count": 51,
   "id": "c81fdf7c-9ab8-43cb-ae7e-89cb78ec8fb6",
   "metadata": {},
   "outputs": [
    {
     "name": "stdout",
     "output_type": "stream",
     "text": [
      "longest string: grapess\n"
     ]
    }
   ],
   "source": [
    "string_tup = (\"apple\", \"banana\", \"grapess\",\"kiwi\")\n",
    "\n",
    "longest_string = max(string_tup, key=len)\n",
    "print(\"longest string:\",longest_string)"
   ]
  },
  {
   "cell_type": "code",
   "execution_count": null,
   "id": "da776f05-5318-48fa-a47e-5d76dd669be5",
   "metadata": {},
   "outputs": [],
   "source": [
    "#47 find the shortest in a tup of string"
   ]
  },
  {
   "cell_type": "code",
   "execution_count": 55,
   "id": "beb20ec0-9e62-467a-9a58-bb0f6f56c5a8",
   "metadata": {},
   "outputs": [
    {
     "name": "stdout",
     "output_type": "stream",
     "text": [
      "shortest string: kiwi\n"
     ]
    }
   ],
   "source": [
    "string_tup = (\"apple\", \"banana\", \"grapess\",\"kiwi\")\n",
    "\n",
    "longest_string = min(string_tup, key=len)\n",
    "print(\"shortest string:\",longest_string)"
   ]
  },
  {
   "cell_type": "code",
   "execution_count": 56,
   "id": "166ebfd4-6159-4046-8f86-a6a6d075f2c1",
   "metadata": {},
   "outputs": [],
   "source": [
    "#48 create a tuple of the first n tringular numbers."
   ]
  },
  {
   "cell_type": "code",
   "execution_count": 58,
   "id": "822c5de0-7f73-435e-891e-6bd6b3193472",
   "metadata": {},
   "outputs": [
    {
     "name": "stdout",
     "output_type": "stream",
     "text": [
      "Tuple of the first 5 tringular number numbers: (1, 3, 6, 10, 15)\n"
     ]
    }
   ],
   "source": [
    "n = 5\n",
    "tringular_numbers_tuple = tuple((i*(i+1))//2 for i in range(1, n+1))\n",
    "\n",
    "print(\"Tuple of the first\", n, \"tringular number numbers:\", tringular_numbers_tuple)"
   ]
  },
  {
   "cell_type": "code",
   "execution_count": 59,
   "id": "eff6bff8-ac8c-4137-bc30-4dd8d5713fdf",
   "metadata": {},
   "outputs": [],
   "source": [
    "#49 check if a tuple contains another tuple as a subsequence."
   ]
  },
  {
   "cell_type": "code",
   "execution_count": 60,
   "id": "398ffc9c-c998-45ff-8e58-3cd52a43e934",
   "metadata": {},
   "outputs": [
    {
     "name": "stdout",
     "output_type": "stream",
     "text": [
      "Main tuple contains subsequence tuple: True\n"
     ]
    }
   ],
   "source": [
    "def contains_subsequence(main_tuple, sub_tuple):\n",
    "    sub_length = len(sub_tuple)\n",
    "    for i in range(len(main_tuple) - sub_length + 1):\n",
    "        if main_tuple[i:i+sub_length] == sub_tuple:\n",
    "            return True\n",
    "    return False\n",
    "\n",
    "# Main tuple\n",
    "main_tuple = (1, 2, 3, 4, 5, 6, 7, 8, 9)\n",
    "\n",
    "# Subsequence tuple\n",
    "sub_tuple = (3, 4, 5)\n",
    "\n",
    "# Check if the main tuple contains the subsequence tuple\n",
    "contains_subseq = contains_subsequence(main_tuple, sub_tuple)\n",
    "\n",
    "# Print the result\n",
    "print(\"Main tuple contains subsequence tuple:\", contains_subseq)"
   ]
  },
  {
   "cell_type": "code",
   "execution_count": null,
   "id": "d063494a-28d7-4da1-a253-eb224d5bfaa8",
   "metadata": {},
   "outputs": [],
   "source": [
    "#50"
   ]
  },
  {
   "cell_type": "code",
   "execution_count": 61,
   "id": "8f9613e1-a857-42f8-966d-e285c0c19df6",
   "metadata": {},
   "outputs": [
    {
     "name": "stdout",
     "output_type": "stream",
     "text": [
      "Tuple of alternating 1s and 0s: (0, 1, 0, 1, 0, 1, 0, 1, 0, 1)\n"
     ]
    }
   ],
   "source": [
    "n = 10\n",
    "\n",
    "# Create a tuple of alternating 1s and 0s using a list comprehension\n",
    "alternating_tuple = tuple(i % 2 for i in range(n))\n",
    "\n",
    "# Print the tuple of alternating 1s and 0s\n",
    "print(\"Tuple of alternating 1s and 0s:\", alternating_tuple)"
   ]
  },
  {
   "cell_type": "code",
   "execution_count": 111,
   "id": "70c6d1d4-0ee6-4441-a634-5f089afb46b6",
   "metadata": {},
   "outputs": [],
   "source": [
    "#set "
   ]
  },
  {
   "cell_type": "code",
   "execution_count": 112,
   "id": "d722962c-f17f-4d58-8ce4-0c39d55430e7",
   "metadata": {},
   "outputs": [],
   "source": [
    "#1\n"
   ]
  },
  {
   "cell_type": "code",
   "execution_count": 113,
   "id": "842ef0a2-053f-45a0-97dd-46f7d55efa09",
   "metadata": {},
   "outputs": [
    {
     "name": "stdout",
     "output_type": "stream",
     "text": [
      "set 1 to 5 : {1, 2, 3, 4, 5}\n"
     ]
    }
   ],
   "source": [
    "set1 = {1,2,3,4,5}\n",
    "\n",
    "print(\"set 1 to 5 :\", set1)"
   ]
  },
  {
   "cell_type": "code",
   "execution_count": 114,
   "id": "c63b2597-f040-4567-89d1-0aa2ba115e52",
   "metadata": {},
   "outputs": [],
   "source": [
    "#2. Add an element to a set."
   ]
  },
  {
   "cell_type": "code",
   "execution_count": 117,
   "id": "04c3f712-044d-43a3-ad25-2dfaa4782c61",
   "metadata": {},
   "outputs": [
    {
     "name": "stdout",
     "output_type": "stream",
     "text": [
      "{1, 2, 3}\n",
      "After add : {1, 2, 3, 4, 8}\n"
     ]
    }
   ],
   "source": [
    "set2 = {1,2,3}\n",
    "\n",
    "print(set2)\n",
    "\n",
    "set2.add(4)\n",
    "set2.add(8)\n",
    "\n",
    "print(\"After add :\",set2)"
   ]
  },
  {
   "cell_type": "code",
   "execution_count": 118,
   "id": "35c9a748-01a7-4239-88bd-003b1d6b304b",
   "metadata": {},
   "outputs": [],
   "source": [
    "#3. Remove an element from a set."
   ]
  },
  {
   "cell_type": "code",
   "execution_count": 125,
   "id": "a7dff500-d18d-493a-978d-b4aa85e12138",
   "metadata": {},
   "outputs": [
    {
     "name": "stdout",
     "output_type": "stream",
     "text": [
      "{1, 2, 3, 4}\n",
      "after remove : {1, 2, 4}\n"
     ]
    }
   ],
   "source": [
    "set3 = {1,2,3,4}\n",
    "\n",
    "print(set3)\n",
    "\n",
    "set3.remove(3)\n",
    "print(\"after remove :\",set3)"
   ]
  },
  {
   "cell_type": "code",
   "execution_count": 126,
   "id": "6bb185db-4493-4ae0-b92e-131b09d2c99b",
   "metadata": {},
   "outputs": [],
   "source": [
    "#4. Check if an element exists in a set."
   ]
  },
  {
   "cell_type": "code",
   "execution_count": 6,
   "id": "a92747d5-c31a-412d-8793-a1dffb46e8ca",
   "metadata": {},
   "outputs": [
    {
     "name": "stdin",
     "output_type": "stream",
     "text": [
      "enter number 7\n"
     ]
    },
    {
     "name": "stdout",
     "output_type": "stream",
     "text": [
      "no\n"
     ]
    }
   ],
   "source": [
    "set4 = {1,2,3,45,6,7}\n",
    "i = input(\"enter number\")\n",
    "\n",
    "if i in set4 :\n",
    "    print(\"yes\", i)\n",
    "        \n",
    "else :\n",
    "    print(\"no\")"
   ]
  },
  {
   "cell_type": "code",
   "execution_count": 7,
   "id": "fb372017-81c5-4ea5-9fb5-2c28e6967340",
   "metadata": {},
   "outputs": [],
   "source": [
    "#5"
   ]
  },
  {
   "cell_type": "code",
   "execution_count": 10,
   "id": "e7469a91-6f67-40b7-85b1-d8fa9120a13c",
   "metadata": {},
   "outputs": [],
   "source": [
    "set5 = {1,2,3,4,5,8}\n",
    "\n",
    "length = 0\n",
    "\n",
    "for i in set5 :\n",
    "    length += 1 "
   ]
  },
  {
   "cell_type": "code",
   "execution_count": 11,
   "id": "c3bc082b-e434-4078-badf-94c655856457",
   "metadata": {},
   "outputs": [
    {
     "name": "stdout",
     "output_type": "stream",
     "text": [
      "6\n"
     ]
    }
   ],
   "source": [
    "print(length)"
   ]
  },
  {
   "cell_type": "code",
   "execution_count": 12,
   "id": "0b741eb3-0f0f-4651-ae92-41ed0635c77e",
   "metadata": {},
   "outputs": [],
   "source": [
    "#6 Clear all elements from a set"
   ]
  },
  {
   "cell_type": "code",
   "execution_count": 15,
   "id": "598753b8-8a7b-4e60-a048-762d23d163e7",
   "metadata": {},
   "outputs": [
    {
     "name": "stdout",
     "output_type": "stream",
     "text": [
      "{1, 2, 3, 4, 5}\n",
      "clear set : set()\n"
     ]
    }
   ],
   "source": [
    "set6 = {1,2,3,4,5}\n",
    "\n",
    "print(set6)\n",
    "\n",
    "set6.clear()\n",
    "\n",
    "print(\"clear set :\", set6)"
   ]
  },
  {
   "cell_type": "code",
   "execution_count": 16,
   "id": "f1b14902-94b2-4e39-9b4b-a6aa61a444b1",
   "metadata": {},
   "outputs": [],
   "source": [
    "#7 Create a set of even numbers from 1 to 10."
   ]
  },
  {
   "cell_type": "code",
   "execution_count": 18,
   "id": "0b5a9e25-9a30-4284-8eee-2d4af8c7a475",
   "metadata": {},
   "outputs": [
    {
     "name": "stdout",
     "output_type": "stream",
     "text": [
      "set of even numbers from 1 to 10: {2, 4, 6, 8, 10}\n"
     ]
    }
   ],
   "source": [
    "even_set = set()\n",
    "\n",
    "for i in range(1,11):\n",
    "    if i%2==0:\n",
    "        even_set.add(i)\n",
    "print(\"set of even numbers from 1 to 10:\",even_set)"
   ]
  },
  {
   "cell_type": "code",
   "execution_count": 19,
   "id": "3dd8833d-6bfa-456d-9fb8-90822dba5e39",
   "metadata": {},
   "outputs": [],
   "source": [
    "#8 Create a set of odd numbers from 1 to 10."
   ]
  },
  {
   "cell_type": "code",
   "execution_count": 20,
   "id": "329f7c8e-9909-4e42-8a40-a7e370b73453",
   "metadata": {},
   "outputs": [
    {
     "name": "stdout",
     "output_type": "stream",
     "text": [
      "odd number 1 to 10 : {1, 3, 5, 7, 9}\n"
     ]
    }
   ],
   "source": [
    "odd_set = set()\n",
    "\n",
    "for i in range(1,11):\n",
    "    if i%2!=0:\n",
    "        odd_set.add(i)\n",
    "        \n",
    "print(\"odd number 1 to 10 :\", odd_set)"
   ]
  },
  {
   "cell_type": "code",
   "execution_count": 21,
   "id": "e6d8d32c-2616-498e-a177-d5133bb68763",
   "metadata": {},
   "outputs": [],
   "source": [
    "#9 Find the union of two sets."
   ]
  },
  {
   "cell_type": "code",
   "execution_count": 24,
   "id": "39a9ffb4-2d1a-4788-b4e6-8df171681ed0",
   "metadata": {},
   "outputs": [
    {
     "name": "stdout",
     "output_type": "stream",
     "text": [
      "set 1 {1, 2, 3, 4, 5}\n",
      "set 2 {4, 5, 6, 7, 8}\n",
      "union result : {1, 2, 3, 4, 5, 6, 7, 8}\n"
     ]
    }
   ],
   "source": [
    "set_1 = {1,2,3,4,5}\n",
    "\n",
    "set_2 = {4,5,6,7,8}\n",
    "\n",
    "union_result = set_1.union(set_2)\n",
    "print(\"set 1\",set_1)\n",
    "print(\"set 2\",set_2)\n",
    "\n",
    "print(\"union result :\", union_result)"
   ]
  },
  {
   "cell_type": "code",
   "execution_count": 25,
   "id": "21735a67-da5f-4e27-aa15-821711bf9427",
   "metadata": {},
   "outputs": [],
   "source": [
    "#10 10. Find the intersection of two sets."
   ]
  },
  {
   "cell_type": "code",
   "execution_count": 26,
   "id": "98227022-5bba-4153-8257-f8e11f774ace",
   "metadata": {},
   "outputs": [
    {
     "name": "stdout",
     "output_type": "stream",
     "text": [
      "{4, 5}\n"
     ]
    }
   ],
   "source": [
    "intersection_result = set_1.intersection(set_2)\n",
    "\n",
    "print(intersection_result)"
   ]
  },
  {
   "cell_type": "code",
   "execution_count": 27,
   "id": "613230c6-b5bc-46be-ae6d-145ee063ed25",
   "metadata": {},
   "outputs": [],
   "source": [
    "#11. Find the difference between two sets."
   ]
  },
  {
   "cell_type": "code",
   "execution_count": 32,
   "id": "a19ac945-553e-4623-8365-db442d0bcbe4",
   "metadata": {},
   "outputs": [
    {
     "name": "stdout",
     "output_type": "stream",
     "text": [
      "diffrence between two set : {8, 7}\n"
     ]
    }
   ],
   "source": [
    "set_11_1 = {7,8,4}\n",
    "set_11_2 = {4,5,6}\n",
    "\n",
    "difference_set = set_11_1.difference(set_11_2)\n",
    "\n",
    "print(\"diffrence between two set :\",difference_set)"
   ]
  },
  {
   "cell_type": "code",
   "execution_count": 33,
   "id": "bbf82ab4-f4f4-462d-9dc5-8168f302b3fb",
   "metadata": {},
   "outputs": [],
   "source": [
    "#12. Check if a set is a subset of another set."
   ]
  },
  {
   "cell_type": "code",
   "execution_count": 36,
   "id": "e23a17a6-f73f-437a-b14b-0d77e971be8c",
   "metadata": {},
   "outputs": [
    {
     "name": "stdout",
     "output_type": "stream",
     "text": [
      "set 1 is subset of set 2 : True\n"
     ]
    }
   ],
   "source": [
    "set_12_1 = {1,2,3}\n",
    "set_12_2 = {1,2,3,4,5,6}\n",
    "\n",
    "subset_set = set_12_1.issubset(set_12_1)\n",
    "\n",
    "print(\"set 1 is subset of set 2 :\",subset_set)\n"
   ]
  },
  {
   "cell_type": "code",
   "execution_count": 37,
   "id": "6b0721b7-daff-43f6-939a-de9417350c93",
   "metadata": {},
   "outputs": [],
   "source": [
    "# 13. Check if a set is a superset of another set."
   ]
  },
  {
   "cell_type": "code",
   "execution_count": 44,
   "id": "a6e94ac3-37dc-4fb8-bf0c-4071e7765995",
   "metadata": {},
   "outputs": [
    {
     "name": "stdout",
     "output_type": "stream",
     "text": [
      "set 2 is superset of set1 : True\n"
     ]
    }
   ],
   "source": [
    "set_13_1 = {1,2,3,4,5}\n",
    "\n",
    "set_13_2= {3,4}\n",
    "\n",
    "is_supperset = set_13_1.issuperset(set_13_2)\n",
    "\n",
    "if is_supperset :\n",
    "    print(\"set 1 is superset of set 2 :\",is_supperset)\n",
    "else :\n",
    "    print(\"set 1 is not superset of set 2:\", is_supperset)"
   ]
  },
  {
   "cell_type": "code",
   "execution_count": 45,
   "id": "721f9980-927e-4c51-aea5-72a66ce2eea6",
   "metadata": {},
   "outputs": [],
   "source": [
    "#14. Create a set from a list."
   ]
  },
  {
   "cell_type": "code",
   "execution_count": 48,
   "id": "2300a60e-02f9-4e9b-bf72-08fb5c403bcb",
   "metadata": {},
   "outputs": [
    {
     "name": "stdout",
     "output_type": "stream",
     "text": [
      "my list : [1, 2, 3, 4, 4, 5]\n",
      "my list : {1, 2, 3, 4, 5}\n"
     ]
    }
   ],
   "source": [
    "my_list_14 = [1,2,3,4,4,5]\n",
    "\n",
    "my_set_14 = set(my_list_14)\n",
    "\n",
    "print(\"my list :\", my_list_14)\n",
    "print(\"my list :\", my_set_14)\n",
    "\n"
   ]
  },
  {
   "cell_type": "code",
   "execution_count": 49,
   "id": "f9d30439-c2f2-4393-ac8a-c4c15a412dfd",
   "metadata": {},
   "outputs": [],
   "source": [
    "#15. Convert a set to a list."
   ]
  },
  {
   "cell_type": "code",
   "execution_count": 51,
   "id": "4225c4f5-41e6-4f8a-9308-c91263afddcd",
   "metadata": {},
   "outputs": [
    {
     "name": "stdout",
     "output_type": "stream",
     "text": [
      "orignal set : {1, 3, 4, 5, 41}\n",
      "converted List : [1, 3, 4, 5, 41]\n"
     ]
    }
   ],
   "source": [
    "set_15 = {1,3,4,5,3,4,5,41,3}\n",
    "\n",
    "convert_list = list(set_15)\n",
    "\n",
    "print(\"orignal set :\", set_15)\n",
    "\n",
    "print(\"converted List :\", convert_list)"
   ]
  },
  {
   "cell_type": "code",
   "execution_count": 52,
   "id": "e191a256-3495-43fd-aafe-6d82f3bd4d72",
   "metadata": {},
   "outputs": [],
   "source": [
    "# 16. Remove a random element from a set."
   ]
  },
  {
   "cell_type": "code",
   "execution_count": 2,
   "id": "ea96ab82-7359-4739-bd90-43ff886ecc84",
   "metadata": {},
   "outputs": [],
   "source": [
    "import random\n"
   ]
  },
  {
   "cell_type": "code",
   "execution_count": 3,
   "id": "9c9ffee1-3511-40ba-85ed-b5370f5461bf",
   "metadata": {},
   "outputs": [
    {
     "name": "stdout",
     "output_type": "stream",
     "text": [
      "orignal set : {1, 2, 3, 4, 5}\n",
      "5 : {1, 2, 3, 4}\n"
     ]
    }
   ],
   "source": [
    "set_16 = {1,2,3,4,5}\n",
    "\n",
    "print(\"orignal set :\", set_16)\n",
    "\n",
    "random_element = random.choice(list(set_16))\n",
    "set_16.remove(random_element)\n",
    "\n",
    "print(random_element,\":\",set_16)"
   ]
  },
  {
   "cell_type": "code",
   "execution_count": 4,
   "id": "2196ad27-c01f-4a4c-87fc-27bd8dec4a3b",
   "metadata": {},
   "outputs": [],
   "source": [
    "# 17. Pop an element from a set."
   ]
  },
  {
   "cell_type": "code",
   "execution_count": 9,
   "id": "19a341a3-358e-4591-81fe-d0033bfb4abf",
   "metadata": {},
   "outputs": [
    {
     "name": "stdout",
     "output_type": "stream",
     "text": [
      "{1, 2, 3, 4, 5, 6}\n",
      "1 : {2, 3, 4, 5, 6}\n"
     ]
    }
   ],
   "source": [
    "set_17 = {1,2,3,4,5,6}\n",
    "\n",
    "print(set_17)\n",
    "pop_element = set_17.pop()\n",
    "\n",
    "print(pop_element, \":\", set_17)"
   ]
  },
  {
   "cell_type": "code",
   "execution_count": 1,
   "id": "5860bb4b-bf01-416a-b632-e5c14af37d02",
   "metadata": {},
   "outputs": [],
   "source": [
    "#18. Check if two sets have no elements in common."
   ]
  },
  {
   "cell_type": "code",
   "execution_count": 2,
   "id": "6e02753d-89f2-4107-812f-9da75043e294",
   "metadata": {},
   "outputs": [
    {
     "name": "stdout",
     "output_type": "stream",
     "text": [
      "The two sets have no element in comman \n"
     ]
    }
   ],
   "source": [
    "set_18_1 = {1,2,3,4}\n",
    "set_18_2 = {5,6,7,8}\n",
    "\n",
    "comman_element = set_18_1.intersection(set_18_2)\n",
    "\n",
    "if not comman_element :\n",
    "    print(\"The two sets have no element in comman \")\n",
    "    \n",
    "else :\n",
    "    print(\"the two set have comman element\")"
   ]
  },
  {
   "cell_type": "code",
   "execution_count": 3,
   "id": "2443c6d8-6b83-4be5-bb1d-9429982a05fc",
   "metadata": {},
   "outputs": [],
   "source": [
    "#19. Find the symmetric difference between two sets."
   ]
  },
  {
   "cell_type": "code",
   "execution_count": 4,
   "id": "54d71613-3dc3-49f9-ab9d-b1b2ca67f693",
   "metadata": {},
   "outputs": [
    {
     "name": "stdout",
     "output_type": "stream",
     "text": [
      "symmetric Diffrence : {1, 2, 3, 6, 7, 8}\n"
     ]
    }
   ],
   "source": [
    "set_19_1 = {1,2,3,4,5}\n",
    "\n",
    "set_19_2 = {4,5,6,7,8}\n",
    "\n",
    "symmetric_diffrence = set_19_1 ^ set_19_2\n",
    "\n",
    "print(\"symmetric Diffrence :\", symmetric_diffrence)"
   ]
  },
  {
   "cell_type": "code",
   "execution_count": 1,
   "id": "f03823ad-720e-4658-b072-43b42467aae1",
   "metadata": {},
   "outputs": [],
   "source": [
    "#20. Update a set with elements from another set."
   ]
  },
  {
   "cell_type": "code",
   "execution_count": 6,
   "id": "1a45e0bf-279f-440f-a7c0-7174b77d2451",
   "metadata": {},
   "outputs": [
    {
     "name": "stdout",
     "output_type": "stream",
     "text": [
      "set 1 : {1, 2, 3, 4}\n",
      "set 2 : {4, 5, 6}\n",
      "update set 1 : {1, 2, 3, 4, 5, 6}\n"
     ]
    }
   ],
   "source": [
    "set1 = {1,2,3,4}\n",
    "\n",
    "print(\"set 1 :\",set1)\n",
    "\n",
    "set2 = {4,5,6}\n",
    "\n",
    "print(\"set 2 :\",set2)\n",
    "\n",
    "set1.update(set2)\n",
    "\n",
    "print(\"update set 1 :\",set1)"
   ]
  },
  {
   "cell_type": "code",
   "execution_count": 7,
   "id": "dbc9c6fa-5fc3-4dca-97f2-af05231e2f84",
   "metadata": {},
   "outputs": [],
   "source": [
    "#21. Create a set of the first 5 prime numbers."
   ]
  },
  {
   "cell_type": "code",
   "execution_count": 62,
   "id": "de102348-b414-492c-904f-b0646bd03ebc",
   "metadata": {},
   "outputs": [
    {
     "name": "stdout",
     "output_type": "stream",
     "text": [
      "Set of the first 5 prime numbers: {2, 3, 5, 7, 11}\n"
     ]
    }
   ],
   "source": [
    "def is_prime(num):\n",
    "    if num <= 1:\n",
    "        return False\n",
    "    for i in range(2, int(num ** 0.5) + 1):\n",
    "        if num % i == 0:\n",
    "            return False\n",
    "    return True\n",
    "\n",
    "# Create an empty set to store the prime numbers\n",
    "prime_set = set()\n",
    "\n",
    "# Initialize the number to start checking for primes\n",
    "num = 2\n",
    "\n",
    "# Loop until we have found the first 5 prime numbers\n",
    "while len(prime_set) < 5:\n",
    "    # Check if the current number is prime using the is_prime function\n",
    "    if is_prime(num):\n",
    "        # If the number is prime, add it to the prime_set\n",
    "        prime_set.add(num)\n",
    "\n",
    "    # Move on to the next number for the next iteration\n",
    "    num += 1\n",
    "\n",
    "# Print the set of prime numbers\n",
    "print(\"Set of the first 5 prime numbers:\", prime_set)"
   ]
  },
  {
   "cell_type": "code",
   "execution_count": 8,
   "id": "08204afe-1958-4b13-a0f9-95756a4cfc8c",
   "metadata": {},
   "outputs": [],
   "source": [
    "#22. Check if two sets are identical."
   ]
  },
  {
   "cell_type": "code",
   "execution_count": 16,
   "id": "f7dca672-e1b3-42b0-9289-74aad976354f",
   "metadata": {},
   "outputs": [
    {
     "name": "stdout",
     "output_type": "stream",
     "text": [
      "the set are identical.\n"
     ]
    }
   ],
   "source": [
    "set22_1 = {1,2,3,4,5}\n",
    "set22_2 = {3,1,5,2,4}\n",
    "\n",
    "if set22_1 == set22_1:\n",
    "    print(\"the set are identical.\")\n",
    "    \n",
    "else :\n",
    "    print(\"the sets are not identical.\")"
   ]
  },
  {
   "cell_type": "code",
   "execution_count": 9,
   "id": "fd2a86b0-5100-4f25-a0c3-def00574339b",
   "metadata": {},
   "outputs": [],
   "source": [
    "#23. Create a frozen set."
   ]
  },
  {
   "cell_type": "code",
   "execution_count": 17,
   "id": "05158b22-73fb-4e90-b9fa-f99f4135c540",
   "metadata": {},
   "outputs": [
    {
     "name": "stdout",
     "output_type": "stream",
     "text": [
      "Frozen Set: frozenset({1, 2, 3, 4, 5})\n"
     ]
    }
   ],
   "source": [
    "elements = [1, 2, 3, 4, 5]\n",
    "my_frozen_set = frozenset(elements)\n",
    "\n",
    "print(\"Frozen Set:\", my_frozen_set)"
   ]
  },
  {
   "cell_type": "code",
   "execution_count": 10,
   "id": "a03ef05b-0135-46cd-bda0-76d6e36c3dca",
   "metadata": {},
   "outputs": [],
   "source": [
    "#24 Check if a set is disjoint with another set."
   ]
  },
  {
   "cell_type": "code",
   "execution_count": 42,
   "id": "097fa2fc-0f03-4bab-9850-5bb21b731858",
   "metadata": {},
   "outputs": [
    {
     "name": "stdout",
     "output_type": "stream",
     "text": [
      "Are the sets disjoint? True\n"
     ]
    }
   ],
   "source": [
    "set1 = {1, 2, 3, 4}\n",
    "set2 = {5, 6, 7, 8}\n",
    "\n",
    "disjoint_status = set1.isdisjoint(set2)\n",
    "\n",
    "print(\"Are the sets disjoint?\", disjoint_status)"
   ]
  },
  {
   "cell_type": "code",
   "execution_count": 11,
   "id": "a21ca75b-430f-4287-a11b-6c83ec5009a3",
   "metadata": {},
   "outputs": [],
   "source": [
    "#25. Create a set of squares of numbers from 1 to 5."
   ]
  },
  {
   "cell_type": "code",
   "execution_count": 64,
   "id": "f813721c-a751-46ee-ba3a-b986ee8e64e0",
   "metadata": {},
   "outputs": [
    {
     "name": "stdout",
     "output_type": "stream",
     "text": [
      "{1, 4, 9, 16, 25}\n"
     ]
    }
   ],
   "source": [
    "squares_set = set()\n",
    "\n",
    "for num in range(1, 6):\n",
    "    square = num ** 2\n",
    "\n",
    "    squares_set.add(square)\n",
    "\n",
    "print(squares_set)"
   ]
  },
  {
   "cell_type": "code",
   "execution_count": null,
   "id": "dac82002-8d72-4b58-a45b-b40b7969c563",
   "metadata": {},
   "outputs": [],
   "source": []
  },
  {
   "cell_type": "code",
   "execution_count": 12,
   "id": "448c3e04-7d29-4175-9b1b-15bb0bc25226",
   "metadata": {},
   "outputs": [],
   "source": [
    "#26. Filter out all even numbers from a set."
   ]
  },
  {
   "cell_type": "code",
   "execution_count": 44,
   "id": "6ec10e8e-fb02-439b-8cd5-16cc5b2b9cf1",
   "metadata": {},
   "outputs": [
    {
     "name": "stdout",
     "output_type": "stream",
     "text": [
      "original : {1, 2, 3, 4, 5, 33, 21, 22, 24}\n",
      "even set : {24, 2, 4, 22}\n"
     ]
    }
   ],
   "source": [
    "set26 = {1,2,3,4,5,33,22,24,21}\n",
    "\n",
    "evenset = set()\n",
    "\n",
    "for i in set26:\n",
    "    if i%2==0 :\n",
    "        evenset.add(i)\n",
    "        \n",
    "\n",
    "print(\"original :\", set26)\n",
    "print(\"even set :\", evenset)"
   ]
  },
  {
   "cell_type": "code",
   "execution_count": 13,
   "id": "df9d5174-e097-4fa2-9b93-5e0d128c65f1",
   "metadata": {},
   "outputs": [],
   "source": [
    "#27. Multiply all elements in a set by 2."
   ]
  },
  {
   "cell_type": "code",
   "execution_count": 19,
   "id": "f3653aa7-e311-47c7-8a19-45efcfbf61cd",
   "metadata": {},
   "outputs": [
    {
     "name": "stdout",
     "output_type": "stream",
     "text": [
      "set 27: {1, 2, 3, 4, 5, 6}\n",
      "multiply by 2 : {2, 4, 6, 8, 10, 12}\n"
     ]
    }
   ],
   "source": [
    "set27 = {1,2,3,4,5,6}\n",
    "\n",
    "multiply_by_2_element = set()\n",
    "\n",
    "for i in set27 :\n",
    "    x = i*2\n",
    "    multiply_by_2_element.add(x)\n",
    "\n",
    "print(\"set 27:\",set27)\n",
    "print(\"multiply by 2 :\",multiply_by_2_element)"
   ]
  },
  {
   "cell_type": "code",
   "execution_count": 14,
   "id": "37162c0d-922a-456c-9f10-09a31bd75e65",
   "metadata": {},
   "outputs": [],
   "source": [
    "#28. Create a set of random numbers."
   ]
  },
  {
   "cell_type": "code",
   "execution_count": 22,
   "id": "9b631240-1d49-4fef-a0a3-66645834e2c5",
   "metadata": {},
   "outputs": [
    {
     "name": "stdout",
     "output_type": "stream",
     "text": [
      "generated set of random number: {10, 45, 13, 63, 95}\n"
     ]
    }
   ],
   "source": [
    "import random\n",
    "\n",
    "num_random_num = 5\n",
    "\n",
    "random_number_set = set()\n",
    "\n",
    "for _ in range(num_random_num):\n",
    "    random_num = random.randint(1,100)\n",
    "    \n",
    "    random_number_set.add(random_num)\n",
    "    \n",
    "print(\"generated set of random number:\",random_number_set)"
   ]
  },
  {
   "cell_type": "code",
   "execution_count": 15,
   "id": "59167289-adc5-4047-86c4-4e461f8d78ea",
   "metadata": {},
   "outputs": [],
   "source": [
    "#29. Check if a set is empty."
   ]
  },
  {
   "cell_type": "code",
   "execution_count": 23,
   "id": "848042a8-9147-4f68-84ae-1c6f8cdd91fa",
   "metadata": {},
   "outputs": [
    {
     "name": "stdout",
     "output_type": "stream",
     "text": [
      "the set is empty.\n"
     ]
    }
   ],
   "source": [
    "my_set = set()\n",
    "if not my_set:\n",
    "    print(\"the set is empty.\")\n",
    "else:\n",
    "    print(\"the set is not empty.\")"
   ]
  },
  {
   "cell_type": "code",
   "execution_count": 18,
   "id": "e5b97d33-d88b-4968-b78b-e05e72725903",
   "metadata": {},
   "outputs": [],
   "source": [
    "#30. Create a nested set (hint: use frozenset)."
   ]
  },
  {
   "cell_type": "code",
   "execution_count": 29,
   "id": "29e5784b-66a2-4e27-9daa-89886968384c",
   "metadata": {},
   "outputs": [
    {
     "name": "stdout",
     "output_type": "stream",
     "text": [
      "Nested Set: {frozenset({1, 2, 3}), frozenset({4, 5, 6}), frozenset({8, 9, 7})}\n"
     ]
    }
   ],
   "source": [
    "set1 = {1,2,3}\n",
    "set2 = {4,5,6}\n",
    "set3 = {7,8,9}\n",
    "\n",
    "frozenset_1 = frozenset(set1)\n",
    "frozenset_2 = frozenset(set2)\n",
    "frozenset_3 = frozenset(set3)\n",
    "\n",
    "nested_set = {frozenset_1, frozenset_2, frozenset_3}\n",
    "\n",
    "print(\"Nested Set:\",nested_set)\n",
    "\n",
    "\n",
    "\n",
    "\n"
   ]
  },
  {
   "cell_type": "code",
   "execution_count": 19,
   "id": "fa17ee13-b9fb-4149-86bd-89014171e512",
   "metadata": {},
   "outputs": [],
   "source": [
    "#31. Remove an element from a set using the discard method."
   ]
  },
  {
   "cell_type": "code",
   "execution_count": 33,
   "id": "8474e372-3d49-462a-a4b4-1879d3d0ab3f",
   "metadata": {},
   "outputs": [
    {
     "name": "stdout",
     "output_type": "stream",
     "text": [
      "Initial set: {1, 2, 3, 4, 5}\n",
      "set after removeing 3 : {1, 2, 4, 5}\n"
     ]
    }
   ],
   "source": [
    "my_set = {1,2,3,4,5}\n",
    "print(\"Initial set:\",my_set)\n",
    "\n",
    "element_to_remove = 3\n",
    "\n",
    "my_set.discard(element_to_remove)\n",
    "\n",
    "print(\"set after removeing\", element_to_remove,\":\", my_set)"
   ]
  },
  {
   "cell_type": "code",
   "execution_count": 20,
   "id": "cf3f5d04-21a4-42dd-853c-f9e4ad766bdc",
   "metadata": {},
   "outputs": [],
   "source": [
    "#32. Compare two sets."
   ]
  },
  {
   "cell_type": "code",
   "execution_count": 36,
   "id": "347a96c9-b89d-4751-96ee-bd1a992a43f0",
   "metadata": {},
   "outputs": [
    {
     "name": "stdout",
     "output_type": "stream",
     "text": [
      "set 1: {1, 2, 3, 4, 5}\n",
      "set 2: {4, 5, 6, 7, 8}\n",
      "Is set1 a subset of set2? False\n",
      "Is set2 a subset of set1? False\n",
      "Intersection: {4, 5}\n",
      "Union: {1, 2, 3, 4, 5, 6, 7, 8}\n",
      "Element in set1 but not in set2: {1, 2, 3}\n",
      "Element in set2 but not in set1: {8, 6, 7}\n"
     ]
    }
   ],
   "source": [
    "set1 = {1,2,3,4,5}\n",
    "set2 = {4,5,6,7,8}\n",
    "\n",
    "is_subset = set1.issubset(set2)\n",
    "\n",
    "is_superset = set1.issuperset(set2)\n",
    "intersection = set1.intersection(set2)\n",
    "\n",
    "union = set1.union(set2)\n",
    "\n",
    "difference1 = set1.difference(set2)\n",
    "\n",
    "difference2 = set2.difference(set1)\n",
    "\n",
    "print(\"set 1:\",set1)\n",
    "print(\"set 2:\",set2)\n",
    "print(\"Is set1 a subset of set2?\", is_subset)\n",
    "print(\"Is set2 a subset of set1?\", is_superset)\n",
    "\n",
    "print(\"Intersection:\", intersection)\n",
    "print(\"Union:\",union)\n",
    "print(\"Element in set1 but not in set2:\", difference1)\n",
    "print(\"Element in set2 but not in set1:\", difference2)"
   ]
  },
  {
   "cell_type": "code",
   "execution_count": 21,
   "id": "25df7b42-2a7f-404a-9b3f-4d93aece28c2",
   "metadata": {},
   "outputs": [],
   "source": [
    "#33. Create a set from a string."
   ]
  },
  {
   "cell_type": "code",
   "execution_count": 37,
   "id": "2e1641f8-a2a9-4b8c-8943-f32ba027989c",
   "metadata": {},
   "outputs": [
    {
     "name": "stdout",
     "output_type": "stream",
     "text": [
      "{'e', 'l', 'o', 'h'}\n"
     ]
    }
   ],
   "source": [
    "input_string = \"hello\"\n",
    "\n",
    "char_set = set(input_string)\n",
    "\n",
    "print(char_set)"
   ]
  },
  {
   "cell_type": "code",
   "execution_count": 22,
   "id": "666c0aec-32db-4a4e-aee3-f7950fc4f27b",
   "metadata": {},
   "outputs": [],
   "source": [
    "#34. Convert a set of strings to a set of integers."
   ]
  },
  {
   "cell_type": "code",
   "execution_count": 42,
   "id": "5c43c484-28c3-4ee7-93e4-c42ce3354600",
   "metadata": {},
   "outputs": [
    {
     "name": "stdout",
     "output_type": "stream",
     "text": [
      "Original string Set: {'456', '123', '789'}\n",
      "converted Integer Set: {456, 123, 789}\n"
     ]
    }
   ],
   "source": [
    "set_of_string = {\"123\",\"456\",\"789\"}\n",
    "\n",
    "set_of_integer = set()\n",
    "for string in set_of_string:\n",
    "    int_value = int(string)\n",
    "    set_of_integer.add(int_value)\n",
    "    \n",
    "print(\"Original string Set:\",set_of_string)\n",
    "print(\"converted Integer Set:\", set_of_integer)"
   ]
  },
  {
   "cell_type": "code",
   "execution_count": 23,
   "id": "af81c689-358b-4252-90d4-756c0e92e767",
   "metadata": {},
   "outputs": [],
   "source": [
    "#35. Convert a set of integers to a set of strings."
   ]
  },
  {
   "cell_type": "code",
   "execution_count": 44,
   "id": "649bc6dc-ca0c-4c1a-8463-1deb2b7cb3f0",
   "metadata": {},
   "outputs": [
    {
     "name": "stdout",
     "output_type": "stream",
     "text": [
      "{'1', '5', '2', '4', '3'}\n"
     ]
    }
   ],
   "source": [
    "integer_set = {1,2,3,4,5}\n",
    "\n",
    "string_set = set()\n",
    "\n",
    "for num in integer_set:\n",
    "    string_val = str(num)\n",
    "    string_set.add(string_val)\n",
    "    \n",
    "print(string_set)"
   ]
  },
  {
   "cell_type": "code",
   "execution_count": 24,
   "id": "3fd4f5c3-27e5-48e1-b360-6f8df1d5fd99",
   "metadata": {},
   "outputs": [],
   "source": [
    "#36. Create a set from a tuple."
   ]
  },
  {
   "cell_type": "code",
   "execution_count": 46,
   "id": "d088ee8e-e90e-4e18-ada9-f5d6d20253e7",
   "metadata": {},
   "outputs": [
    {
     "name": "stdout",
     "output_type": "stream",
     "text": [
      "{1, 2, 3, 4, 5}\n"
     ]
    }
   ],
   "source": [
    "tuple1 = (1,2,3,4,5)\n",
    "\n",
    "tup_to_set = set(tuple1)\n",
    "print(tup_to_set)"
   ]
  },
  {
   "cell_type": "code",
   "execution_count": 25,
   "id": "9b2eb125-25e3-4a22-bf60-fe825acf8126",
   "metadata": {},
   "outputs": [],
   "source": [
    "#37. Convert a set to a tuple."
   ]
  },
  {
   "cell_type": "code",
   "execution_count": 49,
   "id": "6162fc6c-4064-4096-af00-0b82d53a67cc",
   "metadata": {},
   "outputs": [
    {
     "name": "stdout",
     "output_type": "stream",
     "text": [
      "original set : {1, 2, 3, 4, 5, 6, 7}\n",
      "converted tuple : (1, 2, 3, 4, 5, 6, 7)\n"
     ]
    }
   ],
   "source": [
    "my_set = {1,2,3,4,5,6,7}\n",
    "\n",
    "set_to_tup = tuple(my_set)\n",
    "print(\"original set :\",my_set)\n",
    "print(\"converted tuple :\",set_to_tup)"
   ]
  },
  {
   "cell_type": "code",
   "execution_count": 26,
   "id": "0a6dd5e6-e751-4e37-8fd6-0120bc780153",
   "metadata": {},
   "outputs": [],
   "source": [
    "#38. Find the maximum value in a set."
   ]
  },
  {
   "cell_type": "code",
   "execution_count": 50,
   "id": "6b8cdea1-ddf1-4362-aca3-2bf48ca22edd",
   "metadata": {},
   "outputs": [
    {
     "data": {
      "text/plain": [
       "90"
      ]
     },
     "execution_count": 50,
     "metadata": {},
     "output_type": "execute_result"
    }
   ],
   "source": [
    "my_set = {15,8,90,12,34}\n",
    "\n",
    "max(my_set)"
   ]
  },
  {
   "cell_type": "code",
   "execution_count": 27,
   "id": "666c8921-a817-441a-a58b-7cf83dc6f482",
   "metadata": {},
   "outputs": [],
   "source": [
    "#39. Find the minimum value in a set."
   ]
  },
  {
   "cell_type": "code",
   "execution_count": 2,
   "id": "e4da80ec-9542-4e4e-b8d0-10b020604def",
   "metadata": {},
   "outputs": [
    {
     "name": "stdout",
     "output_type": "stream",
     "text": [
      "2\n"
     ]
    }
   ],
   "source": [
    "my_set = {45,2,6,3,4,5}\n",
    "\n",
    "min_va = None\n",
    "\n",
    "for i in my_set:\n",
    "    if min_va is None or i<min_va:\n",
    "        min_va = i\n",
    "        \n",
    "print(min_va)"
   ]
  },
  {
   "cell_type": "code",
   "execution_count": 28,
   "id": "b37cbdd6-d9d3-4f15-a44c-fe2f39cc4754",
   "metadata": {},
   "outputs": [],
   "source": [
    "#40. Create a set from user input. "
   ]
  },
  {
   "cell_type": "code",
   "execution_count": 5,
   "id": "df03c508-893f-4d28-963c-c204e536138e",
   "metadata": {},
   "outputs": [
    {
     "name": "stdin",
     "output_type": "stream",
     "text": [
      "inter the element 789\n"
     ]
    },
    {
     "name": "stdout",
     "output_type": "stream",
     "text": [
      "user input set : {'7', '9', '8'}\n"
     ]
    }
   ],
   "source": [
    "input_set = set(input(\"inter the element\"))\n",
    "\n",
    "print(\"user input set :\",input_set)"
   ]
  },
  {
   "cell_type": "code",
   "execution_count": 29,
   "id": "b4efa84e-0a0b-4ff7-9ae5-e757abbaf23b",
   "metadata": {},
   "outputs": [],
   "source": [
    "#41. Check if the intersection of two sets is empty."
   ]
  },
  {
   "cell_type": "code",
   "execution_count": 7,
   "id": "241a3976-35a6-4848-8b8f-06c0cd3bbe63",
   "metadata": {},
   "outputs": [
    {
     "name": "stdout",
     "output_type": "stream",
     "text": [
      "the intersection of the two is not empty.\n"
     ]
    }
   ],
   "source": [
    "set1 = {1,2,3,4,5}\n",
    "set2 = {4,5,6,7,8}\n",
    "\n",
    "intersection_result = set1.intersection(set2)\n",
    "\n",
    "if not intersection_result:\n",
    "    print(\"the intersection of the two sets is empty\")\n",
    "else:\n",
    "    print(\"the intersection of the two is not empty.\")\n"
   ]
  },
  {
   "cell_type": "code",
   "execution_count": 30,
   "id": "a3ee2fca-405d-4e0c-b356-065e3036b5e0",
   "metadata": {},
   "outputs": [],
   "source": [
    "#42. Create a set of the first 5 Fibonacci numbers."
   ]
  },
  {
   "cell_type": "code",
   "execution_count": 10,
   "id": "585c036d-68be-4b8e-b7b7-b2261570ebbd",
   "metadata": {},
   "outputs": [
    {
     "name": "stdout",
     "output_type": "stream",
     "text": [
      "set of the first 5 Fibonacci numbers: {0, 1, 2, 3, 5}\n"
     ]
    }
   ],
   "source": [
    "fibonacci_set = set()\n",
    "\n",
    "a, b = 0,1\n",
    "\n",
    "for i in range(6):\n",
    "    fibonacci_set.add(a)\n",
    "    \n",
    "    a,b = b, a+b\n",
    "    \n",
    "print(\"set of the first 5 Fibonacci numbers:\", fibonacci_set)"
   ]
  },
  {
   "cell_type": "code",
   "execution_count": 11,
   "id": "93b324f3-5361-4764-a73e-83ad92e6c29e",
   "metadata": {},
   "outputs": [],
   "source": [
    "#43. Remove duplicates from a list using sets."
   ]
  },
  {
   "cell_type": "code",
   "execution_count": 12,
   "id": "b04ea078-be2f-4357-9b07-798512e66928",
   "metadata": {},
   "outputs": [
    {
     "name": "stdout",
     "output_type": "stream",
     "text": [
      "remove duplicate from list using set: {1, 2, 3, 4, 5, 8, 22}\n"
     ]
    }
   ],
   "source": [
    "my_list = [1,4,3,3,2,5,5,5,8,8,22]\n",
    "\n",
    "remove_duplicates = set(my_list)\n",
    "\n",
    "print(\"remove duplicate from list using set:\",remove_duplicates)"
   ]
  },
  {
   "cell_type": "code",
   "execution_count": 32,
   "id": "5a015835-7da5-4878-ba3e-e9eea4dfa944",
   "metadata": {},
   "outputs": [],
   "source": [
    "#44. Check if two sets have the same elements, regardless of their count."
   ]
  },
  {
   "cell_type": "code",
   "execution_count": 15,
   "id": "7082b125-d8f5-4381-9243-b8ab82c7336f",
   "metadata": {},
   "outputs": [
    {
     "name": "stdout",
     "output_type": "stream",
     "text": [
      "The sets have the same elements.\n"
     ]
    }
   ],
   "source": [
    "def have_same_elements(set1, set2):\n",
    "    sorted_list1 = sorted(list(set1))\n",
    "    sorted_list2 = sorted(list(set2))\n",
    "    \n",
    "    return sorted_list1 == sorted_list2\n",
    "\n",
    "set1 = {1,2,3,2,1}\n",
    "set2 = {3,1,2}\n",
    "\n",
    "result = have_same_elements(set1, set2)\n",
    "\n",
    "if result:\n",
    "    print(\"The sets have the same elements.\")\n",
    "    \n",
    "else:\n",
    "    print(\"The sets do not have the same elements. \")"
   ]
  },
  {
   "cell_type": "code",
   "execution_count": 33,
   "id": "3f270bc6-ba86-468a-ac2e-b521611cfab4",
   "metadata": {},
   "outputs": [],
   "source": [
    "#45. Create a set of the first `n` powers of 2."
   ]
  },
  {
   "cell_type": "code",
   "execution_count": 23,
   "id": "b2ee9c1c-8088-4ded-a271-5533c3f922b4",
   "metadata": {},
   "outputs": [
    {
     "name": "stdout",
     "output_type": "stream",
     "text": [
      "{1, 2, 4, 8, 16}\n"
     ]
    }
   ],
   "source": [
    "def generate_powers_of_2(n):\n",
    "    power_of_2 = set()\n",
    "    \n",
    "    for i in range(n):\n",
    "        power = 2 **i\n",
    "        \n",
    "        power_of_2.add(power)\n",
    "        \n",
    "        \n",
    "    return power_of_2\n",
    "\n",
    "n = 5\n",
    "\n",
    "powers_set = generate_powers_of_2(n)\n",
    "\n",
    "print(powers_set)"
   ]
  },
  {
   "cell_type": "code",
   "execution_count": 34,
   "id": "c218ef20-16fe-4941-be81-62538fa07a59",
   "metadata": {},
   "outputs": [],
   "source": [
    "#46. Find the common elements between a set and a list. "
   ]
  },
  {
   "cell_type": "code",
   "execution_count": 20,
   "id": "7ee06fc3-89fe-493b-9edc-7330617e0866",
   "metadata": {},
   "outputs": [
    {
     "name": "stdout",
     "output_type": "stream",
     "text": [
      "Common elements: [7, 9, 12]\n"
     ]
    }
   ],
   "source": [
    "my_set = {3,7,9,12,15}\n",
    "my_list = [7,12,5,9]\n",
    "\n",
    "list_to_set = set(my_list)\n",
    "\n",
    "common_elements = []\n",
    "\n",
    "for element in my_set:\n",
    "    if element in list_to_set:\n",
    "        common_elements.append(element)\n",
    "        \n",
    "print(\"Common elements:\", common_elements)"
   ]
  },
  {
   "cell_type": "code",
   "execution_count": 35,
   "id": "3f9b2530-d865-4aad-9d55-c07d8608aa4c",
   "metadata": {},
   "outputs": [],
   "source": [
    "#47. Create a set of the first `n` triangular numbers."
   ]
  },
  {
   "cell_type": "code",
   "execution_count": 18,
   "id": "4e891601-ba0d-478e-9842-d2a6701f1883",
   "metadata": {},
   "outputs": [
    {
     "name": "stdin",
     "output_type": "stream",
     "text": [
      "Enter the value of n: 5\n"
     ]
    },
    {
     "name": "stdout",
     "output_type": "stream",
     "text": [
      "the set of the first {n} tringular numbers is: {1, 3, 6, 10, 15}\n"
     ]
    }
   ],
   "source": [
    "def generate_tringular_number(n):\n",
    "    tringular_numbers = set()\n",
    "    \n",
    "    for i in range(1, n+1):\n",
    "        tringular_number = i*(i+1)//2\n",
    "        tringular_numbers.add(tringular_number)\n",
    "        \n",
    "    return tringular_numbers\n",
    "\n",
    "n = int(input(\"Enter the value of n:\"))\n",
    "\n",
    "triangular_set = generate_tringular_number(n)\n",
    "\n",
    "print(\"the set of the first {n} tringular numbers is:\", triangular_set)"
   ]
  },
  {
   "cell_type": "code",
   "execution_count": 36,
   "id": "9c4c7695-5f23-4b49-a0fa-b3d015cc0955",
   "metadata": {},
   "outputs": [],
   "source": [
    "#48. Check if a set contains another set as a subset."
   ]
  },
  {
   "cell_type": "code",
   "execution_count": 70,
   "id": "a768ee0b-9a30-4dbc-9bca-0d1e028863d1",
   "metadata": {},
   "outputs": [
    {
     "name": "stdout",
     "output_type": "stream",
     "text": [
      "set2 is a subset of set1\n"
     ]
    }
   ],
   "source": [
    "set1 = {1,2,3,4,5}\n",
    "set2= {3,4}\n",
    "\n",
    "is_subset = set2.issubset(set1)\n",
    "\n",
    "if is_subset:\n",
    "    print(\"set2 is a subset of set1\")\n",
    "    \n",
    "else:\n",
    "    print(\"set2 is not a subset of set1\")"
   ]
  },
  {
   "cell_type": "code",
   "execution_count": 37,
   "id": "7a3ad0ea-ff63-4003-9468-b60dc78550bd",
   "metadata": {},
   "outputs": [],
   "source": [
    "#49. Create a set of alternating 1s and 0s of length `n`."
   ]
  },
  {
   "cell_type": "code",
   "execution_count": 69,
   "id": "d03a066b-00a4-4a76-9527-cd5c00c3be49",
   "metadata": {},
   "outputs": [
    {
     "name": "stdout",
     "output_type": "stream",
     "text": [
      "{0, 1}\n"
     ]
    }
   ],
   "source": [
    "def create_alternating_set(n):\n",
    "    alternating_set = set()\n",
    "\n",
    "    for i in range(n):\n",
    "        if i % 2 == 0:\n",
    "            alternating_set.add(1)   \n",
    "        else:\n",
    "            alternating_set.add(0)  \n",
    "\n",
    "    return alternating_set\n",
    "\n",
    "length_n = 10\n",
    "\n",
    "result = create_alternating_set(length_n)\n",
    "\n",
    "print(result)"
   ]
  },
  {
   "cell_type": "code",
   "execution_count": 38,
   "id": "445b51db-83b7-4c3e-9e1a-3db9e0498e81",
   "metadata": {},
   "outputs": [],
   "source": [
    "#50. Merge multiple sets into one."
   ]
  },
  {
   "cell_type": "code",
   "execution_count": 67,
   "id": "267e08e9-5b94-4831-86f4-0d0f23b1badd",
   "metadata": {},
   "outputs": [
    {
     "name": "stdout",
     "output_type": "stream",
     "text": [
      "Merge set: {1, 2, 3, 4, 5, 6, 7}\n"
     ]
    }
   ],
   "source": [
    "set1 = {1,2,3}\n",
    "set2 = {3,4,5}\n",
    "set3 = {5,6,7}\n",
    "\n",
    "merge_set = set1.union(set2,set3)\n",
    "print(\"Merge set:\", merge_set)"
   ]
  },
  {
   "cell_type": "code",
   "execution_count": null,
   "id": "275b450e-0582-43bf-b3f2-5a3f3921ef2b",
   "metadata": {},
   "outputs": [],
   "source": []
  }
 ],
 "metadata": {
  "kernelspec": {
   "display_name": "Python 3 (ipykernel)",
   "language": "python",
   "name": "python3"
  },
  "language_info": {
   "codemirror_mode": {
    "name": "ipython",
    "version": 3
   },
   "file_extension": ".py",
   "mimetype": "text/x-python",
   "name": "python",
   "nbconvert_exporter": "python",
   "pygments_lexer": "ipython3",
   "version": "3.10.8"
  }
 },
 "nbformat": 4,
 "nbformat_minor": 5
}
