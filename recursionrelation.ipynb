{
 "cells": [
  {
   "cell_type": "code",
   "execution_count": 1,
   "id": "7157def6-c381-4821-9dab-a8e5fb13f4da",
   "metadata": {},
   "outputs": [],
   "source": [
    "#1. Find the value of T(2) for the recurrence relation T(n) = 3T(n-1) + 12n, given that T(0)=5.\n"
   ]
  },
  {
   "cell_type": "code",
   "execution_count": 2,
   "id": "2fce2646-0c70-4947-837b-1b41c550c30f",
   "metadata": {},
   "outputs": [
    {
     "data": {
      "text/plain": [
       "'\\nt(n) = 3t(n-1) + 12n\\n\\nt(2) = 3t(2-1) +12.2\\nt(2) = 3t +24\\n\\nt(1) = 3t(0) +12\\n\\nt(1) = 3.5 + 12\\nt(1) = 15 +12\\nt(1) = 27\\n\\nt(2) = 3t + 24\\nt(2) = 3.27 + 24\\nt(2) = 81 + 24\\nt(2) = 105\\n\\n'"
      ]
     },
     "execution_count": 2,
     "metadata": {},
     "output_type": "execute_result"
    }
   ],
   "source": [
    "\"\"\"\n",
    "t(n) = 3t(n-1) + 12n\n",
    "\n",
    "t(2) = 3t(2-1) +12.2\n",
    "t(2) = 3t +24\n",
    "\n",
    "t(1) = 3t(0) +12\n",
    "\n",
    "t(1) = 3.5 + 12\n",
    "t(1) = 15 +12\n",
    "t(1) = 27\n",
    "\n",
    "t(2) = 3t + 24\n",
    "t(2) = 3.27 + 24\n",
    "t(2) = 81 + 24\n",
    "t(2) = 105\n",
    "\n",
    "\"\"\""
   ]
  },
  {
   "cell_type": "code",
   "execution_count": 3,
   "id": "e6d9a158-ca94-4c98-acc2-99b989f5a62c",
   "metadata": {},
   "outputs": [],
   "source": [
    "#2\n"
   ]
  },
  {
   "cell_type": "code",
   "execution_count": 4,
   "id": "f5a63cab-b4e4-49d8-98e6-2f62f8210765",
   "metadata": {},
   "outputs": [
    {
     "data": {
      "text/plain": [
       "'\\nt(n-1) = t(n-2) + c\\nt(n) = t(n-2) + 2c\\n\\nafter k steps\\n\\nt(n) = t(n-k) +kc\\n\\nn-k = 1, n-1=k\\n\\nt(n) = t(1) + (n-1)c\\n\\nt(n) = 1 + n.c \\n\\nO(n)\\n\\n'"
      ]
     },
     "execution_count": 4,
     "metadata": {},
     "output_type": "execute_result"
    }
   ],
   "source": [
    "#a\n",
    "# t(n) = T(n-1) + c\n",
    "\n",
    "\"\"\"\n",
    "t(n-1) = t(n-2) + c\n",
    "t(n) = t(n-2) + 2c\n",
    "\n",
    "after k steps\n",
    "\n",
    "t(n) = t(n-k) +kc\n",
    "\n",
    "n-k = 1, n-1=k\n",
    "\n",
    "t(n) = t(1) + (n-1)c\n",
    "\n",
    "t(n) = 1 + n.c \n",
    "\n",
    "O(n)\n",
    "\n",
    "\"\"\"\n",
    "\n"
   ]
  },
  {
   "cell_type": "code",
   "execution_count": 5,
   "id": "17a00669-c540-44c7-aec5-d9019795cb29",
   "metadata": {},
   "outputs": [
    {
     "data": {
      "text/plain": [
       "'\\nt(n/2) = 2t(n/4) + n/2\\n\\n(t(n) - n)/2 = 2t(n/4) + n/2\\n\\nt(n) - n = 2[2t(n/4) + n/2]\\n\\nt(n) = 4t(n/4) + 2n\\n\\nt(n) = 2^2t(n/2^2) + 2n\\n\\n\\nfor k times\\n\\nt(n) = 2^kt(n/2^k) + kn\\n\\nn/2^k = 1\\n\\nk = logn\\n\\nt(n) = 1t(1) + nlogn\\n\\nif t(1) = 1\\n\\n1 + nlogn\\n\\nn + nlogn\\n\\nO(nlogn)\\n\\n\\n'"
      ]
     },
     "execution_count": 5,
     "metadata": {},
     "output_type": "execute_result"
    }
   ],
   "source": [
    "#b \n",
    "\n",
    "#t(n) = 2t(n/2) +n\n",
    "\n",
    "\"\"\"\n",
    "t(n/2) = 2t(n/4) + n/2\n",
    "\n",
    "(t(n) - n)/2 = 2t(n/4) + n/2\n",
    "\n",
    "t(n) - n = 2[2t(n/4) + n/2]\n",
    "\n",
    "t(n) = 4t(n/4) + 2n\n",
    "\n",
    "t(n) = 2^2t(n/2^2) + 2n\n",
    "\n",
    "\n",
    "for k times\n",
    "\n",
    "t(n) = 2^kt(n/2^k) + kn\n",
    "\n",
    "n/2^k = 1\n",
    "\n",
    "k = logn\n",
    "\n",
    "t(n) = 1t(1) + nlogn\n",
    "\n",
    "if t(1) = 1\n",
    "\n",
    "1 + nlogn\n",
    "\n",
    "n + nlogn\n",
    "\n",
    "O(nlogn)\n",
    "\n",
    "\n",
    "\"\"\""
   ]
  },
  {
   "cell_type": "code",
   "execution_count": null,
   "id": "8ee05f76-fd6a-4b09-ab52-0b002cc4dd77",
   "metadata": {},
   "outputs": [],
   "source": [
    "#c\n",
    "\n",
    "c. T(n) = 2T(n/2) + c\n",
    "d. T(n) = T(n/2) + c\n",
    "3. Given a rec%rrence relation, solve it %sing the rec%rsive tree approach:\n",
    "a. T(n) = 2T(n-1) +1\n",
    "b. T(n) = 2T(n/2) + n"
   ]
  },
  {
   "cell_type": "code",
   "execution_count": null,
   "id": "d5ac94d2-ffe8-46fc-a9fe-80a700c1d634",
   "metadata": {},
   "outputs": [],
   "source": [
    "\"\"\"\n",
    "t(n) = 2t(n/2) + c\n",
    "\n",
    "t(n/2) = 2t(n/4) + c\n",
    "\n",
    "(t(n) - c)/2 = 2t(n/4) + c\n",
    "\n",
    "t(n) = 2[2t(n/4) + c] + c\n",
    "\n",
    "t(n) = 4t(n/4) + 2c\n",
    "\n",
    "t(n) = 2^2t(n/2^2) + 2c\n",
    "\n",
    "after k \n",
    "\n",
    "t(n) = 2^kt(n/2^k) + kc\n",
    "\n",
    "n/2^k = 1\n",
    "n = 2^k\n",
    "\n",
    "k = logn\n",
    "\n",
    "nt(1) + clogn\n",
    "if t(1) = 1\n",
    "\n",
    "n +clogn\n",
    "\n",
    "O(logn)\n",
    "\"\"\""
   ]
  },
  {
   "cell_type": "code",
   "execution_count": null,
   "id": "efa05e78-924e-42d9-b32c-9671e61ad00c",
   "metadata": {},
   "outputs": [],
   "source": [
    "#d\n"
   ]
  },
  {
   "cell_type": "code",
   "execution_count": null,
   "id": "3b713b5b-c521-452c-8080-62a3635416bc",
   "metadata": {},
   "outputs": [],
   "source": [
    "\"\"\"\n",
    "T(n) = T(n/2) + c\n",
    "\n",
    "t(n/2) = t(n/4) + c\n",
    "\n",
    "t(n) = t(n/4) + 2c\n",
    "\n",
    "tn = t(n/2^2) + 2c\n",
    "\n",
    "after k times\n",
    "\n",
    "tn = t(n/2^k) + kc\n",
    "\n",
    "n/2^k = 1\n",
    "n = 2^k\n",
    "\n",
    "k = logn\n",
    "\n",
    "t(n) = t(1) + clogn\n",
    "\n",
    "tn = 1 + clogn\n",
    "\n",
    "O(logn)\n",
    "\n",
    "\"\"\""
   ]
  },
  {
   "cell_type": "code",
   "execution_count": 6,
   "id": "e8bede83-2c7b-4f34-b6cc-714f5e5dd44a",
   "metadata": {},
   "outputs": [
    {
     "data": {
      "text/plain": [
       "'\\nT(n) = 2T(n-1) +1\\n\\nt(n-1) = 2t(n-2) + 1\\n\\n(t(n) +1)/2 = 2t(n-2) + 1\\n\\nt(n) = 4t(n-2) + 2 +1\\n\\nt(n) = 2^2t(n-2) + 2 +1\\n\\n\\nafter k times\\n\\nt(n) = 2^kt(n-2) + 2 + 1\\n\\n1+2+2^2 +2^3+.  +2^k = 2^k+1 - 1\\n\\na.2n +2n -1\\n\\nO(n)\\n'"
      ]
     },
     "execution_count": 6,
     "metadata": {},
     "output_type": "execute_result"
    }
   ],
   "source": [
    "#3. Given a recurrence relation, solve it using the recursive tree approach:\n",
    "\n",
    "#a\n",
    "\"\"\"\n",
    "T(n) = 2T(n-1) +1\n",
    "\n",
    "t(n-1) = 2t(n-2) + 1\n",
    "\n",
    "(t(n) +1)/2 = 2t(n-2) + 1\n",
    "\n",
    "t(n) = 4t(n-2) + 2 +1\n",
    "\n",
    "t(n) = 2^2t(n-2) + 2 +1\n",
    "\n",
    "\n",
    "after k times\n",
    "\n",
    "t(n) = 2^kt(n-2) + 2 + 1\n",
    "\n",
    "1+2+2^2 +2^3+.  +2^k = 2^k+1 - 1\n",
    "\n",
    "n-k = 0\n",
    "\n",
    "2^n + 2^n - 1\n",
    "2^n+1 - 1\n",
    "\n",
    "O(n)\n",
    "\"\"\""
   ]
  },
  {
   "cell_type": "code",
   "execution_count": null,
   "id": "33dcae5d-7622-401b-9fc9-61f591013ab5",
   "metadata": {},
   "outputs": [],
   "source": [
    "#b \n",
    "\n",
    "#t(n) = 2t(n/2) +n\n",
    "\n",
    "\"\"\"\n",
    "t(n/2) = 2t(n/4) + n/2\n",
    "\n",
    "(t(n) - n)/2 = 2t(n/4) + n/2\n",
    "\n",
    "t(n) - n = 2[2t(n/4) + n/2]\n",
    "\n",
    "t(n) = 4t(n/4) + 2n\n",
    "\n",
    "t(n) = 2^2t(n/2^2) + 2n\n",
    "\n",
    "\n",
    "for k times\n",
    "\n",
    "t(n) = 2^kt(n/2^k) + kn\n",
    "\n",
    "n/2^k = 1\n",
    "\n",
    "k = logn\n",
    "\n",
    "t(n) = 1t(1) + nlogn\n",
    "\n",
    "if t(1) = 1\n",
    "\n",
    "1 + nlogn\n",
    "\n",
    "n + nlogn\n",
    "\n",
    "O(nlogn)\n",
    "\n",
    "\n",
    "\"\"\""
   ]
  }
 ],
 "metadata": {
  "kernelspec": {
   "display_name": "Python 3 (ipykernel)",
   "language": "python",
   "name": "python3"
  },
  "language_info": {
   "codemirror_mode": {
    "name": "ipython",
    "version": 3
   },
   "file_extension": ".py",
   "mimetype": "text/x-python",
   "name": "python",
   "nbconvert_exporter": "python",
   "pygments_lexer": "ipython3",
   "version": "3.10.8"
  }
 },
 "nbformat": 4,
 "nbformat_minor": 5
}
