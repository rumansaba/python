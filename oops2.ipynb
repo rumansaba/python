{
 "cells": [
  {
   "cell_type": "code",
   "execution_count": 1,
   "id": "2645ab0b-1f00-4c6d-92ab-326e0967b00f",
   "metadata": {},
   "outputs": [
    {
     "name": "stdout",
     "output_type": "stream",
     "text": [
      "My car is a 2022 Toyota Camry.\n",
      "The 2022 Toyota Camry's engine is now running.\n"
     ]
    }
   ],
   "source": [
    "#1\n",
    "\n",
    "\"\"\" \n",
    "a constructor is a special method that is automatically called when an \n",
    "object of a class is created.In Python, the constructor method is named\n",
    "__init__. It is a reserved method, and it is defined within a class to \n",
    "initialize the object's attributes. The self parameter in the constructor \n",
    "refers to the instance of the object being created, and it is used to \n",
    "access and modify the object's attributes.\n",
    "\n",
    "\"\"\"\n",
    "class Car:\n",
    "    def __init__(self, make, model, year):\n",
    "        self.make = make\n",
    "        self.model = model\n",
    "        self.year = year\n",
    "        self.is_running = False\n",
    "\n",
    "    def start_engine(self):\n",
    "        print(f\"The {self.year} {self.make} {self.model}'s engine is now running.\")\n",
    "        self.is_running = True\n",
    "\n",
    "my_car = Car(make=\"Toyota\", model=\"Camry\", year=2022)\n",
    "\n",
    "print(f\"My car is a {my_car.year} {my_car.make} {my_car.model}.\")\n",
    "\n",
    "my_car.start_engine()\n",
    "\n"
   ]
  },
  {
   "cell_type": "code",
   "execution_count": 3,
   "id": "dee6a37e-56d0-4ed3-bd15-aa1608913997",
   "metadata": {},
   "outputs": [
    {
     "name": "stdout",
     "output_type": "stream",
     "text": [
      "Hello, World!\n",
      "Hello, Parameterized Constructor!\n"
     ]
    }
   ],
   "source": [
    "#2\n",
    "\"\"\"\n",
    "1. Parameterless Constructor:\n",
    "A parameterless constructor, as the name suggests, is a constructor that \n",
    "takes no parameters. It is defined with the __init__ method without any \n",
    "additional parameters other than the obligatory self. Its purpose is often\n",
    "to provide default values or perform basic initialization without \n",
    "requiring any external information.\n",
    "\n",
    "\"\"\"\n",
    "class ParameterlessExample:\n",
    "    def __init__(self):\n",
    "        # This is a parameterless constructor\n",
    "        self.message = \"Hello, World!\"\n",
    "\n",
    "# Creating an instance of the class\n",
    "example_object = ParameterlessExample()\n",
    "\n",
    "# Accessing the attribute initialized in the constructor\n",
    "print(example_object.message)\n",
    "\n",
    "\n",
    "\"\"\"\n",
    "2. Parameterized Constructor:\n",
    "A parameterized constructor, on the other hand, accepts parameters in \n",
    "addition to the mandatory self parameter. It allows you to pass values at \n",
    "the time of object creation, enabling more flexibility and customization.\n",
    "The parameters passed to the constructor are used to initialize the\n",
    "attributes of the object.\n",
    "\n",
    "\"\"\"\n",
    "\n",
    "class ParameterizedExample:\n",
    "    def __init__(self, message):\n",
    "        # This is a parameterized constructor\n",
    "        self.message = message\n",
    "\n",
    "# Creating an instance of the class with a parameter\n",
    "example_object = ParameterizedExample(\"Hello, Parameterized Constructor!\")\n",
    "\n",
    "# Accessing the attribute initialized in the constructor\n",
    "print(example_object.message)\n"
   ]
  },
  {
   "cell_type": "code",
   "execution_count": 4,
   "id": "884773e1-0df6-43e0-886d-7105914bcfcb",
   "metadata": {},
   "outputs": [
    {
     "ename": "NameError",
     "evalue": "name 'parameter1_value' is not defined",
     "output_type": "error",
     "traceback": [
      "\u001b[0;31m---------------------------------------------------------------------------\u001b[0m",
      "\u001b[0;31mNameError\u001b[0m                                 Traceback (most recent call last)",
      "Cell \u001b[0;32mIn[4], line 15\u001b[0m\n\u001b[1;32m     12\u001b[0m         \u001b[38;5;28mself\u001b[39m\u001b[38;5;241m.\u001b[39mattribute2 \u001b[38;5;241m=\u001b[39m parameter2\n\u001b[1;32m     14\u001b[0m \u001b[38;5;66;03m# Creating an instance of the class\u001b[39;00m\n\u001b[0;32m---> 15\u001b[0m my_object \u001b[38;5;241m=\u001b[39m MyClass(\u001b[43mparameter1_value\u001b[49m, parameter2_value)\n",
      "\u001b[0;31mNameError\u001b[0m: name 'parameter1_value' is not defined"
     ]
    }
   ],
   "source": [
    "#3\n",
    "\"\"\"\n",
    "In Python, you define a constructor using the __init__ method within a \n",
    "class. The __init__ method is automatically called when an object of the \n",
    "class is created. \n",
    "\n",
    "\"\"\"\n",
    "class MyClass:\n",
    "    def __init__(self, parameter1, parameter2):\n",
    "        # Initialization code here\n",
    "        self.attribute1 = parameter1\n",
    "        self.attribute2 = parameter2\n",
    "\n",
    "# Creating an instance of the class\n",
    "my_object = MyClass(parameter1_value, parameter2_value)\n",
    "\n"
   ]
  },
  {
   "cell_type": "code",
   "execution_count": 5,
   "id": "3c371083-0bb9-4597-9363-7cdb4a021951",
   "metadata": {},
   "outputs": [],
   "source": [
    "#4\n",
    "\n",
    "\"\"\"The __init__ method is a special method in Python classes and serves as\n",
    "the constructor for the class. It is called automatically when an instance\n",
    "of the class is created. Its primary role is to initialize the attributes \n",
    "of the object or perform any other setup that is necessary for the object \n",
    "to be in a valid state.\n",
    "\"\"\"\n",
    "\n",
    "class MyClass:\n",
    "    def __init__(self, parameter1, parameter2):\n",
    "        # Initialization code here\n",
    "        self.attribute1 = parameter1\n",
    "        self.attribute2 = parameter2\n",
    "\n"
   ]
  },
  {
   "cell_type": "code",
   "execution_count": 6,
   "id": "79a09252-e8fc-42fd-b1fa-9e0d94c1ca65",
   "metadata": {},
   "outputs": [
    {
     "name": "stdout",
     "output_type": "stream",
     "text": [
      "Name: John Doe, Age: 25\n"
     ]
    }
   ],
   "source": [
    "#5\n",
    "\n",
    "class Person:\n",
    "    def __init__(self, name, age):\n",
    "        self.name = name\n",
    "        self.age = age\n",
    "\n",
    "# Creating an instance of the Person class\n",
    "person_object = Person(name=\"John Doe\", age=25)\n",
    "\n",
    "# Accessing attributes\n",
    "print(f\"Name: {person_object.name}, Age: {person_object.age}\")\n"
   ]
  },
  {
   "cell_type": "code",
   "execution_count": 8,
   "id": "afd4f6b1-c3f3-4b95-8407-be9d091cbd5c",
   "metadata": {},
   "outputs": [
    {
     "name": "stdout",
     "output_type": "stream",
     "text": [
      "Constructor called with parameter: example\n",
      "Constructor called with parameter: explicit_call\n"
     ]
    }
   ],
   "source": [
    "#6\n",
    "\"\"\"\n",
    "In Python, you don't explicitly call the constructor (__init__) yourself. \n",
    "It is automatically invoked when you create an instance of a class. \n",
    "However, you can define another method in your class and call it \n",
    "explicitly if you need additional setup or initialization beyond what the \n",
    "constructor does. \n",
    "\n",
    "\"\"\"\n",
    "\n",
    "class MyClass:\n",
    "    def __init__(self, parameter):\n",
    "        self.parameter = parameter\n",
    "        print(f\"Constructor called with parameter: {parameter}\")\n",
    "\n",
    "# Creating an instance of the class (constructor is called automatically)\n",
    "my_object = MyClass(parameter=\"example\")\n",
    "\n",
    "# Calling the constructor explicitly\n",
    "my_object.__init__(parameter=\"explicit_call\")\n"
   ]
  },
  {
   "cell_type": "code",
   "execution_count": 9,
   "id": "eb333f32-1c65-4b28-a858-7693c70b0e82",
   "metadata": {},
   "outputs": [
    {
     "name": "stdout",
     "output_type": "stream",
     "text": [
      "Attribute 1: value1\n",
      "Attribute 2: value2\n"
     ]
    }
   ],
   "source": [
    "#7\n",
    "\"\"\"\n",
    "In Python, the self parameter in constructors (and other instance methods)\n",
    "refers to the instance of the class itself. It is a convention and not a \n",
    "keyword, but it is widely followed to name the first parameter of \n",
    "instance methods as self. The purpose of self is to allow access to the \n",
    "instance's attributes and methods within the class.\n",
    "\"\"\"\n",
    "\n",
    "class MyClass:\n",
    "    def __init__(self, attribute1, attribute2):\n",
    "        # Use 'self' to refer to the instance attributes\n",
    "        self.attribute1 = attribute1\n",
    "        self.attribute2 = attribute2\n",
    "\n",
    "    def display_attributes(self):\n",
    "        # Access attributes using 'self'\n",
    "        print(f\"Attribute 1: {self.attribute1}\")\n",
    "        print(f\"Attribute 2: {self.attribute2}\")\n",
    "\n",
    "# Creating an instance of the class\n",
    "my_object = MyClass(attribute1=\"value1\", attribute2=\"value2\")\n",
    "\n",
    "# Calling a method that uses 'self' to access attributes\n",
    "my_object.display_attributes()\n",
    "\n"
   ]
  },
  {
   "cell_type": "code",
   "execution_count": 11,
   "id": "4db49ec3-6bf4-46fb-87c2-3085c89936f2",
   "metadata": {},
   "outputs": [
    {
     "data": {
      "text/plain": [
       "'\\nIn this case, MyClass has a default constructor provided by Python, which \\ntakes only the self parameter and doesn\\'t perform any specific initialization.\\n\\nSo, to clarify, the term \"default constructor\" in Python typically refers \\nto the automatically provided __init__ method when you don\\'t explicitly \\ndefine one. The usage is implicit; it\\'s there whenever you create an \\ninstance of a class, and it initializes the object without any additional \\nactions.\\n\\n\\n'"
      ]
     },
     "execution_count": 11,
     "metadata": {},
     "output_type": "execute_result"
    }
   ],
   "source": [
    "#8\n",
    "\n",
    "\"\"\"\n",
    "In Python, when you define a class and do not explicitly provide an __init__ \n",
    "method (the constructor), Python creates a default constructor for you. \n",
    "This default constructor takes only the self parameter and does not \n",
    "perform any additional initialization. So, in a sense, you always have a \n",
    "constructor in Python, even if you don't explicitly define one.\n",
    "\n",
    "\n",
    "\"\"\"\n",
    "class MyClass:\n",
    "    pass\n",
    "\n",
    "# Creating an instance of the class\n",
    "my_object = MyClass()\n",
    "\n",
    "\"\"\"\n",
    "In this case, MyClass has a default constructor provided by Python, which \n",
    "takes only the self parameter and doesn't perform any specific initialization.\n",
    "\n",
    "So, to clarify, the term \"default constructor\" in Python typically refers \n",
    "to the automatically provided __init__ method when you don't explicitly \n",
    "define one. The usage is implicit; it's there whenever you create an \n",
    "instance of a class, and it initializes the object without any additional \n",
    "actions.\n",
    "\n",
    "\n",
    "\"\"\""
   ]
  },
  {
   "cell_type": "code",
   "execution_count": 12,
   "id": "7031b5d0-d6df-48e2-b3cb-da8d1237216d",
   "metadata": {},
   "outputs": [
    {
     "name": "stdout",
     "output_type": "stream",
     "text": [
      "Width: 5, Height: 10\n",
      "Area of the rectangle: 50\n"
     ]
    }
   ],
   "source": [
    "#9\n",
    "class Rectangle:\n",
    "    def __init__(self, width, height):\n",
    "        self.width = width\n",
    "        self.height = height\n",
    "\n",
    "    def calculate_area(self):\n",
    "        return self.width * self.height\n",
    "\n",
    "my_rectangle = Rectangle(width=5, height=10)\n",
    "\n",
    "print(f\"Width: {my_rectangle.width}, Height: {my_rectangle.height}\")\n",
    "\n",
    "area = my_rectangle.calculate_area()\n",
    "print(f\"Area of the rectangle: {area}\")\n",
    "\n"
   ]
  },
  {
   "cell_type": "code",
   "execution_count": 13,
   "id": "c1c02b3d-b778-4390-a416-8aba8fb83e4d",
   "metadata": {},
   "outputs": [
    {
     "name": "stdout",
     "output_type": "stream",
     "text": [
      "Area of rectangle1: 50\n",
      "Area of square: 49\n"
     ]
    }
   ],
   "source": [
    "#10\n",
    "class Rectangle:\n",
    "    def __init__(self, width=0, height=0):\n",
    "        self.width = width\n",
    "        self.height = height\n",
    "\n",
    "    @classmethod\n",
    "    def create_square(cls, side_length):\n",
    "        # Constructor-like method to create a square\n",
    "        return cls(width=side_length, height=side_length)\n",
    "\n",
    "    def calculate_area(self):\n",
    "        return self.width * self.height\n",
    "\n",
    "rectangle1 = Rectangle(width=5, height=10)\n",
    "print(f\"Area of rectangle1: {rectangle1.calculate_area()}\")\n",
    "\n",
    "square = Rectangle.create_square(side_length=7)\n",
    "print(f\"Area of square: {square.calculate_area()}\")\n"
   ]
  },
  {
   "cell_type": "code",
   "execution_count": 14,
   "id": "578c2747-d3e8-4978-afc8-d2d881f7d9f1",
   "metadata": {},
   "outputs": [
    {
     "data": {
      "text/plain": [
       "\"\\nMethod overloading in Python involves defining multiple methods with the \\nsame name but different parameter lists. However, Python does not support \\nmethod overloading in the traditional sense. In Python, if you define \\nmultiple methods with the same name, the last one defined will override \\nthe earlier ones.\\n\\nConstructor overloading is often simulated by using default values for\\nparameters in the constructor, as shown in the previous answer. This \\nallows you to create instances of the class with different sets of \\nparameters. While it's not true method overloading, it achieves a similar \\nresult.\\n\\n\\n\""
      ]
     },
     "execution_count": 14,
     "metadata": {},
     "output_type": "execute_result"
    }
   ],
   "source": [
    "#11\n",
    "\n",
    "\"\"\"\n",
    "Method overloading in Python involves defining multiple methods with the \n",
    "same name but different parameter lists. However, Python does not support \n",
    "method overloading in the traditional sense. In Python, if you define \n",
    "multiple methods with the same name, the last one defined will override \n",
    "the earlier ones.\n",
    "\n",
    "Constructor overloading is often simulated by using default values for\n",
    "parameters in the constructor, as shown in the previous answer. This \n",
    "allows you to create instances of the class with different sets of \n",
    "parameters. While it's not true method overloading, it achieves a similar \n",
    "result.\n",
    "\n",
    "\n",
    "\"\"\""
   ]
  },
  {
   "cell_type": "code",
   "execution_count": 15,
   "id": "45f16e0e-f505-4133-a74a-98a84ebd0988",
   "metadata": {},
   "outputs": [
    {
     "name": "stdout",
     "output_type": "stream",
     "text": [
      "Name: John\n",
      "Additional Info: Some additional info\n"
     ]
    }
   ],
   "source": [
    "#12\n",
    "\n",
    "class Parent:\n",
    "    def __init__(self, name):\n",
    "        self.name = name\n",
    "\n",
    "class Child(Parent):\n",
    "    def __init__(self, name, additional_info):\n",
    "        super().__init__(name)\n",
    "        self.additional_info = additional_info\n",
    "\n",
    "# Creating an instance of the Child class\n",
    "child_instance = Child(name=\"John\", additional_info=\"Some additional info\")\n",
    "\n",
    "# Accessing attributes\n",
    "print(f\"Name: {child_instance.name}\")\n",
    "print(f\"Additional Info: {child_instance.additional_info}\")\n"
   ]
  },
  {
   "cell_type": "code",
   "execution_count": 16,
   "id": "36f0f02d-1324-404e-a85b-85d6e617f00b",
   "metadata": {},
   "outputs": [
    {
     "name": "stdout",
     "output_type": "stream",
     "text": [
      "Title: The Python Book\n",
      "Author: John Doe\n",
      "Published Year: 2022\n"
     ]
    }
   ],
   "source": [
    "#13\n",
    "class Book:\n",
    "    def __init__(self, title, author, published_year):\n",
    "        self.title = title\n",
    "        self.author = author\n",
    "        self.published_year = published_year\n",
    "\n",
    "    def display_details(self):\n",
    "        print(f\"Title: {self.title}\")\n",
    "        print(f\"Author: {self.author}\")\n",
    "        print(f\"Published Year: {self.published_year}\")\n",
    "\n",
    "# Creating an instance of the Book class\n",
    "book_instance = Book(title=\"The Python Book\", author=\"John Doe\", published_year=2022)\n",
    "\n",
    "# Displaying book details\n",
    "book_instance.display_details()\n"
   ]
  },
  {
   "cell_type": "code",
   "execution_count": 17,
   "id": "33374cbd-b089-4f4d-837a-76fe471d6102",
   "metadata": {},
   "outputs": [
    {
     "data": {
      "text/plain": [
       "\"\\nConstructors:\\n\\nConstructors are special methods named __init__.\\nThey are automatically called when an object is created.\\nThey initialize the attributes of an object.\\nThe self parameter is mandatory in constructors.\\n\\nRegular Methods:\\nRegular methods are defined with parameters, but they are not mandatory to\\nhave.\\nThey perform actions on the object's attributes or provide some \\nfunctionality.\\nThey need to be called explicitly on an object.\\n\\n\""
      ]
     },
     "execution_count": 17,
     "metadata": {},
     "output_type": "execute_result"
    }
   ],
   "source": [
    "#14\n",
    "\"\"\"\n",
    "Constructors:\n",
    "\n",
    "Constructors are special methods named __init__.\n",
    "They are automatically called when an object is created.\n",
    "They initialize the attributes of an object.\n",
    "The self parameter is mandatory in constructors.\n",
    "\n",
    "Regular Methods:\n",
    "Regular methods are defined with parameters, but they are not mandatory to\n",
    "have.\n",
    "They perform actions on the object's attributes or provide some \n",
    "functionality.\n",
    "They need to be called explicitly on an object.\n",
    "\n",
    "\"\"\""
   ]
  },
  {
   "cell_type": "code",
   "execution_count": null,
   "id": "b40108ba-8e9a-48e3-bad4-bc095f78e145",
   "metadata": {},
   "outputs": [],
   "source": [
    "#15\n",
    "\"\"\"\n",
    "In a constructor, the self parameter refers to the instance of the class \n",
    "being created. It is used to access and modify the attributes of the object. \n",
    "By convention, self is the first parameter in all instance methods \n",
    "(including the constructor) and represents the instance itself.\n",
    "\n",
    "\n",
    "\"\"\""
   ]
  },
  {
   "cell_type": "code",
   "execution_count": 18,
   "id": "3cf2f911-68c0-4d3e-8cae-b6dc5c7ce067",
   "metadata": {},
   "outputs": [
    {
     "name": "stdout",
     "output_type": "stream",
     "text": [
      "True\n"
     ]
    }
   ],
   "source": [
    "#16\n",
    "class SingletonClass:\n",
    "    _instance = None\n",
    "\n",
    "    def __new__(cls):\n",
    "        if not cls._instance:\n",
    "            cls._instance = super(SingletonClass, cls).__new__(cls)\n",
    "        return cls._instance\n",
    "\n",
    "# Creating instances\n",
    "instance1 = SingletonClass()\n",
    "instance2 = SingletonClass()\n",
    "\n",
    "print(instance1 is instance2)  # True\n"
   ]
  },
  {
   "cell_type": "code",
   "execution_count": 20,
   "id": "cef40c35-a2da-4606-b3cd-6201de0d3dac",
   "metadata": {},
   "outputs": [
    {
     "name": "stdout",
     "output_type": "stream",
     "text": [
      "Subjects: ['Math', 'Physics', 'English']\n"
     ]
    }
   ],
   "source": [
    "#17\n",
    "\n",
    "class Student:\n",
    "    def __init__(self, subjects):\n",
    "        self.subjects = subjects\n",
    "\n",
    "# Creating an instance of the Student class\n",
    "student_instance = Student(subjects=[\"Math\", \"Physics\", \"English\"])\n",
    "\n",
    "# Accessing attributes\n",
    "print(f\"Subjects: {student_instance.subjects}\")\n"
   ]
  },
  {
   "cell_type": "code",
   "execution_count": 21,
   "id": "99e60674-7a28-4bfa-b050-42c917737382",
   "metadata": {},
   "outputs": [
    {
     "name": "stdout",
     "output_type": "stream",
     "text": [
      "Object created\n",
      "Object destroyed\n"
     ]
    }
   ],
   "source": [
    "#18\n",
    "\"\"\"\n",
    "The __del__ method in Python is a special method that is called when an \n",
    "object is about to be destroyed. It is used for cleaning up resources or \n",
    "performing finalization tasks. However, relying on __del__ is not \n",
    "recommended, and it's often better to use other mechanisms like \n",
    "context managers (with statement) or the __enter__ and __exit__ methods.\n",
    "\"\"\"\n",
    "class MyClass:\n",
    "    def __init__(self):\n",
    "        print(\"Object created\")\n",
    "\n",
    "    def __del__(self):\n",
    "        print(\"Object destroyed\")\n",
    "\n",
    "# Creating an instance\n",
    "obj = MyClass()\n",
    "\n",
    "# The object may be destroyed when the program exits, or you can manually delete it\n",
    "del obj\n",
    "\n"
   ]
  },
  {
   "cell_type": "code",
   "execution_count": 22,
   "id": "ea006ae4-cf93-46b1-a88b-2340dafbf55d",
   "metadata": {},
   "outputs": [
    {
     "name": "stdout",
     "output_type": "stream",
     "text": [
      "Name: John\n",
      "Additional Info: Some additional info\n"
     ]
    }
   ],
   "source": [
    "#19\n",
    "\n",
    "class Parent:\n",
    "    def __init__(self, name):\n",
    "        self.name = name\n",
    "\n",
    "class Child(Parent):\n",
    "    def __init__(self, name, additional_info):\n",
    "        super().__init__(name)\n",
    "        self.additional_info = additional_info\n",
    "\n",
    "# Creating an instance of the Child class\n",
    "child_instance = Child(name=\"John\", additional_info=\"Some additional info\")\n",
    "\n",
    "# Accessing attributes\n",
    "print(f\"Name: {child_instance.name}\")\n",
    "print(f\"Additional Info: {child_instance.additional_info}\")\n"
   ]
  },
  {
   "cell_type": "code",
   "execution_count": 23,
   "id": "69f6cd00-d9a8-42c3-a283-547d2bc0faea",
   "metadata": {},
   "outputs": [
    {
     "name": "stdout",
     "output_type": "stream",
     "text": [
      "Make: Unknown\n",
      "Model: Unknown\n"
     ]
    }
   ],
   "source": [
    "#20\n",
    "class Car:\n",
    "    def __init__(self, make=\"Unknown\", model=\"Unknown\"):\n",
    "        self.make = make\n",
    "        self.model = model\n",
    "\n",
    "    def display_info(self):\n",
    "        print(f\"Make: {self.make}\")\n",
    "        print(f\"Model: {self.model}\")\n",
    "\n",
    "# Creating an instance of the Car class with default constructor values\n",
    "car_instance = Car()\n",
    "\n",
    "# Displaying car information\n",
    "car_instance.display_info()\n"
   ]
  },
  {
   "cell_type": "code",
   "execution_count": null,
   "id": "0eb9f2ce-6a53-48a8-afcf-f2bfcc93276d",
   "metadata": {},
   "outputs": [],
   "source": [
    "#inheritance"
   ]
  },
  {
   "cell_type": "code",
   "execution_count": 24,
   "id": "7ddb798f-cfe2-4d52-b576-43f1fa1ef635",
   "metadata": {},
   "outputs": [
    {
     "data": {
      "text/plain": [
       "'\\nInheritance is a fundamental concept in object-oriented programming (OOP)\\nthat allows a new class (called a derived or child class) to inherit \\nattributes and methods from an existing class (called a base or parent \\nclass). It promotes code reuse, extensibility, and the creation of a \\nhierarchy of classes.\\n'"
      ]
     },
     "execution_count": 24,
     "metadata": {},
     "output_type": "execute_result"
    }
   ],
   "source": [
    "#1\n",
    "\"\"\"\n",
    "Inheritance is a fundamental concept in object-oriented programming (OOP)\n",
    "that allows a new class (called a derived or child class) to inherit \n",
    "attributes and methods from an existing class (called a base or parent \n",
    "class). It promotes code reuse, extensibility, and the creation of a \n",
    "hierarchy of classes.\n",
    "\"\"\"\n"
   ]
  },
  {
   "cell_type": "code",
   "execution_count": 25,
   "id": "c0b28c4b-41e9-4e3f-9e15-ea36651ed62d",
   "metadata": {},
   "outputs": [
    {
     "name": "stdout",
     "output_type": "stream",
     "text": [
      "Animal speaks\n",
      "Dog barks\n",
      "Animal speaks\n",
      "Flying high\n"
     ]
    }
   ],
   "source": [
    "#2\n",
    "\n",
    "\"\"\" In single inheritance, a class can inherit from only one base class.\n",
    "\n",
    "\"\"\"\n",
    "class Animal:\n",
    "    def speak(self):\n",
    "        print(\"Animal speaks\")\n",
    "\n",
    "class Dog(Animal):\n",
    "    def bark(self):\n",
    "        print(\"Dog barks\")\n",
    "\n",
    "dog = Dog()\n",
    "dog.speak()  # Accessing the method from the base class\n",
    "dog.bark()   # Accessing the method from the derived class\n",
    "\"\"\"   In multiple inheritance, a class can inherit from more than one base class.\n",
    "\n",
    "\"\"\"\n",
    "class Flyable:\n",
    "    def fly(self):\n",
    "        print(\"Flying high\")\n",
    "\n",
    "class Bird(Animal, Flyable):\n",
    "    pass\n",
    "\n",
    "bird = Bird()\n",
    "bird.speak()  # Accessing the method from the first base class\n",
    "bird.fly()    # Accessing the method from the second base class\n"
   ]
  },
  {
   "cell_type": "code",
   "execution_count": 26,
   "id": "5096962e-a783-4840-8188-e8f042201581",
   "metadata": {},
   "outputs": [
    {
     "name": "stdout",
     "output_type": "stream",
     "text": [
      "Color: Red\n",
      "Speed: 60\n",
      "Brand: Toyota\n"
     ]
    }
   ],
   "source": [
    "#3\n",
    "\n",
    "class Vehicle:\n",
    "    def __init__(self, color, speed):\n",
    "        self.color = color\n",
    "        self.speed = speed\n",
    "\n",
    "class Car(Vehicle):\n",
    "    def __init__(self, color, speed, brand):\n",
    "        super().__init__(color, speed)\n",
    "        self.brand = brand\n",
    "\n",
    "# Creating a Car object\n",
    "car = Car(color=\"Red\", speed=60, brand=\"Toyota\")\n",
    "\n",
    "# Accessing attributes\n",
    "print(f\"Color: {car.color}\")\n",
    "print(f\"Speed: {car.speed}\")\n",
    "print(f\"Brand: {car.brand}\")\n"
   ]
  },
  {
   "cell_type": "code",
   "execution_count": 27,
   "id": "8a02d78c-b2b8-4c40-a53a-cc0568e8a71e",
   "metadata": {},
   "outputs": [
    {
     "name": "stdout",
     "output_type": "stream",
     "text": [
      "Dog barks\n"
     ]
    }
   ],
   "source": [
    "#4\n",
    "class Animal:\n",
    "    def speak(self):\n",
    "        print(\"Animal speaks\")\n",
    "\n",
    "class Dog(Animal):\n",
    "    def speak(self):\n",
    "        print(\"Dog barks\")\n",
    "\n",
    "dog = Dog()\n",
    "dog.speak()  # This will print \"Dog barks\" instead of \"Animal speaks\"\n"
   ]
  },
  {
   "cell_type": "code",
   "execution_count": 28,
   "id": "ad8af74e-ab5a-469c-abee-4bae897f0ac8",
   "metadata": {},
   "outputs": [
    {
     "name": "stdout",
     "output_type": "stream",
     "text": [
      "Parent method\n",
      "Child method\n"
     ]
    }
   ],
   "source": [
    "#5\n",
    "class Parent:\n",
    "    def method(self):\n",
    "        print(\"Parent method\")\n",
    "\n",
    "class Child(Parent):\n",
    "    def method(self):\n",
    "        super().method()  # Calling the method from the parent class\n",
    "        print(\"Child method\")\n",
    "\n",
    "child = Child()\n",
    "child.method()\n"
   ]
  },
  {
   "cell_type": "code",
   "execution_count": 29,
   "id": "b9d799c9-11a2-49ac-9088-526d2a4267e4",
   "metadata": {},
   "outputs": [
    {
     "name": "stdout",
     "output_type": "stream",
     "text": [
      "Parent method\n",
      "Child method\n"
     ]
    }
   ],
   "source": [
    "#6\n",
    "class Parent:\n",
    "    def method(self):\n",
    "        print(\"Parent method\")\n",
    "\n",
    "class Child(Parent):\n",
    "    def method(self):\n",
    "        super().method()  # Calling the method from the parent class\n",
    "        print(\"Child method\")\n",
    "\n",
    "child = Child()\n",
    "child.method()\n"
   ]
  },
  {
   "cell_type": "code",
   "execution_count": 30,
   "id": "b7be4b96-bbff-4bdb-b977-79e29c2074eb",
   "metadata": {},
   "outputs": [
    {
     "name": "stdout",
     "output_type": "stream",
     "text": [
      "Dog barks\n",
      "Cat meows\n"
     ]
    }
   ],
   "source": [
    "#7\n",
    "class Animal:\n",
    "    def speak(self):\n",
    "        print(\"Animal speaks\")\n",
    "\n",
    "class Dog(Animal):\n",
    "    def speak(self):\n",
    "        print(\"Dog barks\")\n",
    "\n",
    "class Cat(Animal):\n",
    "    def speak(self):\n",
    "        print(\"Cat meows\")\n",
    "\n",
    "# Using the classes\n",
    "dog = Dog()\n",
    "cat = Cat()\n",
    "\n",
    "dog.speak()  # This will print \"Dog barks\"\n",
    "cat.speak()  # This will print \"Cat meows\"\n"
   ]
  },
  {
   "cell_type": "code",
   "execution_count": 21,
   "id": "f43c9e17-c05d-41bc-b449-4415ead81433",
   "metadata": {},
   "outputs": [
    {
     "name": "stdout",
     "output_type": "stream",
     "text": [
      "True True False\n"
     ]
    }
   ],
   "source": [
    "#8\n",
    "\"\"\"\n",
    "The isinstance() function in Python is used to check if an object belongs\n",
    "to a specified class or a tuple of classes. It returns True if the object \n",
    "is an instance of any of the specified classes, and False otherwise.\n",
    "\n",
    "\"\"\"\n",
    "\n",
    "class Animal:\n",
    "    pass\n",
    "\n",
    "class Dog(Animal):\n",
    "    pass\n",
    "\n",
    "# Creating instances\n",
    "animal_instance = Animal()\n",
    "dog_instance = Dog()\n",
    "\n",
    "# Checking the type of instances\n",
    "result1 = isinstance(animal_instance, Animal)  # True\n",
    "result2 = isinstance(dog_instance, Animal)     # True\n",
    "result3 = isinstance(animal_instance, Dog)     # False\n",
    "\n",
    "print(result1, result2, result3)\n"
   ]
  },
  {
   "cell_type": "code",
   "execution_count": 2,
   "id": "9bba5e01-035f-49c9-89dc-e192e98a7c15",
   "metadata": {},
   "outputs": [],
   "source": [
    "#9\n",
    "class Parent:\n",
    "    pass\n",
    "\n",
    "class Child(Parent):\n",
    "    pass\n",
    "\n",
    "# Check if Child is a subclass of Parent\n",
    "result = issubclass(Child, Parent)\n",
    "print(result)  # This will print True\n",
    "\n"
   ]
  },
  {
   "cell_type": "code",
   "execution_count": 13,
   "id": "536496ad-41e3-4c50-a72f-ea5be357d3fe",
   "metadata": {},
   "outputs": [
    {
     "name": "stdout",
     "output_type": "stream",
     "text": [
      "John\n"
     ]
    }
   ],
   "source": [
    "#10\n",
    "\n",
    "class Parent:\n",
    "    def __init__(self, name):\n",
    "        self.name = name\n",
    "\n",
    "class Child(Parent):\n",
    "    pass\n",
    "\n",
    "# Creating an instance of the Child class\n",
    "child_instance = Child(name=\"John\")\n",
    "\n",
    "# Accessing the attribute inherited from the parent class\n",
    "print(child_instance.name)\n"
   ]
  },
  {
   "cell_type": "code",
   "execution_count": 14,
   "id": "f4e3ace5-bbab-4118-9f00-014aa4f399f3",
   "metadata": {},
   "outputs": [
    {
     "name": "stdout",
     "output_type": "stream",
     "text": [
      "Circle Area: 78.5\n",
      "Rectangle Area: 24\n"
     ]
    }
   ],
   "source": [
    "#11\n",
    "class Shape:\n",
    "    def area(self):\n",
    "        pass  # To be implemented by child classes\n",
    "\n",
    "class Circle(Shape):\n",
    "    def __init__(self, radius):\n",
    "        self.radius = radius\n",
    "\n",
    "    def area(self):\n",
    "        return 3.14 * self.radius**2\n",
    "\n",
    "class Rectangle(Shape):\n",
    "    def __init__(self, width, height):\n",
    "        self.width = width\n",
    "        self.height = height\n",
    "\n",
    "    def area(self):\n",
    "        return self.width * self.height\n",
    "\n",
    "# Using the classes\n",
    "circle = Circle(radius=5)\n",
    "rectangle = Rectangle(width=4, height=6)\n",
    "\n",
    "print(f\"Circle Area: {circle.area()}\")\n",
    "print(f\"Rectangle Area: {rectangle.area()}\")\n"
   ]
  },
  {
   "cell_type": "code",
   "execution_count": 15,
   "id": "38bb0597-530c-45fb-822e-89281e32caeb",
   "metadata": {},
   "outputs": [
    {
     "name": "stdout",
     "output_type": "stream",
     "text": [
      "Circle Area: 78.5\n"
     ]
    }
   ],
   "source": [
    "#12\n",
    "from abc import ABC, abstractmethod\n",
    "\n",
    "class Shape(ABC):\n",
    "    @abstractmethod\n",
    "    def area(self):\n",
    "        pass\n",
    "\n",
    "class Circle(Shape):\n",
    "    def __init__(self, radius):\n",
    "        self.radius = radius\n",
    "\n",
    "    def area(self):\n",
    "        return 3.14 * self.radius**2\n",
    "\n",
    "# Creating an instance of the Circle class\n",
    "circle = Circle(radius=5)\n",
    "\n",
    "# Using the abstract method\n",
    "print(f\"Circle Area: {circle.area()}\")\n"
   ]
  },
  {
   "cell_type": "code",
   "execution_count": 17,
   "id": "8fd5d894-ba05-436b-a983-99c7202a42b2",
   "metadata": {},
   "outputs": [],
   "source": [
    "#13\n",
    "class Parent:\n",
    "    def __init__(self):\n",
    "        self.__private_attribute = 10\n",
    "\n",
    "class Child(Parent):\n",
    "    def modify_attribute(self):\n",
    "        # This will result in an AttributeError\n",
    "        # because __private_attribute is not directly accessible\n",
    "        self.__private_attribute = 20\n",
    "\n",
    "# Creating an instance of the Child class\n",
    "child_instance = Child()\n",
    "child_instance.modify_attribute()\n"
   ]
  },
  {
   "cell_type": "code",
   "execution_count": 18,
   "id": "f76d36ca-4418-438f-8294-1a085aa83e86",
   "metadata": {},
   "outputs": [
    {
     "name": "stdout",
     "output_type": "stream",
     "text": [
      "Name: John\n",
      "Salary: 50000\n",
      "Department: HR\n"
     ]
    }
   ],
   "source": [
    "#14\n",
    "class Employee:\n",
    "    def __init__(self, name, salary):\n",
    "        self.name = name\n",
    "        self.salary = salary\n",
    "\n",
    "class Manager(Employee):\n",
    "    def __init__(self, name, salary, department):\n",
    "        super().__init__(name, salary)\n",
    "        self.department = department\n",
    "\n",
    "# Creating an instance of the Manager class\n",
    "manager_instance = Manager(name=\"John\", salary=50000, department=\"HR\")\n",
    "\n",
    "# Accessing attributes\n",
    "print(f\"Name: {manager_instance.name}\")\n",
    "print(f\"Salary: {manager_instance.salary}\")\n",
    "print(f\"Department: {manager_instance.department}\")\n"
   ]
  },
  {
   "cell_type": "code",
   "execution_count": 19,
   "id": "dd08258d-e95f-4662-82e6-90623fe3f1ad",
   "metadata": {},
   "outputs": [
    {
     "name": "stdout",
     "output_type": "stream",
     "text": [
      "Method with one parameter: value1\n",
      "Method with two parameters: value1, value2\n"
     ]
    }
   ],
   "source": [
    "#15\n",
    "class MyClass:\n",
    "    def example_method(self, param1, param2=None):\n",
    "        if param2 is not None:\n",
    "            # Perform method with two parameters\n",
    "            print(f\"Method with two parameters: {param1}, {param2}\")\n",
    "        else:\n",
    "            # Perform method with one parameter\n",
    "            print(f\"Method with one parameter: {param1}\")\n",
    "\n",
    "# Using the class\n",
    "obj = MyClass()\n",
    "obj.example_method(\"value1\")               # Method with one parameter\n",
    "obj.example_method(\"value1\", \"value2\")     # Method with two parameters\n"
   ]
  },
  {
   "cell_type": "code",
   "execution_count": 20,
   "id": "f9302da6-d952-4675-9348-ed6bad998bef",
   "metadata": {},
   "outputs": [
    {
     "name": "stdout",
     "output_type": "stream",
     "text": [
      "value1\n",
      "value2\n"
     ]
    }
   ],
   "source": [
    "#16\n",
    "\n",
    "class Parent:\n",
    "    def __init__(self, attribute):\n",
    "        self.attribute = attribute\n",
    "\n",
    "class Child(Parent):\n",
    "    def __init__(self, attribute, additional_attribute):\n",
    "        super().__init__(attribute)\n",
    "        self.additional_attribute = additional_attribute\n",
    "\n",
    "# Creating an instance of the Child class\n",
    "child_instance = Child(attribute=\"value1\", additional_attribute=\"value2\")\n",
    "\n",
    "# Accessing attributes\n",
    "print(child_instance.attribute)\n",
    "print(child_instance.additional_attribute)\n"
   ]
  },
  {
   "cell_type": "code",
   "execution_count": 23,
   "id": "5b5b76af-dc47-45ce-8eb2-ab9568cdb873",
   "metadata": {},
   "outputs": [
    {
     "name": "stdout",
     "output_type": "stream",
     "text": [
      "Eagle soars high\n",
      "Sparrow flits around\n"
     ]
    }
   ],
   "source": [
    "#17\n",
    "class Bird:\n",
    "    def fly(self):\n",
    "        print(\"Bird can fly\")\n",
    "\n",
    "class Eagle(Bird):\n",
    "    def fly(self):\n",
    "        print(\"Eagle soars high\")\n",
    "\n",
    "class Sparrow(Bird):\n",
    "    def fly(self):\n",
    "        print(\"Sparrow flits around\")\n",
    "\n",
    "# Using the classes\n",
    "eagle = Eagle()\n",
    "sparrow = Sparrow()\n",
    "\n",
    "eagle.fly()   # This will print \"Eagle soars high\"\n",
    "sparrow.fly() # This will print \"Sparrow flits around\"\n"
   ]
  },
  {
   "cell_type": "code",
   "execution_count": 11,
   "id": "50471bfd-1fe7-4123-9214-15fb77cef016",
   "metadata": {},
   "outputs": [],
   "source": [
    "#18\n",
    "\"\"\"\n",
    "The \"diamond problem\" occurs in multiple inheritance when a class inherits\n",
    "from two classes that have a common ancestor. If both parent classes \n",
    "implement the same method, and the child class doesn't override it, there \n",
    "can be ambiguity about which method to call. Python addresses this by \n",
    "using a specific order of method resolution called C3 linearization \n",
    "(also known as C3 superclass linearization or C3 superclass resolution).\n",
    "\"\"\"\n"
   ]
  },
  {
   "cell_type": "code",
   "execution_count": 12,
   "id": "5420b31b-822e-44a3-b5ac-a61f1edd8fc9",
   "metadata": {},
   "outputs": [],
   "source": [
    "#19\n",
    "\"\"\"\n",
    "\"is-a\" Relationship:\n",
    "\n",
    "An \"is-a\" relationship represents inheritance where a subclass is a \n",
    "specialized version of its superclass.\n",
    "Example: Eagle is a Bird.\n",
    "\"has-a\" Relationship:\n",
    "\n",
    "A \"has-a\" relationship represents composition where an object contains \n",
    "another object.\n",
    "Example: A Car has an Engine\n",
    "\"\"\""
   ]
  },
  {
   "cell_type": "code",
   "execution_count": 22,
   "id": "8f292e60-837c-4198-89c4-2924ad5af4c1",
   "metadata": {},
   "outputs": [
    {
     "name": "stdout",
     "output_type": "stream",
     "text": [
      "Name: John Doe, Age: 20\n",
      "Student ID: 12345\n",
      "Name: Dr. Smith, Age: 45\n",
      "Employee ID: 9876\n"
     ]
    }
   ],
   "source": [
    "#20\n",
    "class Person:\n",
    "    def __init__(self, name, age):\n",
    "        self.name = name\n",
    "        self.age = age\n",
    "\n",
    "    def display_info(self):\n",
    "        print(f\"Name: {self.name}, Age: {self.age}\")\n",
    "\n",
    "class Student(Person):\n",
    "    def __init__(self, name, age, student_id):\n",
    "        super().__init__(name, age)\n",
    "        self.student_id = student_id\n",
    "\n",
    "    def display_info(self):\n",
    "        super().display_info()\n",
    "        print(f\"Student ID: {self.student_id}\")\n",
    "\n",
    "class Professor(Person):\n",
    "    def __init__(self, name, age, employee_id):\n",
    "        super().__init__(name, age)\n",
    "        self.employee_id = employee_id\n",
    "\n",
    "    def display_info(self):\n",
    "        super().display_info()\n",
    "        print(f\"Employee ID: {self.employee_id}\")\n",
    "\n",
    "# Using the classes in a university context\n",
    "student = Student(name=\"John Doe\", age=20, student_id=\"12345\")\n",
    "professor = Professor(name=\"Dr. Smith\", age=45, employee_id=\"9876\")\n",
    "\n",
    "student.display_info()\n",
    "professor.display_info()\n"
   ]
  },
  {
   "cell_type": "code",
   "execution_count": 24,
   "id": "6ef0f22c-19ee-44e2-ba79-b78659b5200e",
   "metadata": {},
   "outputs": [],
   "source": [
    "#encapsulation"
   ]
  },
  {
   "cell_type": "code",
   "execution_count": null,
   "id": "db488a92-b207-4951-8a9b-de1ace8a16dc",
   "metadata": {},
   "outputs": [],
   "source": [
    "#1\n",
    "\"\"\"\n",
    "Encapsulation is one of the fundamental principles of object-oriented \n",
    "programming (OOP) and involves bundling the data (attributes) and methods \n",
    "(functions) that operate on the data into a single unit known as a class. \n",
    "It restricts access to some of the object's components and prevents the \n",
    "accidental modification of data.\n",
    "\n",
    "\n",
    "\"\"\""
   ]
  },
  {
   "cell_type": "code",
   "execution_count": null,
   "id": "d27fc4de-8cf3-41ea-94bc-15b30f17f75a",
   "metadata": {},
   "outputs": [],
   "source": [
    "#2\n",
    "\n",
    "\"\"\"\n",
    "Access Control:\n",
    "\n",
    "It restricts access to certain attributes or methods of a class, allowing \n",
    "for controlled interaction with the object.\n",
    "\n",
    "Data Hiding:\n",
    "It involves restricting the visibility of certain attributes, making them \n",
    "private to the class. This prevents direct access to the internal state \n",
    "of the object.\n",
    "\"\"\""
   ]
  },
  {
   "cell_type": "code",
   "execution_count": 41,
   "id": "84654cb9-24a3-49e8-91f2-ab16b1b56167",
   "metadata": {},
   "outputs": [
    {
     "name": "stdout",
     "output_type": "stream",
     "text": [
      "10\n"
     ]
    }
   ],
   "source": [
    "#3\n",
    "\n",
    "class MyClass:\n",
    "    def __init__(self):\n",
    "        self.__private_attribute = 10\n",
    "\n",
    "    def get_private_attribute(self):\n",
    "        return self.__private_attribute\n",
    "\n",
    "    def set_private_attribute(self, value):\n",
    "        self.__private_attribute = value\n",
    "\n",
    "# Example usage\n",
    "obj = MyClass()\n",
    "print(obj.get_private_attribute())  # Accessing private attribute\n",
    "obj.set_private_attribute(20)       # Modifying private attribute\n"
   ]
  },
  {
   "cell_type": "code",
   "execution_count": 26,
   "id": "8ce15db1-b406-43b0-bc19-0ff11007a025",
   "metadata": {},
   "outputs": [],
   "source": [
    "#4\n",
    "\"\"\"\n",
    "Public:\n",
    "\n",
    "Accessible from anywhere. No special syntax is required.\n",
    "Example: attribute_name\n",
    "Private:\n",
    "\n",
    "Accessible only within the class.\n",
    "Example: __attribute_name\n",
    "Protected:\n",
    "\n",
    "Accessible within the class and its subclasses.\n",
    "Example: _attribute_name\n",
    "\n",
    "\"\"\""
   ]
  },
  {
   "cell_type": "code",
   "execution_count": 42,
   "id": "6544874e-e51a-4032-b6e3-e3e5a78f583d",
   "metadata": {},
   "outputs": [
    {
     "name": "stdout",
     "output_type": "stream",
     "text": [
      "John\n"
     ]
    }
   ],
   "source": [
    "#5\n",
    "\n",
    "class Person:\n",
    "    def __init__(self, name):\n",
    "        self.__name = name\n",
    "\n",
    "    def get_name(self):\n",
    "        return self.__name\n",
    "\n",
    "    def set_name(self, name):\n",
    "        self.__name = name\n",
    "\n",
    "# Example usage\n",
    "person = Person(name=\"John\")\n",
    "print(person.get_name())  # Accessing private attribute\n",
    "person.set_name(\"Jane\")   # Modifying private attribute\n"
   ]
  },
  {
   "cell_type": "code",
   "execution_count": 43,
   "id": "bf4a7e39-f44e-4f78-929b-235017ea3de0",
   "metadata": {},
   "outputs": [
    {
     "name": "stdout",
     "output_type": "stream",
     "text": [
      "10\n"
     ]
    }
   ],
   "source": [
    "#6\n",
    "\"\"\"\n",
    "Getter Method:\n",
    "Retrieves the value of a private attribute.\n",
    "Setter Method:\n",
    "Modifies the value of a private attribute.\n",
    "\n",
    "\"\"\"\n",
    "class MyClass:\n",
    "    def __init__(self):\n",
    "        self.__private_attribute = 10\n",
    "\n",
    "    def get_private_attribute(self):\n",
    "        return self.__private_attribute\n",
    "\n",
    "    def set_private_attribute(self, value):\n",
    "        self.__private_attribute = value\n",
    "\n",
    "# Example usage\n",
    "obj = MyClass()\n",
    "print(obj.get_private_attribute())  # Accessing private attribute\n",
    "obj.set_private_attribute(20)       # Modifying private attribute\n"
   ]
  },
  {
   "cell_type": "code",
   "execution_count": 44,
   "id": "28614295-8b62-4c69-8b95-5f98b3dda91e",
   "metadata": {},
   "outputs": [
    {
     "name": "stdout",
     "output_type": "stream",
     "text": [
      "10\n"
     ]
    }
   ],
   "source": [
    "#7\n",
    "\"\"\"\n",
    "Name mangling is a mechanism in Python that adds a prefix _classname to the \n",
    "attribute names declared with double underscores (__). This makes it harder \n",
    "to accidentally override attributes in subclasses.\n",
    "\n",
    "\n",
    "\"\"\"\n",
    "class MyClass:\n",
    "    def __init__(self):\n",
    "        self.__private_attribute = 10\n",
    "\n",
    "# Name mangling example\n",
    "print(MyClass()._MyClass__private_attribute)\n",
    "\n"
   ]
  },
  {
   "cell_type": "code",
   "execution_count": 46,
   "id": "9b6b12fb-7661-4909-8894-c787d113229c",
   "metadata": {},
   "outputs": [],
   "source": [
    "#8\n",
    "class BankAccount:\n",
    "    def __init__(self):\n",
    "        self.__balance = 0\n",
    "        self.__account_number = \"123456789\"\n",
    "\n",
    "    def deposit(self, amount):\n",
    "        self.__balance += amount\n",
    "\n",
    "    def withdraw(self, amount):\n",
    "        if amount <= self.__balance:\n",
    "            self.__balance -= amount\n",
    "        else:\n",
    "            print(\"Insufficient funds\")\n",
    "\n",
    "# Example usage\n",
    "account = BankAccount()\n",
    "account.deposit(1000)\n",
    "account.withdraw(500)\n"
   ]
  },
  {
   "cell_type": "code",
   "execution_count": 31,
   "id": "922c2d11-192d-49ab-8370-33d4705da365",
   "metadata": {},
   "outputs": [],
   "source": [
    "#9\n",
    "\"\"\"\n",
    "Code Maintainability:\n",
    "Encapsulation makes it easier to manage and modify the internal \n",
    "implementation details without affecting the external code that uses the \n",
    "class.\n",
    "\n",
    "Security:\n",
    "By restricting access to certain attributes and methods, encapsulation \n",
    "enhances security, preventing unintended modification of data.\n",
    "\n",
    "\"\"\""
   ]
  },
  {
   "cell_type": "code",
   "execution_count": 47,
   "id": "7f53097c-98fc-41df-99dc-3b6782bc0fec",
   "metadata": {},
   "outputs": [
    {
     "name": "stdout",
     "output_type": "stream",
     "text": [
      "10\n"
     ]
    }
   ],
   "source": [
    "#10\n",
    "class MyClass:\n",
    "    def __init__(self):\n",
    "        self.__private_attribute = 10\n",
    "\n",
    "# Accessing private attribute using name mangling\n",
    "obj = MyClass()\n",
    "print(obj._MyClass__private_attribute)\n"
   ]
  },
  {
   "cell_type": "code",
   "execution_count": 48,
   "id": "c4b93639-e0a5-48df-90a9-a0a54c53ed28",
   "metadata": {},
   "outputs": [
    {
     "name": "stdout",
     "output_type": "stream",
     "text": [
      "John Doe 18 S12345\n",
      "Dr. Smith 35 T9876\n",
      "Mathematics MATH101\n"
     ]
    }
   ],
   "source": [
    "#11\n",
    "class Person:\n",
    "    def __init__(self, name, age):\n",
    "        self.__name = name\n",
    "        self.__age = age\n",
    "\n",
    "    def get_name(self):\n",
    "        return self.__name\n",
    "\n",
    "    def get_age(self):\n",
    "        return self.__age\n",
    "\n",
    "\n",
    "class Student(Person):\n",
    "    def __init__(self, name, age, student_id):\n",
    "        super().__init__(name, age)\n",
    "        self.__student_id = student_id\n",
    "\n",
    "    def get_student_id(self):\n",
    "        return self.__student_id\n",
    "\n",
    "\n",
    "class Teacher(Person):\n",
    "    def __init__(self, name, age, employee_id):\n",
    "        super().__init__(name, age)\n",
    "        self.__employee_id = employee_id\n",
    "\n",
    "    def get_employee_id(self):\n",
    "        return self.__employee_id\n",
    "\n",
    "\n",
    "class Course:\n",
    "    def __init__(self, course_name, course_code):\n",
    "        self.__course_name = course_name\n",
    "        self.__course_code = course_code\n",
    "\n",
    "    def get_course_name(self):\n",
    "        return self.__course_name\n",
    "\n",
    "    def get_course_code(self):\n",
    "        return self.__course_code\n",
    "\n",
    "\n",
    "# Example usage\n",
    "student = Student(name=\"John Doe\", age=18, student_id=\"S12345\")\n",
    "teacher = Teacher(name=\"Dr. Smith\", age=35, employee_id=\"T9876\")\n",
    "course = Course(course_name=\"Mathematics\", course_code=\"MATH101\")\n",
    "\n",
    "print(student.get_name(), student.get_age(), student.get_student_id())\n",
    "print(teacher.get_name(), teacher.get_age(), teacher.get_employee_id())\n",
    "print(course.get_course_name(), course.get_course_code())\n"
   ]
  },
  {
   "cell_type": "code",
   "execution_count": null,
   "id": "e2ef768d-23c2-4287-ae5f-3a3e24736734",
   "metadata": {},
   "outputs": [],
   "source": [
    "#12\n",
    "\n",
    "\"\"\"\n",
    "Property decorators in Python are a way to create getter and setter methods\n",
    "for class attributes. They provide a clean syntax for accessing and \n",
    "modifying attributes while allowing additional processing.\n",
    "\n",
    "\n",
    "\"\"\"\n",
    "class MyClass:\n",
    "    def __init__(self):\n",
    "        self._value = 0\n",
    "\n",
    "    @property\n",
    "    def value(self):\n",
    "        return self._value\n",
    "\n",
    "    @value.setter\n",
    "    def value(self, new_value):\n",
    "        if new_value > 0:\n",
    "            self._value = new_value\n",
    "\n",
    "# Example usage\n",
    "obj = MyClass()\n",
    "obj.value = 10  # Calls the setter method\n",
    "print(obj.value)  # Calls the getter method\n"
   ]
  },
  {
   "cell_type": "code",
   "execution_count": 49,
   "id": "8d0ba4f9-db4a-4e8e-8bf1-2c6e07dc4182",
   "metadata": {},
   "outputs": [],
   "source": [
    "#13\n",
    "\"\"\"\n",
    "Data hiding involves restricting access to certain attributes to prevent \n",
    "direct modification. It is important to maintain the integrity of the \n",
    "object's state.\n",
    "\n",
    "\"\"\"\n",
    "class BankAccount:\n",
    "    def __init__(self):\n",
    "        self.__balance = 0\n",
    "\n",
    "    def deposit(self, amount):\n",
    "        if amount > 0:\n",
    "            self.__balance += amount\n",
    "\n",
    "    def withdraw(self, amount):\n",
    "        if 0 < amount <= self.__balance:\n",
    "            self.__balance -= amount\n",
    "\n",
    "# Example usage\n",
    "account = BankAccount()\n",
    "account.deposit(1000)\n",
    "account.withdraw(500)\n"
   ]
  },
  {
   "cell_type": "code",
   "execution_count": 50,
   "id": "d7600746-7a42-4cac-8954-acec9ff334dc",
   "metadata": {},
   "outputs": [
    {
     "name": "stdout",
     "output_type": "stream",
     "text": [
      "Yearly Bonus: 5000.0\n"
     ]
    }
   ],
   "source": [
    "#14\n",
    "class Employee:\n",
    "    def __init__(self, salary, employee_id):\n",
    "        self.__salary = salary\n",
    "        self.__employee_id = employee_id\n",
    "\n",
    "    def calculate_bonus(self):\n",
    "        return 0.1 * self.__salary\n",
    "\n",
    "# Example usage\n",
    "employee = Employee(salary=50000, employee_id=\"E12345\")\n",
    "bonus = employee.calculate_bonus()\n",
    "print(f\"Yearly Bonus: {bonus}\")\n"
   ]
  },
  {
   "cell_type": "code",
   "execution_count": 51,
   "id": "7953cd4f-e7fe-4146-af74-184c8734a27f",
   "metadata": {},
   "outputs": [
    {
     "name": "stdout",
     "output_type": "stream",
     "text": [
      "10\n"
     ]
    }
   ],
   "source": [
    "#15\n",
    "\"\"\"\n",
    "Accessors:\n",
    "Getter methods that allow retrieving the values of private attributes.\n",
    "\n",
    "Mutators:\n",
    "Setter methods that allow modifying the values of private attributes.\n",
    "\n",
    "\"\"\"\n",
    "class MyClass:\n",
    "    def __init__(self):\n",
    "        self.__private_attribute = 10\n",
    "\n",
    "    def get_private_attribute(self):\n",
    "        return self.__private_attribute\n",
    "\n",
    "    def set_private_attribute(self, value):\n",
    "        self.__private_attribute = value\n",
    "\n",
    "# Example usage\n",
    "obj = MyClass()\n",
    "print(obj.get_private_attribute())  # Accessing private attribute\n",
    "obj.set_private_attribute(20)       # Modifying private attribute\n"
   ]
  },
  {
   "cell_type": "code",
   "execution_count": 36,
   "id": "8b06ecd1-d43a-4a96-ba0a-a530d8b8ff0c",
   "metadata": {},
   "outputs": [],
   "source": [
    "#16\n",
    "\"\"\"Overuse of getters and setters can lead to verbosity.\n",
    "Increased complexity in designing and maintaining the class hierarchy.\n",
    "Potential performance overhead due to method calls.\n",
    "\"\"\""
   ]
  },
  {
   "cell_type": "code",
   "execution_count": 52,
   "id": "7d0dd036-acea-46af-aa46-edcf697b0fea",
   "metadata": {},
   "outputs": [
    {
     "name": "stdout",
     "output_type": "stream",
     "text": [
      "Book 'Introduction to Python' by John Doe borrowed successfully.\n",
      "Book 'Data Structures' by Jane Smith borrowed successfully.\n",
      "Book 'Introduction to Python' by John Doe returned.\n"
     ]
    }
   ],
   "source": [
    "#17\n",
    "class Book:\n",
    "    def __init__(self, title, author):\n",
    "        self.__title = title\n",
    "        self.__author = author\n",
    "        self.__availability = True\n",
    "\n",
    "    def get_title(self):\n",
    "        return self.__title\n",
    "\n",
    "    def get_author(self):\n",
    "        return self.__author\n",
    "\n",
    "    def is_available(self):\n",
    "        return self.__availability\n",
    "\n",
    "    def borrow_book(self):\n",
    "        if self.__availability:\n",
    "            self.__availability = False\n",
    "            print(f\"Book '{self.__title}' by {self.__author} borrowed successfully.\")\n",
    "        else:\n",
    "            print(\"Book is not available for borrowing.\")\n",
    "\n",
    "    def return_book(self):\n",
    "        self.__availability = True\n",
    "        print(f\"Book '{self.__title}' by {self.__author} returned.\")\n",
    "\n",
    "# Example usage\n",
    "book1 = Book(title=\"Introduction to Python\", author=\"John Doe\")\n",
    "book2 = Book(title=\"Data Structures\", author=\"Jane Smith\")\n",
    "\n",
    "book1.borrow_book()\n",
    "book2.borrow_book()\n",
    "book1.return_book()\n"
   ]
  },
  {
   "cell_type": "code",
   "execution_count": 38,
   "id": "afdbfc79-ef58-4a03-a1e3-cc87902d6993",
   "metadata": {},
   "outputs": [],
   "source": [
    "#18\n",
    "\"\"\"\n",
    "Code Reusability:\n",
    "\n",
    "Encapsulation allows classes to be used as building blocks in various parts of a program or even in different programs.\n",
    "Modularity:\n",
    "\n",
    "Classes encapsulate functionality, providing a modular structure that can be easily understood, modified, and replaced without affecting the entire system.\n",
    "\"\"\""
   ]
  },
  {
   "cell_type": "code",
   "execution_count": 39,
   "id": "941b84b0-2a0a-4446-9891-eabde71796b5",
   "metadata": {},
   "outputs": [],
   "source": [
    "#19\n",
    "\"\"\"Information Hiding in Encapsulation:\n",
    "Information hiding involves hiding the internal details of an object and \n",
    "exposing only what is necessary for the external world. It reduces \n",
    "complexity and minimizes dependencies, promoting a more robust design.\n",
    "\n",
    "\"\"\""
   ]
  },
  {
   "cell_type": "code",
   "execution_count": 53,
   "id": "4c840286-3e72-4532-87dc-14981c472fe1",
   "metadata": {},
   "outputs": [
    {
     "name": "stdout",
     "output_type": "stream",
     "text": [
      "John Doe 123 Main St john@example.com\n"
     ]
    }
   ],
   "source": [
    "#20\n",
    "class Customer:\n",
    "    def __init__(self, name, address, contact_info):\n",
    "        self.__name = name\n",
    "        self.__address = address\n",
    "        self.__contact_info = contact_info\n",
    "\n",
    "    def get_name(self):\n",
    "        return self.__name\n",
    "\n",
    "    def get_address(self):\n",
    "        return self.__address\n",
    "\n",
    "    def get_contact_info(self):\n",
    "        return self.__contact_info\n",
    "\n",
    "customer = Customer(name=\"John Doe\", address=\"123 Main St\", contact_info=\"john@example.com\")\n",
    "print(customer.get_name(), customer.get_address(), customer.get_contact_info())\n"
   ]
  },
  {
   "cell_type": "code",
   "execution_count": 54,
   "id": "18143102-ec9f-465b-a211-1938ad6eb591",
   "metadata": {},
   "outputs": [],
   "source": [
    "#polymorohysim"
   ]
  },
  {
   "cell_type": "code",
   "execution_count": 55,
   "id": "cc1bc28f-bcb8-4a43-aec8-f9775edb1843",
   "metadata": {},
   "outputs": [],
   "source": [
    "#1\n",
    "\"\"\"Polymorphism in Python refers to the ability of objects to take on \n",
    "multiple forms. In the context of object-oriented programming (OOP), \n",
    "polymorphism allows objects of different classes to be treated as objects \n",
    "of a common base class. This enables a single interface to represent \n",
    "different types of objects.\n",
    "\n",
    "\n",
    "\"\"\""
   ]
  },
  {
   "cell_type": "code",
   "execution_count": 56,
   "id": "5d90f0a3-ad8d-42ee-bbd1-0e7f2a73b10e",
   "metadata": {},
   "outputs": [],
   "source": [
    "#2\n",
    "\"\"\"In Python, there is no strict concept of compile-time polymorphism, as \n",
    "the language is dynamically typed. Polymorphism is generally achieved at \n",
    "runtime. Compile-time polymorphism is more associated with statically-\n",
    "typed languages where method overloading and function overloading can be\n",
    "resolved at compile time based on the type and number of arguments.\n",
    "\n",
    "\n",
    "\"\"\""
   ]
  },
  {
   "cell_type": "code",
   "execution_count": 89,
   "id": "bdff3c66-d213-43a2-aaab-6101ece0cba6",
   "metadata": {},
   "outputs": [],
   "source": [
    "#3\n",
    "class Shape:\n",
    "    def calculate_area(self):\n",
    "        pass\n",
    "\n",
    "class Circle(Shape):\n",
    "    def __init__(self, radius):\n",
    "        self.radius = radius\n",
    "\n",
    "    def calculate_area(self):\n",
    "        return 3.14 * self.radius**2\n",
    "\n",
    "class Square(Shape):\n",
    "    def __init__(self, side):\n",
    "        self.side = side\n",
    "\n",
    "    def calculate_area(self):\n",
    "        return self.side**2\n",
    "\n",
    "class Triangle(Shape):\n",
    "    def __init__(self, base, height):\n",
    "        self.base = base\n",
    "        self.height = height\n",
    "\n",
    "    def calculate_area(self):\n",
    "        return 0.5 * self.base * self.height\n"
   ]
  },
  {
   "cell_type": "code",
   "execution_count": 90,
   "id": "d965c1ba-c439-410c-9b06-cd112fa304f1",
   "metadata": {},
   "outputs": [
    {
     "name": "stdout",
     "output_type": "stream",
     "text": [
      "Derived class method\n"
     ]
    }
   ],
   "source": [
    "#4\n",
    "\"\"\"Method overriding occurs when a subclass provides a specific \n",
    "implementation for a method that is already defined in its superclass. \n",
    "This allows a subclass to provide a specialized version of a method that \n",
    "is called when an object of the subclass is used.\n",
    "\n",
    "\n",
    "\"\"\"\n",
    "class Base:\n",
    "    def show(self):\n",
    "        print(\"Base class method\")\n",
    "\n",
    "class Derived(Base):\n",
    "    def show(self):\n",
    "        print(\"Derived class method\")\n",
    "\n",
    "# Demonstrate method overriding\n",
    "obj = Derived()\n",
    "obj.show()  # Output: Derived class method\n"
   ]
  },
  {
   "cell_type": "code",
   "execution_count": 59,
   "id": "6d5a18db-7e5c-46dc-b511-20404168c5f1",
   "metadata": {},
   "outputs": [],
   "source": [
    "#5\n",
    "\"\"\"Polymorphism allows objects of different types to be treated as objects\n",
    "of a common type. Method overloading, on the other hand, involves defining\n",
    "multiple methods in a class with the same name but different parameters.\n",
    "\n",
    "\"\"\"\n",
    "def calculate_area(shape):\n",
    "    return shape.calculate_area()\n",
    "\n",
    "# Usage of polymorphism with the shapes hierarchy\n",
    "circle = Circle(5)\n",
    "square = Square(4)\n",
    "triangle = Triangle(3, 6)\n",
    "\n",
    "print(calculate_area(circle))    # Output: 78.5\n",
    "print(calculate_area(square))    # Output: 16\n",
    "print(calculate_area(triangle))  # Output: 9.0\n"
   ]
  },
  {
   "cell_type": "code",
   "execution_count": 91,
   "id": "69aaa368-2fb6-47bf-97e3-591262d4c69e",
   "metadata": {},
   "outputs": [
    {
     "name": "stdout",
     "output_type": "stream",
     "text": [
      "Woof!\n",
      "Meow!\n",
      "Tweet!\n"
     ]
    }
   ],
   "source": [
    "#6\n",
    "class Animal:\n",
    "    def speak(self):\n",
    "        pass\n",
    "\n",
    "class Dog(Animal):\n",
    "    def speak(self):\n",
    "        return \"Woof!\"\n",
    "\n",
    "class Cat(Animal):\n",
    "    def speak(self):\n",
    "        return \"Meow!\"\n",
    "\n",
    "class Bird(Animal):\n",
    "    def speak(self):\n",
    "        return \"Tweet!\"\n",
    "\n",
    "# Demonstrate polymorphism with different animal objects\n",
    "dog = Dog()\n",
    "cat = Cat()\n",
    "bird = Bird()\n",
    "\n",
    "print(dog.speak())   # Output: Woof!\n",
    "print(cat.speak())   # Output: Meow!\n",
    "print(bird.speak())  # Output: Tweet!\n"
   ]
  },
  {
   "cell_type": "code",
   "execution_count": 94,
   "id": "dd929cf2-490e-4682-a0d1-d2639002fa39",
   "metadata": {},
   "outputs": [],
   "source": [
    "#7\n",
    "from abc import ABC, abstractmethod\n",
    "\n",
    "class Shape(ABC):\n",
    "    @abstractmethod\n",
    "    def calculate_area(self):\n",
    "        pass\n",
    "\n",
    "# Implement concrete classes\n",
    "class Circle(Shape):\n",
    "    def calculate_area(self):\n",
    "        pass  # Implementation for Circle\n",
    "\n",
    "class Square(Shape):\n",
    "    def calculate_area(self):\n",
    "        pass  # Implementation for Square\n"
   ]
  },
  {
   "cell_type": "code",
   "execution_count": 95,
   "id": "50043e7b-351d-4d23-9ef3-1126c00dd73d",
   "metadata": {},
   "outputs": [
    {
     "name": "stdout",
     "output_type": "stream",
     "text": [
      "Car engine started\n",
      "Pedaling away\n",
      "Boat engine started\n"
     ]
    }
   ],
   "source": [
    "#8\n",
    "class Vehicle:\n",
    "    def start(self):\n",
    "        pass\n",
    "\n",
    "class Car(Vehicle):\n",
    "    def start(self):\n",
    "        return \"Car engine started\"\n",
    "\n",
    "class Bicycle(Vehicle):\n",
    "    def start(self):\n",
    "        return \"Pedaling away\"\n",
    "\n",
    "class Boat(Vehicle):\n",
    "    def start(self):\n",
    "        return \"Boat engine started\"\n",
    "\n",
    "# Demonstrate polymorphic start() method\n",
    "car = Car()\n",
    "bicycle = Bicycle()\n",
    "boat = Boat()\n",
    "\n",
    "print(car.start())      # Output: Car engine started\n",
    "print(bicycle.start())  # Output: Pedaling away\n",
    "print(boat.start())     # Output: Boat engine started\n"
   ]
  },
  {
   "cell_type": "code",
   "execution_count": 96,
   "id": "ab15db10-fd26-4f22-992b-887429fbd85b",
   "metadata": {},
   "outputs": [
    {
     "name": "stdout",
     "output_type": "stream",
     "text": [
      "True\n",
      "True\n"
     ]
    }
   ],
   "source": [
    "#9\n",
    "\"\"\"isinstance() checks if an object is an instance of a particular class,\n",
    "and issubclass() checks if a class is a subclass of another.\n",
    "\n",
    "\n",
    "\"\"\"\n",
    "# Checking instances\n",
    "print(isinstance(boat, Vehicle))  # Output: True\n",
    "\n",
    "# Checking subclasses\n",
    "print(issubclass(Car, Vehicle))    # Output: True\n"
   ]
  },
  {
   "cell_type": "code",
   "execution_count": 97,
   "id": "72d6ef15-bc00-4293-816f-f23e2a8fd77c",
   "metadata": {},
   "outputs": [],
   "source": [
    "#10\n",
    "\"\"\"The @abstractmethod decorator is used to define abstract methods in \n",
    "abstract classes. It enforces that concrete subclasses must provide an \n",
    "implementation for these methods, promoting a consistent interface for \n",
    "polymorphic behavior.\n",
    "\n",
    "\"\"\"\n",
    "from abc import ABC, abstractmethod\n",
    "\n",
    "class Shape(ABC):\n",
    "    @abstractmethod\n",
    "    def calculate_area(self):\n",
    "        pass\n",
    "\n",
    "class Circle(Shape):\n",
    "    def calculate_area(self):\n",
    "        pass  # Concrete implementation for Circle\n",
    "\n",
    "class Square(Shape):\n",
    "    def calculate_area(self):\n",
    "        pass  # Concrete implementation for Square\n"
   ]
  },
  {
   "cell_type": "code",
   "execution_count": 100,
   "id": "3ba8eea3-f5ce-4202-b0be-bb757fdc292e",
   "metadata": {},
   "outputs": [],
   "source": [
    "#11\n",
    "class Shape:\n",
    "    def area(self):\n",
    "        pass\n",
    "\n",
    "class Circle(Shape):\n",
    "    def __init__(self, radius):\n",
    "        self.radius = radius\n",
    "\n",
    "    def area(self):\n",
    "        return 3.14 * self.radius**2\n",
    "\n",
    "class Rectangle(Shape):\n",
    "    def __init__(self, length, width):\n",
    "        self.length = length\n",
    "        self.width = width\n",
    "\n",
    "    def area(self):\n",
    "        return self.length * self.width\n",
    "\n",
    "class Triangle(Shape):\n",
    "    def __init__(self, base, height):\n",
    "        self.base = base\n",
    "        self.height = height\n",
    "\n",
    "    def area(self):\n",
    "        return 0.5 * self.base * self.height\n"
   ]
  },
  {
   "cell_type": "code",
   "execution_count": 65,
   "id": "193248b9-e03f-46de-a11d-69fc84cc32a3",
   "metadata": {},
   "outputs": [],
   "source": [
    "#12\n",
    "\"\"\"Code Reusability:\n",
    "\n",
    "Polymorphism allows the use of a common interface for different types of \n",
    "objects, promoting code reuse.\n",
    "Methods can be written to accept objects of a base class, making the code\n",
    "more flexible and adaptable to changes.\n",
    "\n",
    "Flexibility:\n",
    "With polymorphism, the behavior of a program can be extended or modified \n",
    "by adding new classes without altering the existing code.\n",
    "It allows for easy maintenance and updates, as changes can be localized \n",
    "to the new classes.\n",
    "\n",
    "\n",
    "\"\"\""
   ]
  },
  {
   "cell_type": "code",
   "execution_count": 101,
   "id": "4bc07e52-1059-41e8-b8a2-2911c135a18f",
   "metadata": {},
   "outputs": [
    {
     "name": "stdout",
     "output_type": "stream",
     "text": [
      "Parent class method\n",
      "Child class method\n"
     ]
    }
   ],
   "source": [
    "#13\n",
    "\"\"\"\n",
    "13. Use of super() Function in Python Polymorphism:\n",
    "The super() function is used to call methods of a parent class. It is \n",
    "often used in the overridden methods of a subclass to invoke the method of\n",
    "the superclass.\n",
    "\n",
    "\"\"\"\n",
    "class Parent:\n",
    "    def show(self):\n",
    "        print(\"Parent class method\")\n",
    "\n",
    "class Child(Parent):\n",
    "    def show(self):\n",
    "        super().show()  # Call the show() method of the parent class\n",
    "        print(\"Child class method\")\n",
    "\n",
    "# Demonstrate the use of super() in polymorphism\n",
    "obj = Child()\n",
    "obj.show()\n"
   ]
  },
  {
   "cell_type": "code",
   "execution_count": 99,
   "id": "c451da45-6275-4bcc-91c8-eed89f8c4ea3",
   "metadata": {},
   "outputs": [],
   "source": [
    "#14\n",
    "class Account:\n",
    "    def withdraw(self, amount):\n",
    "        pass\n",
    "\n",
    "class Savings(Account):\n",
    "    def withdraw(self, amount):\n",
    "        print(f\"Withdrawing {amount} from savings account\")\n",
    "\n",
    "class Checking(Account):\n",
    "    def withdraw(self, amount):\n",
    "        print(f\"Withdrawing {amount} from checking account\")\n",
    "\n",
    "class CreditCard(Account):\n",
    "    def withdraw(self, amount):\n",
    "        print(f\"Withdrawing {amount} from credit card\")\n"
   ]
  },
  {
   "cell_type": "code",
   "execution_count": 68,
   "id": "fb18b3dc-fa76-4b37-976d-4a0d1ebc6539",
   "metadata": {},
   "outputs": [],
   "source": [
    "#15\n",
    "\"\"\"Operator overloading allows customizing the behavior of operators for \n",
    "objects of user-defined classes. It is related to polymorphism as it \n",
    "enables the same operator to behave differently for different object types.\n",
    "\n",
    "\n",
    "\"\"\"\n",
    "class Point:\n",
    "    def __init__(self, x, y):\n",
    "        self.x = x\n",
    "        self.y = y\n",
    "\n",
    "    def __add__(self, other):\n",
    "        return Point(self.x + other.x, self.y + other.y)\n",
    "\n",
    "# Demonstrate operator overloading and polymorphism\n",
    "point1 = Point(1, 2)\n",
    "point2 = Point(3, 4)\n",
    "result = point1 + point2\n",
    "print(f\"Result: ({result.x}, {result.y})\")  # Output: Result: (4, 6)\n"
   ]
  },
  {
   "cell_type": "code",
   "execution_count": 69,
   "id": "87b81370-37d5-4465-b463-3cfa5abde543",
   "metadata": {},
   "outputs": [],
   "source": [
    "#16\n",
    "\"\"\"Dynamic polymorphism refers to the ability of a language to determine \n",
    "the method to be executed at runtime. In Python, dynamic polymorphism is\n",
    "achieved through method overriding. The interpreter decides which method \n",
    "to call based on the type of object at runtime.\n",
    "\n",
    "\n",
    "\"\"\""
   ]
  },
  {
   "cell_type": "code",
   "execution_count": 102,
   "id": "51ad36c3-2960-4fe0-8d9b-4ae10ee10974",
   "metadata": {},
   "outputs": [],
   "source": [
    "#17\n",
    "class Employee:\n",
    "    def calculate_salary(self):\n",
    "        pass\n",
    "\n",
    "class Manager(Employee):\n",
    "    def calculate_salary(self):\n",
    "        return 80000\n",
    "\n",
    "class Developer(Employee):\n",
    "    def calculate_salary(self):\n",
    "        return 60000\n",
    "\n",
    "class Designer(Employee):\n",
    "    def calculate_salary(self):\n",
    "        return 70000\n"
   ]
  },
  {
   "cell_type": "code",
   "execution_count": 71,
   "id": "8fabca48-e9c0-46aa-a701-b3fc1ec66074",
   "metadata": {},
   "outputs": [],
   "source": [
    "#18\n",
    "\n",
    "\"\"\"In Python, function pointers are not explicitly used, as the language is\n",
    "dynamically typed. Instead, polymorphism is achieved through object-oriented\n",
    "principles, and functions can be passed as arguments to achieve similar \n",
    "behavior.\n",
    "\n",
    "\n",
    "\"\"\""
   ]
  },
  {
   "cell_type": "code",
   "execution_count": 72,
   "id": "7716258d-6f0c-4d54-80f0-eed6273e6c6a",
   "metadata": {},
   "outputs": [],
   "source": [
    "#19\n",
    "\n",
    "\"\"\" \n",
    "Interfaces:\n",
    "\n",
    "Python does not have a built-in interface keyword, but interfaces can be\n",
    "emulated using abstract classes with only abstract methods.\n",
    "Interfaces define a contract for classes that implement them, ensuring a\n",
    "common set of methods.\n",
    "\n",
    "Abstract Classes:\n",
    "Abstract classes in Python are created using the abc module.\n",
    "Abstract classes can have both abstract and concrete methods,\n",
    "providing a mix of enforced and optional behaviors.\n",
    "Comparison:\n",
    "\n",
    "Interfaces typically consist of only abstract methods.\n",
    "Abstract classes can have both abstract and concrete methods.\n",
    "\n",
    "\"\"\""
   ]
  },
  {
   "cell_type": "code",
   "execution_count": 98,
   "id": "8faa05c2-b7e9-40f4-86a7-a875140981af",
   "metadata": {},
   "outputs": [
    {
     "name": "stdout",
     "output_type": "stream",
     "text": [
      "Roar!\n",
      "Trumpet!\n",
      "Honk!\n"
     ]
    }
   ],
   "source": [
    "#20\n",
    "class Animal:\n",
    "    def make_sound(self):\n",
    "        pass\n",
    "\n",
    "class Lion(Animal):\n",
    "    def make_sound(self):\n",
    "        return \"Roar!\"\n",
    "\n",
    "class Elephant(Animal):\n",
    "    def make_sound(self):\n",
    "        return \"Trumpet!\"\n",
    "\n",
    "class Penguin(Animal):\n",
    "    def make_sound(self):\n",
    "        return \"Honk!\"\n",
    "\n",
    "# Demonstrate polymorphism in a zoo simulation\n",
    "lion = Lion()\n",
    "elephant = Elephant()\n",
    "penguin = Penguin()\n",
    "\n",
    "print(lion.make_sound())       # Output: Roar!\n",
    "print(elephant.make_sound())   # Output: Trumpet!\n",
    "print(penguin.make_sound())    # Output: Honk!\n"
   ]
  },
  {
   "cell_type": "code",
   "execution_count": 103,
   "id": "98d3c670-8ff5-4162-ad11-b59dff3484a6",
   "metadata": {},
   "outputs": [],
   "source": [
    "#abstraction"
   ]
  },
  {
   "cell_type": "code",
   "execution_count": 105,
   "id": "f00576e3-6dd4-44ed-8050-f822e21674de",
   "metadata": {},
   "outputs": [],
   "source": [
    "#1\n",
    "\"\"\"Abstraction is a fundamental concept in object-oriented programming \n",
    "(OOP) that involves simplifying complex systems by modeling classes based \n",
    "on the essential properties and behaviors they share. It allows \n",
    "programmers to focus on relevant details while hiding unnecessary \n",
    "complexities.\n",
    "\n",
    "\n",
    "\"\"\""
   ]
  },
  {
   "cell_type": "code",
   "execution_count": 104,
   "id": "f05cc434-a2a8-4b47-ad28-435540b57ae7",
   "metadata": {},
   "outputs": [],
   "source": [
    "#2\n",
    "\"\"\"Code Organization:\n",
    "\n",
    "Abstraction helps organize code by creating a clear hierarchy of classes \n",
    "and their relationships.\n",
    "It allows developers to focus on high-level design and architecture \n",
    "without getting bogged down in implementation details.\n",
    "Complexity Reduction:\n",
    "\n",
    "Abstraction simplifies complex systems by breaking them into smaller, \n",
    "manageable components.\n",
    "Developers can work on individual modules or classes without needing to \n",
    "understand the entire system.\n",
    "\n",
    "\"\"\""
   ]
  },
  {
   "cell_type": "code",
   "execution_count": 106,
   "id": "33d7cdf5-0d09-4817-89ef-e3c779062ce1",
   "metadata": {},
   "outputs": [
    {
     "name": "stdout",
     "output_type": "stream",
     "text": [
      "78.5\n",
      "24\n"
     ]
    }
   ],
   "source": [
    "#3\n",
    "from abc import ABC, abstractmethod\n",
    "\n",
    "class Shape(ABC):\n",
    "    @abstractmethod\n",
    "    def calculate_area(self):\n",
    "        pass\n",
    "\n",
    "class Circle(Shape):\n",
    "    def __init__(self, radius):\n",
    "        self.radius = radius\n",
    "\n",
    "    def calculate_area(self):\n",
    "        return 3.14 * self.radius**2\n",
    "\n",
    "class Rectangle(Shape):\n",
    "    def __init__(self, length, width):\n",
    "        self.length = length\n",
    "        self.width = width\n",
    "\n",
    "    def calculate_area(self):\n",
    "        return self.length * self.width\n",
    "\n",
    "# Example of using these classes\n",
    "circle = Circle(5)\n",
    "rectangle = Rectangle(4, 6)\n",
    "\n",
    "print(circle.calculate_area())    # Output: 78.5\n",
    "print(rectangle.calculate_area()) # Output: 24\n"
   ]
  },
  {
   "cell_type": "code",
   "execution_count": 107,
   "id": "b8001f7f-4fa8-4113-965f-04c7855b0791",
   "metadata": {},
   "outputs": [],
   "source": [
    "#4\n",
    "\"\"\"Abstract classes are defined using the ABC (Abstract Base Class) module. \n",
    "Abstract methods are marked with the @abstractmethod decorator.\n",
    "\n",
    "\n",
    "\"\"\"\n",
    "from abc import ABC, abstractmethod\n",
    "\n",
    "class MyAbstractClass(ABC):\n",
    "    @abstractmethod\n",
    "    def my_abstract_method(self):\n",
    "        pass\n"
   ]
  },
  {
   "cell_type": "code",
   "execution_count": 79,
   "id": "56487868-dd0a-4372-8a06-aad07db3ee21",
   "metadata": {},
   "outputs": [],
   "source": [
    "#5\n",
    "\"\"\"Abstract Classes:\n",
    "\n",
    "Cannot be instantiated on their own.\n",
    "May contain abstract methods that must be implemented by subclasses.\n",
    "Provide a blueprint for other classes.\n",
    "Regular Classes:\n",
    "\n",
    "Can be instantiated.\n",
    "May or may not have implementations for all methods.\n",
    "Directly contribute to the code's functionality.\n",
    "Use Cases:\n",
    "\n",
    "Use abstract classes when you want to define a common interface for a \n",
    "group of related classes.\n",
    "Use regular classes when you want to create instances with specific \n",
    "behavior.\n",
    "\n",
    "\"\"\""
   ]
  },
  {
   "cell_type": "code",
   "execution_count": 108,
   "id": "c1844c74-d962-454f-9ada-c8667e657b45",
   "metadata": {},
   "outputs": [
    {
     "name": "stdout",
     "output_type": "stream",
     "text": [
      "Withdrew 500. Remaining balance: 500\n"
     ]
    }
   ],
   "source": [
    "#6\n",
    "from abc import ABC, abstractmethod\n",
    "\n",
    "class BankAccount(ABC):\n",
    "    def __init__(self):\n",
    "        self.balance = 0\n",
    "\n",
    "    @abstractmethod\n",
    "    def deposit(self, amount):\n",
    "        pass\n",
    "\n",
    "    @abstractmethod\n",
    "    def withdraw(self, amount):\n",
    "        pass\n",
    "\n",
    "class SavingsAccount(BankAccount):\n",
    "    def deposit(self, amount):\n",
    "        self.balance += amount\n",
    "\n",
    "    def withdraw(self, amount):\n",
    "        if self.balance >= amount:\n",
    "            self.balance -= amount\n",
    "            print(f\"Withdrew {amount}. Remaining balance: {self.balance}\")\n",
    "        else:\n",
    "            print(\"Insufficient funds\")\n",
    "\n",
    "# Example of using abstraction in a bank account class\n",
    "savings_account = SavingsAccount()\n",
    "savings_account.deposit(1000)\n",
    "savings_account.withdraw(500)\n"
   ]
  },
  {
   "cell_type": "code",
   "execution_count": 81,
   "id": "0960bbdf-5bdf-4152-ba13-0752a9f4ae51",
   "metadata": {},
   "outputs": [],
   "source": [
    "#7\n",
    "\"\"\"While Python doesn't have a strict concept of interfaces, an interface \n",
    "can be emulated using abstract classes with only abstract methods.\n",
    "\n",
    "\n",
    "\"\"\"\n",
    "from abc import ABC, abstractmethod\n",
    "\n",
    "class MyInterface(ABC):\n",
    "    @abstractmethod\n",
    "    def my_method(self):\n",
    "        pass\n"
   ]
  },
  {
   "cell_type": "code",
   "execution_count": 109,
   "id": "a7e5308c-20d6-4d9c-8c5b-b76bfe5de295",
   "metadata": {},
   "outputs": [
    {
     "name": "stdout",
     "output_type": "stream",
     "text": [
      "Lion is eating\n",
      "Lion is sleeping\n"
     ]
    }
   ],
   "source": [
    "#8\n",
    "from abc import ABC, abstractmethod\n",
    "\n",
    "class Animal(ABC):\n",
    "    @abstractmethod\n",
    "    def eat(self):\n",
    "        pass\n",
    "\n",
    "    @abstractmethod\n",
    "    def sleep(self):\n",
    "        pass\n",
    "\n",
    "class Lion(Animal):\n",
    "    def eat(self):\n",
    "        print(\"Lion is eating\")\n",
    "\n",
    "    def sleep(self):\n",
    "        print(\"Lion is sleeping\")\n",
    "\n",
    "# Example of using abstraction in an animal class hierarchy\n",
    "lion = Lion()\n",
    "lion.eat()\n",
    "lion.sleep()\n"
   ]
  },
  {
   "cell_type": "code",
   "execution_count": 110,
   "id": "028db8dd-ab2a-4140-93e3-eb54eedcca35",
   "metadata": {},
   "outputs": [],
   "source": [
    "#9\n",
    "\"\"\"Encapsulation involves bundling the data (attributes) and methods that \n",
    "operate on the data into a single unit (class). It helps in achieving \n",
    "abstraction by hiding the internal details of how a class works and \n",
    "exposing only what is necessary.\n",
    "\n",
    "\n",
    "\"\"\"\n",
    "class BankAccount:\n",
    "    def __init__(self):\n",
    "        self._balance = 0  # Encapsulation: balance is private\n",
    "\n",
    "    def deposit(self, amount):\n",
    "        self._balance += amount\n",
    "\n",
    "    def withdraw(self, amount):\n",
    "        if self._balance >= amount:\n",
    "            self._balance -= amount\n",
    "            print(f\"Withdrew {amount}. Remaining balance: {self._balance}\")\n",
    "        else:\n",
    "            print(\"Insufficient funds\")\n"
   ]
  },
  {
   "cell_type": "code",
   "execution_count": 111,
   "id": "6edaaecb-ca48-4d11-832b-da8cddd73ce5",
   "metadata": {},
   "outputs": [],
   "source": [
    "#10\n",
    "\"\"\"Abstract methods are methods declared in an abstract class but have no\n",
    "implementation. They must be implemented by concrete subclasses, \n",
    "enforcing a common interface.\n",
    "\n",
    "\n",
    "\"\"\"\n",
    "from abc import ABC, abstractmethod\n",
    "\n",
    "class MyAbstractClass(ABC):\n",
    "    @abstractmethod\n",
    "    def my_abstract_method(self):\n",
    "        pass\n",
    "\n",
    "class ConcreteClass(MyAbstractClass):\n",
    "    def my_abstract_method(self):\n",
    "        print(\"Implemented abstract method\")\n"
   ]
  },
  {
   "cell_type": "code",
   "execution_count": 112,
   "id": "f9106856-1437-4b91-a994-c02ad788c8ae",
   "metadata": {},
   "outputs": [
    {
     "name": "stdout",
     "output_type": "stream",
     "text": [
      "Car engine started\n",
      "Car engine stopped\n"
     ]
    }
   ],
   "source": [
    "#11\n",
    "from abc import ABC, abstractmethod\n",
    "\n",
    "class Vehicle(ABC):\n",
    "    @abstractmethod\n",
    "    def start(self):\n",
    "        pass\n",
    "\n",
    "    @abstractmethod\n",
    "    def stop(self):\n",
    "        pass\n",
    "\n",
    "class Car(Vehicle):\n",
    "    def start(self):\n",
    "        print(\"Car engine started\")\n",
    "\n",
    "    def stop(self):\n",
    "        print(\"Car engine stopped\")\n",
    "\n",
    "# Example of using abstraction in a vehicle system class\n",
    "car = Car()\n",
    "car.start()\n",
    "car.stop()\n"
   ]
  },
  {
   "cell_type": "code",
   "execution_count": 113,
   "id": "3f76d327-349d-4785-9112-db0f51484bff",
   "metadata": {},
   "outputs": [],
   "source": [
    "#12\n",
    "\"\"\"Abstract properties are properties declared in an abstract class without\n",
    "an implementation. They must be implemented by concrete subclasses.\n",
    "\n",
    "\n",
    "\"\"\"\n",
    "from abc import ABC, abstractproperty\n",
    "\n",
    "class MyAbstractClass(ABC):\n",
    "    @abstractproperty\n",
    "    def my_abstract_property(self):\n",
    "        pass\n",
    "\n",
    "class ConcreteClass(MyAbstractClass):\n",
    "    def __init__(self, value):\n",
    "        self._my_abstract_property = value\n",
    "\n",
    "    @property\n",
    "    def my_abstract_property(self):\n",
    "        return self._my_abstract_property\n"
   ]
  },
  {
   "cell_type": "code",
   "execution_count": 114,
   "id": "2c931845-2efa-457e-8dc6-5399ff968104",
   "metadata": {},
   "outputs": [
    {
     "name": "stdout",
     "output_type": "stream",
     "text": [
      "80000\n",
      "60000\n"
     ]
    }
   ],
   "source": [
    "#13\n",
    "from abc import ABC, abstractmethod\n",
    "\n",
    "class Employee(ABC):\n",
    "    @abstractmethod\n",
    "    def get_salary(self):\n",
    "        pass\n",
    "\n",
    "class Manager(Employee):\n",
    "    def get_salary(self):\n",
    "        return 80000\n",
    "\n",
    "class Developer(Employee):\n",
    "    def get_salary(self):\n",
    "        return 60000\n",
    "\n",
    "# Example of using abstraction in an employee class hierarchy\n",
    "manager = Manager()\n",
    "developer = Developer()\n",
    "\n",
    "print(manager.get_salary())    # Output: 80000\n",
    "print(developer.get_salary())  # Output: 60000\n"
   ]
  },
  {
   "cell_type": "code",
   "execution_count": 88,
   "id": "e87d021a-a35d-465f-bb8c-a561125c4490",
   "metadata": {},
   "outputs": [
    {
     "data": {
      "text/plain": [
       "3"
      ]
     },
     "execution_count": 88,
     "metadata": {},
     "output_type": "execute_result"
    }
   ],
   "source": [
    "#14\n",
    "\n",
    "\"\"\"Abstract Classes:\n",
    "\n",
    "Instantiation: Cannot be instantiated directly. They serve as blueprints \n",
    "for other classes.\n",
    "Abstract Methods: May contain abstract methods (methods without \n",
    "implementation) that must be implemented by their subclasses.\n",
    "Object Creation: Instances are created by instantiating concrete \n",
    "subclasses that provide implementations for all abstract methods.\n",
    "Role: Primarily used to define a common interface for a group of \n",
    "related classes.\n",
    "\n",
    "Concrete Classes:\n",
    "Instantiation: Can be instantiated directly to create objects.\n",
    "Methods: Contains concrete methods (methods with implementation) that \n",
    "provide specific functionality.\n",
    "Inheritance: May inherit from abstract classes or other concrete classes.\n",
    "Object Creation: Instances are created directly without the need for \n",
    "subclasses.\n",
    "\n",
    "\"\"\""
   ]
  },
  {
   "cell_type": "code",
   "execution_count": 115,
   "id": "d8af0733-96c1-4858-afc5-49431a10086b",
   "metadata": {},
   "outputs": [],
   "source": [
    "#15\n",
    "\n",
    "\"\"\"15. Abstract Data Types (ADTs) and Their Role in Abstraction:\n",
    "\n",
    "Abstract Data Types (ADTs):\n",
    "Definition: ADTs are high-level descriptions of data structures and the \n",
    "operations that can be performed on them, without specifying how those\n",
    "operations are implemented.\n",
    "Role in Abstraction: ADTs abstract away the implementation details, \n",
    "allowing users to interact with data structures at a higher level.\n",
    "\n",
    "Role in Achieving Abstraction in Python:\n",
    "Encapsulation: ADTs encapsulate data and operations within a single unit, \n",
    "hiding implementation details.\n",
    "Interface: They provide a well-defined interface, allowing users to \n",
    "interact with the data structure without knowing its internal workings.\n",
    "Modularity: ADTs promote modularity by separating the interface from the \n",
    "implementation.\n",
    "\n",
    "\"\"\""
   ]
  },
  {
   "cell_type": "code",
   "execution_count": 120,
   "id": "3ffa2369-c3cb-4aad-bd7d-0c3ac9eefb40",
   "metadata": {},
   "outputs": [
    {
     "name": "stdout",
     "output_type": "stream",
     "text": [
      "Desktop computer is powering on\n",
      "Desktop computer is shutting down\n"
     ]
    }
   ],
   "source": [
    "#16\n",
    "from abc import ABC, abstractmethod\n",
    "\n",
    "class ComputerSystem(ABC):\n",
    "    @abstractmethod\n",
    "    def power_on(self):\n",
    "        pass\n",
    "\n",
    "    @abstractmethod\n",
    "    def shutdown(self):\n",
    "        pass\n",
    "\n",
    "class DesktopComputer(ComputerSystem):\n",
    "    def power_on(self):\n",
    "        print(\"Desktop computer is powering on\")\n",
    "\n",
    "    def shutdown(self):\n",
    "        print(\"Desktop computer is shutting down\")\n",
    "\n",
    "# Example of using abstraction in a computer system class\n",
    "desktop = DesktopComputer()\n",
    "desktop.power_on()\n",
    "desktop.shutdown()\n"
   ]
  },
  {
   "cell_type": "code",
   "execution_count": 117,
   "id": "0db37bbe-6c6c-44f2-aefc-28a8e3824557",
   "metadata": {},
   "outputs": [],
   "source": [
    "#17\n",
    "\"\"\"\n",
    "Complexity Management: Abstraction helps manage complexity by breaking \n",
    "down systems into modular, manageable components.\n",
    "Code Maintainability: High-level design and interfaces remain stable, \n",
    "making it easier to modify or extend specific components without \n",
    "affecting the entire system.\n",
    "Team Collaboration: Abstraction facilitates collaboration among \n",
    "development teams. Different teams can work on different components \n",
    "without needing an in-depth understanding of each other's code.\n",
    "Code Understanding: Developers can understand and reason about high-level \n",
    "design without getting bogged down in implementation details.\n",
    "Adaptability: Abstraction allows for changes and updates to be made more \n",
    "easily, making systems more adaptable to evolving requirements.\n",
    "\n",
    "\"\"\""
   ]
  },
  {
   "cell_type": "code",
   "execution_count": 118,
   "id": "0d662e53-d75a-44c0-bcef-7fd730eb03a0",
   "metadata": {},
   "outputs": [],
   "source": [
    "#18\n",
    "\"\"\"18. Abstraction Enhancing Code Reusability and Modularity:\n",
    "Code Reusability: Abstraction promotes the creation of reusable components.\n",
    "Abstract classes or interfaces provide a common interface for different \n",
    "implementations, allowing for reuse in various contexts.\n",
    "Modularity: Abstraction encourages the separation of concerns into \n",
    "modular components. Each module can be developed, tested, and maintained \n",
    "independently, contributing to a modular and maintainable codebase.\n",
    "\n",
    "\"\"\""
   ]
  },
  {
   "cell_type": "code",
   "execution_count": 121,
   "id": "cd1b9297-2c24-4db3-8fe6-6b6d8d4d3e37",
   "metadata": {},
   "outputs": [
    {
     "name": "stdout",
     "output_type": "stream",
     "text": [
      "Book 'Python Programming' added to the public library\n",
      "Borrowing book 'Design Patterns' from the public library\n"
     ]
    }
   ],
   "source": [
    "#19\n",
    "from abc import ABC, abstractmethod\n",
    "\n",
    "class LibrarySystem(ABC):\n",
    "    @abstractmethod\n",
    "    def add_book(self, title):\n",
    "        pass\n",
    "\n",
    "    @abstractmethod\n",
    "    def borrow_book(self, title):\n",
    "        pass\n",
    "\n",
    "class PublicLibrary(LibrarySystem):\n",
    "    def add_book(self, title):\n",
    "        print(f\"Book '{title}' added to the public library\")\n",
    "\n",
    "    def borrow_book(self, title):\n",
    "        print(f\"Borrowing book '{title}' from the public library\")\n",
    "\n",
    "# Example of using abstraction in a library system class\n",
    "public_library = PublicLibrary()\n",
    "public_library.add_book(\"Python Programming\")\n",
    "public_library.borrow_book(\"Design Patterns\")\n"
   ]
  },
  {
   "cell_type": "code",
   "execution_count": 122,
   "id": "a1facbcd-93a8-40c2-8288-35dcdbe6329d",
   "metadata": {},
   "outputs": [
    {
     "data": {
      "text/plain": [
       "'Definition: Method abstraction involves providing a common interface \\n(method signature) for a group of related methods, hiding their \\nimplementation details.\\nRole in Polymorphism: Method abstraction is closely related to \\npolymorphism, where different classes provide their own implementations\\nfor the same method name.\\n\\nRelation to Polymorphism:\\nCommon Interface: Polymorphism allows objects of different types to be \\ntreated as objects of a common type, providing a common interface.\\nMethod Overriding: In polymorphism, subclasses override methods of their \\nsuperclass, providing specialized implementations.\\nDynamic Dispatch: The interpreter determines which method to call at\\nruntime based on the type of the object, enabling dynamic polymorphism.\\n\\n'"
      ]
     },
     "execution_count": 122,
     "metadata": {},
     "output_type": "execute_result"
    }
   ],
   "source": [
    "#20\n",
    "\n",
    "\"\"\"Definition: Method abstraction involves providing a common interface \n",
    "(method signature) for a group of related methods, hiding their \n",
    "implementation details.\n",
    "Role in Polymorphism: Method abstraction is closely related to \n",
    "polymorphism, where different classes provide their own implementations\n",
    "for the same method name.\n",
    "\n",
    "Relation to Polymorphism:\n",
    "Common Interface: Polymorphism allows objects of different types to be \n",
    "treated as objects of a common type, providing a common interface.\n",
    "Method Overriding: In polymorphism, subclasses override methods of their \n",
    "superclass, providing specialized implementations.\n",
    "Dynamic Dispatch: The interpreter determines which method to call at\n",
    "runtime based on the type of the object, enabling dynamic polymorphism.\n",
    "\n",
    "\"\"\""
   ]
  },
  {
   "cell_type": "code",
   "execution_count": 123,
   "id": "c0416b31-9593-4754-8092-0784f256756a",
   "metadata": {},
   "outputs": [],
   "source": [
    "#Composition:"
   ]
  },
  {
   "cell_type": "code",
   "execution_count": 124,
   "id": "58df659c-6906-4bfb-98dd-402e97035d0a",
   "metadata": {},
   "outputs": [],
   "source": [
    "#1\n",
    "\"\"\"Composition is a design concept in object-oriented programming (OOP) \n",
    "that involves creating complex objects by combining simpler objects. \n",
    "Instead of inheriting behavior from a superclass, a class can contain \n",
    "instances of other classes, creating a \"has-a\" relationship.\n",
    "\n",
    "\n",
    "\"\"\""
   ]
  },
  {
   "cell_type": "code",
   "execution_count": 125,
   "id": "f954c7df-3e47-49d6-b23c-84455af571df",
   "metadata": {},
   "outputs": [],
   "source": [
    "#2\n",
    "\n",
    "\"\"\"Composition:\n",
    "\n",
    "Combines objects to create a new one.\n",
    "Promotes \"has-a\" relationships.\n",
    "Encourages code reuse through delegation.\n",
    "Provides flexibility by allowing changes to the composed objects independently.\n",
    "\n",
    "Inheritance:\n",
    "Derives a new class from an existing one.\n",
    "Establishes an \"is-a\" relationship.\n",
    "May lead to tight coupling and a rigid class hierarchy.\n",
    "Can result in the \"diamond problem\" and inflexible code.\n",
    "\"\"\""
   ]
  },
  {
   "cell_type": "code",
   "execution_count": 1,
   "id": "9c102b95-b97a-469f-b076-0dd28bea4e5d",
   "metadata": {},
   "outputs": [],
   "source": [
    "#3\n",
    "class Author:\n",
    "    def __init__(self, name, birthdate):\n",
    "        self.name = name\n",
    "        self.birthdate = birthdate\n",
    "\n",
    "class Book:\n",
    "    def __init__(self, title, author, published_year):\n",
    "        self.title = title\n",
    "        self.author = author  # Composition\n",
    "        self.published_year = published_year\n",
    "\n",
    "author = Author(\"John Doe\", \"January 1, 1980\")\n",
    "book = Book(\"Python Basics\", author, 2023)\n"
   ]
  },
  {
   "cell_type": "code",
   "execution_count": 127,
   "id": "be803d99-9685-46c8-aa9c-a0dc94ef440e",
   "metadata": {},
   "outputs": [],
   "source": [
    "#4\n",
    "\"\"\"Flexibility:\n",
    "Composition allows for dynamic changes in behavior by combining objects at runtime.\n",
    "Inheritance can be rigid, leading to a fixed class hierarchy.\n",
    "\n",
    "Code Reusability:\n",
    "Composition promotes code reuse through delegation to composed objects.\n",
    "Inheritance may result in duplicated code if subclasses have similar \n",
    "functionality.\n",
    "\n",
    "\"\"\""
   ]
  },
  {
   "cell_type": "code",
   "execution_count": 2,
   "id": "b127375b-8fe0-482d-98cd-70ea7acac14b",
   "metadata": {},
   "outputs": [],
   "source": [
    "#5\n",
    "#Composition is implemented by including instances of other classes within\n",
    "#a class. This is often done through instance variables.\n",
    "\n",
    "class Engine:\n",
    "    def start(self):\n",
    "        print(\"Engine started\")\n",
    "\n",
    "class Car:\n",
    "    def __init__(self):\n",
    "        self.engine = Engine()  # Composition\n"
   ]
  },
  {
   "cell_type": "code",
   "execution_count": 143,
   "id": "30199f84-a4f3-4d16-bf1a-73fd3a4ab513",
   "metadata": {},
   "outputs": [],
   "source": [
    "#6\n",
    "class Song:\n",
    "    def play(self):\n",
    "        print(\"Playing the song\")\n",
    "\n",
    "class Playlist:\n",
    "    def __init__(self):\n",
    "        self.songs = []  # Composition\n"
   ]
  },
  {
   "cell_type": "code",
   "execution_count": 4,
   "id": "f69dd917-df2c-4801-ac2d-1e0c79130684",
   "metadata": {},
   "outputs": [
    {
     "data": {
      "text/plain": [
       "'\"Has-a\" relationships in composition mean that a class has another \\nclass as part of its structure. For example, a Car \"has-a\" Engine.\\n\\n\\n'"
      ]
     },
     "execution_count": 4,
     "metadata": {},
     "output_type": "execute_result"
    }
   ],
   "source": [
    "#7\n",
    "\n",
    "\"\"\"\"Has-a\" relationships in composition mean that a class has another \n",
    "class as part of its structure. For example, a Car \"has-a\" Engine.\n",
    "\n",
    "\n",
    "\"\"\""
   ]
  },
  {
   "cell_type": "code",
   "execution_count": 131,
   "id": "175e97f0-5817-4d63-8b73-48662ae2c512",
   "metadata": {},
   "outputs": [],
   "source": [
    "#8\n",
    "class CPU:\n",
    "    def process_data(self):\n",
    "        print(\"Processing data\")\n",
    "\n",
    "class RAM:\n",
    "    def store_data(self):\n",
    "        print(\"Storing data\")\n",
    "\n",
    "class Computer:\n",
    "    def __init__(self):\n",
    "        self.cpu = CPU()  # Composition\n",
    "        self.ram = RAM()  # Composition\n"
   ]
  },
  {
   "cell_type": "code",
   "execution_count": 5,
   "id": "55d8343e-8237-48d4-a58f-503b691381a1",
   "metadata": {},
   "outputs": [],
   "source": [
    "#9\n",
    "\n",
    "\"\"\"Delegation involves passing the responsibility for a task to another \n",
    "object. In composition, a class delegates specific tasks to the objects \n",
    "it contains.\n",
    "\n",
    "\"\"\"\n",
    "class Printer:\n",
    "    def print_document(self):\n",
    "        print(\"Printing document\")\n",
    "\n",
    "class Office:\n",
    "    def __init__(self):\n",
    "        self.printer = Printer()  # Composition\n",
    "\n",
    "    def process_document(self):\n",
    "        # Perform some processing\n",
    "        self.printer.print_document()  # Delegation\n"
   ]
  },
  {
   "cell_type": "code",
   "execution_count": 133,
   "id": "76ee54d4-fa12-4b3d-8676-77d4eb7f3e73",
   "metadata": {},
   "outputs": [],
   "source": [
    "#10\n",
    "class Engine:\n",
    "    def start(self):\n",
    "        print(\"Engine started\")\n",
    "\n",
    "class Wheels:\n",
    "    def rotate(self):\n",
    "        print(\"Wheels rotating\")\n",
    "\n",
    "class Car:\n",
    "    def __init__(self):\n",
    "        self.engine = Engine()  # Composition\n",
    "        self.wheels = Wheels()  # Composition\n"
   ]
  },
  {
   "cell_type": "code",
   "execution_count": 6,
   "id": "be8237c3-92e5-4bbd-ba40-5c0e2c136ef9",
   "metadata": {},
   "outputs": [],
   "source": [
    "#11\n",
    "\n",
    "\"\"\"\n",
    "Encapsulation involves bundling the data (attributes) and methods that \n",
    "operate on the data into a single unit (class). Abstraction in composed \n",
    "objects is maintained by exposing only necessary methods and hiding the \n",
    "internal details.\n",
    "\n",
    "\n",
    "\"\"\"\n",
    "class Library:\n",
    "    def __init__(self):\n",
    "        self.books = []\n",
    "\n",
    "    def add_book(self, book):\n",
    "        self.books.append(book)\n",
    "\n",
    "class Book:\n",
    "    def __init__(self, title, author):\n",
    "        self.title = title\n",
    "        self.author = author\n"
   ]
  },
  {
   "cell_type": "code",
   "execution_count": 135,
   "id": "ce059e75-289a-4d35-91b5-1a6d299d50c1",
   "metadata": {},
   "outputs": [],
   "source": [
    "#12\n",
    "class Student:\n",
    "    def __init__(self, name):\n",
    "        self.name = name\n",
    "\n",
    "class Instructor:\n",
    "    def __init__(self, name):\n",
    "        self.name = name\n",
    "\n",
    "class Course:\n",
    "    def __init__(self, name, instructor):\n",
    "        self.name = name\n",
    "        self.instructor = instructor  # Composition\n",
    "        self.students = []  # Composition\n"
   ]
  },
  {
   "cell_type": "code",
   "execution_count": 136,
   "id": "478b9af0-4d22-4525-8f98-8f183375c463",
   "metadata": {},
   "outputs": [],
   "source": [
    "#13\n",
    "\n",
    "\"\"\"\n",
    "Increased Complexity:\n",
    "Composed objects may have more complex interactions, making the system\n",
    "harder to understand.\n",
    "Managing the relationships between objects can be challenging.\n",
    "\n",
    "Potential for Tight Coupling:\n",
    "If objects are tightly coupled, changes to one object may require \n",
    "modifications in others.\n",
    "Care must be taken to design loosely coupled systems.\n",
    "\n",
    "\"\"\""
   ]
  },
  {
   "cell_type": "code",
   "execution_count": 137,
   "id": "68d28c61-23cf-4bfe-bcfe-7c9557622b2a",
   "metadata": {},
   "outputs": [],
   "source": [
    "#14\n",
    "class Ingredient:\n",
    "    def __init__(self, name):\n",
    "        self.name = name\n",
    "\n",
    "class Dish:\n",
    "    def __init__(self, name):\n",
    "        self.name = name\n",
    "        self.ingredients = []  # Composition\n",
    "\n",
    "class Menu:\n",
    "    def __init__(self):\n",
    "        self.dishes = []  # Composition\n"
   ]
  },
  {
   "cell_type": "code",
   "execution_count": 138,
   "id": "54b0dca1-44fa-4769-b581-6420c7475a43",
   "metadata": {},
   "outputs": [],
   "source": [
    "#15\n",
    "\"\"\"\n",
    "Code Maintainability:\n",
    "\n",
    "Composed objects can be modified independently, making it easier to \n",
    "maintain and update specific components.\n",
    "Changes to one part of the system are less likely to impact other parts.\n",
    "Modularity:\n",
    "\n",
    "Composition promotes modularity by encapsulating functionality within \n",
    "separate objects.\n",
    "Modules can be developed, tested, and modified independently, contributing\n",
    "to a modular codebase.\n",
    "\n",
    "\"\"\""
   ]
  },
  {
   "cell_type": "code",
   "execution_count": 7,
   "id": "a817273a-0b4e-4147-a82c-4d2232d1606c",
   "metadata": {},
   "outputs": [
    {
     "name": "stdout",
     "output_type": "stream",
     "text": [
      "Attacking with weapon\n",
      "Defending with armor\n",
      "Added item: Health Potion\n"
     ]
    }
   ],
   "source": [
    "#16\n",
    "class Weapon:\n",
    "    def attack(self):\n",
    "        print(\"Attacking with weapon\")\n",
    "\n",
    "class Armor:\n",
    "    def defend(self):\n",
    "        print(\"Defending with armor\")\n",
    "\n",
    "class Inventory:\n",
    "    def add_item(self, item):\n",
    "        print(f\"Added item: {item}\")\n",
    "\n",
    "class Character:\n",
    "    def __init__(self):\n",
    "        self.weapon = Weapon()  # Composition\n",
    "        self.armor = Armor()    # Composition\n",
    "        self.inventory = Inventory()  # Composition\n",
    "\n",
    "# Example of using the computer game character class\n",
    "game_character = Character()\n",
    "game_character.weapon.attack()\n",
    "game_character.armor.defend()\n",
    "game_character.inventory.add_item(\"Health Potion\")\n"
   ]
  },
  {
   "cell_type": "code",
   "execution_count": 9,
   "id": "24fabf4b-58e1-411f-a00d-6c5cd3c42f63",
   "metadata": {},
   "outputs": [],
   "source": [
    "#17\n",
    "\n",
    "\"\"\"Aggregation is a form of composition where one class contains another \n",
    "class as a part, but the contained class can exist independently.\n",
    "It represents a \"whole-part\" relationship, but the parts can exist outside\n",
    "the whole.\n",
    "Aggregation is often denoted by a weaker relationship between the \n",
    "containing class (whole) and the contained class (part).\n",
    "\"\"\"\n",
    "class Department:\n",
    "    def __init__(self, name):\n",
    "        self.name = name\n",
    "\n",
    "class University:\n",
    "    def __init__(self):\n",
    "        self.departments = []  \n",
    "\n",
    "    def add_department(self, department):\n",
    "        self.departments.append(department)\n",
    "\n",
    "math_department = Department(\"Mathematics\")\n",
    "physics_department = Department(\"Physics\")\n",
    "\n",
    "university = University()\n",
    "university.add_department(math_department)\n",
    "university.add_department(physics_department)\n"
   ]
  },
  {
   "cell_type": "code",
   "execution_count": 10,
   "id": "6b16a6b0-3cda-4fe3-8805-73ab33f9b413",
   "metadata": {},
   "outputs": [],
   "source": [
    "#18\n",
    "class Room:\n",
    "    def __init__(self, name):\n",
    "        self.name = name\n",
    "\n",
    "class Furniture:\n",
    "    def __init__(self, name):\n",
    "        self.name = name\n",
    "\n",
    "class Appliance:\n",
    "    def __init__(self, name):\n",
    "        self.name = name\n",
    "\n",
    "class House:\n",
    "    def __init__(self):\n",
    "        self.rooms = []       # Composition\n",
    "        self.furniture = []   # Composition\n",
    "        self.appliances = []  # Composition\n"
   ]
  },
  {
   "cell_type": "code",
   "execution_count": 11,
   "id": "7f9a7fd1-c315-4416-ad24-b84f61a18209",
   "metadata": {},
   "outputs": [
    {
     "name": "stdout",
     "output_type": "stream",
     "text": [
      "Engine started\n",
      "Replacing the engine\n",
      "Electric engine started\n"
     ]
    }
   ],
   "source": [
    "#19\n",
    "\"\"\"Flexibility in composed objects can be achieved by allowing dynamic \n",
    "replacement or modification of the components at runtime. This can be \n",
    "done by providing methods to add, remove, or replace components.\n",
    "\n",
    "\"\"\"\n",
    "class Car:\n",
    "    def __init__(self, engine, wheels):\n",
    "        self.engine = engine\n",
    "        self.wheels = wheels\n",
    "\n",
    "    def replace_engine(self, new_engine):\n",
    "        print(\"Replacing the engine\")\n",
    "        self.engine = new_engine\n",
    "\n",
    "class Engine:\n",
    "    def start(self):\n",
    "        print(\"Engine started\")\n",
    "\n",
    "class ElectricEngine(Engine):\n",
    "    def start(self):\n",
    "        print(\"Electric engine started\")\n",
    "\n",
    "gasoline_engine = Engine()\n",
    "electric_engine = ElectricEngine()\n",
    "\n",
    "car = Car(gasoline_engine, wheels=None)\n",
    "car.engine.start()  # Output: Engine started\n",
    "\n",
    "car.replace_engine(electric_engine)\n",
    "car.engine.start()  # Output: Electric engine started\n"
   ]
  },
  {
   "cell_type": "code",
   "execution_count": 12,
   "id": "742a8e86-837f-424a-909c-c41d8883e43e",
   "metadata": {},
   "outputs": [],
   "source": [
    "#20\n",
    "\n",
    "class Post:\n",
    "    def __init__(self, content):\n",
    "        self.content = content\n",
    "\n",
    "class Comment:\n",
    "    def __init__(self, text):\n",
    "        self.text = text\n",
    "\n",
    "class User:\n",
    "    def __init__(self, username):\n",
    "        self.username = username\n",
    "\n",
    "class SocialMediaApp:\n",
    "    def __init__(self):\n",
    "        self.users = []      # Composition\n",
    "        self.posts = []      # Composition\n",
    "        self.comments = []   # Composition\n"
   ]
  },
  {
   "cell_type": "code",
   "execution_count": null,
   "id": "df17f64f-6e4e-429a-a2de-7fbc8692f383",
   "metadata": {},
   "outputs": [],
   "source": []
  }
 ],
 "metadata": {
  "kernelspec": {
   "display_name": "Python 3 (ipykernel)",
   "language": "python",
   "name": "python3"
  },
  "language_info": {
   "codemirror_mode": {
    "name": "ipython",
    "version": 3
   },
   "file_extension": ".py",
   "mimetype": "text/x-python",
   "name": "python",
   "nbconvert_exporter": "python",
   "pygments_lexer": "ipython3",
   "version": "3.10.8"
  }
 },
 "nbformat": 4,
 "nbformat_minor": 5
}
