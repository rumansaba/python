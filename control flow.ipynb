{
 "cells": [
  {
   "cell_type": "code",
   "execution_count": null,
   "id": "d247ab42-3144-45cd-a89c-e4b36cf680aa",
   "metadata": {},
   "outputs": [],
   "source": [
    "#1. Write a Python program to check if a given number is positive or negative."
   ]
  },
  {
   "cell_type": "code",
   "execution_count": null,
   "id": "d57c40e0-991e-4959-9815-a23336982428",
   "metadata": {},
   "outputs": [],
   "source": [
    "num = int(input(\"enter the number.\"))\n",
    "\n",
    "if num >0:\n",
    "    print(num,\"is positive number.\")\n",
    "elif num <0:\n",
    "    print(num,\"is negative\")\n",
    "else:\n",
    "    print(num,\"is zero\")\n",
    "    "
   ]
  },
  {
   "cell_type": "code",
   "execution_count": null,
   "id": "41e79b11-2c6d-4739-93e4-2d6f821aa68e",
   "metadata": {},
   "outputs": [],
   "source": [
    "#2. Create a program that determines if a person is eligible to vote based on their age.\n"
   ]
  },
  {
   "cell_type": "code",
   "execution_count": null,
   "id": "8034dd4b-6a55-4024-ab7d-032d2d16de11",
   "metadata": {},
   "outputs": [],
   "source": [
    "age = int(input(\"enter the voter age.\"))\n",
    "\n",
    "if age >=18:\n",
    "    print(\"eligible for vote.\")\n",
    "else:\n",
    "    print(\"Your are not eligible for vote.\")"
   ]
  },
  {
   "cell_type": "code",
   "execution_count": null,
   "id": "c6488194-2d59-4f03-8fd9-9e6cb6bd901a",
   "metadata": {},
   "outputs": [],
   "source": [
    "#3. Develop a program to find the maximum of two numbers using if-else statements.\n"
   ]
  },
  {
   "cell_type": "code",
   "execution_count": null,
   "id": "941c06e1-8952-4751-8998-4c1b0014fb53",
   "metadata": {},
   "outputs": [],
   "source": [
    "num1 = int(input(\"Enter the first number.\"))\n",
    "num2 = int(input(\"Enter the second number.\"))\n",
    "\n",
    "if num1>num2:\n",
    "    print(\"first number is maximum number.\")\n",
    "else:\n",
    "    print(\"second number is maximum number.\")"
   ]
  },
  {
   "cell_type": "code",
   "execution_count": null,
   "id": "cce33164-dc96-413a-b667-f4973cc764ae",
   "metadata": {},
   "outputs": [],
   "source": [
    "#4. Write a Python script to classify a given year as a leap year or not.\n"
   ]
  },
  {
   "cell_type": "code",
   "execution_count": null,
   "id": "1cd0f2a1-1cb0-4257-8ab3-47ba6be83ecf",
   "metadata": {},
   "outputs": [],
   "source": [
    "year = int(input(\"Enter a year: \"))\n",
    "\n",
    "if (year % 4 == 0 and year % 100 != 0) or (year % 400 == 0):\n",
    "    print(year, \"is a leap year.\")\n",
    "else:\n",
    "    print(year, \"is not a leap year.\")\n"
   ]
  },
  {
   "cell_type": "code",
   "execution_count": null,
   "id": "755089d3-63b5-42e4-a9d8-e2a050b74ca3",
   "metadata": {},
   "outputs": [],
   "source": [
    "#5. Create a program that checks whether a character is a vowel or a consonant.\n"
   ]
  },
  {
   "cell_type": "code",
   "execution_count": null,
   "id": "40254695-afe2-4a46-827d-08903b5650fe",
   "metadata": {},
   "outputs": [],
   "source": [
    "char1 = input(\"enter the character:\")\n",
    "vowel = 'aeiouAEIOU'\n",
    "\n",
    "if char1 in vowel:\n",
    "    print(char1,\"is vowel.\")\n",
    "else:\n",
    "    print(char1,\"is consonant.\")"
   ]
  },
  {
   "cell_type": "code",
   "execution_count": null,
   "id": "102ff111-71b9-4277-a3f2-8d73e8b5c765",
   "metadata": {},
   "outputs": [],
   "source": [
    "#6. Implement a program to determine whether a given number is even or odd.\n"
   ]
  },
  {
   "cell_type": "code",
   "execution_count": null,
   "id": "22c6be1d-42e2-47c4-82e9-eebf1f53cd68",
   "metadata": {},
   "outputs": [],
   "source": [
    "check_num = int(input(\"Enter the number .\"))\n",
    "\n",
    "if check_num%2==0:\n",
    "    print(check_num,\"is even number.\")\n",
    "else:\n",
    "    print(check_num,\"is odd number.\")    "
   ]
  },
  {
   "cell_type": "code",
   "execution_count": null,
   "id": "83356578-17f9-47b1-9cf6-67f1a539e6b9",
   "metadata": {},
   "outputs": [],
   "source": [
    "#7. Write a Python function to calculate the absolute value of a number without using the `abs()` function.\n"
   ]
  },
  {
   "cell_type": "code",
   "execution_count": null,
   "id": "8f465d87-8bcb-484c-89f7-c243370d47e2",
   "metadata": {},
   "outputs": [],
   "source": [
    "def absolute_value(number):\n",
    "    if number < 0:\n",
    "        return -number\n",
    "    else:\n",
    "        return number\n",
    "\n",
    "num = float(input(\"Enter a number: \"))\n",
    "result = absolute_value(num)\n",
    "print(\"The absolute value of\", num, \"is\", result)\n"
   ]
  },
  {
   "cell_type": "code",
   "execution_count": null,
   "id": "bb7c62e6-e8b7-4415-916c-59df2593c012",
   "metadata": {},
   "outputs": [],
   "source": [
    "#8. Develop a program that determines the largest of three given numbers using if-else statements.\n"
   ]
  },
  {
   "cell_type": "code",
   "execution_count": null,
   "id": "892a9257-0990-4b7a-9cad-e812f8778cbe",
   "metadata": {},
   "outputs": [],
   "source": [
    "num1 = int(input(\"enter the number1:\"))\n",
    "num2 = int(input(\"enter the number1:\"))\n",
    "num3 = int(input(\"enter the number1:\"))\n",
    "\n",
    "if num1>num2 and num1>num3:\n",
    "    print(num1,'is largest.')\n",
    "elif num2>num3 and num2>num1:\n",
    "    print(num2,'is largest.')\n",
    "else:\n",
    "    print(num3,'is largest.')"
   ]
  },
  {
   "cell_type": "code",
   "execution_count": null,
   "id": "0d6529bd-a7cb-4fc3-966e-ee58a5d76242",
   "metadata": {},
   "outputs": [],
   "source": [
    "#9. Create a program that checks if a given string is a palindrome.\n"
   ]
  },
  {
   "cell_type": "code",
   "execution_count": null,
   "id": "7bda6629-345c-4676-a0a5-d87660c6adda",
   "metadata": {},
   "outputs": [],
   "source": [
    "check_palindrome = input(\"Enter the string:\")\n",
    "\n",
    "str1 = ''\n",
    "\n",
    "for i in check_palindrome:\n",
    "    str1 = i + str1\n",
    "    \n",
    "if check_palindrome ==str1:\n",
    "    print(check_palindrome,'=',str1,'is palindrome number.')\n",
    "else:\n",
    "    print(check_palindrome ,'!=' ,str1,\"is not palindrome number.\")"
   ]
  },
  {
   "cell_type": "code",
   "execution_count": null,
   "id": "126463cf-bf21-45ad-a12f-debb00ad5895",
   "metadata": {},
   "outputs": [],
   "source": [
    "#10. Write a Python program to calculate the grade based on a student's score."
   ]
  },
  {
   "cell_type": "code",
   "execution_count": null,
   "id": "66d46f40-712f-4480-9651-a6e9f8e6493a",
   "metadata": {},
   "outputs": [],
   "source": [
    "score = int(input(\"Enter the number.\"))\n",
    "\n",
    "if score>=90:\n",
    "    print(\"Grade A.\")\n",
    "elif score>=75:\n",
    "    print(\"Grade B\")\n",
    "elif score>=60:\n",
    "    print(\"Grade C\")\n",
    "elif score>=45:\n",
    "    print(\"Grade D\")\n",
    "elif score>26:\n",
    "    print(\"Grade E\")\n",
    "else:\n",
    "    print(\"Grade F\")"
   ]
  },
  {
   "cell_type": "code",
   "execution_count": null,
   "id": "b85033f4-5045-4b47-b6be-c3f715822fab",
   "metadata": {},
   "outputs": [],
   "source": [
    "\"\"\"Nested If-Else Statements:\n",
    "11. Write a program to find the largest among three numbers using nested if-else statements.\n",
    "12. Implement a program to determine if a triangle is equilateral, isosceles, or scalene.\n",
    "13. Develop a program that checks if a year is a leap year and also if it is a century year.\n",
    "14. Write a Python script to determine if a number is positive, negative, or zero.\n",
    "15. Create a program to check if a person is a teenager (between 13 and 19 years old).\n",
    "16. Develop a program that determines the type of angle based on its measure (acute, obtuse, or right).\n",
    "17. Write a Python program to calculate the roots of a quadratic equation.\n",
    "18. Implement a program to determine the day of the week based on a user-provided number (1 for Monday, 2\n",
    "for Tuesday, etc.).\n",
    "19. Create a program that determines if a year is a leap year and also if it is evenly divisible by 400.\n",
    "20. Develop\"\"\""
   ]
  },
  {
   "cell_type": "code",
   "execution_count": null,
   "id": "a598848b-8369-4364-9cda-fdf2db150818",
   "metadata": {},
   "outputs": [],
   "source": [
    "\n",
    "#11\n",
    "num1 = int(input(\"Enter the first number\"))\n",
    "num2 = int(input(\"Enter the second number\"))\n",
    "num3 = int(input(\"Enter the third number\"))\n",
    "\n",
    "if num1>num2:\n",
    "    if num1>num3:\n",
    "        print(num1,'is largest number.')\n",
    "    else :\n",
    "        print(num3, 'is  largest number.')\n",
    "else:\n",
    "    if num2>num3:\n",
    "        print(num2,'is largest number.')\n",
    "    else:\n",
    "        print(num3,'is largest number.')"
   ]
  },
  {
   "cell_type": "code",
   "execution_count": null,
   "id": "76ad0096-492f-4272-9b9b-d4411e9cc6dc",
   "metadata": {},
   "outputs": [],
   "source": [
    "#12\n",
    "a = int(input(\"Enter the number\"))\n",
    "b = int(input(\"Enter the number\"))\n",
    "c = int(input(\"Enter the number\"))\n",
    "\n",
    "if a+b>c and b+c>a and c+a>b:\n",
    "    if a==b==c:\n",
    "        print(a,'=',b,'=',c,'is equilateral tringale.')\n",
    "    elif a==b or b==c or c==a:\n",
    "        print('is isolate tringale.')\n",
    "    else:\n",
    "        print('is isolate tringale.')\n",
    "else:\n",
    "    print('it is not tringle.')"
   ]
  },
  {
   "cell_type": "code",
   "execution_count": null,
   "id": "0b3e22e2-75bb-437b-b5c7-8c084e5cf2b5",
   "metadata": {},
   "outputs": [],
   "source": [
    "#3"
   ]
  },
  {
   "cell_type": "code",
   "execution_count": null,
   "id": "e02735a9-9004-4cae-bcef-287e38c34e26",
   "metadata": {},
   "outputs": [],
   "source": [
    "year = int(input(\"enter the number the year\"))\n",
    "\n",
    "leap_year = ((year%4==0 and year%100 != 0) or (year%400==0))\n",
    "\n",
    "century_year = year%100 == 0\n",
    "\n",
    "if leap_year:\n",
    "    if century_year:\n",
    "        print(year,\"leap year and century year\")\n",
    "    else:\n",
    "        print(year, \"is a leap year but not a century year.\")\n",
    "else:\n",
    "    print(\"not leap\")"
   ]
  },
  {
   "cell_type": "code",
   "execution_count": null,
   "id": "9aebbbb2-d301-4e44-a4ea-c14e3f9e3877",
   "metadata": {},
   "outputs": [],
   "source": [
    "#14. Write a Python script to determine if a number is positive, negative, or zero."
   ]
  },
  {
   "cell_type": "code",
   "execution_count": null,
   "id": "85677a56-e625-49db-b674-4928e60de63f",
   "metadata": {},
   "outputs": [],
   "source": [
    "check_num = int(input(\"Enter the number\"))\n",
    "\n",
    "if check_num>0:\n",
    "    print(check_num, 'is positive number.')\n",
    "else:\n",
    "    if check_num<0:\n",
    "        print(check_num, 'is negetive number.')\n",
    "    else:\n",
    "        print(check_num,\" is zero.\")"
   ]
  },
  {
   "cell_type": "code",
   "execution_count": null,
   "id": "600faa69-b704-4306-af21-97becd6ddf5f",
   "metadata": {},
   "outputs": [],
   "source": [
    "#15. Create a program to check if a person is a teenager (between 13 and 19 years old).\n"
   ]
  },
  {
   "cell_type": "code",
   "execution_count": null,
   "id": "3db80297-7b89-44da-8e6b-138eb293292f",
   "metadata": {},
   "outputs": [],
   "source": [
    "age = int(input(\"Enter the age: \"))\n",
    "\n",
    "if age >= 13:\n",
    "    if age <= 19:\n",
    "        print(\"The person is a teenager.\")\n",
    "    else:\n",
    "        print(\"The person is not a teenager.\")\n",
    "else:\n",
    "    print(\"The person is not a teenager.\")\n"
   ]
  },
  {
   "cell_type": "code",
   "execution_count": null,
   "id": "1714c869-9853-456f-85aa-99566afbc959",
   "metadata": {},
   "outputs": [],
   "source": [
    "#16. Develop a program that determines the type of angle based on its measure (acute, obtuse, or right)."
   ]
  },
  {
   "cell_type": "code",
   "execution_count": null,
   "id": "0861c00c-c5ce-41eb-b9bf-9ee8aac6a2e7",
   "metadata": {},
   "outputs": [],
   "source": [
    "angle_check = int(input(\"Enter the angle.\"))\n",
    "\n",
    "if angle_check <90:\n",
    "    print(angle_check,\"this is acute angle.\")\n",
    "else:\n",
    "    if angle_check == 90:\n",
    "        print(\"this is right angle.\")\n",
    "    else:\n",
    "        if angle_check > 90 and angle_check<180:\n",
    "            print(angle_check,'obtuse angle')\n",
    "        else:\n",
    "            print(\"not acute nor obtuse angle.\")"
   ]
  },
  {
   "cell_type": "code",
   "execution_count": null,
   "id": "54aad9cf-edbc-48c3-ba80-adb70f1ec0ed",
   "metadata": {},
   "outputs": [],
   "source": [
    "#17. Write a Python program to calculate the roots of a quadratic equation."
   ]
  },
  {
   "cell_type": "code",
   "execution_count": null,
   "id": "3ac35362-6592-49fa-b5e7-8bd988fa87d6",
   "metadata": {},
   "outputs": [],
   "source": [
    "import math\n",
    "\n",
    "a = float(input(\"Enter the coefficient 'a': \"))\n",
    "b = float(input(\"Enter the coefficient 'b': \"))\n",
    "c = float(input(\"Enter the coefficient 'c': \"))\n",
    "\n",
    "discriminant = b**2 - 4 * a * c\n",
    "\n",
    "if discriminant > 0:\n",
    "    root1 = (-b + math.sqrt(discriminant)) / (2 * a)\n",
    "    root2 = (-b - math.sqrt(discriminant)) / (2 * a)\n",
    "    print(\"Two real and distinct roots: Root 1 =\", root1, \"Root 2 =\", root2)\n",
    "elif discriminant == 0:\n",
    "    root = -b / (2 * a)\n",
    "    print(\"One real root: Root =\", root)\n",
    "else:\n",
    "    # Complex roots\n",
    "    real_part = -b / (2 * a)\n",
    "    imaginary_part = math.sqrt(abs(discriminant)) / (2 * a)\n",
    "    print(\"Complex roots: Root 1 =\", real_part, \"+\", imaginary_part, \"i, Root 2 =\", real_part, \"-\", imaginary_part, \"i\")\n"
   ]
  },
  {
   "cell_type": "code",
   "execution_count": null,
   "id": "1d6c2222-62c6-4f40-ac16-261af4f46f7f",
   "metadata": {},
   "outputs": [],
   "source": [
    "#18. Implement a program to determine the day of the week based on a user-provided number (1 for Monday, 2\n",
    "#for Tuesday, etc.)."
   ]
  },
  {
   "cell_type": "code",
   "execution_count": null,
   "id": "a15b64cc-e39e-4363-a7c0-54e7ba119c00",
   "metadata": {},
   "outputs": [],
   "source": [
    "# Get the user input\n",
    "day_number = int(input(\"Enter a number (1 for Monday, 2 for Tuesday, etc.): \"))\n",
    "\n",
    "# Check the day of the week based on the user input\n",
    "if day_number == 1:\n",
    "    day = \"Monday\"\n",
    "else :\n",
    "    \n",
    "    if day_number == 2:\n",
    "        day = \"Tuesday\"\n",
    "    else:\n",
    "        if day_number == 3:\n",
    "            day = \"Wednesday\"\n",
    "        else:\n",
    "            if day_number == 4:\n",
    "                day = \"Thursday\"\n",
    "            else:\n",
    "                if day_number == 5:\n",
    "                    day = \"Friday\"\n",
    "                else:\n",
    "                    if day_number == 6:\n",
    "                        day = \"Saturday\"\n",
    "                    else:\n",
    "                        if day_number == 7:\n",
    "                            day = \"Sunday\"\n",
    "                        else:\n",
    "                            day = \"Invalid input. Please enter a number between 1 and 7.\"\n",
    "\n",
    "# Display the result\n",
    "print(\"The day of the week is:\", day)\n"
   ]
  },
  {
   "cell_type": "code",
   "execution_count": null,
   "id": "3b6f31d2-20d7-4144-b43f-b35301094a81",
   "metadata": {},
   "outputs": [],
   "source": [
    "#19. Create a program that determines if a year is a leap year and also if it is evenly divisible by 400."
   ]
  },
  {
   "cell_type": "code",
   "execution_count": null,
   "id": "e50af984-886e-40e3-b56d-d540a6a7b7fc",
   "metadata": {},
   "outputs": [],
   "source": [
    "# Get the year from the user\n",
    "year = int(input(\"Enter a year: \"))\n",
    "\n",
    "if year % 4 == 0:\n",
    "    if year % 100 == 0:\n",
    "        if year % 400 == 0:\n",
    "            print(year, \"is a leap year and evenly divisible by 400.\")\n",
    "        else:\n",
    "            print(year, \"is not a leap year.\")\n",
    "    else:\n",
    "        print(year, \"is a leap year.\")\n",
    "else:\n",
    "    print(year, \"is not a leap year.\")\n",
    "\n",
    "    "
   ]
  },
  {
   "cell_type": "code",
   "execution_count": null,
   "id": "65e2acfe-591c-4c94-af34-04afbe455222",
   "metadata": {},
   "outputs": [],
   "source": [
    "#20"
   ]
  },
  {
   "cell_type": "code",
   "execution_count": null,
   "id": "32b95ed6-564f-4d03-bfcb-c43b8e4ce6c9",
   "metadata": {},
   "outputs": [],
   "source": [
    "# Get the number from the user\n",
    "num = int(input(\"Enter a number: \"))\n",
    "\n",
    "if num < 2:\n",
    "    is_prime = False\n",
    "else:\n",
    "    is_prime = True\n",
    "    for i in range(2, int(num**0.5) + 1):\n",
    "        if num % i == 0:\n",
    "            is_prime = False\n",
    "            break\n",
    "\n",
    "if is_prime:\n",
    "    print(num, \"is a prime number.\")\n",
    "else:\n",
    "    print(num, \"is not a prime number.\")\n"
   ]
  },
  {
   "cell_type": "code",
   "execution_count": null,
   "id": "b53e1666-40b9-4de2-9251-b6b90a908410",
   "metadata": {},
   "outputs": [],
   "source": [
    "#21. Write a Python program to assign grades based on different ranges of scores using elif statements."
   ]
  },
  {
   "cell_type": "code",
   "execution_count": null,
   "id": "79713f65-e548-4c70-bdbc-1a1f268793fe",
   "metadata": {},
   "outputs": [],
   "source": [
    "score = int(input(\"Enter the score.\"))\n",
    "\n",
    "if score>=90 :\n",
    "    print(\"Grade A\")\n",
    "elif score>=75 :\n",
    "    print(\"Grade B\")\n",
    "elif score>=60 :\n",
    "    print(\"Grade C\")\n",
    "elif score>=45 :\n",
    "    print(\"Grade D\")\n",
    "elif score>=23 :\n",
    "    print(\"Grade E\")\n",
    "else:\n",
    "    print(\"Grade F\")"
   ]
  },
  {
   "cell_type": "code",
   "execution_count": null,
   "id": "598b6a32-4d1d-45b6-b427-8b1d4c5908fe",
   "metadata": {},
   "outputs": [],
   "source": [
    "#22"
   ]
  },
  {
   "cell_type": "code",
   "execution_count": null,
   "id": "d2de76c8-ab17-46e3-8a95-978639db272e",
   "metadata": {},
   "outputs": [],
   "source": [
    "angle1 = float(input(\"Enter the first angle: \"))\n",
    "angle2 = float(input(\"Enter the second angle: \"))\n",
    "angle3 = float(input(\"Enter the third angle: \"))\n",
    "\n",
    "if angle1 + angle2 + angle3 == 180:\n",
    "    if angle1 == angle2 == angle3:\n",
    "        print(\"Equilateral triangle\")\n",
    "    elif angle1 == angle2 or angle2 == angle3 or angle1 == angle3:\n",
    "        print(\"Isosceles triangle\")\n",
    "    else:\n",
    "        print(\"Scalene triangle\")\n",
    "else:\n",
    "    print(\"Not a valid triangle\")\n"
   ]
  },
  {
   "cell_type": "code",
   "execution_count": null,
   "id": "fb7964ee-cefc-44e5-8d6e-92f0e018f613",
   "metadata": {},
   "outputs": [],
   "source": [
    "#23"
   ]
  },
  {
   "cell_type": "code",
   "execution_count": null,
   "id": "b105400a-f460-4968-9dcb-026188f5836c",
   "metadata": {},
   "outputs": [],
   "source": [
    "weight = float(input(\"Enter your weight in kg: \"))\n",
    "height = float(input(\"Enter your height in meters: \"))\n",
    "\n",
    "bmi = weight / (height ** 2)\n",
    "\n",
    "if bmi < 18.5:\n",
    "    print(\"Underweight\")\n",
    "elif 18.5 <= bmi < 24.9:\n",
    "    print(\"Normal\")\n",
    "elif 24.9 <= bmi < 29.9:\n",
    "    print(\"Overweight\")\n",
    "else:\n",
    "    print(\"Obese\")\n"
   ]
  },
  {
   "cell_type": "code",
   "execution_count": null,
   "id": "e033555a-33eb-47d6-b28b-785914fe5dc0",
   "metadata": {},
   "outputs": [],
   "source": [
    "#24"
   ]
  },
  {
   "cell_type": "code",
   "execution_count": null,
   "id": "361bb53e-8696-4cf8-b37a-818414c5d292",
   "metadata": {},
   "outputs": [],
   "source": [
    "num = float(input(\"Enter a number: \"))\n",
    "\n",
    "if num > 0:\n",
    "    print(\"Positive\")\n",
    "elif num < 0:\n",
    "    print(\"Negative\")\n",
    "else:\n",
    "    print(\"Zero\")\n"
   ]
  },
  {
   "cell_type": "code",
   "execution_count": null,
   "id": "15896a15-9d07-4843-b6d5-89c276726cc1",
   "metadata": {},
   "outputs": [],
   "source": [
    "#25"
   ]
  },
  {
   "cell_type": "code",
   "execution_count": null,
   "id": "2a410ad6-6820-45c6-b145-8e36ed7ff8f1",
   "metadata": {},
   "outputs": [],
   "source": [
    "char = input(\"Enter a character: \")\n",
    "\n",
    "if char.isalpha():\n",
    "    if char.isupper():\n",
    "        print(\"Uppercase letter\")\n",
    "    else:\n",
    "        print(\"Lowercase letter\")\n",
    "else:\n",
    "    print(\"Special character\")\n"
   ]
  },
  {
   "cell_type": "code",
   "execution_count": null,
   "id": "498ce276-d308-4eb2-bfa3-83f7b4d140ef",
   "metadata": {},
   "outputs": [],
   "source": [
    "#26"
   ]
  },
  {
   "cell_type": "code",
   "execution_count": null,
   "id": "8072a95b-8ad3-498c-9d02-f77a6d39c79a",
   "metadata": {},
   "outputs": [],
   "source": [
    "purchase_amount = float(input(\"Enter the purchase amount: \"))\n",
    "\n",
    "if purchase_amount < 100:\n",
    "    discount = 0\n",
    "elif purchase_amount < 500:\n",
    "    discount = 10\n",
    "elif purchase_amount < 1000:\n",
    "    discount = 20\n",
    "else:\n",
    "    discount = 30\n",
    "\n",
    "discounted_price = purchase_amount - (purchase_amount * discount / 100)\n",
    "print(f\"Discounted price: ${discounted_price:.2f}\")\n"
   ]
  },
  {
   "cell_type": "code",
   "execution_count": null,
   "id": "a19b6268-4014-4aa7-922d-b46e49af2f64",
   "metadata": {},
   "outputs": [],
   "source": [
    "#27"
   ]
  },
  {
   "cell_type": "code",
   "execution_count": null,
   "id": "0b6bd4e2-599e-4daa-be22-263b21d74115",
   "metadata": {},
   "outputs": [],
   "source": [
    "units_consumed = float(input(\"Enter the number of units consumed: \"))\n",
    "\n",
    "if units_consumed <= 100:\n",
    "    bill = units_consumed * 2\n",
    "elif units_consumed <= 300:\n",
    "    bill = 200 + (units_consumed - 100) * 3\n",
    "else:\n",
    "    bill = 500 + (units_consumed - 300) * 5\n",
    "\n",
    "print(f\"Electricity bill: ${bill:.2f}\")\n"
   ]
  },
  {
   "cell_type": "code",
   "execution_count": null,
   "id": "d9fee77d-8a0f-4ca4-9735-f8c926ded508",
   "metadata": {},
   "outputs": [],
   "source": [
    "#28"
   ]
  },
  {
   "cell_type": "code",
   "execution_count": null,
   "id": "16ff74a0-c1d2-4749-8ea0-c12d7d4e1b26",
   "metadata": {},
   "outputs": [],
   "source": [
    "num_sides = int(input(\"Enter the number of sides: \"))\n",
    "angle1 = float(input(\"Enter the first angle: \"))\n",
    "angle2 = float(input(\"Enter the second angle: \"))\n",
    "angle3 = float(input(\"Enter the third angle: \"))\n",
    "angle4 = float(input(\"Enter the fourth angle: \"))\n",
    "\n",
    "if num_sides == 4:\n",
    "    if angle1 == angle2 == angle3 == angle4:\n",
    "        print(\"Square\")\n",
    "    elif angle1 == angle3 and angle2 == angle4:\n",
    "        print(\"Rectangle\")\n",
    "    else:\n",
    "        print(\"Quadrilateral\")\n",
    "else:\n",
    "    print(\"Not a quadrilateral\")\n"
   ]
  },
  {
   "cell_type": "code",
   "execution_count": null,
   "id": "834e2154-3e8a-4a45-8ec4-02bc054cf27c",
   "metadata": {},
   "outputs": [],
   "source": [
    "#29"
   ]
  },
  {
   "cell_type": "code",
   "execution_count": null,
   "id": "1c342544-2d23-4bc5-bb06-ef46820856c7",
   "metadata": {},
   "outputs": [],
   "source": [
    "month = input(\"Enter a month: \").lower()\n",
    "\n",
    "if month in (\"december\", \"january\", \"february\"):\n",
    "    season = \"Winter\"\n",
    "elif month in (\"march\", \"april\", \"may\"):\n",
    "    season = \"Spring\"\n",
    "elif month in (\"june\", \"july\", \"august\"):\n",
    "    season = \"Summer\"\n",
    "elif month in (\"september\", \"october\", \"november\"):\n",
    "    season = \"Autumn\"\n",
    "else:\n",
    "    season = \"Invalid month\"\n",
    "\n",
    "print(f\"The season for {month} is {season}\")\n"
   ]
  },
  {
   "cell_type": "code",
   "execution_count": null,
   "id": "97e8db10-10ff-4b72-a4bb-f6492121ba6d",
   "metadata": {},
   "outputs": [],
   "source": [
    "#30"
   ]
  },
  {
   "cell_type": "code",
   "execution_count": null,
   "id": "e1a116c8-e563-4101-a4b1-2affff9b4913",
   "metadata": {},
   "outputs": [],
   "source": [
    "year = int(input(\"Enter a year: \"))\n",
    "month = input(\"Enter a month: \").lower()\n",
    "\n",
    "if (year % 4 == 0 and year % 100 != 0) or (year % 400 == 0):\n",
    "    leap_year = True\n",
    "else:\n",
    "    leap_year = False\n",
    "\n",
    "if month in (\"january\", \"march\", \"may\", \"july\", \"august\", \"october\", \"december\"):\n",
    "    days = 31\n",
    "elif month == \"february\":\n",
    "    days = 29 if leap_year else 28\n",
    "else:\n",
    "    days = 30\n",
    "\n",
    "print(f\"{year} is a {'leap' if leap_year else 'common'} year and {month} has {days} days.\")\n"
   ]
  },
  {
   "cell_type": "code",
   "execution_count": null,
   "id": "72f81f3c-a490-4fec-b78d-a7819cf03944",
   "metadata": {},
   "outputs": [],
   "source": [
    "#basic"
   ]
  },
  {
   "cell_type": "code",
   "execution_count": null,
   "id": "614c53ac-9af4-4719-bcb6-1b96e782ca36",
   "metadata": {},
   "outputs": [],
   "source": [
    "#1"
   ]
  },
  {
   "cell_type": "code",
   "execution_count": null,
   "id": "8eee725a-2b9f-45f7-bd39-90952ad1cd0f",
   "metadata": {},
   "outputs": [],
   "source": [
    "num = float(input(\"Enter a number: \"))\n",
    "\n",
    "if num > 0:\n",
    "    print(\"Positive\")\n",
    "elif num < 0:\n",
    "    print(\"Negative\")\n",
    "else:\n",
    "    print(\"Zero\")\n"
   ]
  },
  {
   "cell_type": "code",
   "execution_count": null,
   "id": "34ff4334-9fd3-4069-8640-392fc6f46abb",
   "metadata": {},
   "outputs": [],
   "source": [
    "#2"
   ]
  },
  {
   "cell_type": "code",
   "execution_count": null,
   "id": "9119e3ca-765a-421f-9d18-1e3c33eb5708",
   "metadata": {},
   "outputs": [],
   "source": [
    "age = int(input(\"Enter your age: \"))\n",
    "\n",
    "if age >= 18:\n",
    "    print(\"You are eligible to vote.\")\n",
    "else:\n",
    "    print(\"You are not eligible to vote.\")\n"
   ]
  },
  {
   "cell_type": "code",
   "execution_count": null,
   "id": "668df87b-0387-4be8-be0c-09b155ce0f08",
   "metadata": {},
   "outputs": [],
   "source": [
    "#3"
   ]
  },
  {
   "cell_type": "code",
   "execution_count": null,
   "id": "75b0e1fc-2abc-4aa7-a730-03905fb51aec",
   "metadata": {},
   "outputs": [],
   "source": [
    "num1 = float(input(\"Enter the first number: \"))\n",
    "num2 = float(input(\"Enter the second number: \"))\n",
    "\n",
    "if num1 > num2:\n",
    "    print(\"The maximum number is:\", num1)\n",
    "else:\n",
    "    print(\"The maximum number is:\", num2)\n"
   ]
  },
  {
   "cell_type": "code",
   "execution_count": null,
   "id": "3a679cc7-ab40-4686-bc4b-4a2842a3319e",
   "metadata": {},
   "outputs": [],
   "source": [
    "#4"
   ]
  },
  {
   "cell_type": "code",
   "execution_count": null,
   "id": "53a0ac9f-51f4-4520-807f-82c37e1351ee",
   "metadata": {},
   "outputs": [],
   "source": [
    "score = float(input(\"Enter the exam score: \"))\n",
    "\n",
    "if score >= 90:\n",
    "    grade = \"A\"\n",
    "elif score >= 80:\n",
    "    grade = \"B\"\n",
    "elif score >= 70:\n",
    "    grade = \"C\"\n",
    "elif score >= 60:\n",
    "    grade = \"D\"\n",
    "else:\n",
    "    grade = \"F\"\n",
    "\n",
    "print(\"Grade:\", grade)\n"
   ]
  },
  {
   "cell_type": "code",
   "execution_count": null,
   "id": "b8cfa13a-c46d-4044-b2bb-6543cf873223",
   "metadata": {},
   "outputs": [],
   "source": [
    "#5"
   ]
  },
  {
   "cell_type": "code",
   "execution_count": null,
   "id": "e331a8b3-1beb-4df7-9880-4942eb25f159",
   "metadata": {},
   "outputs": [],
   "source": [
    "year = int(input(\"Enter a year: \"))\n",
    "\n",
    "if (year % 4 == 0 and year % 100 != 0) or (year % 400 == 0):\n",
    "    print(\"Leap year\")\n",
    "else:\n",
    "    print(\"Not a leap year\")\n"
   ]
  },
  {
   "cell_type": "code",
   "execution_count": null,
   "id": "74a99d24-3139-4924-851e-3eaa592a2b49",
   "metadata": {},
   "outputs": [],
   "source": [
    "#6"
   ]
  },
  {
   "cell_type": "code",
   "execution_count": null,
   "id": "ae339f61-09be-4788-911f-0ef162b7a256",
   "metadata": {},
   "outputs": [],
   "source": [
    "side1 = float(input(\"Enter the length of the first side: \"))\n",
    "side2 = float(input(\"Enter the length of the second side: \"))\n",
    "side3 = float(input(\"Enter the length of the third side: \"))\n",
    "\n",
    "if side1 == side2 == side3:\n",
    "    print(\"Equilateral triangle\")\n",
    "elif side1 == side2 or side2 == side3 or side1 == side3:\n",
    "    print(\"Isosceles triangle\")\n",
    "else:\n",
    "    print(\"Scalene triangle\")\n"
   ]
  },
  {
   "cell_type": "code",
   "execution_count": null,
   "id": "18f91dda-73d2-4809-9048-a42abe84f88e",
   "metadata": {},
   "outputs": [],
   "source": [
    "#7"
   ]
  },
  {
   "cell_type": "code",
   "execution_count": null,
   "id": "cf6b306e-8480-41de-b2fd-20177a88e3d3",
   "metadata": {},
   "outputs": [],
   "source": [
    "num1 = float(input(\"Enter the first number: \"))\n",
    "num2 = float(input(\"Enter the second number: \"))\n",
    "num3 = float(input(\"Enter the third number: \"))\n",
    "\n",
    "if num1 >= num2 and num1 >= num3:\n",
    "    print(\"The largest number is:\", num1)\n",
    "elif num2 >= num1 and num2 >= num3:\n",
    "    print(\"The largest number is:\", num2)\n",
    "else:\n",
    "    print(\"The largest number is:\", num3)\n"
   ]
  },
  {
   "cell_type": "code",
   "execution_count": null,
   "id": "8da47430-636d-4f72-b248-979b86d28841",
   "metadata": {},
   "outputs": [],
   "source": [
    "#8"
   ]
  },
  {
   "cell_type": "code",
   "execution_count": null,
   "id": "ee3df345-26d3-4008-83de-0a62d78fbc6f",
   "metadata": {},
   "outputs": [],
   "source": [
    "char = input(\"Enter a character: \").lower()\n",
    "\n",
    "if char in \"aeiou\":\n",
    "    print(\"Vowel\")\n",
    "else:\n",
    "    print(\"Consonant\")\n"
   ]
  },
  {
   "cell_type": "code",
   "execution_count": null,
   "id": "32c0bb1e-0680-4c68-9654-bf7362dd1d86",
   "metadata": {},
   "outputs": [],
   "source": [
    "#9"
   ]
  },
  {
   "cell_type": "code",
   "execution_count": null,
   "id": "36374580-deac-4b40-910b-0f4d829ff5bb",
   "metadata": {},
   "outputs": [],
   "source": [
    "total_cost = float(input(\"Enter the total cost of the shopping cart: \"))\n",
    "\n",
    "if total_cost >= 100:\n",
    "    discount = 0.1 * total_cost\n",
    "    total_cost -= discount\n",
    "\n",
    "print(\"Total cost after discount:\", total_cost)\n"
   ]
  },
  {
   "cell_type": "code",
   "execution_count": null,
   "id": "a5e3590c-fa67-40a8-969c-83da1e2c265d",
   "metadata": {},
   "outputs": [],
   "source": [
    "#10"
   ]
  },
  {
   "cell_type": "code",
   "execution_count": null,
   "id": "3fffd92b-239e-4c82-a969-8250865dced2",
   "metadata": {},
   "outputs": [],
   "source": [
    "num = int(input(\"Enter a number: \"))\n",
    "\n",
    "if num % 2 == 0:\n",
    "    print(\"Even\")\n",
    "else:\n",
    "    print(\"Odd\")\n"
   ]
  },
  {
   "cell_type": "code",
   "execution_count": null,
   "id": "c9f86b13-f2f3-49ae-80a7-c599b53f4303",
   "metadata": {},
   "outputs": [],
   "source": [
    "#intermdiate"
   ]
  },
  {
   "cell_type": "code",
   "execution_count": null,
   "id": "37252b15-a909-4c1d-ad91-2a91f15bde0e",
   "metadata": {},
   "outputs": [],
   "source": [
    "#11"
   ]
  },
  {
   "cell_type": "code",
   "execution_count": null,
   "id": "db4f58c2-d3d2-4abf-a0e7-8d4fe57d760f",
   "metadata": {},
   "outputs": [],
   "source": [
    "import math\n",
    "\n",
    "a = float(input(\"Enter the coefficient a: \"))\n",
    "b = float(input(\"Enter the coefficient b: \"))\n",
    "c = float(input(\"Enter the coefficient c: \"))\n",
    "\n",
    "discriminant = b**2 - 4*a*c\n",
    "\n",
    "if discriminant > 0:\n",
    "    root1 = (-b + math.sqrt(discriminant)) / (2*a)\n",
    "    root2 = (-b - math.sqrt(discriminant)) / (2*a)\n",
    "    print(\"Root 1:\", root1)\n",
    "    print(\"Root 2:\", root2)\n",
    "elif discriminant == 0:\n",
    "    root1 = root2 = -b / (2*a)\n",
    "    print(\"Root 1 and Root 2 are equal:\", root1)\n",
    "else:\n",
    "    real_part = -b / (2*a)\n",
    "    imaginary_part = math.sqrt(-discriminant) / (2*a)\n",
    "    print(\"Complex Roots:\")\n",
    "    print(\"Root 1:\", real_part, \"+\", imaginary_part, \"i\")\n",
    "    print(\"Root 2:\", real_part, \"-\", imaginary_part, \"i\")\n"
   ]
  },
  {
   "cell_type": "code",
   "execution_count": null,
   "id": "b3610aaf-034f-4635-93e7-94ea66776e68",
   "metadata": {},
   "outputs": [],
   "source": [
    "#12"
   ]
  },
  {
   "cell_type": "code",
   "execution_count": null,
   "id": "1c55101b-d3ff-4b5b-9cc7-4f60a5bcf217",
   "metadata": {},
   "outputs": [],
   "source": [
    "day_number = int(input(\"Enter a day number (1-7): \"))\n",
    "\n",
    "days = [\"Sunday\", \"Monday\", \"Tuesday\", \"Wednesday\", \"Thursday\", \"Friday\", \"Saturday\"]\n",
    "\n",
    "if 1 <= day_number <= 7:\n",
    "    print(\"Day of the week:\", days[day_number - 1])\n",
    "else:\n",
    "    print(\"Invalid day number\")\n"
   ]
  },
  {
   "cell_type": "code",
   "execution_count": null,
   "id": "2112c4c2-5b8c-4e8c-90e4-150187e3fa3e",
   "metadata": {},
   "outputs": [],
   "source": [
    "#13"
   ]
  },
  {
   "cell_type": "code",
   "execution_count": null,
   "id": "904e8901-503d-45ec-9a34-531669ac6313",
   "metadata": {},
   "outputs": [],
   "source": [
    "def factorial(n):\n",
    "    if n == 0:\n",
    "        return 1\n",
    "    else:\n",
    "        return n * factorial(n - 1)\n",
    "\n",
    "num = int(input(\"Enter a number: \"))\n",
    "result = factorial(num)\n",
    "print(\"Factorial:\", result)\n"
   ]
  },
  {
   "cell_type": "code",
   "execution_count": null,
   "id": "fdd6fe33-40eb-4e31-b253-8134a4900eb3",
   "metadata": {},
   "outputs": [],
   "source": [
    "#14"
   ]
  },
  {
   "cell_type": "code",
   "execution_count": null,
   "id": "d4b0930c-9253-4e9c-a51b-a5c3ed0676ac",
   "metadata": {},
   "outputs": [],
   "source": [
    "num1 = float(input(\"Enter the first number: \"))\n",
    "num2 = float(input(\"Enter the second number: \"))\n",
    "num3 = float(input(\"Enter the third number: \"))\n",
    "\n",
    "if num1 >= num2 and num1 >= num3:\n",
    "    print(\"The largest number is:\", num1)\n",
    "elif num2 >= num1 and num2 >= num3:\n",
    "    print(\"The largest number is:\", num2)\n",
    "else:\n",
    "    print(\"The largest number is:\", num3)\n"
   ]
  },
  {
   "cell_type": "code",
   "execution_count": null,
   "id": "c7fe8309-ec0d-4002-8200-c2b9d5ec600c",
   "metadata": {},
   "outputs": [],
   "source": [
    "#15"
   ]
  },
  {
   "cell_type": "code",
   "execution_count": null,
   "id": "21c5c4ec-b00b-407c-80cb-c9ec77291f90",
   "metadata": {},
   "outputs": [],
   "source": [
    "balance = 1000\n",
    "\n",
    "while True:\n",
    "    print(\"1. Check Balance\")\n",
    "    print(\"2. Deposit\")\n",
    "    print(\"3. Withdraw\")\n",
    "    print(\"4. Exit\")\n",
    "    \n",
    "    choice = int(input(\"Enter your choice: \")\n",
    "    \n",
    "    if choice == 1:\n",
    "        print(\"Balance:\", balance)\n",
    "    elif choice == 2:\n",
    "        amount = float(input(\"Enter the deposit amount: \")\n",
    "        balance += amount\n",
    "        print(\"Deposit successful. New balance:\", balance)\n",
    "    elif choice == 3:\n",
    "        amount = float(input(\"Enter the withdrawal amount: \")\n",
    "        if amount <= balance:\n",
    "            balance -= amount\n",
    "            print(\"Withdrawal successful. New balance:\", balance)\n",
    "        else:\n",
    "            print(\"Insufficient balance\")\n",
    "    elif choice == 4:\n",
    "        break\n",
    "    else:\n",
    "        print(\"Invalid choice\")\n"
   ]
  },
  {
   "cell_type": "code",
   "execution_count": null,
   "id": "288e6b74-5575-4ec0-84b3-68b38d0f96ac",
   "metadata": {},
   "outputs": [],
   "source": [
    "#16"
   ]
  },
  {
   "cell_type": "code",
   "execution_count": null,
   "id": "26918b27-91f0-4533-8080-ccb3953c8209",
   "metadata": {},
   "outputs": [],
   "source": [
    "def is_palindrome(s):\n",
    "    s = s.lower()\n",
    "    s = s.replace(\" \", \"\")\n",
    "    return s == s[::-1]\n",
    "\n",
    "string = input(\"Enter a string: \")\n",
    "if is_palindrome(string):\n",
    "    print(\"Palindrome\")\n",
    "else:\n",
    "    print(\"Not a palindrome\")\n"
   ]
  },
  {
   "cell_type": "code",
   "execution_count": null,
   "id": "2311a36a-4062-497c-93ef-acc8089cf12e",
   "metadata": {},
   "outputs": [],
   "source": [
    "#17"
   ]
  },
  {
   "cell_type": "code",
   "execution_count": null,
   "id": "859baa3c-2ac9-4425-ae5a-d3c582f1033d",
   "metadata": {},
   "outputs": [],
   "source": [
    "numbers = []\n",
    "\n",
    "n = int(input(\"Enter the number of elements: \"))\n",
    "for _ in range(n):\n",
    "    num = float(input(\"Enter a number: \"))\n",
    "    numbers.append(num)\n",
    "\n",
    "if len(numbers) >= 3:\n",
    "    numbers.remove(min(numbers))\n",
    "    numbers.remove(max(numbers))\n",
    "    average = sum(numbers) / len(numbers)\n",
    "    print(\"Average (excluding smallest and largest):\", average)\n",
    "else:\n",
    "    print(\"At least three numbers are required.\")\n"
   ]
  },
  {
   "cell_type": "code",
   "execution_count": null,
   "id": "d848800e-a534-4ba3-ae85-e5ba94086759",
   "metadata": {},
   "outputs": [],
   "source": [
    "#18"
   ]
  },
  {
   "cell_type": "code",
   "execution_count": null,
   "id": "b603d46e-0150-4512-b2dc-7c09189d9f67",
   "metadata": {},
   "outputs": [],
   "source": [
    "celsius = float(input(\"Enter temperature in Celsius: \")\n",
    "fahrenheit = (celsius * 9/5) + 32\n",
    "print(\"Temperature in Fahrenheit:\", fahrenheit)\n"
   ]
  },
  {
   "cell_type": "code",
   "execution_count": null,
   "id": "0323662a-ac5e-4c94-b42d-983ebf083604",
   "metadata": {},
   "outputs": [],
   "source": [
    "#19"
   ]
  },
  {
   "cell_type": "code",
   "execution_count": null,
   "id": "cec11644-fc37-45f7-b688-8325e9494fe3",
   "metadata": {},
   "outputs": [],
   "source": [
    "def add(x, y):\n",
    "    return x + y\n",
    "\n",
    "def subtract(x, y):\n",
    "    return x - y\n",
    "\n",
    "def multiply(x, y):\n",
    "    return x * y\n",
    "\n",
    "def divide(x, y):\n",
    "    if y == 0:\n",
    "        return \"Division by zero is not allowed\"\n",
    "    return x / y\n",
    "\n",
    "print(\"Select operation:\")\n",
    "print(\"1. Addition\")\n",
    "print(\"2. Subtraction\")\n",
    "print(\"3. Multiplication\")\n",
    "print(\"4. Division\")\n",
    "\n",
    "choice = input(\"Enter choice (1/2/3/4): \")\n",
    "\n",
    "num1 = float(input(\"Enter first number: \")\n",
    "num2 = float(input(\"Enter second number: \")\n",
    "\n",
    "if choice == '1':\n",
    "    print(\"Result:\", add(num1, num2))\n",
    "elif choice == '2':\n",
    "    print(\"Result:\", subtract(num1, num2))\n",
    "elif choice == '3':\n",
    "    print(\"Result:\", multiply(num1, num2))\n",
    "elif choice == '4':\n",
    "    print(\"Result:\", divide(num1, num2))\n",
    "else:\n",
    "    print(\"Invalid choice\")\n"
   ]
  },
  {
   "cell_type": "code",
   "execution_count": null,
   "id": "a4ad9d34-4028-4cc0-9f35-09cef7d4acca",
   "metadata": {},
   "outputs": [],
   "source": [
    "#20"
   ]
  },
  {
   "cell_type": "code",
   "execution_count": null,
   "id": "05b54211-09fb-4096-99b4-b885aebeedba",
   "metadata": {},
   "outputs": [],
   "source": [
    "# Simplified Cardano formula for solving cubic equations\n",
    "a = float(input(\"Enter coefficient a: \"))\n",
    "b = float(input(\"Enter coefficient b: \"))\n",
    "c = float(input(\"Enter coefficient c: \"))\n",
    "d = float(input(\"Enter coefficient d: \"))\n",
    "\n",
    "# Calculate discriminants\n",
    "p = c - (b**2) / (3*a)\n",
    "q = d - ((b*c) / (3*a)) + (2*(b**3)) / (27*(a**2))\n",
    "\n",
    "# Calculate roots\n",
    "delta = (q**2) / 4 + (p**3) / 27\n",
    "if delta > 0:\n",
    "    root1 = -((q / 2) + (delta**0.5))**(1/3) - ((q / 2) - (delta**0.5))**(1/3) - b / (3*a)\n",
    "    print(\"Real Root:\", root1)\n",
    "elif delta == 0:\n",
    "    root1 = -((q / 2)**(1/3)) - b / (3*a)\n",
    "    root2 = ((q / 2)**(1/3)) - b / (3*a)\n",
    "    print(\"Real Roots:\", root1, \"and\",\n"
   ]
  },
  {
   "cell_type": "code",
   "execution_count": null,
   "id": "bb822cb3-fcab-46be-863d-b774091ad95d",
   "metadata": {},
   "outputs": [],
   "source": [
    "#Advance"
   ]
  },
  {
   "cell_type": "code",
   "execution_count": null,
   "id": "1f02d8d3-020d-4566-aadf-6f53a13bca6d",
   "metadata": {},
   "outputs": [],
   "source": [
    "#21"
   ]
  },
  {
   "cell_type": "code",
   "execution_count": null,
   "id": "16bd9443-7fcc-41b2-befd-61b0a5dd9749",
   "metadata": {},
   "outputs": [],
   "source": [
    "income = float(input(\"Enter your income: \")\n",
    "\n",
    "# Define tax brackets\n",
    "brackets = [(0, 10000, 0.10), (10001, 50000, 0.20), (50001, 100000, 0.30), (100001, float(\"inf\"), 0.40)]\n",
    "\n",
    "tax = 0\n",
    "for bracket in brackets:\n",
    "    min_income, max_income, tax_rate = bracket\n",
    "    if income <= max_income:\n",
    "        tax += (income - min_income) * tax_rate\n",
    "        break\n",
    "    else:\n",
    "        tax += (max_income - min_income) * tax_rate\n",
    "\n",
    "print(\"Income tax:\", tax)\n"
   ]
  },
  {
   "cell_type": "code",
   "execution_count": null,
   "id": "952c4cae-3f26-4b48-81b4-3f1df3602165",
   "metadata": {},
   "outputs": [],
   "source": [
    "#22"
   ]
  },
  {
   "cell_type": "code",
   "execution_count": 1,
   "id": "16c9911c-31ae-4e27-abb4-9061f0fc6a0a",
   "metadata": {},
   "outputs": [
    {
     "name": "stdin",
     "output_type": "stream",
     "text": [
      "Enter your choice (rock/paper/scissors):  rock\n"
     ]
    },
    {
     "name": "stdout",
     "output_type": "stream",
     "text": [
      "Computer's choice: paper\n",
      "Computer wins!\n"
     ]
    }
   ],
   "source": [
    "import random\n",
    "\n",
    "user_choice = input(\"Enter your choice (rock/paper/scissors): \").lower()\n",
    "computer_choice = random.choice([\"rock\", \"paper\", \"scissors\"])\n",
    "\n",
    "print(\"Computer's choice:\", computer_choice)\n",
    "\n",
    "if user_choice == computer_choice:\n",
    "    print(\"It's a tie!\")\n",
    "elif (user_choice == \"rock\" and computer_choice == \"scissors\") or \\\n",
    "     (user_choice == \"scissors\" and computer_choice == \"paper\") or \\\n",
    "     (user_choice == \"paper\" and computer_choice == \"rock\"):\n",
    "    print(\"You win!\")\n",
    "else:\n",
    "    print(\"Computer wins!\")\n"
   ]
  },
  {
   "cell_type": "code",
   "execution_count": 2,
   "id": "7341d311-38e2-4f46-923c-8710038b4b19",
   "metadata": {},
   "outputs": [],
   "source": [
    "#23"
   ]
  },
  {
   "cell_type": "code",
   "execution_count": 3,
   "id": "3c108a7b-a728-4a72-8c8f-3c49db2b8fee",
   "metadata": {},
   "outputs": [
    {
     "name": "stdin",
     "output_type": "stream",
     "text": [
      "Enter the length of the password:  4\n",
      "Include lowercase letters? (yes/no):  yes\n",
      "Include uppercase letters? (yes/no):  yes\n",
      "Include digits? (yes/no):  yes\n",
      "Include special characters? (yes/no):  no\n"
     ]
    },
    {
     "name": "stdout",
     "output_type": "stream",
     "text": [
      "Random Password: BR5B\n"
     ]
    }
   ],
   "source": [
    "import random\n",
    "import string\n",
    "\n",
    "length = int(input(\"Enter the length of the password: \"))\n",
    "use_lowercase = input(\"Include lowercase letters? (yes/no): \").lower() == \"yes\"\n",
    "use_uppercase = input(\"Include uppercase letters? (yes/no): \").lower() == \"yes\"\n",
    "use_digits = input(\"Include digits? (yes/no): \").lower() == \"yes\"\n",
    "use_special_chars = input(\"Include special characters? (yes/no): \").lower() == \"yes\"\n",
    "\n",
    "characters = \"\"\n",
    "if use_lowercase:\n",
    "    characters += string.ascii_lowercase\n",
    "if use_uppercase:\n",
    "    characters += string.ascii_uppercase\n",
    "if use_digits:\n",
    "    characters += string.digits\n",
    "if use_special_chars:\n",
    "    characters += string.punctuation\n",
    "\n",
    "if not characters:\n",
    "    print(\"No character types selected.\")\n",
    "else:\n",
    "    password = \"\".join(random.choice(characters) for _ in range(length))\n",
    "    print(\"Random Password:\", password)\n"
   ]
  },
  {
   "cell_type": "code",
   "execution_count": 4,
   "id": "0fcbbcae-81cb-4800-9e67-689d7ec0310e",
   "metadata": {},
   "outputs": [],
   "source": [
    "#24"
   ]
  },
  {
   "cell_type": "code",
   "execution_count": 5,
   "id": "106b4c45-8041-480c-89f5-a1d94fdc609f",
   "metadata": {},
   "outputs": [
    {
     "name": "stdout",
     "output_type": "stream",
     "text": [
      "Welcome to the Adventure Game!\n"
     ]
    },
    {
     "name": "stdin",
     "output_type": "stream",
     "text": [
      "You find yourself at a crossroads. Do you go left or right? (left/right/quit):  right\n"
     ]
    },
    {
     "name": "stdout",
     "output_type": "stream",
     "text": [
      "You discover a hidden cave. What's inside?\n"
     ]
    },
    {
     "name": "stdin",
     "output_type": "stream",
     "text": [
      "Enter the cave or keep going? (enter/keep/quit):  enter\n"
     ]
    },
    {
     "name": "stdout",
     "output_type": "stream",
     "text": [
      "You find a magic potion.\n"
     ]
    },
    {
     "name": "stdin",
     "output_type": "stream",
     "text": [
      "You find yourself at a crossroads. Do you go left or right? (left/right/quit):  right\n"
     ]
    },
    {
     "name": "stdout",
     "output_type": "stream",
     "text": [
      "You discover a hidden cave. What's inside?\n"
     ]
    },
    {
     "name": "stdin",
     "output_type": "stream",
     "text": [
      "Enter the cave or keep going? (enter/keep/quit):  keep\n"
     ]
    },
    {
     "name": "stdout",
     "output_type": "stream",
     "text": [
      "You decide to keep moving.\n"
     ]
    },
    {
     "name": "stdin",
     "output_type": "stream",
     "text": [
      "You find yourself at a crossroads. Do you go left or right? (left/right/quit):  left\n"
     ]
    },
    {
     "name": "stdout",
     "output_type": "stream",
     "text": [
      "You encounter a dragon. What do you do?\n"
     ]
    },
    {
     "name": "stdin",
     "output_type": "stream",
     "text": [
      "Fight or run? (fight/run):  run\n"
     ]
    },
    {
     "name": "stdout",
     "output_type": "stream",
     "text": [
      "You run away from the dragon.\n"
     ]
    },
    {
     "name": "stdin",
     "output_type": "stream",
     "text": [
      "You find yourself at a crossroads. Do you go left or right? (left/right/quit):  quit\n"
     ]
    }
   ],
   "source": [
    "print(\"Welcome to the Adventure Game!\")\n",
    "\n",
    "while True:\n",
    "    choice = input(\"You find yourself at a crossroads. Do you go left or right? (left/right/quit): \").lower()\n",
    "    \n",
    "    if choice == \"left\":\n",
    "        print(\"You encounter a dragon. What do you do?\")\n",
    "        action = input(\"Fight or run? (fight/run): \").lower()\n",
    "        if action == \"fight\":\n",
    "            print(\"You defeat the dragon and find a treasure!\")\n",
    "        else:\n",
    "            print(\"You run away from the dragon.\")\n",
    "    elif choice == \"right\":\n",
    "        print(\"You discover a hidden cave. What's inside?\")\n",
    "        action = input(\"Enter the cave or keep going? (enter/keep/quit): \").lower()\n",
    "        if action == \"enter\":\n",
    "            print(\"You find a magic potion.\")\n",
    "        elif action == \"keep\":\n",
    "            print(\"You decide to keep moving.\")\n",
    "        else:\n",
    "            break  # Quit the game\n",
    "    elif choice == \"quit\":\n",
    "        break\n",
    "    else:\n",
    "        print(\"Invalid choice. Try again.\")\n"
   ]
  },
  {
   "cell_type": "code",
   "execution_count": 6,
   "id": "bc50465a-2273-4275-b02b-3207f671c7c7",
   "metadata": {},
   "outputs": [],
   "source": [
    "#25"
   ]
  },
  {
   "cell_type": "code",
   "execution_count": 7,
   "id": "118d68d3-e566-4608-bde0-8c13d4bd4dc6",
   "metadata": {},
   "outputs": [
    {
     "name": "stdin",
     "output_type": "stream",
     "text": [
      "Enter a linear equation (e.g., 2x + 5 = 10):  2x +5\n"
     ]
    },
    {
     "name": "stdout",
     "output_type": "stream",
     "text": [
      "Invalid equation format\n"
     ]
    }
   ],
   "source": [
    "equation = input(\"Enter a linear equation (e.g., 2x + 5 = 10): \")\n",
    "parts = equation.split(\"=\")\n",
    "\n",
    "if len(parts) != 2:\n",
    "    print(\"Invalid equation format\")\n",
    "else:\n",
    "    left_expr = parts[0].strip()\n",
    "    right_expr = parts[1].strip()\n",
    "\n",
    "    left_x_coefficient, left_constant = map(str.strip, left_expr.split(\"x\"))\n",
    "    left_x_coefficient = float(left_x_coefficient) if left_x_coefficient else 1\n",
    "    left_constant = float(left_constant) if left_constant else 0\n",
    "\n",
    "    right_constant = float(right_expr)\n",
    "\n",
    "    x_value = (right_constant - left_constant) / left_x_coefficient\n",
    "\n",
    "    print(f\"The value of x is: {x_value}\")\n"
   ]
  },
  {
   "cell_type": "code",
   "execution_count": 8,
   "id": "5ffad78a-bad5-4708-9586-dba4c37f0c95",
   "metadata": {},
   "outputs": [],
   "source": [
    "#26"
   ]
  },
  {
   "cell_type": "code",
   "execution_count": null,
   "id": "1805630e-8fcf-4c91-b1e8-ccf67dbf0577",
   "metadata": {},
   "outputs": [],
   "source": [
    "questions = [\n",
    "    {\"question\": \"What is the capital of France?\", \"options\": [\"A. Paris\", \"B. Rome\", \"C. Madrid\"], \"answer\": \"A\"},\n",
    "    {\"question\": \"Which planet is known as the Red Planet?\", \"options\": [\"A. Mars\", \"B. Venus\", \"C. Jupiter\"], \"answer\": \"A\"},\n",
    "    {\"question\": \"What is the largest mammal?\", \"options\": [\"A. Elephant\", \"B. Blue Whale\", \"C. Lion\"], \"answer\": \"B\"}\n",
    "]\n",
    "\n",
    "score = 0\n",
    "\n",
    "for q in questions:\n",
    "    print(q[\"question\"])\n",
    "    for option in q[\"options\"]:\n",
    "        print(option)\n",
    "    \n",
    "    user_answer = input(\"Enter your answer (A/B/C): \").upper()\n",
    "    if user_answer == q[\"answer\"]:\n",
    "        print(\"Correct!\\n\")\n",
    "        score += 1\n",
    "    else:\n",
    "        print(f\"Wrong! The correct answer is {q['answer']}.\\n\")\n",
    "\n",
    "print(f\"Your total score is: {score} out of {len(questions)}\")\n"
   ]
  },
  {
   "cell_type": "code",
   "execution_count": null,
   "id": "287e42f7-6f62-4215-9225-64d5f3438f54",
   "metadata": {},
   "outputs": [],
   "source": [
    "#27"
   ]
  },
  {
   "cell_type": "code",
   "execution_count": 10,
   "id": "02a07524-bc87-4ef0-8fec-a90fb5c33229",
   "metadata": {},
   "outputs": [
    {
     "name": "stdin",
     "output_type": "stream",
     "text": [
      "Enter a year:  2033\n"
     ]
    },
    {
     "name": "stdout",
     "output_type": "stream",
     "text": [
      "Not a prime year\n"
     ]
    }
   ],
   "source": [
    "def is_prime(year):\n",
    "    if year <= 1:\n",
    "        return False\n",
    "    if year <= 3:\n",
    "        return True\n",
    "    if year % 2 == 0 or year % 3 == 0:\n",
    "        return False\n",
    "    i = 5\n",
    "    while i * i <= year:\n",
    "        if year % i == 0 or year % (i + 2) == 0:\n",
    "            return False\n",
    "        i += 6\n",
    "    return True\n",
    "\n",
    "year = int(input(\"Enter a year: \"))\n",
    "if is_prime(year):\n",
    "    print(\"Prime year\")\n",
    "else:\n",
    "    print(\"Not a prime year\")\n"
   ]
  },
  {
   "cell_type": "code",
   "execution_count": 11,
   "id": "8d530954-fc5e-419b-8244-c1a0e77c6e4b",
   "metadata": {},
   "outputs": [],
   "source": [
    "#28"
   ]
  },
  {
   "cell_type": "code",
   "execution_count": 17,
   "id": "3628a46d-a4fc-4492-b55b-9e6cbb7c37ee",
   "metadata": {},
   "outputs": [
    {
     "name": "stdin",
     "output_type": "stream",
     "text": [
      "Enter the first number:  7\n",
      "Enter the second number:  4\n",
      "Enter the third number:  9\n"
     ]
    },
    {
     "name": "stdout",
     "output_type": "stream",
     "text": [
      "Numbers in ascending order: 4.0 7.0 9.0\n"
     ]
    }
   ],
   "source": [
    "num1 = float(input(\"Enter the first number: \"))\n",
    "num2 = float(input(\"Enter the second number: \"))\n",
    "num3 = float(input(\"Enter the third number: \"))\n",
    "\n",
    "if num1 <= num2 and num1 <= num3:\n",
    "    smallest = num1\n",
    "    if num2 <= num3:\n",
    "        middle = num2\n",
    "        largest = num3\n",
    "    else:\n",
    "        middle = num3\n",
    "        largest = num2\n",
    "elif num2 <= num1 and num2 <= num3:\n",
    "    smallest = num2\n",
    "    if num1 <= num3:\n",
    "        middle = num1\n",
    "        largest = num3\n",
    "    else:\n",
    "        middle = num3\n",
    "        largest = num1\n",
    "else:\n",
    "    smallest = num3\n",
    "    if num1 <= num2:\n",
    "        middle = num1\n",
    "        largest = num2\n",
    "    else:\n",
    "        middle = num2\n",
    "        largest = num1\n",
    "\n",
    "print(\"Numbers in ascending order:\", smallest, middle, largest)\n"
   ]
  },
  {
   "cell_type": "code",
   "execution_count": 18,
   "id": "e225816a-48ea-42cc-98a8-8af772c07307",
   "metadata": {},
   "outputs": [],
   "source": [
    "#29"
   ]
  },
  {
   "cell_type": "code",
   "execution_count": null,
   "id": "e49bbdd6-be59-4da1-89d4-a2795c6cf70a",
   "metadata": {},
   "outputs": [],
   "source": [
    "def quartic_equation(x, a, b, c, d, e):\n",
    "    return a*x**4 + b*x**3 + c*x**2 + d*x + e\n",
    "\n",
    "def derivative_quartic_equation(x, a, b, c, d):\n",
    "    return 4*a*x**3 + 3*b*x**2 + 2*c*x + d\n",
    "\n",
    "def find_quartic_root(a, b, c, d, e, x0, max_iterations=100, tolerance=1e-6):\n",
    "    x = x0\n",
    "    for _ in range(max_iterations):\n",
    "        f_x = quartic_equation(x, a, b, c, d, e)\n",
    "        f_prime_x = derivative_quartic_equation(x, a, b, c, d)\n",
    "        x = x - f_x / f_prime_x\n",
    "        if abs(f_x) < tolerance:\n",
    "            return x\n",
    "    return None\n",
    "\n",
    "a = 1\n",
    "b = -5\n",
    "c = 6\n",
    "d = 2\n",
    "e = -3\n",
    "\n",
    "initial_guess = 1.0\n",
    "root = find_quartic_root(a, b, c, d, e, initial_guess)\n",
    "\n",
    "if root is not None:\n",
    "    print(f\"Approximate root of the quartic equation: {root}\")\n",
    "else:\n",
    "    print(\"No root found within the specified tolerance.\")\n"
   ]
  },
  {
   "cell_type": "code",
   "execution_count": 19,
   "id": "d642c7e5-2d79-48cd-9667-144579ca5424",
   "metadata": {},
   "outputs": [],
   "source": [
    "#30"
   ]
  },
  {
   "cell_type": "code",
   "execution_count": 20,
   "id": "e1d68833-140c-4a43-b747-0342ef9acce3",
   "metadata": {},
   "outputs": [
    {
     "name": "stdin",
     "output_type": "stream",
     "text": [
      "Enter your weight (in kg):  45\n",
      "Enter your height (in meters):  4\n"
     ]
    },
    {
     "name": "stdout",
     "output_type": "stream",
     "text": [
      "Your BMI is: 2.8125\n",
      "Underweight\n",
      "Recommendation: You may need to gain some weight for a healthy BMI.\n"
     ]
    }
   ],
   "source": [
    "weight = float(input(\"Enter your weight (in kg): \"))\n",
    "height = float(input(\"Enter your height (in meters): \"))\n",
    "\n",
    "bmi = weight / (height ** 2)\n",
    "\n",
    "print(\"Your BMI is:\", bmi)\n",
    "\n",
    "if bmi < 18.5:\n",
    "    print(\"Underweight\")\n",
    "    print(\"Recommendation: You may need to gain some weight for a healthy BMI.\")\n",
    "elif 18.5 <= bmi < 24.9:\n",
    "    print(\"Normal weight\")\n",
    "    print(\"Recommendation: Maintain a balanced diet and exercise regularly.\")\n",
    "elif 25 <= bmi < 29.9:\n",
    "    print(\"Overweight\")\n",
    "    print(\"Recommendation: Consider weight loss through diet and exercise.\")\n",
    "else:\n",
    "    print(\"Obese\")\n",
    "    print(\"Recommendation: Consult a healthcare professional for weight management.\")\n"
   ]
  },
  {
   "cell_type": "code",
   "execution_count": null,
   "id": "565f4481-dd87-43fd-84cb-cbb0e4b542f0",
   "metadata": {},
   "outputs": [],
   "source": []
  },
  {
   "cell_type": "code",
   "execution_count": 21,
   "id": "b9b78378-8b73-4088-9e93-d0a898d2e080",
   "metadata": {},
   "outputs": [],
   "source": [
    "#31"
   ]
  },
  {
   "cell_type": "code",
   "execution_count": 23,
   "id": "f9e3273d-f6cc-492c-81a0-61eb38d11a54",
   "metadata": {},
   "outputs": [
    {
     "name": "stdin",
     "output_type": "stream",
     "text": [
      "Enter a password:  rumnan12@12A\n"
     ]
    },
    {
     "name": "stdout",
     "output_type": "stream",
     "text": [
      "Valid password\n"
     ]
    }
   ],
   "source": [
    "import re\n",
    "\n",
    "def is_valid_password(password):\n",
    "    if len(password) < 8:\n",
    "        return False\n",
    "    if not re.search(r\"[a-z]\", password):\n",
    "        return False\n",
    "    if not re.search(r\"[A-Z]\", password):\n",
    "        return False\n",
    "    if not re.search(r\"[0-9]\", password):\n",
    "        return False\n",
    "    return True\n",
    "\n",
    "password = input(\"Enter a password: \")\n",
    "\n",
    "if is_valid_password(password):\n",
    "    print(\"Valid password\")\n",
    "else:\n",
    "    print(\"Invalid password\")\n"
   ]
  },
  {
   "cell_type": "code",
   "execution_count": 24,
   "id": "a374757b-1853-493c-a5d2-77b359675c02",
   "metadata": {},
   "outputs": [],
   "source": [
    "#32"
   ]
  },
  {
   "cell_type": "code",
   "execution_count": 25,
   "id": "62e5ad67-288b-453b-8d91-63da96d131ba",
   "metadata": {},
   "outputs": [
    {
     "name": "stdout",
     "output_type": "stream",
     "text": [
      "Matrix Addition:\n",
      "[8, 10, 12]\n",
      "[14, 16, 18]\n",
      "Matrix Subtraction:\n",
      "[-6, -6, -6]\n",
      "[-6, -6, -6]\n"
     ]
    }
   ],
   "source": [
    "def add_matrices(matrix1, matrix2):\n",
    "    if len(matrix1) != len(matrix2) or len(matrix1[0]) != len(matrix2[0]):\n",
    "        return \"Matrix dimensions do not match for addition.\"\n",
    "    \n",
    "    result = [[matrix1[i][j] + matrix2[i][j] for j in range(len(matrix1[0]))] for i in range(len(matrix1))]\n",
    "    return result\n",
    "\n",
    "def subtract_matrices(matrix1, matrix2):\n",
    "    if len(matrix1) != len(matrix2) or len(matrix1[0]) != len(matrix2[0]):\n",
    "        return \"Matrix dimensions do not match for subtraction.\"\n",
    "    \n",
    "    result = [[matrix1[i][j] - matrix2[i][j] for j in range(len(matrix1[0]))] for i in range(len(matrix1))]\n",
    "    return result\n",
    "\n",
    "# Example usage:\n",
    "matrix1 = [[1, 2, 3], [4, 5, 6]]\n",
    "matrix2 = [[7, 8, 9], [10, 11, 12]]\n",
    "\n",
    "result_addition = add_matrices(matrix1, matrix2)\n",
    "result_subtraction = subtract_matrices(matrix1, matrix2)\n",
    "\n",
    "print(\"Matrix Addition:\")\n",
    "for row in result_addition:\n",
    "    print(row)\n",
    "\n",
    "print(\"Matrix Subtraction:\")\n",
    "for row in result_subtraction:\n",
    "    print(row)\n"
   ]
  },
  {
   "cell_type": "code",
   "execution_count": 26,
   "id": "2467223b-b234-4a5d-8a6d-4bda2b6f0620",
   "metadata": {},
   "outputs": [],
   "source": [
    "#33"
   ]
  },
  {
   "cell_type": "code",
   "execution_count": 27,
   "id": "f9f23f29-3253-410f-b42c-217b6c1d634b",
   "metadata": {},
   "outputs": [
    {
     "name": "stdin",
     "output_type": "stream",
     "text": [
      "Enter the first number:  45\n",
      "Enter the second number:  23\n"
     ]
    },
    {
     "name": "stdout",
     "output_type": "stream",
     "text": [
      "GCD: 1\n"
     ]
    }
   ],
   "source": [
    "def gcd_euclidean(a, b):\n",
    "    while b:\n",
    "        a, b = b, a % b\n",
    "    return a\n",
    "\n",
    "num1 = int(input(\"Enter the first number: \"))\n",
    "num2 = int(input(\"Enter the second number: \"))\n",
    "\n",
    "gcd = gcd_euclidean(num1, num2)\n",
    "print(\"GCD:\", gcd)\n"
   ]
  },
  {
   "cell_type": "code",
   "execution_count": 28,
   "id": "95f52a73-885e-482e-932a-fdb72b457082",
   "metadata": {},
   "outputs": [],
   "source": [
    "#34"
   ]
  },
  {
   "cell_type": "code",
   "execution_count": 31,
   "id": "1cd59d2a-ad58-4fbc-b4f9-cf18416e311c",
   "metadata": {},
   "outputs": [
    {
     "name": "stdout",
     "output_type": "stream",
     "text": [
      "Matrix Multiplication:\n",
      "[19, 22]\n",
      "[43, 50]\n"
     ]
    }
   ],
   "source": [
    "def multiply_matrices(matrix1, matrix2):\n",
    "    if len(matrix1[0]) != len(matrix2):\n",
    "        return \"Matrix dimensions do not match for multiplication.\"\n",
    "    \n",
    "    result = [[0 for _ in range(len(matrix2[0]))] for _ in range(len(matrix1))]\n",
    "    \n",
    "    for i in range(len(matrix1)):\n",
    "        for j in range(len(matrix2[0])):\n",
    "            for k in range(len(matrix2)):\n",
    "                result[i][j] += matrix1[i][k] * matrix2[k][j]\n",
    "    \n",
    "    return result\n",
    "\n",
    "# Example usage:\n",
    "matrix1 = [[1, 2], [3, 4]]\n",
    "matrix2 = [[5, 6], [7, 8]]\n",
    "\n",
    "result_multiplication = multiply_matrices(matrix1, matrix2)\n",
    "\n",
    "print(\"Matrix Multiplication:\")\n",
    "for row in result_multiplication:\n",
    "    print(row)\n"
   ]
  },
  {
   "cell_type": "code",
   "execution_count": 32,
   "id": "27c66490-69fa-4203-9549-c889c17e7f34",
   "metadata": {},
   "outputs": [],
   "source": [
    "#35"
   ]
  },
  {
   "cell_type": "code",
   "execution_count": 48,
   "id": "01204697-019b-4702-a8b8-2c11e03dcbd9",
   "metadata": {},
   "outputs": [
    {
     "name": "stdout",
     "output_type": "stream",
     "text": [
      "Welcome to Tic-Tac-Toe!\n",
      "  |   |  \n",
      "---------\n",
      "  |   |  \n",
      "---------\n",
      "  |   |  \n",
      "---------\n"
     ]
    },
    {
     "name": "stdin",
     "output_type": "stream",
     "text": [
      "Enter your move (row[1-3] col[1-3]):  12\n"
     ]
    },
    {
     "name": "stdout",
     "output_type": "stream",
     "text": [
      "Invalid input. Please enter row and column numbers.\n"
     ]
    },
    {
     "name": "stdin",
     "output_type": "stream",
     "text": [
      "Enter your move (row[1-3] col[1-3]):  2 3\n"
     ]
    },
    {
     "name": "stdout",
     "output_type": "stream",
     "text": [
      "  |   |  \n",
      "---------\n",
      "  |   | X\n",
      "---------\n",
      "  |   |  \n",
      "---------\n",
      "Computer's move: (row 1, col 1)\n",
      "O |   |  \n",
      "---------\n",
      "  |   | X\n",
      "---------\n",
      "  |   |  \n",
      "---------\n"
     ]
    },
    {
     "name": "stdin",
     "output_type": "stream",
     "text": [
      "Enter your move (row[1-3] col[1-3]):  3 3\n"
     ]
    },
    {
     "name": "stdout",
     "output_type": "stream",
     "text": [
      "O |   |  \n",
      "---------\n",
      "  |   | X\n",
      "---------\n",
      "  |   | X\n",
      "---------\n",
      "Computer's move: (row 3, col 1)\n",
      "O |   |  \n",
      "---------\n",
      "  |   | X\n",
      "---------\n",
      "O |   | X\n",
      "---------\n"
     ]
    },
    {
     "name": "stdin",
     "output_type": "stream",
     "text": [
      "Enter your move (row[1-3] col[1-3]):  1 3\n"
     ]
    },
    {
     "name": "stdout",
     "output_type": "stream",
     "text": [
      "O |   | X\n",
      "---------\n",
      "  |   | X\n",
      "---------\n",
      "O |   | X\n",
      "---------\n",
      "X wins!\n"
     ]
    }
   ],
   "source": [
    "import random\n",
    "\n",
    "def print_board(board):\n",
    "    for row in board:\n",
    "        print(\" | \".join(row))\n",
    "        print(\"-\" * 9)\n",
    "\n",
    "def check_winner(board, player):\n",
    "    for row in board:\n",
    "        if all(cell == player for cell in row):\n",
    "            return True\n",
    "    for col in range(3):\n",
    "        if all(board[row][col] == player for row in range(3)):\n",
    "            return True\n",
    "    if all(board[i][i] == player for i in range(3)) or all(board[i][2 - i] == player for i in range(3)):\n",
    "        return True\n",
    "    return False\n",
    "\n",
    "def is_full(board):\n",
    "    return all(cell != \" \" for row in board for cell in row)\n",
    "\n",
    "def get_player_move(board):\n",
    "    while True:\n",
    "        move = input(\"Enter your move (row[1-3] col[1-3]): \").split()\n",
    "        if len(move) != 2:\n",
    "            print(\"Invalid input. Please enter row and column numbers.\")\n",
    "            continue\n",
    "        row, col = int(move[0]) - 1, int(move[1]) - 1\n",
    "        if 0 <= row < 3 and 0 <= col < 3 and board[row][col] == \" \":\n",
    "            return row, col\n",
    "        print(\"Invalid move. Please choose an empty cell.\")\n",
    "\n",
    "def get_computer_move(board):\n",
    "    empty_cells = [(row, col) for row in range(3) for col in range(3) if board[row][col] == \" \"]\n",
    "    return random.choice(empty_cells)\n",
    "\n",
    "def play_tic_tac_toe():\n",
    "    board = [[\" \" for _ in range(3)] for _ in range(3)]\n",
    "    player = \"X\"\n",
    "    computer = \"O\"\n",
    "    print(\"Welcome to Tic-Tac-Toe!\")\n",
    "    print_board(board)\n",
    "\n",
    "    while True:\n",
    "        if player == \"X\":\n",
    "            row, col = get_player_move(board)\n",
    "        else:\n",
    "            row, col = get_computer_move(board)\n",
    "            print(f\"Computer's move: (row {row + 1}, col {col + 1})\")\n",
    "\n",
    "        board[row][col] = player\n",
    "        print_board(board)\n",
    "\n",
    "        if check_winner(board, player):\n",
    "            print(f\"{player} wins!\")\n",
    "            break\n",
    "        if is_full(board):\n",
    "            print(\"It's a draw!\")\n",
    "            break\n",
    "\n",
    "        player, computer = computer, player\n",
    "\n",
    "play_tic_tac_toe()\n"
   ]
  },
  {
   "cell_type": "code",
   "execution_count": 34,
   "id": "3c12d718-6532-4166-8b79-7481203be666",
   "metadata": {},
   "outputs": [],
   "source": [
    "#36"
   ]
  },
  {
   "cell_type": "code",
   "execution_count": 35,
   "id": "e7dd2ddb-20ed-43f0-b64e-68ecb6c14a88",
   "metadata": {},
   "outputs": [
    {
     "name": "stdin",
     "output_type": "stream",
     "text": [
      "Enter the number of Fibonacci numbers to generate:  4\n"
     ]
    },
    {
     "name": "stdout",
     "output_type": "stream",
     "text": [
      "Fibonacci Sequence: [0, 1, 1, 2]\n"
     ]
    }
   ],
   "source": [
    "def generate_fibonacci(n):\n",
    "    fibonacci_sequence = [0, 1]\n",
    "\n",
    "    while len(fibonacci_sequence) < n:\n",
    "        next_fib = fibonacci_sequence[-1] + fibonacci_sequence[-2]\n",
    "        fibonacci_sequence.append(next_fib)\n",
    "\n",
    "    return fibonacci_sequence\n",
    "\n",
    "n = int(input(\"Enter the number of Fibonacci numbers to generate: \"))\n",
    "fibonacci_numbers = generate_fibonacci(n)\n",
    "print(\"Fibonacci Sequence:\", fibonacci_numbers)\n"
   ]
  },
  {
   "cell_type": "code",
   "execution_count": 36,
   "id": "94f43e4e-c036-4421-83b9-e5420ede23c3",
   "metadata": {},
   "outputs": [],
   "source": [
    "#37"
   ]
  },
  {
   "cell_type": "code",
   "execution_count": 38,
   "id": "5982fcae-c108-436d-9739-3419c4a3042b",
   "metadata": {},
   "outputs": [
    {
     "name": "stdin",
     "output_type": "stream",
     "text": [
      "Enter the term of the Fibonacci sequence to calculate:  4\n"
     ]
    },
    {
     "name": "stdout",
     "output_type": "stream",
     "text": [
      "The 4-th term of the Fibonacci sequence is 3\n"
     ]
    }
   ],
   "source": [
    "def fibonacci_memo(n, memo={}):\n",
    "    if n in memo:\n",
    "        return memo[n]\n",
    "    if n <= 2:\n",
    "        return 1\n",
    "    memo[n] = fibonacci_memo(n - 1, memo) + fibonacci_memo(n - 2, memo)\n",
    "    return memo[n]\n",
    "\n",
    "n = int(input(\"Enter the term of the Fibonacci sequence to calculate: \"))\n",
    "result = fibonacci_memo(n)\n",
    "print(f\"The {n}-th term of the Fibonacci sequence is {result}\")\n"
   ]
  },
  {
   "cell_type": "code",
   "execution_count": 39,
   "id": "99e7f453-b99a-4159-94f6-58ed340d37c9",
   "metadata": {},
   "outputs": [],
   "source": [
    "#38"
   ]
  },
  {
   "cell_type": "code",
   "execution_count": 40,
   "id": "9f61ed5a-9aa0-4d07-8148-6d0aa67c9e92",
   "metadata": {},
   "outputs": [
    {
     "name": "stdin",
     "output_type": "stream",
     "text": [
      "Enter the year:  2020\n",
      "Enter the month (1-12):  4\n"
     ]
    },
    {
     "name": "stdout",
     "output_type": "stream",
     "text": [
      "Calendar:\n",
      "     April 2020\n",
      "Mo Tu We Th Fr Sa Su\n",
      "       1  2  3  4  5\n",
      " 6  7  8  9 10 11 12\n",
      "13 14 15 16 17 18 19\n",
      "20 21 22 23 24 25 26\n",
      "27 28 29 30\n",
      "\n"
     ]
    }
   ],
   "source": [
    "import calendar\n",
    "\n",
    "year = int(input(\"Enter the year: \"))\n",
    "month = int(input(\"Enter the month (1-12): \"))\n",
    "\n",
    "if 1 <= month <= 12:\n",
    "    cal = calendar.month(year, month)\n",
    "    print(\"Calendar:\")\n",
    "    print(cal)\n",
    "else:\n",
    "    print(\"Invalid month. Please enter a month in the range 1-12.\")\n"
   ]
  },
  {
   "cell_type": "code",
   "execution_count": 42,
   "id": "f887086f-326d-4a98-a8f2-3223ce08bfc8",
   "metadata": {},
   "outputs": [],
   "source": [
    "#39"
   ]
  },
  {
   "cell_type": "code",
   "execution_count": 43,
   "id": "1798d168-59b7-45ed-85b9-48265a88138f",
   "metadata": {},
   "outputs": [
    {
     "name": "stdout",
     "output_type": "stream",
     "text": [
      "Welcome to Blackjack!\n",
      "Your hand: [10, 9], current score: 19\n",
      "Computer's face-up card: 10\n"
     ]
    },
    {
     "name": "stdin",
     "output_type": "stream",
     "text": [
      "Type 'y' to get another card, 'n' to pass:  y\n"
     ]
    },
    {
     "name": "stdout",
     "output_type": "stream",
     "text": [
      "Your hand: [10, 9, 7], current score: 26\n",
      "Your final hand: [10, 9, 7], final score: 26\n",
      "Computer's final hand: [10, 7], final score: 17\n",
      "You went over. You lose!\n"
     ]
    }
   ],
   "source": [
    "import random\n",
    "\n",
    "def deal_card():\n",
    "    return random.choice([2, 3, 4, 5, 6, 7, 8, 9, 10, 10, 10, 10, 11])\n",
    "\n",
    "def calculate_score(hand):\n",
    "    if sum(hand) == 21 and len(hand) == 2:\n",
    "        return 0\n",
    "    if 11 in hand and sum(hand) > 21:\n",
    "        hand.remove(11)\n",
    "        hand.append(1)\n",
    "    return sum(hand)\n",
    "\n",
    "def play_blackjack():\n",
    "    user_hand = [deal_card(), deal_card()]\n",
    "    computer_hand = [deal_card(), deal_card()]\n",
    "\n",
    "    print(f\"Your hand: {user_hand}, current score: {calculate_score(user_hand)}\")\n",
    "    print(f\"Computer's face-up card: {computer_hand[0]}\")\n",
    "\n",
    "    while calculate_score(user_hand) < 21:\n",
    "        action = input(\"Type 'y' to get another card, 'n' to pass: \").lower()\n",
    "        if action == 'y':\n",
    "            user_hand.append(deal_card())\n",
    "            print(f\"Your hand: {user_hand}, current score: {calculate_score(user_hand)}\")\n",
    "        else:\n",
    "            break\n",
    "\n",
    "    while calculate_score(computer_hand) < 17:\n",
    "        computer_hand.append(deal_card())\n",
    "\n",
    "    print(f\"Your final hand: {user_hand}, final score: {calculate_score(user_hand)}\")\n",
    "    print(f\"Computer's final hand: {computer_hand}, final score: {calculate_score(computer_hand)}\")\n",
    "\n",
    "    if calculate_score(user_hand) > 21:\n",
    "        return \"You went over. You lose!\"\n",
    "    elif calculate_score(computer_hand) > 21:\n",
    "        return \"Computer went over. You win!\"\n",
    "    elif calculate_score(user_hand) == calculate_score(computer_hand):\n",
    "        return \"It's a draw!\"\n",
    "    elif calculate_score(user_hand) == 21 or calculate_score(computer_hand) == 21:\n",
    "        return \"Blackjack! You win!\"\n",
    "    elif calculate_score(user_hand) > calculate_score(computer_hand):\n",
    "        return \"You win!\"\n",
    "    else:\n",
    "        return \"Computer wins!\"\n",
    "\n",
    "print(\"Welcome to Blackjack!\")\n",
    "result = play_blackjack()\n",
    "print(result)\n"
   ]
  },
  {
   "cell_type": "code",
   "execution_count": 44,
   "id": "c36c4a52-5c15-409d-8e11-f7bfe4419926",
   "metadata": {},
   "outputs": [],
   "source": [
    "#40"
   ]
  },
  {
   "cell_type": "code",
   "execution_count": 46,
   "id": "8d4b5ce9-dd26-4571-8d9a-90f4ecdffd45",
   "metadata": {},
   "outputs": [
    {
     "name": "stdin",
     "output_type": "stream",
     "text": [
      "Enter a number:  45\n"
     ]
    },
    {
     "name": "stdout",
     "output_type": "stream",
     "text": [
      "Prime factors of 45: [3, 3, 5]\n"
     ]
    }
   ],
   "source": [
    "def prime_factors(n):\n",
    "    factors = []\n",
    "    div = 2  # Start with the smallest prime divisor, which is 2\n",
    "\n",
    "    while div * div <= n:\n",
    "        if n % div == 0:\n",
    "            factors.append(div)\n",
    "            n //= div\n",
    "        else:\n",
    "            div += 1\n",
    "\n",
    "    if n > 1:\n",
    "        factors.append(n)\n",
    "\n",
    "    return factors\n",
    "\n",
    "# Input from the user\n",
    "number = int(input(\"Enter a number: \"))\n",
    "\n",
    "if number < 2:\n",
    "    print(\"Prime factors are not defined for numbers less than 2.\")\n",
    "else:\n",
    "    factors = prime_factors(number)\n",
    "    print(f\"Prime factors of {number}: {factors}\")\n"
   ]
  },
  {
   "cell_type": "code",
   "execution_count": null,
   "id": "28ee2178-af20-4b98-b3c6-8f622b8da227",
   "metadata": {},
   "outputs": [],
   "source": []
  }
 ],
 "metadata": {
  "kernelspec": {
   "display_name": "Python 3 (ipykernel)",
   "language": "python",
   "name": "python3"
  },
  "language_info": {
   "codemirror_mode": {
    "name": "ipython",
    "version": 3
   },
   "file_extension": ".py",
   "mimetype": "text/x-python",
   "name": "python",
   "nbconvert_exporter": "python",
   "pygments_lexer": "ipython3",
   "version": "3.10.8"
  }
 },
 "nbformat": 4,
 "nbformat_minor": 5
}
